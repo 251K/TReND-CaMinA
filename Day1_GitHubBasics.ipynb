{
  "nbformat": 4,
  "nbformat_minor": 0,
  "metadata": {
    "colab": {
      "provenance": [],
      "toc_visible": true,
      "authorship_tag": "ABX9TyMeVNgiPM7eR0ieOjIQ9jdr",
      "include_colab_link": true
    },
    "kernelspec": {
      "name": "python3",
      "display_name": "Python 3"
    },
    "language_info": {
      "name": "python"
    }
  },
  "cells": [
    {
      "cell_type": "markdown",
      "metadata": {
        "id": "view-in-github",
        "colab_type": "text"
      },
      "source": [
        "<a href=\"https://colab.research.google.com/github/trendinafrica/Comp_Neuro-ML_course/blob/main/Day1_GitHubBasics.ipynb\" target=\"_parent\"><img src=\"https://colab.research.google.com/assets/colab-badge.svg\" alt=\"Open In Colab\"/></a>"
      ]
    },
    {
      "cell_type": "markdown",
      "source": [
        "<a target=\"_blank\" href=\"https://colab.research.google.com/github/trendinafrica/Comp_Neuro-ML_course/blob/main/notebooks/12-Monday/Git_Basics.ipynb\">\n",
        "  <img src=\"https://colab.research.google.com/assets/colab-badge.svg\" alt=\"Open In Colab\"/>\n",
        "</a>\n",
        "\n",
        "<img align=\"left\" width=\"300\" src=\"https://drive.google.com/uc?id=1xhBJo9KKicDMw6HuOCZiRclX5DJb2g_J\">\n",
        "\n",
        "# **GitHub Basics**\n",
        "# TReND Course in Computational neuroscience and machine learning basics\n",
        "\n"
      ],
      "metadata": {
        "id": "RFl7zdhDAans"
      }
    },
    {
      "cell_type": "markdown",
      "source": [
        "---\n",
        "# **Learning objectives**:\n",
        "* Understanding why GitHub is useful, in different contexts.\n",
        "* Understanding basic Git concepts such as creating repositories, commiting, cloning, branches, merging\n",
        "* Using the GitHub Desktop \n",
        "* Being able to clone a repository from GitHub\n",
        "\n",
        "\n"
      ],
      "metadata": {
        "id": "mqx0qM0aBonh"
      }
    },
    {
      "cell_type": "markdown",
      "source": [
        "# **Content:**\n",
        "1. [What is GitHub](#what)\n",
        "2. [Using GitHub alone](#git-alone)\n",
        "  1. [Repositories](#repo)\n",
        "  2. [Commits](#commits)\n",
        "  3. [Branches](#branches)\n",
        "  4. [Merging](#merging)\n",
        "  5. [GitHub Desktop](#desktop)\n",
        "3. [Using GitHub to use someone else's code/package](#git-copy)\n",
        "4. [Key concepts so far](#key)\n"
      ],
      "metadata": {
        "id": "b38llSDi8fW-"
      }
    },
    {
      "cell_type": "markdown",
      "source": [
        "# What is GitHub? <a name=\"what\"></a>\n",
        "\n",
        "### Question for all: \n",
        "- Who has ever heard GitHub?\n",
        "- Who is using GitHub actively?\n",
        "- What is GitHub and why do you use it? From simple and broad reasons to more detailed once."
      ],
      "metadata": {
        "id": "4ZyibRT5FpQ_"
      }
    },
    {
      "cell_type": "markdown",
      "source": [
        "---\n",
        "# Using GitHub alone (Version Control) <a name=\"git-alone\"></a>\n",
        "\n",
        "\n",
        "### Question time: Who codes alone? How do you keep track of your code?\n",
        "\n",
        "\n"
      ],
      "metadata": {
        "id": "stxtgRwEEOm5"
      }
    },
    {
      "cell_type": "markdown",
      "source": [
        "GitHub is a platform to **version control** your code."
      ],
      "metadata": {
        "id": "Q0I4HRM8Fgqg"
      }
    },
    {
      "cell_type": "markdown",
      "source": [
        "## **Repositories**: Projects in GitHub. <a name=\"repo\"></a>\n",
        "\n",
        "- Material in GitHub are organized into projects which are called ```repositories```\n",
        "\n",
        "- Repositories have **names**\n",
        "- They have also **descriptions** (like a Readme file)\n",
        "- Can be **public** or **private**"
      ],
      "metadata": {
        "id": "gdBamiUZHB2a"
      }
    },
    {
      "cell_type": "markdown",
      "source": [
        "Let's create a repository in GitHub!\n",
        "- Go to https://github.com/, log in with your account.\n",
        "- Create a repository by clicking the ```+``` on the upper right and selecting \"New repository\".\n",
        "- Tick the \"Add a README file\" box to add a README."
      ],
      "metadata": {
        "id": "CGHTI6HEHol_"
      }
    },
    {
      "cell_type": "markdown",
      "source": [
        "## **Commits**: Updating your project while tracking the progress. <a name=\"commits\"></a>\n",
        "\n",
        "- ```Commit``` enables you to save the changes in a project.\n",
        "  \n",
        "  When you update something in your project (add a file, change some text or code within a file, deleting a file) a ```commit``` enables you to save your changes.\n",
        "\n",
        "- Each commit has an associated ```commit message```\n",
        "  *   You'll write these. A good commit message should describe **why** something is done.\n",
        "  * Important for you to understand why you did a certain change. Also if you're collaborating, your collaborators will have easier time to figure out why a change was made.\n",
        "\n",
        "\n"
      ],
      "metadata": {
        "id": "VWxGkiejK4wX"
      }
    },
    {
      "cell_type": "markdown",
      "source": [
        "Let's make our first commit. \n",
        "- Go to your repository and change the Readme file.\n",
        "- Commit the changes with a commit message."
      ],
      "metadata": {
        "id": "6gajALBQMkyI"
      }
    },
    {
      "cell_type": "markdown",
      "source": [
        "\n",
        "## **Branches**: You can have different versions of the same project. <a name=\"branches\"></a>"
      ],
      "metadata": {
        "id": "z0NywiaBHuE_"
      }
    },
    {
      "cell_type": "markdown",
      "source": [
        "Branches are parallel versions of code that are under the same project. But why would we have parallel versions of our code?\n",
        "\n",
        "Confusing? Let's think of how a car is built.\n",
        "\n",
        "\n",
        "- Branches are very useful to **create/develop features** in a programming project.\n",
        "\n",
        "- Branches are useful to **develop and test stuff** without changing your main code.\n",
        "\n"
      ],
      "metadata": {
        "id": "87sfUHIxJFsL"
      }
    },
    {
      "cell_type": "markdown",
      "source": [
        "You can name branches as you wish (for a car: engine, lights, etc.).\n",
        "\n",
        "Your main code is created in a default branch called ```main``` (previously called ```master```). Check it out! "
      ],
      "metadata": {
        "id": "fTYlAwoSNJDh"
      }
    },
    {
      "cell_type": "markdown",
      "source": [
        "### Create a new branch\n",
        "1. Go to your repository\n",
        "2. Select the branch button on upper left (it will be showing ```main```)\n",
        "3. Create a new branch called ```new feature```\n",
        "4. Change back to ```main``` branch"
      ],
      "metadata": {
        "id": "CdY0Aepm9C7n"
      }
    },
    {
      "cell_type": "markdown",
      "source": [
        "## **Merging**: Integrating the features or developed material from branches. <a name=\"merging\"></a>\n",
        "\n",
        "Now time to make some changes on our new ```new feature``` branch and integrate these changes to our ```main``` branch.\n",
        "\n",
        "1. Make sure you're on the ```new feature``` branch\n",
        "2. Make some changes in the README file and commit them to the ```new feature``` branch\n",
        "3. Go to ```pull requests```\n",
        "4. You'll see that it informs you that you made some changes on the ```new feature``` branch and asks if you want to compare and pull request. Click on that.\n",
        "5. Create the pull request\n",
        "6. Merge\n",
        "7. Delete your ```new feature``` branch since we're done with our feature.\n"
      ],
      "metadata": {
        "id": "vgImq92mOOpe"
      }
    },
    {
      "cell_type": "markdown",
      "source": [
        "## **GitHub Desktop**: Using GitHub on your local machine <a name=\"desktop\"></a>\n",
        "\n",
        "There are several ways of using GitHub on your local machine, most common ways are:\n",
        "- Using the terminal\n",
        "- Using the GUI (GitHub Desktop)\n",
        "\n",
        "We'll use the GUI to make it simple.\n",
        "\n",
        "1. Download GitHub Desktop: https://desktop.github.com/\n",
        "2. Log in"
      ],
      "metadata": {
        "id": "U0CCsJTvzKhT"
      }
    },
    {
      "cell_type": "markdown",
      "source": [
        "### **Pushing**: putting stuff from your local repository to your repository on GitHub servers (remote) <a name=\"pushing\"></a>\n",
        "\n",
        "Let's say you have your code on your local machine, you already structured it in a folder and now want to use GitHub.\n",
        "\n",
        "1. ```Create a repository``` for the existing code using GitHub Desktop\n",
        "2. ```publish``` the repository to your GitHub account\n",
        "2. Make a change and ```commit``` in local machine\n",
        "3. ```push``` the repository to the GitHub server\n",
        "\n"
      ],
      "metadata": {
        "id": "kHFKoDu-3aDg"
      }
    },
    {
      "cell_type": "markdown",
      "source": [
        "### **Pulling**: From remote repository to local <a name=\"pulling\"></a>\n",
        "\n",
        "\n",
        "1. Go to github.com and open the previous repository that you just pushed from local\n",
        "2. Make a change and ```commit``` there\n",
        "3. Go to the GitHub Desktop in local machine and ```pull``` the repository from the GitHub server\n",
        "\n"
      ],
      "metadata": {
        "id": "r7eDvibX6O2D"
      }
    },
    {
      "cell_type": "markdown",
      "source": [
        "# Using GitHub to use someone else's code/package <a name=\"git-copy\"></a>"
      ],
      "metadata": {
        "id": "AWXTa2SCEcbM"
      }
    },
    {
      "cell_type": "markdown",
      "source": [
        "## **Cloning**: Copying the repository from GitHub to your local machine. <a name=\"cloning\"></a>\n",
        "\n",
        "Cloning is simply copying any public code from Github.\n",
        "\n"
      ],
      "metadata": {
        "id": "OBHDjp2Wxozz"
      }
    },
    {
      "cell_type": "markdown",
      "source": [
        "Let's clone the material we prepared for you:\n",
        "\n",
        "1. Go to https://github.com/trendinafrica/Comp_Neuro-ML_course\n",
        "2. To clone, go to the green code button and click on \"Open with GitHub Desktop\"\n",
        "3. Choose a local path for it and clone"
      ],
      "metadata": {
        "id": "TuKVZ10h6_1P"
      }
    },
    {
      "cell_type": "markdown",
      "source": [
        "Voila! You just copied the material for the course!"
      ],
      "metadata": {
        "id": "zHva8Jr67sJo"
      }
    },
    {
      "cell_type": "markdown",
      "source": [
        "# GitHub key concepts so far: <a name=\"key\"></a>\n",
        "\n",
        "| Concept | Description |\n",
        "| ----------- | ----------- |\n",
        "| ```repository``` | A single project in GitHub.|\n",
        "| ```commit``` | A saved change in your project timeline. | \n",
        "| ```branch``` | A parallel version of your project. | \n",
        "| ```main``` | The default branch name of the main version of your project. | \n",
        "| ```merge``` | Merging one branch onto another by comparing changes. | \n",
        "| ```push``` | Update your remote repository using the local repository| \n",
        "| ```pull``` | Update your local repository using the repository on Github servers | \n",
        "| ```clone``` | Copy a repository to your local machine from GitHub servers| "
      ],
      "metadata": {
        "id": "Cq0mr0czIKUl"
      }
    }
  ]
}