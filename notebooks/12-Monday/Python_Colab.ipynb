{
  "nbformat": 4,
  "nbformat_minor": 0,
  "metadata": {
    "colab": {
      "provenance": [],
      "toc_visible": true
    },
    "kernelspec": {
      "name": "python3",
      "display_name": "Python 3"
    },
    "language_info": {
      "name": "python"
    }
  },
  "cells": [
    {
      "cell_type": "markdown",
      "source": [
        "<a target=\"_blank\" href=\"https://colab.research.google.com/github/trendinafrica/Comp_Neuro-ML_course/blob/main/notebooks/12-Monday/Python_colab.ipynb\">\n",
        "  <img src=\"https://colab.research.google.com/assets/colab-badge.svg\" alt=\"Open In Colab\"/>\n",
        "</a>\n",
        "\n",
        "<img align=\"left\" width=\"300\" src=\"https://drive.google.com/uc?id=1xhBJo9KKicDMw6HuOCZiRclX5DJb2g_J\">\n",
        "\n",
        "# **Intro to Python and Google Colab**\n",
        "# TReND Course in Computational neuroscience and machine learning basics\n",
        "\n",
        "**Content creators:** Burak Gür & Foutse Yuehgoh \n",
        "\n",
        "Notebook taken from TReND 2021 Python Course.\n"
      ],
      "metadata": {
        "id": "OPbsE8rSClLO"
      }
    },
    {
      "cell_type": "markdown",
      "source": [
        "## **Content**\n",
        "\n",
        "1. [Why bother with programming?](#Why)\n",
        "2. [Python - What is it & why use it?](#Python-what-why)\n",
        "\n",
        "3. [Colab - Getting comfortable](#Colab)\n",
        "\n",
        "4. [Programming with Python](#Programming)\n",
        "    - 4.1 [Python as a calculator](#calculator)\n",
        "    - 4.2 [Working with data -> variables](#var)\n",
        "    - [Exercises I](#ex1)\n",
        "    - 4.3 [Errors](#err)\n",
        "    - 4.4 [Data types](#datype)\n",
        "    - 4.5 [Converting types](#type_conv)\n",
        "    - [Exercises II](#ex2)"
      ],
      "metadata": {
        "id": "_vk3b5vaDizl"
      }
    },
    {
      "cell_type": "markdown",
      "metadata": {
        "id": "qdHe_1LMts-l"
      },
      "source": [
        "---\n",
        "<a name=\"Why\"></a>\n",
        "# **1. Why bother with programming?**\n"
      ]
    },
    {
      "cell_type": "markdown",
      "metadata": {
        "id": "Wu1o2-rDtxuT"
      },
      "source": [
        "### Make your own programs\n",
        "\n",
        "- Suitable software might not exist\n",
        "- Software might be too expensive or not flexible enough\n",
        "\n",
        "\n",
        "### Time: the true currency of life\n",
        "\n",
        "- Have you ever renamed more than 100 files by hand? \n",
        "\n",
        "- Automatizing our tasks can give us back significant amount of time from boring tasks.\n",
        "\n",
        "Computers are:\n",
        "- fast\n",
        "- cheap\n",
        "- very hard-working\n",
        "\n",
        "Perfect qualities for boring tasks!\n",
        "\n",
        "<img src=\"https://github.com/bgur123/python-beginners-course/blob/master/trend_course/images/time_vs_programming.png?raw=1\" width =\"400px\" title=\"I spend a lot of time on this task, I should write a program to automating it!\">\n",
        "\n",
        "source: [xkcd](https://xkcd.com/1319/)\n",
        "\n",
        "### Working with big data\n",
        "\n",
        "This could take weeks of analysis when done manually.\n",
        "\n",
        "<img src=\"https://github.com/bgur123/python-beginners-course/blob/master/trend_course/images/CalmAn2.gif?raw=1\" width =\"800px\" title=\"Activity of neurons in a zebrafish brain\">\n",
        "\n",
        "source: [CalmAn: an open source tool for brain imaging.](https://elifesciences.org/articles/38173)\n",
        "\n",
        "### Less errors, more reliability, better reproducibility\n",
        "- Reproducibility is a big problem in especially scientific disciplines.\n",
        "\n",
        "- Automating your workflow using programming is an important aspect of better reproducibility.\n",
        "\n",
        "### Sharing and collaborating\n",
        "-  More than **200.000 Python packages** are available for you to use! (Packages contain already implemented functions or functionalities that are ready-to-use)\n",
        "- Collaborate with others to develop packages and share them \n",
        "- Find solutions to your problems easily! One place to check is: [stackoverflow](https://stackoverflow.com/questions/tagged/python)\n",
        "\n",
        "<img src=\"https://github.com/bgur123/python-beginners-course/blob/master/trend_course/images/stackOF.png?raw=1\" width =\"300px\" title=\"Activity of neurons in a zebrafish brain\">\n",
        "\n",
        "source: [reddit](https://www.reddit.com/r/ProgrammerHumor/comments/69uof3/programming_stack_overflow/)\n",
        "\n",
        "### Cost efficient (a lot of free and open-source resources)"
      ]
    },
    {
      "cell_type": "markdown",
      "metadata": {
        "id": "rfTcm8alwkBI"
      },
      "source": [
        "### Let's do a survey: Why do you want to use programming?\n",
        "  - You can write 3 reasons (each should be 1 word but you can combine words e.g. MachineLearning)\n",
        "  - [Click here to share your reasons](https://www.menti.com/gis9ovf62w)\n"
      ]
    },
    {
      "cell_type": "markdown",
      "metadata": {
        "id": "j9103reyhGX1"
      },
      "source": [
        "---\n",
        "<a name=\"Python-what-why\"></a>\n",
        "# **2. Python - What is it & why use it?**\n",
        "\n",
        "\n"
      ]
    },
    {
      "cell_type": "markdown",
      "metadata": {
        "id": "IH5DLx0hNG_9"
      },
      "source": [
        "## Python: brief history\n",
        "[Python](https://www.python.org/) is:\n",
        "- A popular programming language created by Guido van Rossum, and released in 1991. \n",
        "\n",
        "- It is a powerful interpreted high-level general-purpose programming language with simple easy-to-use syntax. \n",
        "\n",
        "- Commonly used in research, web development (server-side), mathematics, system scripting, data science, creating software prototypes, just to name a few. \n",
        "\n",
        "- Supports modules and packages (already implemented functions or functionalities ready-to-use), which encourages program modularity and code reuse.\n",
        " \n",
        "- The Python interpreter and the extensive standard library are available without charge for all major platforms, and can be freely distributed."
      ]
    },
    {
      "cell_type": "markdown",
      "metadata": {
        "id": "Xw6BThRTNjqu"
      },
      "source": [
        "## What can Python do?\n",
        "\n",
        "* Create web applications.\n",
        "\n",
        "* Create workflows alongside software.\n",
        "\n",
        "* Connect to database systems and read/modify files.\n",
        "\n",
        "* Handle big data/perform complex mathematics.\n",
        "\n",
        "\n",
        "\n",
        "\n",
        "\n"
      ]
    },
    {
      "cell_type": "markdown",
      "metadata": {
        "id": "DRJlQ56eOKLo"
      },
      "source": [
        "## Why Python?\n",
        "\n",
        "* Works on different platforms (Windows, Mac, Linux, Raspberry Pi, etc).\n",
        "\n",
        "* Has a simple syntax similar to the English language.\n",
        "\n",
        "* Python has syntax that allows developers to write programs with fewer lines than some other programming languages.\n",
        "\n",
        "* Python runs on an [interpreter](https://medium.com/@dpthegrey/what-is-interpreter-explain-how-python-interpreter-works-125205c1f8d6) system ( a kind of program that executes other programs), meaning that code can be executed as soon as it is written. This means that prototyping (implementing an algorithm) can be very quick. \n",
        "\n",
        "* Python can be used in different ways:\n",
        "  - [procedural way](https://newrelic.com/blog/nerd-life/python-programming-styles) (series of computational steps to be carried out)\n",
        "  - [object-oriented way](https://kinsta.com/blog/python-object-oriented-programming/) (use a collection of objects which knows how to perform certain actions and how to interact with other elements of the application) \n",
        "  - [functional way](https://hackernoon.com/functional-programming-in-python-for-beginners-pez32fk) (passing data from functions to functions to get a result)."
      ]
    },
    {
      "cell_type": "markdown",
      "metadata": {
        "id": "ePY07QMa8OGm"
      },
      "source": [
        "# More resources for learning Python:\n",
        "* [Programiz](https://www.programiz.com/python-programming)\n",
        "* [datacamp](https://learn.datacamp.com/courses/tech:python?utm_source=adwords_ppc&utm_campaignid=654038607&utm_adgroupid=54278411964&utm_device=c&utm_keyword=%2Blanguage%20%2Bpython%20%2Bprogramming&utm_matchtype=b&utm_network=g&utm_adpostion=&utm_creative=262582850841&utm_targetid=aud-299261629574:kwd-552072783517&utm_loc_interest_ms=&utm_loc_physical_ms=9056331&gclid=Cj0KCQjw5auGBhDEARIsAFyNm9FAWR3dZV833urTsgggqq0lAaMk6BRXg9CsS2bhaNo34H5aNPM6uk0aAiaaEALw_wcB)\n",
        "* [W3schools](https://www.w3schools.com/python/python_intro.asp)\n",
        "* [Coursera](https://www.coursera.org/specializations/python?utm_source=gg&utm_medium=sem&utm_campaign=06-PythonforEverybody-ROW&utm_content=06-PythonforEverybody-ROW&campaignid=6493101579&adgroupid=83560622768&device=c&keyword=python%20tutorial%20for%20beginners&matchtype=b&network=g&devicemodel=&adpostion=&creativeid=506843632505&hide_mobile_promo&gclid=Cj0KCQjw5auGBhDEARIsAFyNm9FM0o1tEpibGYE-1M2LQmlv2ctyf50caHOHA20YFVZe14CWMRV6xiUaAgMeEALw_wcB)"
      ]
    },
    {
      "cell_type": "markdown",
      "metadata": {
        "id": "y0X7P87s_-RD"
      },
      "source": [
        "---\n",
        "<a name=\"Colab\"></a>\n",
        "# **3. Colab - Getting comfortable**\n"
      ]
    },
    {
      "cell_type": "markdown",
      "metadata": {
        "id": "V6-2c5EBl8Gy"
      },
      "source": [
        "### Before Colab: Python notebooks\n",
        "This is a python notebook (officially called a *Jupyter notebook* or an *IPython notebook* --> with the extension \".ipynb\"), which is a basically just a super fancy way of writing python code.\n",
        "  - We can write formatted **text together with executable code**.\n",
        "\n",
        "  - Allows **rapid development** of python code by writing small bits and testing them.\n",
        "\n",
        "  - We can **easily share** our code with others and they can run it without problems.\n",
        "\n"
      ]
    },
    {
      "cell_type": "markdown",
      "metadata": {
        "id": "YgQZQ39VNkbR"
      },
      "source": [
        "## What is Colab?"
      ]
    },
    {
      "cell_type": "markdown",
      "metadata": {
        "id": "c2l6huOtl2C7"
      },
      "source": [
        "[Colab](https://colab.research.google.com/notebooks/intro.ipynb#recent=true) (short for \"Colaboratory\") allows us to take a Jupyter notebook and lets us **edit/use/share** it **easy and free!** \n",
        "\n",
        "Additionally:\n",
        "\n",
        "  - Runs on the **Google Cloud** - doesn't depend much on your computer capabilities.\n",
        "  \n",
        "  - Has many pre-installed packages. **Zero configuration!**\n",
        "\n",
        "  \n",
        "  - Run code super fast --> **GPU usage** is provided free of charge for some hours of usage every day. \n",
        "\n",
        "  - **Share** notebooks with other people, without the need to download, install or run anything.\n",
        "\n",
        "  - Notebooks are **stored in Google Drive** and can also be uploaded from **GitHub**\n",
        "\n",
        "  -   Attention: Be careful - Colab **does not allow users to do changes simultaneously**. If you work togehter at the same time on one notebook, some changes might be lost.  \n",
        "\n",
        " \n",
        "\n"
      ]
    },
    {
      "cell_type": "markdown",
      "metadata": {
        "id": "YybfaVyJm_K1"
      },
      "source": [
        "For example, to run a code, just hover the mouse over ```[ ]``` and press the play button to the upper left. Or press **shift-enter to execute**.\n",
        "\n",
        "- Below we have a code, just run it without trying to understand."
      ]
    },
    {
      "cell_type": "code",
      "metadata": {
        "id": "euJ73YDJnCvW",
        "colab": {
          "base_uri": "https://localhost:8080/"
        },
        "outputId": "b60c3206-07f7-4856-9ddf-7f199c7c9401"
      },
      "source": [
        "print('Hello World')"
      ],
      "execution_count": null,
      "outputs": [
        {
          "output_type": "stream",
          "text": [
            "Hello World\n"
          ],
          "name": "stdout"
        }
      ]
    },
    {
      "cell_type": "markdown",
      "metadata": {
        "id": "rP2OdGLCMZUd"
      },
      "source": [
        "## Colab tips"
      ]
    },
    {
      "cell_type": "markdown",
      "metadata": {
        "id": "C93oXGVUAMQS"
      },
      "source": [
        "*   If you're inactive for a long time (1h), colab can die! **Run> Reset Runtime Environment**\n",
        "  - Your code is executed on a virtual machine specific to your account. Virtual machines are deleted when they are inactive for a certain time and have a maximum lifetime imposed by the Colab service. Select **Run> Reset Runtime Environment** to restore all virtual machines assigned to you to their original state.\n",
        "* You can't save changes on someone else's notebook. Save a copy of the notebook on your own drive first: **File> Save a copy in Drive**\n",
        "  \n",
        "[Read more](https://research.google.com/colaboratory/intl/en-GB/faq.html)\n",
        "\n",
        "\n",
        "\n",
        "\n",
        "\n",
        "\n",
        "\n",
        "\n",
        "\n",
        "\n",
        "\n"
      ]
    },
    {
      "cell_type": "markdown",
      "metadata": {
        "id": "zGfLrtTthMci"
      },
      "source": [
        "---\n",
        "<a name=\"Programming\"></a>\n",
        "#**4. Programming with Python**"
      ]
    },
    {
      "cell_type": "markdown",
      "metadata": {
        "id": "hVWtWsJgmvj3"
      },
      "source": [
        "\n",
        "\n",
        "### Overview:\n",
        "#### - 4.1 [Python as a calculator](#calculator)\n",
        "#### - 4.2 [Storing data: Variables](#var)\n",
        "#### - [Exercises I](#ex1)\n",
        "#### - 4.3 [Errors](#err) \n",
        "#### - 4.4. [Data types](#datype)\n",
        "##### - [**integers**](#int) - for numbers without decimals\n",
        "##### - [**floats**](#float) - for numbers with decimals\n",
        "##### - [**strings**](#str) - for characters, words etc.\n",
        "##### - [**booleans**](#bool) - for binary (True or False, 1 or 0)\n",
        "#### - 4.5 [Converting types](#type_conv)\n",
        "#### - [Exercises II](#ex2)\n",
        "\n"
      ]
    },
    {
      "cell_type": "markdown",
      "metadata": {
        "id": "5hpGUfNHmvj6"
      },
      "source": [
        "---\n",
        "<a name=\"calculator\"></a>\n",
        "##**4.1 Python as a calculator**\n",
        "Python can be used as a calculator. And basic mathematical operations can be easily done using **Python operators** (pre defined symbols for doing operations between values or variables). \n",
        "\n",
        "| Operator | Name    |\n",
        "|------|------|\n",
        "|```+```  | Addition|\n",
        "|```-```  | Subtraction|\n",
        "|```*```  | Multiplication|\n",
        "|```/```  | Division|\n",
        "|```**```  | Exponentiation|\n",
        "|```%```  | Modulus|\n"
      ]
    },
    {
      "cell_type": "code",
      "metadata": {
        "id": "Mpz8g_Epmvj7",
        "colab": {
          "base_uri": "https://localhost:8080/"
        },
        "outputId": "4a6c790e-6d58-48c0-a2b1-5419d326d297"
      },
      "source": [
        "1+5"
      ],
      "execution_count": null,
      "outputs": [
        {
          "output_type": "execute_result",
          "data": {
            "text/plain": [
              "6"
            ]
          },
          "metadata": {
            "tags": []
          },
          "execution_count": 1
        }
      ]
    },
    {
      "cell_type": "code",
      "metadata": {
        "id": "wGxpNEnxmvkC",
        "colab": {
          "base_uri": "https://localhost:8080/"
        },
        "outputId": "52304b12-760d-4230-bb34-7061227aa3bb"
      },
      "source": [
        "2*3"
      ],
      "execution_count": null,
      "outputs": [
        {
          "output_type": "execute_result",
          "data": {
            "text/plain": [
              "6"
            ]
          },
          "metadata": {
            "tags": []
          },
          "execution_count": 2
        }
      ]
    },
    {
      "cell_type": "code",
      "metadata": {
        "id": "imE1JikBmvkJ",
        "colab": {
          "base_uri": "https://localhost:8080/"
        },
        "outputId": "98ecce77-bbd4-41eb-a778-756d3f585f35"
      },
      "source": [
        "2**3"
      ],
      "execution_count": null,
      "outputs": [
        {
          "output_type": "execute_result",
          "data": {
            "text/plain": [
              "8"
            ]
          },
          "metadata": {
            "tags": []
          },
          "execution_count": 3
        }
      ]
    },
    {
      "cell_type": "code",
      "metadata": {
        "id": "3ZwWfEqRmvkQ",
        "colab": {
          "base_uri": "https://localhost:8080/"
        },
        "outputId": "4f405d2e-2b73-4eb7-bef6-af438358ca8a"
      },
      "source": [
        "49%24"
      ],
      "execution_count": null,
      "outputs": [
        {
          "output_type": "execute_result",
          "data": {
            "text/plain": [
              "1"
            ]
          },
          "metadata": {
            "tags": []
          },
          "execution_count": 6
        }
      ]
    },
    {
      "cell_type": "markdown",
      "metadata": {
        "id": "-UHXB6RXmvkW"
      },
      "source": [
        "The **order** of operations is important.\n",
        "\n",
        "Use parantheses ```()``` to define order of operations.\n",
        "\n"
      ]
    },
    {
      "cell_type": "markdown",
      "metadata": {
        "id": "TTaK_UGTIrHg"
      },
      "source": [
        "Add 3 to 5 and divide by 4 -> result is 2"
      ]
    },
    {
      "cell_type": "code",
      "metadata": {
        "id": "-6T__qfzmvkX",
        "colab": {
          "base_uri": "https://localhost:8080/"
        },
        "outputId": "c9e51b6c-e958-47c3-b9f2-06849306f530"
      },
      "source": [
        "3+5/4"
      ],
      "execution_count": null,
      "outputs": [
        {
          "output_type": "execute_result",
          "data": {
            "text/plain": [
              "4.25"
            ]
          },
          "metadata": {
            "tags": []
          },
          "execution_count": 7
        }
      ]
    },
    {
      "cell_type": "code",
      "metadata": {
        "id": "rwfpOBEjmvke",
        "colab": {
          "base_uri": "https://localhost:8080/"
        },
        "outputId": "5e22c66b-87d9-46b2-d67c-4af784265391"
      },
      "source": [
        "(3+5)/4"
      ],
      "execution_count": null,
      "outputs": [
        {
          "output_type": "execute_result",
          "data": {
            "text/plain": [
              "2.0"
            ]
          },
          "metadata": {
            "tags": []
          },
          "execution_count": 8
        }
      ]
    },
    {
      "cell_type": "markdown",
      "metadata": {
        "id": "ev_65pkpNCOA"
      },
      "source": [
        "### Bonus: Seeing our results with ```print()``` function\n",
        "When we write multiple lines of code that contain operations, we can just see the result of our last operation.\n",
        "\n"
      ]
    },
    {
      "cell_type": "code",
      "metadata": {
        "colab": {
          "base_uri": "https://localhost:8080/"
        },
        "id": "P11zbX2qPG7W",
        "outputId": "8c725998-596c-46c1-85e5-dee86d7bf1e7"
      },
      "source": [
        "3+3\n",
        "3+2"
      ],
      "execution_count": null,
      "outputs": [
        {
          "output_type": "execute_result",
          "data": {
            "text/plain": [
              "5"
            ]
          },
          "metadata": {
            "tags": []
          },
          "execution_count": 9
        }
      ]
    },
    {
      "cell_type": "markdown",
      "metadata": {
        "id": "dUi6u71eW5Xj"
      },
      "source": [
        "To see stuff after running our code, we can use the ```print()``` function of python:"
      ]
    },
    {
      "cell_type": "code",
      "metadata": {
        "colab": {
          "base_uri": "https://localhost:8080/"
        },
        "id": "JHSpihNEPL1W",
        "outputId": "08bde5c0-939d-4900-e879-2f73a7c81796"
      },
      "source": [
        "print(3+3)\n",
        "print(3+2)"
      ],
      "execution_count": null,
      "outputs": [
        {
          "output_type": "stream",
          "text": [
            "6\n",
            "5\n"
          ],
          "name": "stdout"
        }
      ]
    },
    {
      "cell_type": "markdown",
      "metadata": {
        "id": "hNDiejTPJNNC"
      },
      "source": [
        "Functions usually take inputs and produce outputs.\n",
        "> ```output = function_name(input1,input2,...,inputN)```\n",
        "\n",
        "More on functions later on the course!"
      ]
    },
    {
      "cell_type": "markdown",
      "metadata": {
        "id": "OUSrFKOVImI-"
      },
      "source": [
        "```print()``` function can take multiple inputs (separated by ```,```) and prints them side by side.\n",
        "\n",
        "> ```print(input1, input2, ..., inputN)``` \n",
        "\n"
      ]
    },
    {
      "cell_type": "code",
      "metadata": {
        "colab": {
          "base_uri": "https://localhost:8080/"
        },
        "id": "zvAEIjukI7Tn",
        "outputId": "d765a7c6-3b74-415d-800b-e438ce9f0dbe"
      },
      "source": [
        "print(3+3,3+2,4)"
      ],
      "execution_count": null,
      "outputs": [
        {
          "output_type": "stream",
          "text": [
            "6 5 4\n"
          ],
          "name": "stdout"
        }
      ]
    },
    {
      "cell_type": "markdown",
      "metadata": {
        "id": "IYlx2-ijmvkk"
      },
      "source": [
        "But we don't just want to see stuff, we want to store our results and work with them."
      ]
    },
    {
      "cell_type": "markdown",
      "metadata": {
        "id": "omzbU-4amvkk"
      },
      "source": [
        "---\n",
        "<a name=\"var\"></a>\n",
        "##**4.2 Storing data: Variables**\n",
        "\n",
        "Variables are used to **store** data (also known as **value** in programming) of any sort. \n",
        "\n",
        "You can think of them as a depot where you put data inside and each depot has its unique name:\n",
        "\n",
        "<img src=\"https://github.com/bgur123/python-beginners-course/blob/master/trend_course/images/var1.svg?raw=1\" width =\"200px\">\n",
        "\n",
        "- **Name** of the variable: The unique name that identifies this storage space.\n",
        "- **Value** of the variable: Data that is stored inside this space.\n",
        "\n",
        "\n"
      ]
    },
    {
      "cell_type": "markdown",
      "metadata": {
        "id": "rTeyPbr8IOmy"
      },
      "source": [
        "### Creating variables: Assignments\n",
        "Variables are created with an assignment statement. The syntax (kind of grammar) of variable assignment is:\n",
        "\n",
        "```variable_name = a value``` (or an expression e.g., ```1+1```)"
      ]
    },
    {
      "cell_type": "code",
      "metadata": {
        "id": "pAa5_9YQmvkl"
      },
      "source": [
        "age = 29 \n",
        "name = \"Burak\"\n",
        "height_cm = 183 "
      ],
      "execution_count": null,
      "outputs": []
    },
    {
      "cell_type": "markdown",
      "metadata": {
        "id": "EmhSSvbHmvkq"
      },
      "source": [
        "<img src=\"https://github.com/bgur123/python-beginners-course/blob/master/trend_course/images/var2.svg?raw=1\" width =\"600px\">\n",
        "\n",
        "\n",
        "We just *defined* variables by assigning values to each of them. Now we can use them.\n",
        "\n",
        "What is my height in feets? **1 feet = 30.48 cm**"
      ]
    },
    {
      "cell_type": "code",
      "metadata": {
        "id": "MGvXQ3jYmvkr",
        "colab": {
          "base_uri": "https://localhost:8080/"
        },
        "outputId": "75b31e24-cfaf-42e1-d952-aed98be58f34"
      },
      "source": [
        "height_feet = height_cm / 30.48\n",
        "print(\"height_feet is:\",height_feet)"
      ],
      "execution_count": null,
      "outputs": [
        {
          "output_type": "stream",
          "text": [
            "height_feet is: 6.003937007874016\n"
          ],
          "name": "stdout"
        }
      ]
    },
    {
      "cell_type": "markdown",
      "metadata": {
        "id": "b-i-enJqGD7k"
      },
      "source": [
        "<img src=\"https://github.com/bgur123/python-beginners-course/blob/master/trend_course/images/var3.svg?raw=1\" width =\"600px\">\n",
        "\n"
      ]
    },
    {
      "cell_type": "markdown",
      "metadata": {
        "id": "ky6xeYgQHWLY"
      },
      "source": [
        "### Changing variables\n",
        "When you use variables in other assignments or operations, they don't change!\n"
      ]
    },
    {
      "cell_type": "code",
      "metadata": {
        "colab": {
          "base_uri": "https://localhost:8080/"
        },
        "id": "8VYtB924Jz4t",
        "outputId": "b07b8383-1b8e-4de5-f166-21e0651bc4a2"
      },
      "source": [
        "height_cm / 2\n",
        "print(\"height_cm is:\",height_cm)"
      ],
      "execution_count": null,
      "outputs": [
        {
          "output_type": "stream",
          "text": [
            "height_cm is: 183\n"
          ],
          "name": "stdout"
        }
      ]
    },
    {
      "cell_type": "code",
      "metadata": {
        "colab": {
          "base_uri": "https://localhost:8080/"
        },
        "id": "Mg9SsyR-Hj5G",
        "outputId": "684cc4e4-84a0-44b9-81c4-6203c1027282"
      },
      "source": [
        "half_height = height_cm / 2\n",
        "print(\"height_cm is:\",height_cm)\n",
        "print(\"half_height is:\",half_height)"
      ],
      "execution_count": null,
      "outputs": [
        {
          "output_type": "stream",
          "text": [
            "height_cm is: 183\n",
            "half_height is: 91.5\n"
          ],
          "name": "stdout"
        }
      ]
    },
    {
      "cell_type": "markdown",
      "metadata": {
        "id": "7UwzxQZuQAig"
      },
      "source": [
        "To change variables, we need to assign them again."
      ]
    },
    {
      "cell_type": "code",
      "metadata": {
        "colab": {
          "base_uri": "https://localhost:8080/"
        },
        "id": "v0MRV_IKMrZ4",
        "outputId": "e43bc592-3e7b-4958-c3b4-157637072f45"
      },
      "source": [
        "height_cm = 160\n",
        "print(\"height_cm is:\",height_cm)"
      ],
      "execution_count": null,
      "outputs": [
        {
          "output_type": "stream",
          "text": [
            "height_cm is: 160\n"
          ],
          "name": "stdout"
        }
      ]
    },
    {
      "cell_type": "code",
      "metadata": {
        "colab": {
          "base_uri": "https://localhost:8080/"
        },
        "id": "hO65ZLXwKHKV",
        "outputId": "4768fd46-f30e-4017-bf2f-5cb989d19856"
      },
      "source": [
        "height_cm = height_cm / 2\n",
        "print(\"height_cm is:\",height_cm)"
      ],
      "execution_count": null,
      "outputs": [
        {
          "output_type": "stream",
          "text": [
            "height_cm is: 45.75\n"
          ],
          "name": "stdout"
        }
      ]
    },
    {
      "cell_type": "markdown",
      "metadata": {
        "id": "vKtBd1_-mvk0"
      },
      "source": [
        "### Naming variables\n",
        "Python variable names:\n",
        "- can contain letters, numbers and underscores\n",
        "- can NOT start with a number (```1st_name``` -> won't work)\n",
        "- are case sensitive (```age``` vs ```Age``` are different variables)\n",
        "\n",
        "Suggestion: Variable names should be **concise** (short but informative): \n",
        "\n",
        "- ```my_telephone_number``` -> ```phone_num```\n",
        "- ```p_n``` -> ```phone_num```\n"
      ]
    },
    {
      "cell_type": "markdown",
      "metadata": {
        "id": "QQ5Hhh-dmvlP"
      },
      "source": [
        "### Checking - deleting variables\n",
        "Now we have defined several varibles in the previous cells. These are stored in our **workspace** (or namespace).\n",
        "\n",
        "- write ```whos``` to check which variables we have in our current workspace.\n",
        "\n",
        "<img src=\"https://github.com/bgur123/python-beginners-course/blob/master/trend_course/images/var4.svg?raw=1\" width =\"600px\">\n"
      ]
    },
    {
      "cell_type": "code",
      "metadata": {
        "id": "RHF-SO5XmvlQ",
        "colab": {
          "base_uri": "https://localhost:8080/"
        },
        "outputId": "05e900db-09a9-4b17-baba-59f61b603c6f"
      },
      "source": [
        "whos"
      ],
      "execution_count": null,
      "outputs": [
        {
          "output_type": "stream",
          "text": [
            "Variable      Type     Data/Info\n",
            "--------------------------------\n",
            "age           int      29\n",
            "half_height   float    91.5\n",
            "height_cm     int      160\n",
            "height_feet   float    6.003937007874016\n",
            "name          str      Burak\n"
          ],
          "name": "stdout"
        }
      ]
    },
    {
      "cell_type": "markdown",
      "metadata": {
        "id": "nkIG6WQKmvlV"
      },
      "source": [
        "We can erase them using ```%reset```"
      ]
    },
    {
      "cell_type": "code",
      "metadata": {
        "id": "iFJ51Z4vmvlW",
        "colab": {
          "base_uri": "https://localhost:8080/"
        },
        "outputId": "5de9c89a-7f7f-4125-d4f4-a6e52fdefb4a"
      },
      "source": [
        "%reset"
      ],
      "execution_count": null,
      "outputs": [
        {
          "output_type": "stream",
          "text": [
            "Once deleted, variables cannot be recovered. Proceed (y/[n])? y\n"
          ],
          "name": "stdout"
        }
      ]
    },
    {
      "cell_type": "code",
      "metadata": {
        "id": "zxl9L3oSmvlZ",
        "colab": {
          "base_uri": "https://localhost:8080/"
        },
        "outputId": "b63c31b9-5af7-4e28-ebca-c16e8d7a2e12"
      },
      "source": [
        "whos"
      ],
      "execution_count": null,
      "outputs": [
        {
          "output_type": "stream",
          "text": [
            "Interactive namespace is empty.\n"
          ],
          "name": "stdout"
        }
      ]
    },
    {
      "cell_type": "markdown",
      "metadata": {
        "id": "e5hYboOpJBCD"
      },
      "source": [
        "### Bonus: Commenting on code\n",
        "We can add some text to our code to inform/remind ourselves or others:\n",
        "- **What** our code is doing\n",
        "- **Why** it is doing this particular thing. (more important than what)\n",
        "- Be **conscise**!"
      ]
    },
    {
      "cell_type": "code",
      "metadata": {
        "id": "SpStSgS8JzVq",
        "colab": {
          "base_uri": "https://localhost:8080/"
        },
        "outputId": "385d5475-a0c7-43e0-c89b-81af3d746ff7"
      },
      "source": [
        "height_cm = 183\n",
        "\n",
        "# Too long comment\n",
        "height_feet = height_cm / 30.48 # 1 foot is 30.48 cm so that's why we divide the height in cm with 30.48\n",
        "\n",
        "# Not explanatory\n",
        "height_feet = height_cm / 30.48 # Divide by 30.48\n",
        "\n",
        "# Conscise: good!\n",
        "height_feet = height_cm / 30.48 # 1 foot is 30.48 cm\n",
        "print(\"height_feet is:\",height_feet)"
      ],
      "execution_count": null,
      "outputs": [
        {
          "output_type": "stream",
          "text": [
            "height_feet is: 6.003937007874016\n"
          ],
          "name": "stdout"
        }
      ]
    },
    {
      "cell_type": "markdown",
      "metadata": {
        "id": "ZPVIREpq72vB"
      },
      "source": [
        "---\n",
        "<a name=\"ex1\"></a>\n",
        "##**Exercises I**\n",
        "Let's practice what we've learned so far.\n"
      ]
    },
    {
      "cell_type": "markdown",
      "metadata": {
        "id": "sThQJBgBsaBv"
      },
      "source": [
        "### **Peer-programming** during exercises\n",
        "\n",
        "#### Steps:\n",
        "1. Split into break-out rooms (~3 people each)\n",
        "2. Individual work time (~4 minutes)\n",
        "  - Check out the exercises\n",
        "  - Try answering them (don't look at the answers yet)\n",
        "3. Group work time (~6 minutes)\n",
        "  - Someone shares their screen (rotate for each exercise part - you can use [Wheel of Names](https://wheelofnames.com/) to select someone). \n",
        "  - Others will share their answers and the group will discuss. \n",
        "  -  Is everything clear for everyone? If not, can we help each other?\n"
      ]
    },
    {
      "cell_type": "markdown",
      "metadata": {
        "id": "-em-NTUA9GwB"
      },
      "source": [
        "### Demo exercise - NOT FOR STUDENTS\n",
        "1. Calculate $43214+2134$\n",
        "2. Create a new variable named ```my_answer``` and assign its value to the calculation.\n",
        "3. Using ```print()``` function print ```my_answer```.\n"
      ]
    },
    {
      "cell_type": "code",
      "metadata": {
        "id": "zQQGb9L24ooZ"
      },
      "source": [
        "# Insert your answer here"
      ],
      "execution_count": null,
      "outputs": []
    },
    {
      "cell_type": "markdown",
      "metadata": {
        "id": "FycTb5-B8d78"
      },
      "source": [
        "### Exercise 1.1\n",
        "Calculate: $5^3$\n",
        "\n",
        "optional: there are two ways of doing that, try both."
      ]
    },
    {
      "cell_type": "code",
      "metadata": {
        "id": "3MD73oBM-bBe"
      },
      "source": [
        "# Insert your answer here"
      ],
      "execution_count": null,
      "outputs": []
    },
    {
      "cell_type": "code",
      "metadata": {
        "colab": {
          "base_uri": "https://localhost:8080/"
        },
        "id": "ACiMtFDx-x3b",
        "cellView": "form",
        "outputId": "bf060741-8c77-42da-f077-a91bbbe1a88f"
      },
      "source": [
        "# @title Double click here for the solution\n",
        "\n",
        "# 1st way\n",
        "5**3\n",
        "# 2nd way\n",
        "5*5*5"
      ],
      "execution_count": null,
      "outputs": [
        {
          "output_type": "execute_result",
          "data": {
            "text/plain": [
              "125"
            ]
          },
          "metadata": {
            "tags": []
          },
          "execution_count": 5
        }
      ]
    },
    {
      "cell_type": "markdown",
      "metadata": {
        "id": "9NOnaChaBaAz"
      },
      "source": [
        "### Exercise 1.2\n",
        "Do the following calculation in python:\n",
        "\n",
        "$\\frac{10+2}{2+4}$\n",
        "\n",
        "The answer should be 2. (I know this is a hard one :P )"
      ]
    },
    {
      "cell_type": "code",
      "metadata": {
        "id": "H-pIXwnzCRJY"
      },
      "source": [
        "# Insert your answer here"
      ],
      "execution_count": null,
      "outputs": []
    },
    {
      "cell_type": "code",
      "metadata": {
        "id": "PI0rs0tjCUZq",
        "colab": {
          "base_uri": "https://localhost:8080/"
        },
        "cellView": "form",
        "outputId": "eb7bf338-1d58-4d47-bc92-8827b5690970"
      },
      "source": [
        "#@title Double click here for the solution\n",
        "\n",
        "(10+2)/(2+4)"
      ],
      "execution_count": null,
      "outputs": [
        {
          "output_type": "execute_result",
          "data": {
            "text/plain": [
              "2.0"
            ]
          },
          "metadata": {
            "tags": []
          },
          "execution_count": 7
        }
      ]
    },
    {
      "cell_type": "markdown",
      "metadata": {
        "id": "6iwxUhls94Vq"
      },
      "source": [
        "### Exercise 1.3\n",
        "\n",
        "\n",
        "1. Create a variable named ```my_age``` and assign its value to your age.\n",
        "2. Create a new variable named ```my_birth_year``` and assign its value to your birth year.\n",
        "3. Run the code below the exercise code to see if you did it correctly.\n",
        "\n"
      ]
    },
    {
      "cell_type": "code",
      "metadata": {
        "id": "ZPZeDfgo_8e0"
      },
      "source": [
        "# Insert your answer here"
      ],
      "execution_count": null,
      "outputs": []
    },
    {
      "cell_type": "code",
      "metadata": {
        "id": "779_PKYd__Nj",
        "colab": {
          "base_uri": "https://localhost:8080/"
        },
        "cellView": "form",
        "outputId": "e43a4c7e-0448-4855-afc4-ee3c98ac504a"
      },
      "source": [
        "# @title Run this cell to check your if you've done it right (click the play button).\n",
        "try:\n",
        "  print(f\"My age is {my_age}, my birth year is: {my_birth_year}\\nCongrats you've done the exercise!\")\n",
        "except NameError:\n",
        "  print(\"You haven't defined at least one of the variables correctly. \\nPlease try again. Remember variables are case sensitive!\")"
      ],
      "execution_count": null,
      "outputs": [
        {
          "output_type": "stream",
          "text": [
            "You haven't defined at least one of the variables correctly. \n",
            "Please try again. Remember variables are case sensitive!\n"
          ],
          "name": "stdout"
        }
      ]
    },
    {
      "cell_type": "code",
      "metadata": {
        "cellView": "form",
        "id": "yILnTDBqA9ne"
      },
      "source": [
        "# @title Double click here for the solution\n",
        "\n",
        "my_age = 29\n",
        "my_birth_year = 1992"
      ],
      "execution_count": null,
      "outputs": []
    },
    {
      "cell_type": "markdown",
      "metadata": {
        "id": "ytcM1cf8C7je"
      },
      "source": [
        "### Exercise 1.4:\n",
        "\n",
        "1. Create a variable named ```my_height_cm``` and assign its value to your height in cm.\n",
        "2. Create a new variable named ```conversion_factor``` and assign its value to the conversion factor from feet to centimeters.\n",
        "3. Create a new variable named ```my_height_feet``` and assign its value to the division of ```my_height_cm``` and ```conversion_factor```.\n",
        "4. Using ```print()``` function print both ```my_height_cm``` and ```my_height_feet```."
      ]
    },
    {
      "cell_type": "code",
      "metadata": {
        "id": "IfkZSMxFETgf"
      },
      "source": [
        "# Insert your answer here"
      ],
      "execution_count": null,
      "outputs": []
    },
    {
      "cell_type": "code",
      "metadata": {
        "id": "YtpyoBJwETmK",
        "cellView": "form"
      },
      "source": [
        "# @title Double click here for the solution\n",
        "my_height_cm = 183\n",
        "conversion_factor = 30.48\n",
        "my_height_feet = my_height_cm/conversion_factor\n",
        "print(my_height_cm,my_height_feet)"
      ],
      "execution_count": null,
      "outputs": []
    },
    {
      "cell_type": "markdown",
      "metadata": {
        "id": "TDZ_W1VLKb8O"
      },
      "source": [
        "Well done! First part of the exercises are done. Let's go back to the lecture."
      ]
    },
    {
      "cell_type": "markdown",
      "metadata": {
        "id": "CSykGqfbmvk1"
      },
      "source": [
        "---\n",
        "<a name=\"err\"></a>\n",
        "##**4.3 Errors**\n",
        "\n",
        "We are all human. Sometimes we might write incorrect code and python can inform this to us by producing an error. These errors also contain messages that explain what went wrong while python was executing your code.\n"
      ]
    },
    {
      "cell_type": "code",
      "metadata": {
        "id": "oqw25mWzmvk2",
        "outputId": "10fb995c-d77b-4d7d-ff05-d00cde5c0109"
      },
      "source": [
        "print(y)\n",
        "y = 10"
      ],
      "execution_count": null,
      "outputs": [
        {
          "output_type": "error",
          "ename": "NameError",
          "evalue": "name 'y' is not defined",
          "traceback": [
            "\u001b[0;31m-------------------------------------------------------------------\u001b[0m",
            "\u001b[0;31mNameError\u001b[0m                         Traceback (most recent call last)",
            "\u001b[0;32m<ipython-input-11-f57a92f8cef0>\u001b[0m in \u001b[0;36m<module>\u001b[0;34m\u001b[0m\n\u001b[0;32m----> 1\u001b[0;31m \u001b[0mprint\u001b[0m\u001b[0;34m(\u001b[0m\u001b[0my\u001b[0m\u001b[0;34m)\u001b[0m\u001b[0;34m\u001b[0m\u001b[0;34m\u001b[0m\u001b[0m\n\u001b[0m\u001b[1;32m      2\u001b[0m \u001b[0my\u001b[0m \u001b[0;34m=\u001b[0m \u001b[0;36m10\u001b[0m\u001b[0;34m\u001b[0m\u001b[0;34m\u001b[0m\u001b[0m\n",
            "\u001b[0;31mNameError\u001b[0m: name 'y' is not defined"
          ]
        }
      ]
    },
    {
      "cell_type": "markdown",
      "metadata": {
        "id": "QG8JhoahxAW0"
      },
      "source": [
        "**Tip:** You can click on \"SEARCH STACK OVERFLOW\" button to see if someone else has encountered a similar error and provided a solution."
      ]
    },
    {
      "cell_type": "markdown",
      "metadata": {
        "id": "EQssVClomvk8"
      },
      "source": [
        "\n",
        "These messages are composed in a logical way, :\n",
        "1. What is the **type of error** (<font color=red>NameError</font>) -> [More on error types here](https://docs.python.org/3/tutorial/errors.html)\n",
        "2. **Where (which file)** the error occured (in our case this is not useful because we just have this file)\n",
        "4. **Which line** has the error producing code\n",
        "4. **Why** there was an error\n",
        "\n",
        "\n"
      ]
    },
    {
      "cell_type": "markdown",
      "metadata": {
        "id": "Ca-jw96nSV8Y"
      },
      "source": [
        "<a name=\"errorex\"></a>\n",
        "#### Self-practice: \n",
        "\n",
        "Let's investigate the next error message and find the corresponding error components. "
      ]
    },
    {
      "cell_type": "code",
      "metadata": {
        "colab": {
          "base_uri": "https://localhost:8080/",
          "height": 246
        },
        "id": "rRCxS27mSWz5",
        "outputId": "c4327c7a-6eb2-4c86-8ed6-00c883372986"
      },
      "source": [
        "age_years = 29\n",
        "age_months = age_years * 12\n",
        "print(age_days)"
      ],
      "execution_count": null,
      "outputs": [
        {
          "output_type": "error",
          "ename": "NameError",
          "evalue": "ignored",
          "traceback": [
            "\u001b[0;31m---------------------------------------------------------------------------\u001b[0m",
            "\u001b[0;31mNameError\u001b[0m                                 Traceback (most recent call last)",
            "\u001b[0;32m<ipython-input-33-186bb921af33>\u001b[0m in \u001b[0;36m<module>\u001b[0;34m()\u001b[0m\n\u001b[1;32m      1\u001b[0m \u001b[0mage_years\u001b[0m \u001b[0;34m=\u001b[0m \u001b[0;36m29\u001b[0m\u001b[0;34m\u001b[0m\u001b[0;34m\u001b[0m\u001b[0m\n\u001b[1;32m      2\u001b[0m \u001b[0mage_months\u001b[0m \u001b[0;34m=\u001b[0m \u001b[0mage_years\u001b[0m \u001b[0;34m*\u001b[0m \u001b[0;36m12\u001b[0m\u001b[0;34m\u001b[0m\u001b[0;34m\u001b[0m\u001b[0m\n\u001b[0;32m----> 3\u001b[0;31m \u001b[0mprint\u001b[0m\u001b[0;34m(\u001b[0m\u001b[0mage_days\u001b[0m\u001b[0;34m)\u001b[0m\u001b[0;34m\u001b[0m\u001b[0;34m\u001b[0m\u001b[0m\n\u001b[0m",
            "\u001b[0;31mNameError\u001b[0m: name 'age_days' is not defined"
          ]
        }
      ]
    },
    {
      "cell_type": "markdown",
      "metadata": {
        "id": "0VhSfX6pmvk8"
      },
      "source": [
        "##### FILL BELOW\n",
        "\n",
        "Error type:\n",
        "\n",
        "File: (Just skip this since we have only this file.)\n",
        "\n",
        "Line:\n",
        "\n",
        "Reason:"
      ]
    },
    {
      "cell_type": "markdown",
      "metadata": {
        "id": "cNs9q-kzmvk9"
      },
      "source": [
        "---\n",
        "<a name=\"datype\"></a>\n",
        "##**4.4 Data types**\n",
        "    \n",
        "Data are different data types.\n",
        "\n",
        "For example: \n",
        "- Data that contains names would consist of characters. \n",
        "- Data that contains ages would consist of numbers. \n",
        "\n",
        "Python's most common data types are:\n",
        "\n",
        "**For numbers:**\n",
        "- [integers](#int) (for storing integers - whole numbers - e.g. 2)\n",
        "\n",
        "\n",
        "- [floats](#float) (for storing numbers with fractions e.g. 1.0025)\n",
        "\n",
        "**For characters (text):**\n",
        "- [strings](#str) (for characters, words etc.)\n",
        "\n",
        "**For logicals (1, 0 - True, False)**:\n",
        "- [booleans](#bool) (binary data: True or False) \n",
        "\n",
        "\n",
        "Note: Data types to store multiple data points (arrays, lists etc.) will be covered in the tutorial *Theory 4* next week!"
      ]
    },
    {
      "cell_type": "markdown",
      "metadata": {
        "id": "3KTHnvqfmvk9"
      },
      "source": [
        "<a name=\"int\"></a>\n",
        "### Integers\n"
      ]
    },
    {
      "cell_type": "markdown",
      "metadata": {
        "id": "qsI43Ug8UvCk"
      },
      "source": [
        "Below are some examples of integers"
      ]
    },
    {
      "cell_type": "code",
      "metadata": {
        "id": "-7LmZYJTmvk_",
        "colab": {
          "base_uri": "https://localhost:8080/"
        },
        "outputId": "573f6b80-bb43-4b02-91e7-7b9555c3d31b"
      },
      "source": [
        "age = 29\n",
        "birthyear = 1992\n",
        "\n",
        "print(\"I am\", age, \"years old.\")\n",
        "print(\"I was born in\", birthyear)"
      ],
      "execution_count": null,
      "outputs": [
        {
          "output_type": "stream",
          "text": [
            "I am 29 years old.\n",
            "I was born in 1992\n"
          ],
          "name": "stdout"
        }
      ]
    },
    {
      "cell_type": "markdown",
      "metadata": {
        "id": "JhQl609rmvlE"
      },
      "source": [
        "We can check the type of variables by using ```type()``` function:\n",
        "\n",
        "```type(age)```"
      ]
    },
    {
      "cell_type": "code",
      "metadata": {
        "id": "AUGoRN2emvlF",
        "colab": {
          "base_uri": "https://localhost:8080/"
        },
        "outputId": "79f8f6f7-63c0-4ff8-ed04-1baa3456b0d1"
      },
      "source": [
        "print(type(age))"
      ],
      "execution_count": null,
      "outputs": [
        {
          "output_type": "stream",
          "text": [
            "<class 'int'>\n"
          ],
          "name": "stdout"
        }
      ]
    },
    {
      "cell_type": "markdown",
      "metadata": {
        "id": "e8owah9mVQOS"
      },
      "source": [
        "It will print out: <class 'int'> meaning that the type (you call data types \"class\") is integer.\n",
        "\n",
        "We can use integer variables with the operations we learned above."
      ]
    },
    {
      "cell_type": "code",
      "metadata": {
        "id": "fk7yiHfnmvlJ"
      },
      "source": [
        "x = 3\n",
        "y = 4\n",
        "z = x*y"
      ],
      "execution_count": null,
      "outputs": []
    },
    {
      "cell_type": "markdown",
      "metadata": {
        "id": "kV0vFYn9mvle"
      },
      "source": [
        "What happens if we do a division that yields a fractional value with two integer type variables of your choice.(e.g. 5/2 = 2.5).\n",
        "\n",
        "\n",
        "- What is the type of our result variable?"
      ]
    },
    {
      "cell_type": "code",
      "metadata": {
        "id": "cuI0fOiEmvlg",
        "colab": {
          "base_uri": "https://localhost:8080/"
        },
        "outputId": "875bfbbf-cc2b-4d16-da35-2c3e5f7fcbf1"
      },
      "source": [
        "x = 5\n",
        "y = 2\n",
        "z = x/y\n",
        "\n",
        "print(\"x is\",x, \"y is\",y, \"z is\",z)\n",
        "print(\"x is\",type(x), \"y is\",type(y), \"z is\",type(z))"
      ],
      "execution_count": null,
      "outputs": [
        {
          "output_type": "stream",
          "text": [
            "x is 5 y is 2 z is 2.5\n",
            "x is <class 'int'> y is <class 'int'> z is <class 'float'>\n"
          ],
          "name": "stdout"
        }
      ]
    },
    {
      "cell_type": "markdown",
      "metadata": {
        "id": "QrTbeVq-mvll"
      },
      "source": [
        "<a name=\"float\"></a>\n",
        "### Floats\n",
        "**Floating point number** (Float) is a way of representing a non-integer real number with a computer.\n"
      ]
    },
    {
      "cell_type": "code",
      "metadata": {
        "id": "dMWK7nTimvll",
        "colab": {
          "base_uri": "https://localhost:8080/"
        },
        "outputId": "b3971292-e9ae-49ed-cecd-2a2463b33f3c"
      },
      "source": [
        "# Let's calculate my speed from home to work\n",
        "distance = 3 # in kms\n",
        "time = 7 # in minutes\n",
        "\n",
        "\n",
        "speed = distance/(time/60) # km/h\n",
        "\n",
        "print(\"My average speed from home to work is: \", speed, \"km/h\")\n",
        "print(\"'speed' variable's value is \", type(speed))"
      ],
      "execution_count": null,
      "outputs": [
        {
          "output_type": "stream",
          "text": [
            "My average speed from home to work is:  25.714285714285715 km/h\n",
            "'speed' variable's value is  <class 'float'>\n"
          ],
          "name": "stdout"
        }
      ]
    },
    {
      "cell_type": "markdown",
      "metadata": {
        "id": "CpmMXtvdmvlp"
      },
      "source": [
        "<a name=\"str\"></a>\n",
        "### Strings\n",
        "\n",
        "What if we want to store characters instead of numbers? Usually we want to store a set of characters instead of storing each character 1 by 1 (like instead of storing - n, a, m, e - we want to store them together as -name-). This is called a string of characters. That's why the type is also called **string**."
      ]
    },
    {
      "cell_type": "markdown",
      "metadata": {
        "id": "yJX3i2Gimvly"
      },
      "source": [
        "- We should use **double quoutes ```\" __ \"``` or single quotes ```' __ '```** when limiting a string.\n",
        "\n"
      ]
    },
    {
      "cell_type": "markdown",
      "metadata": {
        "id": "U7aqtbn-OMjN"
      },
      "source": []
    },
    {
      "cell_type": "code",
      "metadata": {
        "id": "lJK9sAoTmvlq",
        "colab": {
          "base_uri": "https://localhost:8080/"
        },
        "outputId": "08ca58c3-a1a1-4a7d-c932-174ce9715440"
      },
      "source": [
        "# Some string examples\n",
        "name = \"Burak\"\n",
        "country = 'Turkey'\n",
        "\n",
        "print(name, \"is from\", country)"
      ],
      "execution_count": null,
      "outputs": [
        {
          "output_type": "stream",
          "text": [
            "Burak is from Turkey\n"
          ],
          "name": "stdout"
        }
      ]
    },
    {
      "cell_type": "markdown",
      "metadata": {
        "id": "65yQQBSHqXp5"
      },
      "source": [
        "- We can use the **escape character** ```\\``` to continue our string in the next line of code. \n",
        "\n",
        "  This doesn't change the way it is printed."
      ]
    },
    {
      "cell_type": "code",
      "metadata": {
        "id": "c5Ixy_R7qgFx",
        "colab": {
          "base_uri": "https://localhost:8080/"
        },
        "outputId": "afa9b213-5a3c-4696-c82c-cba403f27c67"
      },
      "source": [
        "# Defining a multi line string\n",
        "multiline_string_1 = 'This text is getting too long \\\n",
        "so I can continue on the next line of code' \n",
        "\n",
        "print(multiline_string_1)"
      ],
      "execution_count": null,
      "outputs": [
        {
          "output_type": "stream",
          "text": [
            "This text is getting too long so I can continue on the next line of code\n"
          ],
          "name": "stdout"
        }
      ]
    },
    {
      "cell_type": "markdown",
      "metadata": {
        "id": "-DaaY6LfqYGE"
      },
      "source": [
        "- Or, we can use **triple quoutes ```''' __ '''```** if we would like to use multiline strings"
      ]
    },
    {
      "cell_type": "code",
      "metadata": {
        "id": "Dr9G_Tcumvl3",
        "colab": {
          "base_uri": "https://localhost:8080/"
        },
        "outputId": "40d29348-da35-45f3-ca6a-b31e4ed8719c"
      },
      "source": [
        "# A multiline string\n",
        "multiline_string_2 = '''This\n",
        "is \n",
        "a\n",
        "multiline\n",
        "string\n",
        "'''\n",
        "print(multiline_string_2)"
      ],
      "execution_count": null,
      "outputs": [
        {
          "output_type": "stream",
          "text": [
            "This\n",
            "is \n",
            "a\n",
            "multiline\n",
            "string\n",
            "\n"
          ],
          "name": "stdout"
        }
      ]
    },
    {
      "cell_type": "markdown",
      "metadata": {
        "id": "kMY4A4FRmvl6"
      },
      "source": [
        "#### Adding blank space (a.k.a. whitespace)\n",
        "- Use ```\\n``` to add a new line (like pressing enter)\n",
        "- Use ```\\t``` for adding a tab\n",
        "\n"
      ]
    },
    {
      "cell_type": "code",
      "metadata": {
        "id": "YWYYVqcfmvl6",
        "colab": {
          "base_uri": "https://localhost:8080/"
        },
        "outputId": "006e2bdb-5af9-44b6-83a6-395d80e0cbab"
      },
      "source": [
        "# New line example\n",
        "two_line_string = 'Hello \\n world'\n",
        "print(two_line_string)\n"
      ],
      "execution_count": null,
      "outputs": [
        {
          "output_type": "stream",
          "text": [
            "Hello \n",
            " world\n"
          ],
          "name": "stdout"
        }
      ]
    },
    {
      "cell_type": "code",
      "metadata": {
        "id": "Op0dMF34mvl9",
        "colab": {
          "base_uri": "https://localhost:8080/"
        },
        "outputId": "c5af4084-653d-4b74-e71d-cf236e86998b"
      },
      "source": [
        "# Tab example\n",
        "two_line_string = '\\tHello  world \\n A new line'\n",
        "print(two_line_string)"
      ],
      "execution_count": null,
      "outputs": [
        {
          "output_type": "stream",
          "text": [
            "\tHello  world \n",
            " A new line\n"
          ],
          "name": "stdout"
        }
      ]
    },
    {
      "cell_type": "markdown",
      "metadata": {
        "id": "DxVKoiObmvmC"
      },
      "source": [
        "#### Concatenating (combining) \n",
        "Sometimes we want to combine strings. There are many ways of doing it. \n",
        "\n",
        "A fast and easy-to-read way is using the plus **```+```** operator."
      ]
    },
    {
      "cell_type": "code",
      "metadata": {
        "id": "M6JPETLYmvmC",
        "colab": {
          "base_uri": "https://localhost:8080/"
        },
        "outputId": "1a8da535-6f57-4031-fa00-5fe30baa3165"
      },
      "source": [
        "name = \"Burak\"\n",
        "surname = \"Gür\" \n",
        "\n",
        "\n",
        "fullname = name + surname # Just joining them together\n",
        "fullname_nice = name + ' ' + surname # Joining with a space\n",
        "\n",
        "\n",
        "print(fullname)\n",
        "print(fullname_nice)"
      ],
      "execution_count": null,
      "outputs": [
        {
          "output_type": "stream",
          "text": [
            "BurakGür\n",
            "Burak Gür\n"
          ],
          "name": "stdout"
        }
      ]
    },
    {
      "cell_type": "markdown",
      "metadata": {
        "id": "FWbDIxwXmvmO"
      },
      "source": [
        "#### String formatting\n",
        "An easier way of concatenating is with the f strings.\n",
        "\n"
      ]
    },
    {
      "cell_type": "code",
      "metadata": {
        "id": "vrY2cND5mvmP",
        "colab": {
          "base_uri": "https://localhost:8080/",
          "height": 36
        },
        "outputId": "f51b089c-925d-4115-8b7b-f911f340db48"
      },
      "source": [
        "name = \"Burak\"\n",
        "surname = \"Gürr\"\n",
        "age = 29\n",
        "\n",
        "\n",
        "print(f'My name is {name}, my surname is {surname}, my age is {age}')"
      ],
      "execution_count": null,
      "outputs": [
        {
          "output_type": "execute_result",
          "data": {
            "application/vnd.google.colaboratory.intrinsic+json": {
              "type": "string"
            },
            "text/plain": [
              "'My name is Burak, my surname is Gur, my age next year is 30'"
            ]
          },
          "metadata": {
            "tags": []
          },
          "execution_count": 32
        }
      ]
    },
    {
      "cell_type": "markdown",
      "metadata": {
        "id": "VSVBnMflvZkr"
      },
      "source": [
        "We can even do operations within the f strings. "
      ]
    },
    {
      "cell_type": "code",
      "metadata": {
        "colab": {
          "base_uri": "https://localhost:8080/",
          "height": 36
        },
        "id": "CHG8or1tvcCa",
        "outputId": "a9227fd6-ba66-4e83-ac03-0d1dd8e78416"
      },
      "source": [
        "print(f'My age in 10 years is {age+10}') "
      ],
      "execution_count": null,
      "outputs": [
        {
          "output_type": "execute_result",
          "data": {
            "application/vnd.google.colaboratory.intrinsic+json": {
              "type": "string"
            },
            "text/plain": [
              "'My age in 2 years is 31'"
            ]
          },
          "metadata": {
            "tags": []
          },
          "execution_count": 6
        }
      ]
    },
    {
      "cell_type": "markdown",
      "metadata": {
        "id": "N8UKcosuvrWy"
      },
      "source": [
        "Some more info [here](https://realpython.com/python-f-strings/)."
      ]
    },
    {
      "cell_type": "markdown",
      "metadata": {
        "id": "0YwpSRbXqhs1"
      },
      "source": [
        "<a name=\"bool\"></a>\n",
        "###Booleans\n",
        "\n",
        "Booleans are data that can vary between only two values (binary) e.g. **0-1** or **True-False**"
      ]
    },
    {
      "cell_type": "code",
      "metadata": {
        "id": "yfST9cXyqlIc"
      },
      "source": [
        "# Example of boolean\n",
        "name = \"Burak\"\n",
        "surname = \"Gur\"\n",
        "age = 29\n",
        "is_student = True\n",
        "is_female = False"
      ],
      "execution_count": null,
      "outputs": []
    },
    {
      "cell_type": "markdown",
      "metadata": {
        "id": "b2HtvueLHsMw"
      },
      "source": [
        "We can use logical operators (```and```, ```or```, ```not```) to work with them. \n",
        "\n",
        "\n"
      ]
    },
    {
      "cell_type": "code",
      "metadata": {
        "id": "cVrepAjoHxZl",
        "colab": {
          "base_uri": "https://localhost:8080/"
        },
        "outputId": "d7bbf55d-5fa7-4279-b925-d21682d6fa29"
      },
      "source": [
        "# Is Burak student and female?\n",
        "is_student and is_female"
      ],
      "execution_count": null,
      "outputs": [
        {
          "output_type": "execute_result",
          "data": {
            "text/plain": [
              "False"
            ]
          },
          "metadata": {
            "tags": []
          },
          "execution_count": 9
        }
      ]
    },
    {
      "cell_type": "code",
      "metadata": {
        "colab": {
          "base_uri": "https://localhost:8080/"
        },
        "id": "k408QUTJzPqB",
        "outputId": "8c3e7916-dedd-46ff-e49b-0c9df3b5527a"
      },
      "source": [
        "# Is Burak student or female?\n",
        "is_student or is_female"
      ],
      "execution_count": null,
      "outputs": [
        {
          "output_type": "execute_result",
          "data": {
            "text/plain": [
              "True"
            ]
          },
          "metadata": {
            "tags": []
          },
          "execution_count": 10
        }
      ]
    },
    {
      "cell_type": "markdown",
      "metadata": {
        "id": "ql_v8nSEzgyO"
      },
      "source": [
        "More about booleans: [realpython - booleans](https://realpython.com/python-boolean/)"
      ]
    },
    {
      "cell_type": "markdown",
      "metadata": {
        "id": "V734qOpGmvmo"
      },
      "source": [
        "<a name=\"type_conv\"></a>\n",
        "##**4.5 Converting types**\n",
        "Sometimes we want to convert the types of variables in order to work with other types of variables."
      ]
    },
    {
      "cell_type": "markdown",
      "metadata": {
        "id": "I1kwPSkbtFtE"
      },
      "source": [
        "For example: when we read text data and want to do calculations:"
      ]
    },
    {
      "cell_type": "code",
      "metadata": {
        "colab": {
          "base_uri": "https://localhost:8080/",
          "height": 207
        },
        "id": "ah2svJZltJf4",
        "outputId": "f8d9f1e1-186c-4552-d35f-e7b0ce26201d"
      },
      "source": [
        "distance = \"300.6\" # km\n",
        "time = \"4.1\" # hours\n",
        "\n",
        "speed = distance / time"
      ],
      "execution_count": null,
      "outputs": [
        {
          "output_type": "error",
          "ename": "TypeError",
          "evalue": "ignored",
          "traceback": [
            "\u001b[0;31m---------------------------------------------------------------------------\u001b[0m",
            "\u001b[0;31mTypeError\u001b[0m                                 Traceback (most recent call last)",
            "\u001b[0;32m<ipython-input-11-26a969b1566e>\u001b[0m in \u001b[0;36m<module>\u001b[0;34m()\u001b[0m\n\u001b[1;32m      2\u001b[0m \u001b[0mtime\u001b[0m \u001b[0;34m=\u001b[0m \u001b[0;34m\"4.1\"\u001b[0m \u001b[0;31m# hours\u001b[0m\u001b[0;34m\u001b[0m\u001b[0;34m\u001b[0m\u001b[0m\n\u001b[1;32m      3\u001b[0m \u001b[0;34m\u001b[0m\u001b[0m\n\u001b[0;32m----> 4\u001b[0;31m \u001b[0mspeed\u001b[0m \u001b[0;34m=\u001b[0m \u001b[0mdistance\u001b[0m \u001b[0;34m/\u001b[0m \u001b[0mtime\u001b[0m\u001b[0;34m\u001b[0m\u001b[0;34m\u001b[0m\u001b[0m\n\u001b[0m",
            "\u001b[0;31mTypeError\u001b[0m: unsupported operand type(s) for /: 'str' and 'str'"
          ]
        }
      ]
    },
    {
      "cell_type": "markdown",
      "metadata": {
        "id": "6-nEQmUGscC1"
      },
      "source": [
        "We can't do calculations with strings!\n",
        "\n",
        "We can convert types of data to each other by using **the target type name**:"
      ]
    },
    {
      "cell_type": "code",
      "metadata": {
        "colab": {
          "base_uri": "https://localhost:8080/"
        },
        "id": "gK0ubylctrky",
        "outputId": "6bd90563-1d38-4b5b-b34b-2187ce448ab1"
      },
      "source": [
        "speed = float(distance) / float(time)\n",
        "print(\"Speed is\", speed, \" km/h\")\n",
        "print(\"'speed' type is now: \",type(speed))"
      ],
      "execution_count": null,
      "outputs": [
        {
          "output_type": "stream",
          "text": [
            "Speed is 73.31707317073172  km/h\n",
            "'speed' type is now:  <class 'float'>\n"
          ],
          "name": "stdout"
        }
      ]
    },
    {
      "cell_type": "markdown",
      "metadata": {
        "id": "EfFUTjVBt6AN"
      },
      "source": [
        "#### **Watch out!**\n",
        "\n",
        "Be careful of not using an improper data type for your conversion. Python will catch this but it is always good to be aware.\n",
        "\n",
        "e.g. if you convert 300.6 to an ```int``` - but remember, an integer can not handle decimals."
      ]
    },
    {
      "cell_type": "code",
      "metadata": {
        "colab": {
          "base_uri": "https://localhost:8080/",
          "height": 171
        },
        "id": "zTf37GZIuNwr",
        "outputId": "f05274a3-9b97-46ff-b8e3-786d810d139b"
      },
      "source": [
        "print(\"Distance\", distance, \"as int: \", int(distance))"
      ],
      "execution_count": null,
      "outputs": [
        {
          "output_type": "error",
          "ename": "ValueError",
          "evalue": "ignored",
          "traceback": [
            "\u001b[0;31m---------------------------------------------------------------------------\u001b[0m",
            "\u001b[0;31mValueError\u001b[0m                                Traceback (most recent call last)",
            "\u001b[0;32m<ipython-input-5-e82181125db0>\u001b[0m in \u001b[0;36m<module>\u001b[0;34m()\u001b[0m\n\u001b[0;32m----> 1\u001b[0;31m \u001b[0mprint\u001b[0m\u001b[0;34m(\u001b[0m\u001b[0;34m\"Distance\"\u001b[0m\u001b[0;34m,\u001b[0m \u001b[0mdistance\u001b[0m\u001b[0;34m,\u001b[0m \u001b[0;34m\"as int: \"\u001b[0m\u001b[0;34m,\u001b[0m \u001b[0mint\u001b[0m\u001b[0;34m(\u001b[0m\u001b[0mdistance\u001b[0m\u001b[0;34m)\u001b[0m\u001b[0;34m)\u001b[0m\u001b[0;34m\u001b[0m\u001b[0;34m\u001b[0m\u001b[0m\n\u001b[0m",
            "\u001b[0;31mValueError\u001b[0m: invalid literal for int() with base 10: '300.6'"
          ]
        }
      ]
    },
    {
      "cell_type": "markdown",
      "metadata": {
        "id": "_1LYOvS97Mxp"
      },
      "source": [
        "---\n",
        "<a name=\"ex2\"></a>\n",
        "##**Exercises II**"
      ]
    },
    {
      "cell_type": "markdown",
      "metadata": {
        "id": "J3huoAl2ILHV"
      },
      "source": [
        "### Exercise 2.1\n",
        "Check the type of the following variables and print them. Optional: try printing with and without f strings."
      ]
    },
    {
      "cell_type": "code",
      "metadata": {
        "id": "y3e2B3tLIO4W"
      },
      "source": [
        "a = 1\n",
        "b = 2.5\n",
        "c = \"TReND\"\n",
        "d = False"
      ],
      "execution_count": null,
      "outputs": []
    },
    {
      "cell_type": "code",
      "metadata": {
        "id": "noAu-rL47OML"
      },
      "source": [
        "# Insert your code here"
      ],
      "execution_count": null,
      "outputs": []
    },
    {
      "cell_type": "code",
      "metadata": {
        "id": "W_DtrhOXIZPj",
        "colab": {
          "base_uri": "https://localhost:8080/",
          "height": 244
        },
        "cellView": "form",
        "outputId": "46501174-9646-4590-f713-8e77ae3c18d2"
      },
      "source": [
        "#@title Double click here for the solution\n",
        "# Solution 1\n",
        "print(\"a is \", type(a))\n",
        "print(\"b is \", type(b))\n",
        "print(\"c is \", type(c))\n",
        "print(\"d is \", type(d))\n",
        "\n",
        "# Solution 2\n",
        "print(f\"a is {type(a)}\")\n",
        "print(f\"b is {type(b)}\")\n",
        "print(f\"c is {type(c)}\")\n",
        "print(f\"d is {type(d)}\")"
      ],
      "execution_count": null,
      "outputs": [
        {
          "output_type": "error",
          "ename": "NameError",
          "evalue": "ignored",
          "traceback": [
            "\u001b[0;31m---------------------------------------------------------------------------\u001b[0m",
            "\u001b[0;31mNameError\u001b[0m                                 Traceback (most recent call last)",
            "\u001b[0;32m<ipython-input-9-1d0b9209a120>\u001b[0m in \u001b[0;36m<module>\u001b[0;34m()\u001b[0m\n\u001b[1;32m      1\u001b[0m \u001b[0;31m#@title Double click here for the solution\u001b[0m\u001b[0;34m\u001b[0m\u001b[0;34m\u001b[0m\u001b[0;34m\u001b[0m\u001b[0m\n\u001b[1;32m      2\u001b[0m \u001b[0;31m# Solution 1\u001b[0m\u001b[0;34m\u001b[0m\u001b[0;34m\u001b[0m\u001b[0;34m\u001b[0m\u001b[0m\n\u001b[0;32m----> 3\u001b[0;31m \u001b[0mprint\u001b[0m\u001b[0;34m(\u001b[0m\u001b[0;34m\"a is \"\u001b[0m\u001b[0;34m,\u001b[0m \u001b[0mtype\u001b[0m\u001b[0;34m(\u001b[0m\u001b[0ma\u001b[0m\u001b[0;34m)\u001b[0m\u001b[0;34m)\u001b[0m\u001b[0;34m\u001b[0m\u001b[0;34m\u001b[0m\u001b[0m\n\u001b[0m\u001b[1;32m      4\u001b[0m \u001b[0mprint\u001b[0m\u001b[0;34m(\u001b[0m\u001b[0;34m\"b is \"\u001b[0m\u001b[0;34m,\u001b[0m \u001b[0mtype\u001b[0m\u001b[0;34m(\u001b[0m\u001b[0mb\u001b[0m\u001b[0;34m)\u001b[0m\u001b[0;34m)\u001b[0m\u001b[0;34m\u001b[0m\u001b[0;34m\u001b[0m\u001b[0m\n\u001b[1;32m      5\u001b[0m \u001b[0mprint\u001b[0m\u001b[0;34m(\u001b[0m\u001b[0;34m\"c is \"\u001b[0m\u001b[0;34m,\u001b[0m \u001b[0mtype\u001b[0m\u001b[0;34m(\u001b[0m\u001b[0mc\u001b[0m\u001b[0;34m)\u001b[0m\u001b[0;34m)\u001b[0m\u001b[0;34m\u001b[0m\u001b[0;34m\u001b[0m\u001b[0m\n",
            "\u001b[0;31mNameError\u001b[0m: name 'a' is not defined"
          ]
        }
      ]
    },
    {
      "cell_type": "markdown",
      "metadata": {
        "id": "4-fuCh_IOaLl"
      },
      "source": [
        "### Exercise 2.2\n",
        "Create a multi-line string and add your name, age, favorite sports and favorite food to each line.\n"
      ]
    },
    {
      "cell_type": "code",
      "metadata": {
        "id": "cJ0nlMOjPQhg"
      },
      "source": [
        "# Insert your code here"
      ],
      "execution_count": null,
      "outputs": []
    },
    {
      "cell_type": "code",
      "metadata": {
        "colab": {
          "base_uri": "https://localhost:8080/"
        },
        "cellView": "form",
        "id": "r4BXahRuPStK",
        "outputId": "9e124821-6626-4a94-c561-325edb6be61c"
      },
      "source": [
        "#@title Double click here for the solution\n",
        "multi_string = ''' \n",
        "Burak\n",
        "29\n",
        "Climbing\n",
        "Dolma (a turkish food)\n",
        "''' \n",
        "print(multi_string)"
      ],
      "execution_count": null,
      "outputs": [
        {
          "output_type": "stream",
          "text": [
            " \n",
            "Burak\n",
            "29\n",
            "Climbing\n",
            "Dolma (a turkish food)\n",
            "\n"
          ],
          "name": "stdout"
        }
      ]
    },
    {
      "cell_type": "markdown",
      "metadata": {
        "id": "tw4w_zowIzDh"
      },
      "source": [
        "### Exercise 2.3\n",
        "1. Create a variable named ```my_age``` and assign its value to your age but in string type.\n",
        "2. Create a variable named ```my_age_int``` and assign its value to your age by converting ```my_age``` to an integer.\n",
        "3. Print your ```my_age``` and ```my_age_int``` and their types."
      ]
    },
    {
      "cell_type": "code",
      "metadata": {
        "id": "KpSPHVWFJPzf"
      },
      "source": [
        "# Insert your code here"
      ],
      "execution_count": null,
      "outputs": []
    },
    {
      "cell_type": "code",
      "metadata": {
        "id": "PGuAalanJWCa",
        "colab": {
          "base_uri": "https://localhost:8080/"
        },
        "outputId": "e40c2a8f-371b-4a2b-da23-ef9650c33a37"
      },
      "source": [
        "#@title Double click here for the solution\n",
        "my_age = \"29\"\n",
        "my_age_int = int(my_age)\n",
        "print(f\"my_age is {my_age} and its type is {type(my_age)}\")\n",
        "print(f\"my_age_int is {my_age_int} and its type is {type(my_age_int)}\")"
      ],
      "execution_count": null,
      "outputs": [
        {
          "output_type": "stream",
          "text": [
            "my_age is 29 and its type is <class 'int'>\n",
            "my_age_int is 29 and its type is <class 'int'>\n"
          ],
          "name": "stdout"
        }
      ]
    },
    {
      "cell_type": "markdown",
      "metadata": {
        "id": "B9Tx_X3JJ-WN"
      },
      "source": [
        "### Exercise 2.4\n",
        "1. Try to convert the string ```a``` to an integer.\n",
        "2. Check the error message and identify what went wrong.\n",
        "3. Convert the string ```a``` to an appropriate type."
      ]
    },
    {
      "cell_type": "code",
      "metadata": {
        "id": "sYebv7h_KMtJ"
      },
      "source": [
        "a = \"100.6\"\n",
        "# Insert your code here"
      ],
      "execution_count": null,
      "outputs": []
    },
    {
      "cell_type": "code",
      "metadata": {
        "id": "Xpc865EzKaND",
        "cellView": "form"
      },
      "source": [
        "#@title Double click here for the solution\n",
        "a = \"100.6\"\n",
        "\n",
        "int(a) # Doesn't work delete this line afterwards\n",
        "\n",
        "# Float is the appropriate type\n",
        "float(a)"
      ],
      "execution_count": null,
      "outputs": []
    }
  ]
}