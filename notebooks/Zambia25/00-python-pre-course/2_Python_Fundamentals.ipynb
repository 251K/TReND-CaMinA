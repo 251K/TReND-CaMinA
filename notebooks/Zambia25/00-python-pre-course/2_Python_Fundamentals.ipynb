{
 "cells": [
  {
   "cell_type": "markdown",
   "id": "bdcd6685-078f-4092-a2ca-f5d25d4a316f",
   "metadata": {
    "colab_type": "text",
    "id": "view-in-github"
   },
   "source": [
    "<a href=\"https://colab.research.google.com/github/trendinafrica/TReND-CaMinA/blob/main/notebooks/Zambia25/00-python-pre-course/2_Python_Fundamentals.ipynb\" target=\"_parent\"><img src=\"https://colab.research.google.com/assets/colab-badge.svg\" alt=\"Open In Colab\"/></a>"
   ]
  },
  {
   "cell_type": "markdown",
   "id": "df3fc986-92f3-4bbf-b3d5-303098180008",
   "metadata": {
    "id": "ePY07QMa8OGm"
   },
   "source": [
    "<a name=\"PythonIntro\"></a>\n",
    "# Programming with Python – Review of fundamentals\n",
    "\n",
    "Python tutorial and learning resources\n",
    "\n"
   ]
  },
  {
   "cell_type": "markdown",
   "id": "40401e92-d270-40b8-bbbf-75144430aef1",
   "metadata": {
    "id": "aR7LlA5bb0RF"
   },
   "source": [
    "## TReND Python School: Introduction to Python\n",
    "The following tutorial is prepared by the [TReND Python Course](https://trendinafrica.org/python-course/):\n",
    "\n",
    "Content creators:\n",
    "Burak Gür, Foutse Yuehgoh, Adejoke Elizabeth Memudu, Florian Birk"
   ]
  },
  {
   "cell_type": "markdown",
   "id": "1ca2a802-b16b-4c94-9ec4-a554eeab41b5",
   "metadata": {
    "id": "hVWtWsJgmvj3"
   },
   "source": [
    "\n",
    "\n",
    "### Overview:\n",
    "#### - 3.1 [Python as a calculator](#calculator)\n",
    "#### - 3.2 [Storing data: Variables](#var)\n",
    "#### - 3.3. [Data types](#datype)\n",
    "##### - [**integers**](#int) - for numbers without decimals\n",
    "##### - [**floats**](#float) - for numbers with decimals\n",
    "##### - [**strings**](#str) - for characters, words etc.\n",
    "##### - [**booleans**](#bool) - for binary (True or False, 1 or 0)\n",
    "#### - 3.4 [Lists, loops, conditionals](#for)\n",
    "#### - 3.5 [Errors](#err)\n",
    "\n"
   ]
  },
  {
   "cell_type": "markdown",
   "id": "e9a8bb69-c838-4df8-bfda-f4e10458dc52",
   "metadata": {
    "id": "5hpGUfNHmvj6"
   },
   "source": [
    "---\n",
    "<a name=\"calculator\"></a>\n",
    "##**3.1 Python as a calculator**\n",
    "Python can be used as a calculator. And basic mathematical operations can be easily done using **Python operators** (pre defined symbols for doing operations between values or variables).\n",
    "\n",
    "| Operator | Name    |\n",
    "|------|------|\n",
    "|```+```  | Addition|\n",
    "|```-```  | Subtraction|\n",
    "|```*```  | Multiplication|\n",
    "|```/```  | Division|\n",
    "|```**```  | Exponentiation|\n",
    "|```%```  | Modulus|\n"
   ]
  },
  {
   "cell_type": "code",
   "execution_count": null,
   "id": "8aeaa7b2-6c05-469e-a023-6bb3077f6215",
   "metadata": {
    "id": "0DmPREi8TqJJ"
   },
   "outputs": [],
   "source": [
    "#Live code (add 1 to 5)"
   ]
  },
  {
   "cell_type": "code",
   "execution_count": null,
   "id": "c80a6c7c-eaac-4828-9816-9574b0547ce3",
   "metadata": {
    "cellView": "form",
    "id": "UuYUjbie_j-7"
   },
   "outputs": [],
   "source": [
    "#@title  Double click for solution\n",
    "# add 1 to 5\n",
    "1+5"
   ]
  },
  {
   "cell_type": "code",
   "execution_count": null,
   "id": "19682616-bb9f-4fa2-a526-45efceba2d93",
   "metadata": {
    "id": "wGxpNEnxmvkC"
   },
   "outputs": [],
   "source": [
    "#Live code (Multiple 2 by  3)"
   ]
  },
  {
   "cell_type": "code",
   "execution_count": null,
   "id": "0c5590f9-c1f5-4119-8c72-0c5820fd279d",
   "metadata": {
    "cellView": "form",
    "id": "eQ_5xVSPBW0J"
   },
   "outputs": [],
   "source": [
    "#@title  Double click for solution\n",
    "#Live code (Multiple 2 by  3)\n",
    "2*3"
   ]
  },
  {
   "cell_type": "code",
   "execution_count": null,
   "id": "febc802f-f8a3-4197-84bc-617db3547773",
   "metadata": {
    "id": "imE1JikBmvkJ"
   },
   "outputs": [],
   "source": [
    "#Live code (cube of 2)"
   ]
  },
  {
   "cell_type": "code",
   "execution_count": null,
   "id": "8036ec85-e6d9-40e0-8cff-fb6a605e5098",
   "metadata": {
    "cellView": "form",
    "id": "M121ESeoBePF"
   },
   "outputs": [],
   "source": [
    "#@title  Double click for solution\n",
    "#Live code (cube of 2)\n",
    "2**2"
   ]
  },
  {
   "cell_type": "code",
   "execution_count": null,
   "id": "53aba84d-e2dd-4c46-898d-144ac1c17c2a",
   "metadata": {
    "id": "3ZwWfEqRmvkQ"
   },
   "outputs": [],
   "source": [
    "#Live code (49 modules 24)"
   ]
  },
  {
   "cell_type": "code",
   "execution_count": null,
   "id": "b1385ca7-06dd-492f-bca2-5c057471f234",
   "metadata": {
    "cellView": "form",
    "id": "3F7HtNTQBo6h"
   },
   "outputs": [],
   "source": [
    "#@title  Double click for solution\n",
    "#Live code of  49 modules 24\n",
    "49%24"
   ]
  },
  {
   "cell_type": "markdown",
   "id": "408ccb75-b231-43b7-b92c-e505d1bd8e4b",
   "metadata": {
    "id": "omzbU-4amvkk"
   },
   "source": [
    "---\n",
    "<a name=\"var\"></a>\n",
    "##**3.2 Storing data: Variables**\n",
    "\n",
    "Variables are used to **store** data (also known as **value** in programming) of any sort.\n",
    "\n",
    "You can think of them as a depot where you put data inside and each depot has its unique name:\n",
    "\n",
    "<img src= \"https://github.com/birkfl/TReND/blob/main/Python_Workshop2022/img/variable1.svg?raw=true\" height =\"300px\">\n",
    "\n",
    "- **Name** of the variable: The unique name that identifies this storage space.\n",
    "- **Value** of the variable: Data that is stored inside this space.\n",
    "- **Type** of the variable: Data type that is stored inside this space.\n",
    "\n",
    "**Data types will be part of the next section!**\n",
    "\n",
    "\n"
   ]
  },
  {
   "cell_type": "markdown",
   "id": "455fa1f6-dea7-40d3-8ae0-8858b3aedb2a",
   "metadata": {
    "id": "rTeyPbr8IOmy"
   },
   "source": [
    "### Creating variables: Assignments\n",
    "Variables are created with an assignment statement. The syntax (kind of grammar) of variable assignment is:\n",
    "\n",
    "```variable_name = a value``` (or an expression e.g., ```1+1```)"
   ]
  },
  {
   "cell_type": "code",
   "execution_count": null,
   "id": "46526a89-183d-477c-9721-b94330441845",
   "metadata": {
    "id": "XLkbFyesC5f4"
   },
   "outputs": [],
   "source": [
    "# Live code (Define variables \"year\", \"language\", \"coding minutes\")"
   ]
  },
  {
   "cell_type": "code",
   "execution_count": null,
   "id": "7a4a3464-9e84-4866-b98d-2b2826ca17cb",
   "metadata": {
    "cellView": "form",
    "id": "pAa5_9YQmvkl"
   },
   "outputs": [],
   "source": [
    "#@title  Double click for solution\n",
    "# Define variables \"year\", \"language\", \"coding minutes\"\n",
    "year = 2022           # year\n",
    "language = \"Python\"   # Programming language\n",
    "coding_minutes = 1550 # minutes of coding"
   ]
  },
  {
   "cell_type": "markdown",
   "id": "4b1c7da1-534c-4b20-ba95-e11c92f4c8ea",
   "metadata": {
    "id": "EmhSSvbHmvkq"
   },
   "source": [
    "<img src= \"https://github.com/birkfl/TReND/blob/main/Python_Workshop2022/img/variable_assign.svg?raw=true\" height =\"300px\">\n",
    "\n",
    "\n",
    "We just *defined* variables by assigning values to each of them. Now we can use them.\n",
    "\n",
    "How many **hours** did we spend **coding** this year?"
   ]
  },
  {
   "cell_type": "markdown",
   "id": "713a2ac6-590e-40ff-841b-197a3834e9ad",
   "metadata": {
    "id": "b-i-enJqGD7k"
   },
   "source": [
    "<img src= \"https://github.com/birkfl/TReND/blob/main/Python_Workshop2022/img/variable_divide.svg?raw=true\" height =\"300px\">\n",
    "\n"
   ]
  },
  {
   "cell_type": "code",
   "execution_count": null,
   "id": "a0361e09-c8c7-4258-a531-9213e47f150b",
   "metadata": {
    "id": "jtITc48hDiRS"
   },
   "outputs": [],
   "source": [
    "#Live code (How many hours did I spend with coding in the year 2022? Print the answer!)"
   ]
  },
  {
   "cell_type": "code",
   "execution_count": null,
   "id": "0e290687-afd8-4cd8-b38b-8e5865bf2185",
   "metadata": {
    "cellView": "form",
    "id": "B7_BrPLfDbDE"
   },
   "outputs": [],
   "source": [
    "#@title  Double click for solution\n",
    "#Live code How many hours did I spend with coding in the year 2022? Print the answer!\n",
    "coding_hours = coding_minutes / 60\n",
    "print(\"Hours of coding in 2022:\", coding_hours)"
   ]
  },
  {
   "cell_type": "markdown",
   "id": "4492a7bb-289f-42c1-9869-89aabb4db709",
   "metadata": {
    "id": "cNs9q-kzmvk9"
   },
   "source": [
    "---\n",
    "<a name=\"datype\"></a>\n",
    "##**3.3 Data types**\n",
    "    \n",
    "Data can have different types.\n",
    "\n",
    "For example:\n",
    "\n",
    "<img src= \"https://github.com/birkfl/TReND/blob/main/Python_Workshop2022/img/variable_types.svg?raw=true\" width =\"600px\">\n",
    "\n",
    "Python's most common data types are:\n",
    "\n",
    "**For numbers:**\n",
    "- [integers](#int) (for storing integers - whole numbers - e.g. 2)\n",
    "\n",
    "\n",
    "- [floats](#float) (for storing numbers with fractions e.g. 1.0025)\n",
    "\n",
    "**For characters (text):**\n",
    "- [strings](#str) (for characters, words etc.)\n",
    "\n",
    "**For logicals (1, 0 - True, False)**:\n",
    "- [booleans](#bool) (binary data: True or False)\n",
    "\n",
    "\n",
    "Note: Data types to store multiple data points (arrays, lists etc.) will be covered in the tutorial *Theory 3*!"
   ]
  },
  {
   "cell_type": "markdown",
   "id": "02cff460-0ff0-4566-8981-73b7270fca39",
   "metadata": {
    "id": "3KTHnvqfmvk9"
   },
   "source": [
    "<a name=\"int\"></a>\n",
    "### **Integers**\n"
   ]
  },
  {
   "cell_type": "markdown",
   "id": "ccdce269-9f31-4460-8aba-72d1842acfa1",
   "metadata": {
    "id": "qsI43Ug8UvCk"
   },
   "source": [
    "Below are some examples of integers"
   ]
  },
  {
   "cell_type": "code",
   "execution_count": null,
   "id": "b998fe18-1046-4074-bc82-95b4594ea01b",
   "metadata": {
    "id": "-7LmZYJTmvk_"
   },
   "outputs": [],
   "source": [
    "# Live code (Example of integer. How old are you? When have you been born? Print each answer in a sentence)"
   ]
  },
  {
   "cell_type": "code",
   "execution_count": null,
   "id": "b6d91b04-8ee1-492a-a385-ed7f5b38015e",
   "metadata": {
    "cellView": "form",
    "id": "tkm6cLYjEmvZ"
   },
   "outputs": [],
   "source": [
    "#@title  Double click for solution\n",
    "# Live code - Example of integer. How old are you? When have you been born?\n",
    "age = 27\n",
    "birthyear = 1995\n",
    "\n",
    "print(\"I am\", age, \"years old.\")\n",
    "print(\"I was born in\", birthyear)"
   ]
  },
  {
   "cell_type": "markdown",
   "id": "a8dd03f0-478f-48ab-af48-2462247121b2",
   "metadata": {
    "id": "JhQl609rmvlE"
   },
   "source": [
    "We can check the type of variables by using the ```type()``` function:"
   ]
  },
  {
   "cell_type": "code",
   "execution_count": null,
   "id": "9ed65f64-3d29-4db1-b187-48cc05f264b5",
   "metadata": {
    "id": "AUGoRN2emvlF"
   },
   "outputs": [],
   "source": [
    "# Live code (Print the data type of the age variable)"
   ]
  },
  {
   "cell_type": "code",
   "execution_count": null,
   "id": "d9417f04-7141-4fb6-a2f5-12bc05e1adbd",
   "metadata": {
    "cellView": "form",
    "id": "hFWxk7Q_E7eu"
   },
   "outputs": [],
   "source": [
    "#@title  Double click for solution\n",
    "# Live code - Print the data type of the age variable\n",
    "print(type(age))"
   ]
  },
  {
   "cell_type": "markdown",
   "id": "6b8cb9de-5f4d-4fd7-b265-60675a9e62c2",
   "metadata": {
    "id": "e8owah9mVQOS"
   },
   "source": [
    "It will print out: <class 'int'> meaning that the type (you call data types \"class\") is integer."
   ]
  },
  {
   "cell_type": "markdown",
   "id": "a932d095-f516-4212-ac59-d3d9eae61436",
   "metadata": {
    "id": "QrTbeVq-mvll"
   },
   "source": [
    "<a name=\"float\"></a>\n",
    "### **Floats**\n",
    "**Floating point number** (Float) is a way of representing a non-integer real number with a computer.\n"
   ]
  },
  {
   "cell_type": "code",
   "execution_count": null,
   "id": "92b28760-9874-4365-b361-fe50895742b2",
   "metadata": {
    "id": "dMWK7nTimvll"
   },
   "outputs": [],
   "source": [
    "# Live code (Let's calculate my speed from home to work, assign variables distance (km) and time (minutes))"
   ]
  },
  {
   "cell_type": "code",
   "execution_count": null,
   "id": "96ff95b3-f6e0-4811-ba3a-778fc23d07c5",
   "metadata": {
    "cellView": "form",
    "id": "BTvqHEaEFgDT"
   },
   "outputs": [],
   "source": [
    "#@title  Double click for solution\n",
    "# Live code - Let's calculate my speed from home to work\n",
    "distance = 3 # in kms\n",
    "time = 7 # in minutes"
   ]
  },
  {
   "cell_type": "code",
   "execution_count": null,
   "id": "05b48e75-d141-43a8-b517-947055969579",
   "metadata": {
    "id": "0WB5GNguBD65"
   },
   "outputs": [],
   "source": [
    "#Live code (store distance/(time/60) in a variable called speed. Print out the average speed from work and the variable type of  speed)"
   ]
  },
  {
   "cell_type": "code",
   "execution_count": null,
   "id": "84fe0153-d3c3-40d6-84ad-5c8d63951431",
   "metadata": {
    "cellView": "form",
    "id": "0l0CKdSXFrK2"
   },
   "outputs": [],
   "source": [
    "#@title  Double click for solution\n",
    "#Live code - (store distance/(time/60) in a variable called speed. Print out the average speed from work and the variable type of  speed)\n",
    "speed = distance/(time/60) # km/h\n",
    "print(\"My average speed from home to work is: \", speed, \"km/h\")\n",
    "print(\"'speed' variable's value is \", type(speed))"
   ]
  },
  {
   "cell_type": "markdown",
   "id": "e2947574-e7fb-4fda-a1ff-a3ccd38cfda5",
   "metadata": {
    "id": "CpmMXtvdmvlp"
   },
   "source": [
    "<a name=\"str\"></a>\n",
    "### **Strings**\n",
    "\n",
    "What if we want to store characters instead of numbers? Usually we want to store a set of characters instead of storing each character 1 by 1 (like instead of storing - n, a, m, e - we want to store them together as -name-). This is called a string of characters. That's why the type is also called **string**."
   ]
  },
  {
   "cell_type": "markdown",
   "id": "7f22dc6c-7e1d-4f9a-a215-28b7f5432bbf",
   "metadata": {
    "id": "yJX3i2Gimvly"
   },
   "source": [
    "- We should use **double quotes ```\" __ \"``` or single quotes ```' __ '```** when limiting a string.\n",
    "\n"
   ]
  },
  {
   "cell_type": "code",
   "execution_count": null,
   "id": "b89f021f-4daa-40bb-b3ae-e4a499b91e55",
   "metadata": {
    "id": "lJK9sAoTmvlq"
   },
   "outputs": [],
   "source": [
    "# Live code (create and print your variable name and country)"
   ]
  },
  {
   "cell_type": "code",
   "execution_count": null,
   "id": "0595e3ae-defe-4374-87a5-20e5afd05cab",
   "metadata": {
    "cellView": "form",
    "id": "HQtfsqTAF5ne"
   },
   "outputs": [],
   "source": [
    "#@title  Double click for solution\n",
    "# Live code - Some string examples\n",
    "name = \"Florian\"\n",
    "country = 'Germany'\n",
    "\n",
    "print(name, \"is from\", country)"
   ]
  },
  {
   "cell_type": "code",
   "execution_count": null,
   "id": "938ce12c-eb13-45e7-9861-a34eeee03c9a",
   "metadata": {
    "id": "M6JPETLYmvmC"
   },
   "outputs": [],
   "source": [
    "# Live code (Let's concatenate two string variables. Define your name and surname as strings and concatenate them with the + operator)"
   ]
  },
  {
   "cell_type": "code",
   "execution_count": null,
   "id": "19595687-0f9f-4cf0-b8e1-32f84d2b1288",
   "metadata": {
    "cellView": "form",
    "id": "VdbtG3Z-GrSD"
   },
   "outputs": [],
   "source": [
    "#@title  Double click for solution\n",
    "# The plus operator to combine strings\n",
    "name = \"Florian\"\n",
    "surname = \"Birk\"\n",
    "\n",
    "\n",
    "fullname = name + surname # Just joining them together\n",
    "fullname_nice = name + ' ' + surname # Joining with a space\n",
    "\n",
    "\n",
    "print(fullname)\n",
    "print(fullname_nice)"
   ]
  },
  {
   "cell_type": "markdown",
   "id": "a44a7494-3bc1-4e65-ba9e-651c581a528b",
   "metadata": {
    "id": "FWbDIxwXmvmO"
   },
   "source": [
    "#### **String formatting**\n",
    "An easier way of concatenating is with the **f strings** (formatted string literals).\n",
    "\n"
   ]
  },
  {
   "cell_type": "code",
   "execution_count": null,
   "id": "7beaffd7-205a-4174-b655-af1cf22fd321",
   "metadata": {
    "id": "vrY2cND5mvmP"
   },
   "outputs": [],
   "source": [
    "# Live code (Concatenate with f string )"
   ]
  },
  {
   "cell_type": "code",
   "execution_count": null,
   "id": "d48be463-c942-46e2-bcb1-3c3700110bcc",
   "metadata": {
    "cellView": "form",
    "id": "tj2pviutG1bQ"
   },
   "outputs": [],
   "source": [
    "#@title  Double click for solution\n",
    "# Live code - Concatenate with f string\n",
    "name = \"Florian\"\n",
    "surname = \"Birk\"\n",
    "age = 27\n",
    "\n",
    "\n",
    "print(f'My name is {name}, my surname is {surname}, my age is {age}')"
   ]
  },
  {
   "cell_type": "markdown",
   "id": "d2c94a49-4126-43ef-9ad9-a6d22bcbd597",
   "metadata": {
    "id": "0YwpSRbXqhs1"
   },
   "source": [
    "<a name=\"bool\"></a>\n",
    "### **Booleans**\n",
    "\n",
    "Booleans are data that can vary between only two values (binary) e.g. **0-1** or **True-False**\n",
    "\n",
    "Use **capital letters** for boolean variables!"
   ]
  },
  {
   "cell_type": "code",
   "execution_count": null,
   "id": "5ad0da78-16e5-4f75-9a8a-76749ceb038c",
   "metadata": {
    "id": "yfST9cXyqlIc"
   },
   "outputs": [],
   "source": [
    "# Live code (Example of boolean (football), let's create some booleans variables)"
   ]
  },
  {
   "cell_type": "code",
   "execution_count": null,
   "id": "91990c4f-5795-422a-abf2-3fed6e3fe4f1",
   "metadata": {
    "cellView": "form",
    "id": "Uv79IUPCHPBC"
   },
   "outputs": [],
   "source": [
    "#@title  Double click for solution\n",
    "# Live code - Example of boolean (football)\n",
    "name = \"Lionel\"\n",
    "surname = \"Messi\"\n",
    "age = 35\n",
    "is_programmer = False\n",
    "is_footballplayer = True\n",
    "is_argentine = True\n",
    "is_male = True\n",
    "is_thebest = False # False or True ;)"
   ]
  },
  {
   "cell_type": "markdown",
   "id": "3536dade-f928-4db5-afe0-468103c50a10",
   "metadata": {
    "id": "b2HtvueLHsMw"
   },
   "source": [
    "We can use logical operators (```and```, ```or```, ```not```) to work with them.\n",
    "\n",
    "\n"
   ]
  },
  {
   "cell_type": "code",
   "execution_count": null,
   "id": "31434422-2684-4146-a7ec-9a299abb9364",
   "metadata": {
    "id": "cVrepAjoHxZl"
   },
   "outputs": [],
   "source": [
    "# Live code (Is Lionel Messi either a football player or a programmer?)"
   ]
  },
  {
   "cell_type": "code",
   "execution_count": null,
   "id": "4b9ffec9-bcf1-4108-b69d-06258596f301",
   "metadata": {
    "cellView": "form",
    "id": "wAGdrN8aHo6v"
   },
   "outputs": [],
   "source": [
    "#@title  Double click for solution\n",
    "# Live code - Is Lionel Messi either a soccer player or a programmer?\n",
    "is_programmer or is_footballplayer"
   ]
  },
  {
   "cell_type": "code",
   "execution_count": null,
   "id": "c91c708b-aa33-44db-b21a-2d9699c3cd70",
   "metadata": {
    "id": "y8z7x_egkRbv"
   },
   "outputs": [],
   "source": [
    "# Live code (Is Lionel the best football player?)"
   ]
  },
  {
   "cell_type": "code",
   "execution_count": null,
   "id": "342ea2f8-19e1-4109-b22f-ec2ff7de8e85",
   "metadata": {
    "cellView": "form",
    "id": "QUFQNND6H6Yj"
   },
   "outputs": [],
   "source": [
    "#@title  Double click for solution\n",
    "# Live code - Is Lionel the best soccer player?\n",
    "is_footballplayer and is_thebest"
   ]
  },
  {
   "cell_type": "markdown",
   "id": "6527b69a-63bf-42b3-bec2-dbec6583b2f0",
   "metadata": {
    "id": "ql_v8nSEzgyO"
   },
   "source": [
    "More about booleans: [realpython - booleans](https://realpython.com/python-boolean/)"
   ]
  },
  {
   "cell_type": "markdown",
   "id": "5b3e40c5-85d9-4477-a235-460d762cbf22",
   "metadata": {},
   "source": [
    "---\n",
    "<a name=\"loop\"></a>\n",
    "##**3.4 Lists, loops, conditionals**\n",
    "\n",
    "Often, we work with many datapoints at the same time. Python uses **lists**, which are variables that contain collections of objects.\n"
   ]
  },
  {
   "cell_type": "code",
   "execution_count": null,
   "id": "d0d64681-34a9-4d1f-b2ee-470e35653e21",
   "metadata": {
    "id": "y8z7x_egkRbv"
   },
   "outputs": [],
   "source": [
    "# Live code (Examples of lists of different data types)"
   ]
  },
  {
   "cell_type": "code",
   "execution_count": null,
   "id": "7b083004-2523-4566-9cdf-f64bb9c0281e",
   "metadata": {
    "cellView": "form",
    "id": "QUFQNND6H6Yj"
   },
   "outputs": [],
   "source": [
    "#@title  Double click for solution\n",
    "# Live code - Examples of lists of different data types.\n",
    "letters = ['a', 'b', 'c', 'a', 'b', 'c', 'd']                                 # list can contain characters\n",
    "fruit = ['apple', 'mango', 'banana', 'pineapple', 'avocado', 'orange']      # list can contain strings \n",
    "numbers = [2, 3, 4, 5, -2, 4, 10, 50]                                         # list can contain numbers\n",
    "mixed_list = ['a', 2, 'red', 'umbrella', 'b']                                        # list can contain mixed-type objects"
   ]
  },
  {
   "cell_type": "markdown",
   "id": "62c10177-aa48-4201-a79a-04988eda4ca1",
   "metadata": {},
   "source": [
    "It's possible to find out the length of the list, and to access specific elements."
   ]
  },
  {
   "cell_type": "code",
   "execution_count": null,
   "id": "554a2415-f5a0-481c-841b-be54fbafab0a",
   "metadata": {
    "id": "y8z7x_egkRbv"
   },
   "outputs": [],
   "source": [
    "# Live code (len and indexing)"
   ]
  },
  {
   "cell_type": "code",
   "execution_count": null,
   "id": "2a581fad-6314-42f5-a091-b4915e0e8496",
   "metadata": {
    "cellView": "form",
    "id": "QUFQNND6H6Yj"
   },
   "outputs": [],
   "source": [
    "#@title  Double click for solution\n",
    "# Live code - len and indexing\n",
    "print(len(fruit))\n",
    "print(letters[3])\n",
    "print(fruit[-1])"
   ]
  },
  {
   "cell_type": "code",
   "execution_count": null,
   "id": "e283fecb-f939-45c6-91c0-e95296ced4e3",
   "metadata": {},
   "outputs": [],
   "source": [
    "# Exercise: find the second element of the mixed_list, and the second to last."
   ]
  },
  {
   "cell_type": "markdown",
   "id": "0ea82e0c-81f5-4ec2-aec4-3f0ef79f0d65",
   "metadata": {},
   "source": [
    "When we want to execute the same code many times on different elements, we use **loops**. The _for_ loop is the most used.\n",
    "\n",
    "For example, let's say we want to write \"I ate a ____ today\" for each fruit in the list."
   ]
  },
  {
   "cell_type": "code",
   "execution_count": null,
   "id": "2b6a9b2b-b40f-495a-9e38-883a8c9e8f1e",
   "metadata": {
    "id": "y8z7x_egkRbv"
   },
   "outputs": [],
   "source": [
    "# Live code (for loops with fruit, then with numbers and range)"
   ]
  },
  {
   "cell_type": "code",
   "execution_count": null,
   "id": "fae89de9-a51b-4223-aeeb-c57742938a65",
   "metadata": {
    "cellView": "form",
    "id": "QUFQNND6H6Yj"
   },
   "outputs": [],
   "source": [
    "#@title  Double click for solution\n",
    "# Live code - (for loops with fruit)\n",
    "for fr in fruit:\n",
    "    print(\"I ate a\", fr, \"today!\")\n",
    "\n",
    "# We can do this with numbers, even without a ready-made list.\n",
    "for n in range(100):\n",
    "    print(\"The square of\", n, \"is\", n*n)\n",
    "\n",
    "# Reflect on the fact that the variable n is being defined here. I can call it however I want."
   ]
  },
  {
   "cell_type": "markdown",
   "id": "cf84fd0c-7e25-4772-89df-679f032a4c2f",
   "metadata": {},
   "source": [
    "### Exercise\n",
    "Sum all numbers from 1 to 100.\n",
    "\n",
    "Sum the squares of numbers from 1 to 10."
   ]
  },
  {
   "cell_type": "code",
   "execution_count": null,
   "id": "4ac74018-328f-4673-ac6b-0667e83d1a1f",
   "metadata": {},
   "outputs": [],
   "source": [
    "result = 0\n",
    "for n in ...:\n",
    "    result = ...\n",
    "print(result)"
   ]
  },
  {
   "cell_type": "code",
   "execution_count": null,
   "id": "c4454950-c179-4b32-9534-0010c018883b",
   "metadata": {},
   "outputs": [],
   "source": [
    "#@title Double click here for the solution \n",
    "\n",
    "result = 0\n",
    "for n in range(1, 100):\n",
    "    result = result + n  # or result += n\n",
    "print(result)\n",
    "\n",
    "result = 0\n",
    "for n in range(1, 10):\n",
    "    result = result + n**2  # or result += n**2\n",
    "print(result)"
   ]
  },
  {
   "cell_type": "markdown",
   "id": "db7c3641-cbd8-4882-94a0-590f6f360bc4",
   "metadata": {},
   "source": [
    "I can then use **conditionals** (if-statements) to change behavior based on the value I have."
   ]
  },
  {
   "cell_type": "code",
   "execution_count": null,
   "id": "d4474284-8bee-4f0d-a29c-7316215fabf8",
   "metadata": {
    "id": "y8z7x_egkRbv"
   },
   "outputs": [],
   "source": [
    "# Live code (if statement with positive-negative)"
   ]
  },
  {
   "cell_type": "code",
   "execution_count": null,
   "id": "64b61776-d5ca-4f50-be2c-a484613b3314",
   "metadata": {
    "cellView": "form",
    "id": "QUFQNND6H6Yj"
   },
   "outputs": [],
   "source": [
    "#@title  Double click for solution\n",
    "# Live code\n",
    "number = 5\n",
    "if number > 0:\n",
    "    print(\"The number is positive\")\n",
    "else:\n",
    "    print(\"The number is negative\")\n",
    "\n",
    "# Correct this with elif and zero."
   ]
  },
  {
   "cell_type": "markdown",
   "id": "92c9a74a-4667-4e09-8251-81500d1af7eb",
   "metadata": {},
   "source": [
    "Conditionals are particularly useful inside loops. Here, let's take our mixed_list and print only strings."
   ]
  },
  {
   "cell_type": "code",
   "execution_count": null,
   "id": "43817a50-8bed-47a8-aa0a-a5268af4c255",
   "metadata": {
    "id": "y8z7x_egkRbv"
   },
   "outputs": [],
   "source": [
    "# Live code (if inside for loop)"
   ]
  },
  {
   "cell_type": "code",
   "execution_count": null,
   "id": "990a383d-e36c-4a0e-8bc5-106dc3c90465",
   "metadata": {
    "cellView": "form",
    "id": "QUFQNND6H6Yj"
   },
   "outputs": [],
   "source": [
    "#@title  Double click for solution\n",
    "# Live code\n",
    "for element in mixed_list:\n",
    "    if type(element) == str:\n",
    "        print(element)\n",
    "    else:\n",
    "        print(\"!! not a string !!\")\n"
   ]
  },
  {
   "cell_type": "markdown",
   "id": "7d6c3e2a-1d84-4db8-967c-b4973dd42ea5",
   "metadata": {},
   "source": [
    "### Exercise\n",
    " Write a program that will control and decide, if you are able to buy a beer, using the following properties: your age and, if you are accompanied by an adult. The program should have the following logic:\n",
    "\n",
    "   - It should sell you a beer, if you are 18 years old or older.\n",
    "   - It should sell you a beer, if you are younger than 18 years, but accompanied by an adult who approves the transaction.\n",
    "   - It should deny you a beer otherwise.\n"
   ]
  },
  {
   "cell_type": "code",
   "execution_count": null,
   "id": "65fb2997-635c-46a9-b0e9-516a7dda72cb",
   "metadata": {},
   "outputs": [],
   "source": [
    "#hint: change the assigned values of the variables to test your program\n",
    "age = 15 \n",
    "accompanied = False \n",
    "\n",
    "# Insert your code here"
   ]
  },
  {
   "cell_type": "code",
   "execution_count": null,
   "id": "adb3ba9f-4367-4d36-83ff-4e715d6f332e",
   "metadata": {},
   "outputs": [],
   "source": [
    "#@title Double click here for the solution \n",
    "\n",
    "age = 15\n",
    "accompanied = False \n",
    "\n",
    "if age>=18 or accompanied:\n",
    "    print(\"Here we go, here is you beer! Cheers!\") \n",
    "else:\n",
    "    print(\"Sorry, we are not able to sell to you a beer here.\")"
   ]
  },
  {
   "cell_type": "markdown",
   "id": "c4439400-0091-4ce7-8aa5-bf3fe8e5594e",
   "metadata": {
    "id": "CSykGqfbmvk1"
   },
   "source": [
    "---\n",
    "<a name=\"err\"></a>\n",
    "##**3.5 Errors**\n",
    "\n",
    "We are all human. Sometimes we might write incorrect code and python can inform this to us by producing an error. These errors also contain messages that explain what went wrong while python was executing your code.\n"
   ]
  },
  {
   "cell_type": "code",
   "execution_count": null,
   "id": "cfe66dcd-bfaa-4e9b-b703-7b7d590374e0",
   "metadata": {
    "id": "oqw25mWzmvk2"
   },
   "outputs": [],
   "source": [
    "# Live code (Not defined error)"
   ]
  },
  {
   "cell_type": "code",
   "execution_count": null,
   "id": "f0319925-8019-46b7-ad5f-45d7f46546dc",
   "metadata": {
    "cellView": "form",
    "id": "Y4Q-kjEoIyrX"
   },
   "outputs": [],
   "source": [
    "#@title Double click for solution\n",
    "# Live code - Not defined error\n",
    "print(y)\n",
    "y = 10"
   ]
  },
  {
   "cell_type": "markdown",
   "id": "4e532aa6-4ffd-4508-9f2b-ffad90fa5840",
   "metadata": {
    "id": "QG8JhoahxAW0"
   },
   "source": [
    "**Tip:** You can click on \"SEARCH STACK OVERFLOW\" button to see if someone else has encountered a similar error and provided a solution."
   ]
  },
  {
   "cell_type": "markdown",
   "id": "669b143e-1c4b-4588-9fc4-036e9bea2345",
   "metadata": {
    "id": "EQssVClomvk8"
   },
   "source": [
    "\n",
    "These messages are composed in a logical way, :\n",
    "1. What is the **type of error** (<font color=red>NameError</font>) -> [More on error types here](https://docs.python.org/3/tutorial/errors.html)\n",
    "2. **Where (which file)** the error occured (in our case this is not useful because we just have this file)\n",
    "4. **Which line** has the error producing code\n",
    "4. **Why** there was an error\n",
    "\n",
    "\n"
   ]
  },
  {
   "cell_type": "code",
   "execution_count": null,
   "id": "c0713d91-7e92-4d52-86bf-3b706beba4f5",
   "metadata": {
    "id": "28xsHsRFaKuV"
   },
   "outputs": [],
   "source": [
    "# Syntax/Identation error\n",
    "print(\"This workshop is so much fun!\")\n",
    "print(\"I could not find any errors yet\"\")\n",
    "weight = 70\n",
    "height = 180"
   ]
  },
  {
   "cell_type": "code",
   "execution_count": null,
   "id": "18d1da71-65a1-4265-bec1-c8e583c9fca9",
   "metadata": {
    "id": "b-nRdE3ldJxP"
   },
   "outputs": [],
   "source": [
    "# Zero division error\n",
    "10 * (1/0)"
   ]
  },
  {
   "cell_type": "markdown",
   "id": "839b99a5-8017-4679-8be8-3e3ac2c24022",
   "metadata": {
    "id": "e5hYboOpJBCD"
   },
   "source": [
    "### **Bonus: Commenting on code**\n",
    "We can add some text to our code to inform/remind ourselves or others:\n",
    "- **What** our code is doing – but not what's already obvious\n",
    "- **Why** it is doing this particular thing. (more important than what)\n",
    "- Be **concise**!"
   ]
  },
  {
   "cell_type": "code",
   "execution_count": null,
   "id": "84c9a65c-355a-4b51-bc85-9bb45c137fe8",
   "metadata": {
    "colab": {
     "base_uri": "https://localhost:8080/"
    },
    "id": "qk8ozUBjvGnc",
    "outputId": "f123d357-a724-483e-f53d-d7e928490d08"
   },
   "outputs": [],
   "source": [
    "height_cm = 183\n",
    "\n",
    "# Too long comment\n",
    "height_feet = height_cm / 30.48 # 1 foot is 30.48 cm so that's why we divide the height in cm with 30.48\n",
    "\n",
    "# Not explanatory\n",
    "height_feet = height_cm / 30.48 # Divide by 30.48\n",
    "\n",
    "# Concise: good!\n",
    "height_feet = height_cm / 30.48 # 1 foot is 30.48 cm\n",
    "print(\"height_feet is:\",height_feet)"
   ]
  },
  {
   "cell_type": "markdown",
   "id": "2feb637d-ed42-43bd-9816-380a48642b10",
   "metadata": {},
   "source": []
  },
  {
   "cell_type": "markdown",
   "id": "a4ec3594-9f5e-4b92-aed5-a088f6d4ba9f",
   "metadata": {
    "id": "WGth40rgx0bP"
   },
   "source": [
    "\n",
    "---\n",
    "<a name=\"selfstudy\"></a>\n",
    "# **4. Self Study**\n",
    "\n",
    "This was a very quick recap. If there's any of this you're not comfortable with, you can take your time to study it before the workshop itself.\n",
    "\n",
    "We have plenty of materials from a previous TReND workshop, including exercises!\n",
    "\n",
    "If you felt confident with Python, you can anyway test your skills with those: there are some pretty tricky problems there!\n",
    "\n",
    "The materials are available [here](https://github.com/trendinafrica/python_workshop/tree/main)."
   ]
  },
  {
   "cell_type": "markdown",
   "id": "51d2c710-1609-43fe-8954-61b3102ef0ec",
   "metadata": {
    "id": "RbQ3zLwhx0A8"
   },
   "source": [
    "## More resources for learning Python:\n",
    "* [The Carpentries](https://swcarpentry.github.io/python-novice-gapminder/)\n",
    "* [Programiz](https://www.programiz.com/python-programming)\n",
    "* [datacamp](https://learn.datacamp.com/courses/tech:python?utm_source=adwords_ppc&utm_campaignid=654038607&utm_adgroupid=54278411964&utm_device=c&utm_keyword=%2Blanguage%20%2Bpython%20%2Bprogramming&utm_matchtype=b&utm_network=g&utm_adpostion=&utm_creative=262582850841&utm_targetid=aud-299261629574:kwd-552072783517&utm_loc_interest_ms=&utm_loc_physical_ms=9056331&gclid=Cj0KCQjw5auGBhDEARIsAFyNm9FAWR3dZV833urTsgggqq0lAaMk6BRXg9CsS2bhaNo34H5aNPM6uk0aAiaaEALw_wcB)\n",
    "* [W3schools](https://www.w3schools.com/python/python_intro.asp)\n",
    "* [Coursera](https://www.coursera.org/specializations/python?utm_source=gg&utm_medium=sem&utm_campaign=06-PythonforEverybody-ROW&utm_content=06-PythonforEverybody-ROW&campaignid=6493101579&adgroupid=83560622768&device=c&keyword=python%20tutorial%20for%20beginners&matchtype=b&network=g&devicemodel=&adpostion=&creativeid=506843632505&hide_mobile_promo&gclid=Cj0KCQjw5auGBhDEARIsAFyNm9FM0o1tEpibGYE-1M2LQmlv2ctyf50caHOHA20YFVZe14CWMRV6xiUaAgMeEALw_wcB)"
   ]
  },
  {
   "cell_type": "code",
   "execution_count": null,
   "id": "d73ad22d-6636-402b-baf3-92c049c7282d",
   "metadata": {
    "id": "a1u_sX3Gx0ns"
   },
   "outputs": [],
   "source": []
  },
  {
   "cell_type": "markdown",
   "id": "6cf972dc-aad0-4920-a1d5-1102d95520af",
   "metadata": {
    "id": "bsWZnvZfZPW-"
   },
   "source": [
    "Congrats! That's it for this tutorial.\n",
    "\n"
   ]
  }
 ],
 "metadata": {
  "kernelspec": {
   "display_name": "Python 3 (ipykernel)",
   "language": "python",
   "name": "python3"
  },
  "language_info": {
   "codemirror_mode": {
    "name": "ipython",
    "version": 3
   },
   "file_extension": ".py",
   "mimetype": "text/x-python",
   "name": "python",
   "nbconvert_exporter": "python",
   "pygments_lexer": "ipython3",
   "version": "3.11.1"
  }
 },
 "nbformat": 4,
 "nbformat_minor": 5
}
