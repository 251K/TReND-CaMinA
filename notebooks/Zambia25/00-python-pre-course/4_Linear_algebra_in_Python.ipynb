{
 "cells": [
  {
   "cell_type": "markdown",
   "metadata": {
    "colab_type": "text",
    "id": "view-in-github"
   },
   "source": [
    "<a href=\"https://colab.research.google.com/github/trendinafrica/TReND-CaMinA/blob/main/notebooks/Zambia25/00-python-pre-course/4_Linear_algebra_in_Python.ipynb\" target=\"_parent\"><img src=\"https://colab.research.google.com/assets/colab-badge.svg\" alt=\"Open In Colab\"/></a>"
   ]
  },
  {
   "cell_type": "markdown",
   "metadata": {
    "id": "k02gg8z5Uk0v"
   },
   "source": [
    "<img align=\"left\" width=\"300\" src=\"https://raw.githubusercontent.com/trendinafrica/TReND-CaMinA/main/images/CaMinA_logo.png\">\n",
    "\n",
    "# TReND-CaMinA Pre-Course: Intro to linear algebra in Python\n",
    "\n",
    "**Content creators:** Burak Gür & Artemis Koumoundourou\n",
    "\n",
    "**Acknowledgements:** Some parts inspired/modified from the amazing tutorials of:\n",
    "  - Neuromatch Academy tutorials [W0D3 Linear Algebra](https://compneuro.neuromatch.io/tutorials/W0D3_LinearAlgebra/student/W0D3_Tutorial1.html) by **Ella Batty**\n",
    "  - [Introduction to linear algebra for applied machine learning with Python](https://pabloinsente.github.io/intro-linear-algebra#diagonal-matrix) by **Pablo Caceres**\n",
    "\n",
    "\n"
   ]
  },
  {
   "cell_type": "markdown",
   "metadata": {
    "id": "G2-w9JhXVUtF"
   },
   "source": [
    "**Learning objectives:**\n",
    "* Getting a sense of some of the basic linear algebra concepts like vectors, matrices and their simple properties and operations\n",
    "* Using the Python package NumPy, being able to implement the basic linear algebra operations\n",
    "\n",
    "**Sections:**\n",
    "1. [Why learn linear algebra?](#why)\n",
    "2. [Vectors and matrices in Python](#vectors)\n",
    "  \n",
    "    [Intro to NumPy](#numpy)\n",
    "3. [Resources](#resources)\n",
    "---\n"
   ]
  },
  {
   "cell_type": "markdown",
   "metadata": {
    "id": "qWdm046r42TL"
   },
   "source": [
    "\n",
    "# Section 1. Why learn linear algebra? <a name=\"why\"></a>\n",
    "\n",
    "Linear algebra is a powerful tool that is **used in many fields**:\n",
    "- Maths, physics\n",
    "- **Machine learning**\n",
    "- **Neurosciences**\n",
    "- Biology\n",
    "- Medicine\n",
    "- Chemistry\n",
    "- Economics\n",
    "- Engineering\n",
    "- ...\n",
    "\n",
    "\n",
    "Linear algebra **enables us to work with data**.\n",
    "- Data analysis (representation, operations, ...) including high dimensional data\n",
    "- Solving systems of linear equations\n",
    "- Optimization\n",
    "---\n"
   ]
  },
  {
   "cell_type": "markdown",
   "metadata": {
    "id": "WPukBJLTDQZP"
   },
   "source": [
    "# Section 2. Vector and matrices in Python <a name=\"vectors\"></a>\n",
    "## Vectors\n",
    "Vector is one of the most fundamental object of linear algebra.\n",
    "\n"
   ]
  },
  {
   "cell_type": "markdown",
   "metadata": {
    "id": "Zq0ZCxWnK7G4"
   },
   "source": [
    "A very general definition:\n",
    "**Vectors are ordered lists of numbers.** But how does this relate with data?\n",
    "\n",
    "Example: We measured the heights of 3 people (in centimeters), and recorded the following numbers: 158, 175, 190. We can represent this data in a vector:\n",
    "\n",
    "$\\mathbf{heights} = \\begin{bmatrix} 158 \\\\ 175 \\\\ 190 \\end{bmatrix}$"
   ]
  },
  {
   "cell_type": "markdown",
   "metadata": {
    "id": "nqPTM9aG20KT"
   },
   "source": [
    "**Vectors can also be viewed from a geometric perspective:**\n",
    "\n",
    "- Arrows starting from the origin at a coordinate system.\n",
    "- The ordered set of numbers define where the arrow is pointing at.\n"
   ]
  },
  {
   "cell_type": "markdown",
   "metadata": {
    "id": "qfkkCpSs68MW"
   },
   "source": [
    "Let's visualize a vector of our choice geometrically:\n",
    "\n",
    "$\\mathbf{vector} = \\begin{bmatrix} x_1 \\\\ x_2 \\end{bmatrix}$\n",
    "\n",
    "Change $x_1$ and $x_2$ and see how the arrow changes:"
   ]
  },
  {
   "cell_type": "code",
   "execution_count": null,
   "metadata": {
    "cellView": "form",
    "colab": {
     "base_uri": "https://localhost:8080/",
     "height": 534,
     "referenced_widgets": [
      "a2a0c2a44c8b43dc8b5201a92905e4ae",
      "ddb79f357b8b4f22aa6b01f4182a0af5",
      "436c5af8e6df4dac850906ce8b444e68",
      "b2914850acf443e6a5af42bbb3a88e1a",
      "83878f54965e4fa0aa7fdb222e82d349",
      "082d5bc19c954d4c85b8130079cb1b22",
      "569417677fde4efea8c8797de9aa09e6",
      "7230cc4fe97245d7ba296dfd95843c30",
      "bd782d7e49ce4d48839eba8c3cac9809",
      "d9027d7695e34dbdbde6dd053a2c23f5"
     ]
    },
    "id": "fyBUDGzW37o9",
    "outputId": "05a9ab73-c7bf-43fc-c1b5-5b2f8e60edb5"
   },
   "outputs": [],
   "source": [
    "#@title Run this for visualizing our vector.\n",
    "import numpy as np\n",
    "import matplotlib.pyplot as plt\n",
    "import ipywidgets as widgets  # interactive display\n",
    "from ipywidgets import fixed\n",
    "%config InlineBackend.figure_format = 'retina'\n",
    "\n",
    "def plot_arrow(x):\n",
    "  fig, ax = plt.subplots(figsize=(5, 5))\n",
    "\n",
    "  origin = np.array([0, 0]) # origin point\n",
    "\n",
    "  plt.quiver(*origin, x[0], x[1], color='k',scale=20)\n",
    "  plt.xlim([-10,10])\n",
    "  plt.ylim([-10,10])\n",
    "  plt.xlabel('$x_1$')\n",
    "  plt.ylabel('$x_2$')\n",
    "\n",
    "\n",
    "  plt.show()\n",
    "\n",
    "@widgets.interact(x1 = widgets.FloatSlider(value=1.0, min=-10, max=10, step=0.5), x2 = widgets.FloatSlider(value=1.0, min=-10, max=10, step=0.5))\n",
    "def plot_linear_combination(x1, x2):\n",
    "  x = np.array([x1, x2])\n",
    "  plot_arrow(x)\n",
    "\n"
   ]
  },
  {
   "cell_type": "markdown",
   "metadata": {
    "id": "deee4805"
   },
   "source": [
    "<a name=\"numpy\"></a>\n",
    "\n",
    "## Numerical Python: NumPy\n",
    "To work with vectors in Python, we'll use the package **NumPy**.\n",
    "\n",
    "Let's first import it so we can work with it:\n"
   ]
  },
  {
   "cell_type": "code",
   "execution_count": null,
   "metadata": {
    "id": "z1MEtIAIubu2"
   },
   "outputs": [],
   "source": [
    "# Your code goes below\n"
   ]
  },
  {
   "cell_type": "markdown",
   "metadata": {
    "id": "e23aeeb7"
   },
   "source": [
    "### What is NumPy?\n",
    "\n",
    "**NumPy** is a fundamental package for numerical computing in Python. It serves as the backbone for many scientific and numerical packages due to its powerful array processing capabilities.\n",
    "\n",
    "#### Why is NumPy cool?\n",
    "\n",
    "1. **Efficiency on Large Data Sets**:\n",
    "    - NumPy is designed to handle large arrays of data efficiently.\n",
    "    - It stores data in a contiguous block of memory, which allows fast access and manipulation.\n",
    "\n",
    "2. **Memory Efficiency**:\n",
    "    - NumPy arrays use significantly less memory compared to standard Python lists.\n",
    "    - This is crucial for handling large datasets, such as those in computational neuroscience and machine learning.\n",
    "\n",
    "3. **Speed**:\n",
    "    - NumPy's operations are implemented in the C language, providing a significant speed advantage over pure Python.\n",
    "    - Complex computations are performed on entire arrays without Python loops, leveraging fast, low-level C operations.\n",
    "\n"
   ]
  },
  {
   "cell_type": "markdown",
   "metadata": {
    "id": "596a0704"
   },
   "source": [
    "To check out all the other possibilities during data handling you can have a look at the documentation  of [`numpy`](#https://numpy.org/doc/1.24/user/index.html#user)."
   ]
  },
  {
   "cell_type": "markdown",
   "metadata": {
    "id": "c7PE9_TSt9Q2"
   },
   "source": [
    "\n",
    "\n",
    "### Storing data using arrays: NumPy `ndarray`\n",
    "\n",
    "\n",
    "#### NumPy is used to work with arrays. The array object in NumPy is called `ndarray`.\n",
    "\n",
    "\n",
    "One of the key features of **NumPy** is its N-dimensional array object, or `ndarray`. This is a fast, flexible container for large datasets in Python. Arrays enable you to perform mathematical operations on whole blocks of data using similar syntax to the equivalent operations between scalar elements.\n"
   ]
  },
  {
   "cell_type": "markdown",
   "metadata": {
    "id": "0081a48b"
   },
   "source": [
    "\n",
    "What is an array though?\n",
    "- Collection of items (data) stored in a linear way.\n",
    "- Efficient access to elements using indices and is widely used in programming for organizing and manipulating data\n",
    "- The most popular structure to store data.\n",
    "\n",
    "\n",
    "<img width=\"500\" src=\"https://media.geeksforgeeks.org/wp-content/cdn-uploads/20230726162247/Array-data-structure.png\">\n",
    "\n",
    "(image source: *geeksforgeeks.org*)\n",
    "\n"
   ]
  },
  {
   "cell_type": "markdown",
   "metadata": {
    "id": "B6ZqLk7SLu7z"
   },
   "source": [
    "### Our first vector"
   ]
  },
  {
   "cell_type": "markdown",
   "metadata": {
    "id": "77c55529"
   },
   "source": [
    "The easiest way to create an array is to use the `array()` function. This accepts any sequence-like object (including lists or other arrays) and produces a new NumPy array containing the passed data."
   ]
  },
  {
   "cell_type": "markdown",
   "metadata": {
    "id": "9-TxQoq4Q-M3"
   },
   "source": [
    "create the following vector using NumPy:\n",
    "\n",
    "$\\mathbf{x} = \\begin{bmatrix} 1 \\\\ 2 \\\\ 2 \\\\ 4 \\end{bmatrix}$"
   ]
  },
  {
   "cell_type": "code",
   "execution_count": null,
   "metadata": {
    "id": "BmgjICduMTyu"
   },
   "outputs": [],
   "source": [
    "# Your answer goes here"
   ]
  },
  {
   "cell_type": "code",
   "execution_count": null,
   "metadata": {
    "cellView": "form",
    "id": "quo2BtbrRJM4"
   },
   "outputs": [],
   "source": [
    "#@title Double click here for the solution\n",
    "x = np.array([1,2,2,4])"
   ]
  },
  {
   "cell_type": "markdown",
   "metadata": {
    "id": "B0NgeXlrXRwM"
   },
   "source": [
    "## Matrices\n",
    "In vectors we represented a single variable with many instances (heights of people, cost of items, spikes of neurons etc.).\n",
    "\n",
    "With matrices, we can represent many instances of multiple variables.\n",
    "\n",
    "This means **matrices are ordered collection of vectors**:\n",
    "\n",
    "$\\mathbf{v_1} = \\begin{bmatrix} 158 \\\\ 175 \\\\ 190 \\end{bmatrix}$: vector representing heights of 3 people.\n",
    "\n",
    "$\\mathbf{v_2} = \\begin{bmatrix} 30 \\\\ 22 \\\\ 48 \\end{bmatrix}$: vector representing age of these 3 people.\n",
    "\n",
    "We can represent our data by putting these vectors together in a matrix:\n",
    "\n",
    "\\begin{equation}M =\n",
    "\\begin{bmatrix}\n",
    "158 & 30 \\\\\n",
    "175 & 22 \\\\\n",
    "190 & 48\n",
    "\\end{bmatrix}\n",
    "\\end{equation}\n",
    "\n",
    "\n",
    "$M$ is a **3x2 matrix**. A generalized way of writing is $m$ x $n$ where $m$ is the number of columns and $n$ is the number of rows."
   ]
  },
  {
   "cell_type": "markdown",
   "metadata": {
    "id": "Gzlx7y3AYWF1"
   },
   "source": [
    "Please create the above matrix in Python:"
   ]
  },
  {
   "cell_type": "code",
   "execution_count": null,
   "metadata": {
    "id": "1rCWJLemYWF4"
   },
   "outputs": [],
   "source": [
    "#Your code goes here"
   ]
  },
  {
   "cell_type": "code",
   "execution_count": null,
   "metadata": {
    "cellView": "form",
    "colab": {
     "base_uri": "https://localhost:8080/"
    },
    "id": "LTCgrZUGYWF5",
    "outputId": "12a97899-47a2-4520-ddd7-96512b1695d4"
   },
   "outputs": [],
   "source": [
    "#@title Double-click here for the solution\n",
    "M = np.array([[158, 30],  # 1st row\n",
    "              [175, 22],\n",
    "              [190, 48]]) # 2nd row\n",
    "print(M)"
   ]
  },
  {
   "cell_type": "markdown",
   "metadata": {
    "id": "EbP8b3oWRuDg"
   },
   "source": [
    "## Simple properties of vectors and matrices\n",
    "\n",
    "As data have different properties, we can check our array's properties to get a sense of our data."
   ]
  },
  {
   "cell_type": "markdown",
   "metadata": {
    "id": "lxvlsPsNS7-t"
   },
   "source": [
    "### Dimensionality\n",
    "\n",
    "Dimensions reflect **the number of components in the vector or in a matrix**.\n",
    "\n",
    "Mathematically, a vector $\\vec{v}$ in $N$-dimensional space is represented as:\n",
    "\n",
    "$$\\vec{v} = \\begin{bmatrix} v_1 & v_2 & v_3 & \\cdots & v_N \\end{bmatrix}$$\n",
    "\n",
    "Where $v_1, v_2, v_3, \\ldots, v_N$ are the components of the vector represented as columns.\n",
    "\n"
   ]
  },
  {
   "cell_type": "markdown",
   "metadata": {
    "id": "mbmkSeUKTUWG"
   },
   "source": [
    "We can check the dimension of our vector $\\mathbf{x} = \\begin{bmatrix} 1 \\\\ 2 \\\\ 2 \\\\ 4 \\end{bmatrix}$ using the ```ndim()``` function."
   ]
  },
  {
   "cell_type": "code",
   "execution_count": null,
   "metadata": {
    "colab": {
     "base_uri": "https://localhost:8080/"
    },
    "id": "GnWWe3b3Vn3V",
    "outputId": "babff34a-5c2c-4beb-c460-ae843ea81e3d"
   },
   "outputs": [],
   "source": [
    "x = np.array([1,2,2,4])\n",
    "print(x.ndim)"
   ]
  },
  {
   "cell_type": "markdown",
   "metadata": {
    "id": "DM3X97wtYWF6"
   },
   "source": [
    "What are the dimensions of M from the previous exercise?\n",
    "\n",
    "\\begin{equation}M =\n",
    "\\begin{bmatrix}\n",
    "158 & 30 \\\\\n",
    "175 & 22 \\\\\n",
    "190 & 48\n",
    "\\end{bmatrix}\n",
    "\\end{equation}"
   ]
  },
  {
   "cell_type": "code",
   "execution_count": null,
   "metadata": {
    "id": "IONexeDXYWF7"
   },
   "outputs": [],
   "source": [
    "#Your code goes here"
   ]
  },
  {
   "cell_type": "code",
   "execution_count": null,
   "metadata": {
    "cellView": "form",
    "colab": {
     "base_uri": "https://localhost:8080/"
    },
    "id": "EJ5yHr6QY3MF",
    "outputId": "c04a1296-454c-45b0-8221-70ebaa69a38e"
   },
   "outputs": [],
   "source": [
    "#@title Double-click here for the solution\n",
    "print(M.ndim)"
   ]
  },
  {
   "cell_type": "markdown",
   "metadata": {
    "id": "csEFYp9xPq0P"
   },
   "source": [
    "We can check **how many elements are in each dimension** of a given array using ```array.shape```.\n"
   ]
  },
  {
   "cell_type": "markdown",
   "metadata": {
    "id": "0RmL15nzUoJb"
   },
   "source": [
    "We have two datasets:\n",
    "- ```heights```: we measured the heights of people walking on the street and put it inside a vector.\n",
    "- ```spikes```: we measured the activities of different neurons (spikes) in the brain of a mouse and put it inside a vector.\n",
    "\n",
    "but we forgot how many people and neurons we measured..."
   ]
  },
  {
   "cell_type": "code",
   "execution_count": null,
   "metadata": {
    "cellView": "form",
    "id": "8l2KTXnsS_9M"
   },
   "outputs": [],
   "source": [
    "#@title run this first to generate data\n",
    "heights = np.random.randint(120,200,150)\n",
    "spikes = np.random.randint(0,50,2000)"
   ]
  },
  {
   "cell_type": "markdown",
   "metadata": {
    "id": "Sz2GivY2WEhY"
   },
   "source": [
    "**Your turn:**\n",
    "1. Find out how many people and neurons were measured. Our data is in the vectors named ```heights``` and ```spikes```.\n",
    "2. What is the dimensionality of this dataset?"
   ]
  },
  {
   "cell_type": "code",
   "execution_count": null,
   "metadata": {
    "id": "h9cwzDOrWM7Z"
   },
   "outputs": [],
   "source": [
    "# Your answer goes here"
   ]
  },
  {
   "cell_type": "code",
   "execution_count": null,
   "metadata": {
    "cellView": "form",
    "id": "hGc-FWT2Txqf"
   },
   "outputs": [],
   "source": [
    "#@title Double click here for the solution\n",
    "n_people = heights.shape\n",
    "n_neurons = spikes.shape\n",
    "\n",
    "# In our dataset there are two dimensions (heights and spikes)"
   ]
  },
  {
   "cell_type": "markdown",
   "metadata": {
    "id": "FcQOLV_acC3u"
   },
   "source": [
    "### Length (norm) of a vector\n",
    "\n",
    "Measuring the length of a vector is important to know in linear algebra. Length is also called the **norm** of a vector.\n",
    "\n",
    "\n",
    "\n"
   ]
  },
  {
   "cell_type": "markdown",
   "metadata": {
    "id": "lobnxLYDjgIY"
   },
   "source": [
    "<img align='left' src=\"https://mathkind.org/wp-content/uploads/2021/06/New-York-City-grid.jpg\" width='300px' >\n",
    "\n",
    "\n",
    "\n",
    "Think of a city where streets are laid out in a perfect grid, like Manhattan. Suppose you need to walk from an origin point (maybe your home) to another intersection.\n",
    "\n",
    "Let's say our target intersection is 3 streets to the right (X axis) and 4 streets up (Y axis) and represent it as a vector.\n",
    "\n",
    "$\\mathbf{target} = \\begin{bmatrix} 3 \\\\ 4 \\end{bmatrix}$\n",
    "\n",
    "Norm can be visualized as a way of measuring the distance you have to walk.\n",
    "\n",
    "There are several ways of computing the length of a vector, the **Euclidean norm** (a.k.a. $L_2$ norm) is a common way in machine learning or comp. neuro. applications.\n",
    "\n",
    "The $L_2$ norm measures the straight-line distance between two points, similar to using a ruler to measure the shortest path.\n",
    "\n",
    "\\begin{equation}\n",
    "||\\mathbf{x}|| = \\sqrt{\\sum_{i=1}^N \\mathbf{x}_i^2}\n",
    "\\end{equation}\n",
    "\n"
   ]
  },
  {
   "cell_type": "markdown",
   "metadata": {
    "id": "22UxtpiNycFC"
   },
   "source": [
    "In Python, we can compute the norm using:\n",
    "\n",
    "```np.linalg.norm()```\n",
    "\n",
    "Compute the distance to our target:\n",
    "\n",
    "$\\mathbf{x} = \\begin{bmatrix} 3 \\\\ 4 \\end{bmatrix}$\n",
    "\n"
   ]
  },
  {
   "cell_type": "code",
   "execution_count": null,
   "metadata": {
    "id": "RigtspIvzLce"
   },
   "outputs": [],
   "source": [
    "# Your answer goes here"
   ]
  },
  {
   "cell_type": "code",
   "execution_count": null,
   "metadata": {
    "cellView": "form",
    "id": "rBiFT-x_zLY8"
   },
   "outputs": [],
   "source": [
    "#@title Double click here for the solution\n",
    "x=np.array([2,4])\n",
    "np.linalg.norm(x)"
   ]
  },
  {
   "cell_type": "code",
   "execution_count": null,
   "metadata": {},
   "outputs": [],
   "source": [
    "def draw_vector(X, origin=[0, 0], *args, **kwargs):\n",
    "    plt.quiver(*origin, *X, angles='xy', scale_units='xy', scale=1, *args, **kwargs)"
   ]
  },
  {
   "cell_type": "code",
   "execution_count": null,
   "metadata": {
    "cellView": "form",
    "colab": {
     "base_uri": "https://localhost:8080/",
     "height": 717
    },
    "id": "I6273Mho0T-U",
    "outputId": "75061c3e-bc18-46da-8de2-84b51cc41afa"
   },
   "outputs": [],
   "source": [
    "#@title Run to see the visualization of the L2 norm\n",
    "\n",
    "import matplotlib.pyplot as plt\n",
    "\n",
    "# Define the vector\n",
    "v = np.array([3, 4])\n",
    "\n",
    "# Calculate norms\n",
    "l2_norm = np.linalg.norm(v)\n",
    "\n",
    "print(f\"L2 Norm (Euclidean Distance): {l2_norm}\")\n",
    "\n",
    "# Plot the vector\n",
    "plt.figure(figsize=(8, 8))\n",
    "draw_vector(v, color='b')\n",
    "plt.xlim(-1, 5)\n",
    "plt.ylim(-1, 5)\n",
    "plt.axhline(0, color='black',linewidth=0.5)\n",
    "plt.axvline(0, color='black',linewidth=0.5)\n",
    "plt.grid(color = 'gray', linestyle = '--', linewidth = 0.5)\n",
    "plt.text(1.9, 2.2, f\"L2 Norm: {(int(l2_norm))}\", fontsize=12, color='blue')\n",
    "plt.scatter(v[0],v[1],s=100,c='k')\n",
    "plt.title(\"L2 Norm\")\n",
    "plt.show()"
   ]
  },
  {
   "cell_type": "markdown",
   "metadata": {
    "id": "5EyJ_QHt19Gu"
   },
   "source": [
    "Since we're not birds, other ways of calculating distance can be useful for us.  "
   ]
  },
  {
   "cell_type": "markdown",
   "metadata": {
    "id": "vYOjCY7PzkoQ"
   },
   "source": [
    "**Tip:** you can calculate different norms of the vectors by providing a different second argument to the ```np.linalg.norm()``` function:\n",
    "\n",
    "- **Euclidean** $L_2$ norm: ```np.linalg.norm(x,2)```\n",
    "- **Manhattan** $L_1$ norm: ```np.linalg.norm(x,1)```\n",
    "- **Infinity** norm: ```np.linalg.norm(x, np.inf)```\n",
    "\n",
    "as you may have noticed in the exercise above, the default behavior of ```np.linalg.norm()``` (default: if we don't give any second argument) is the Euclediean $L_2$ norm."
   ]
  },
  {
   "cell_type": "code",
   "execution_count": null,
   "metadata": {
    "cellView": "form",
    "colab": {
     "base_uri": "https://localhost:8080/",
     "height": 754
    },
    "id": "6p07baOG1BbX",
    "outputId": "41096f4a-55c9-4ef4-ed8f-fc3450c38a96"
   },
   "outputs": [],
   "source": [
    "#@title Visualization of different norms\n",
    "v = np.array([3, 4])\n",
    "\n",
    "# Calculate norms\n",
    "l1_norm = np.sum(np.abs(v))\n",
    "l2_norm = np.sqrt(np.sum(v**2))\n",
    "l_inf_norm = np.max(np.abs(v))\n",
    "\n",
    "print(f\"L1 Norm (Manhattan Distance): {l1_norm}\")\n",
    "print(f\"L2 Norm (Euclidean Distance): {l2_norm}\")\n",
    "print(f\"L∞ Norm (Chebyshev Distance): {l_inf_norm}\")\n",
    "\n",
    "# Plot the vector\n",
    "plt.figure(figsize=(8, 8))\n",
    "plt.quiver(0, 0, v[0], v[1], angles='xy', scale_units='xy', scale=1, color='b')\n",
    "plt.quiver(0, 0, 0, v[1], angles='xy', scale_units='xy', scale=1, color='g')\n",
    "plt.quiver(0, v[1], v[0], 0, angles='xy', scale_units='xy', scale=1, color='g')\n",
    "plt.xlim(-1, 5)\n",
    "plt.ylim(-1, 5)\n",
    "plt.axhline(0, color='black',linewidth=0.5)\n",
    "plt.axvline(0, color='black',linewidth=0.5)\n",
    "plt.grid(color = 'gray', linestyle = '--', linewidth = 0.5)\n",
    "plt.text(1.9, 2.2, f\"L2 Norm: {(int(l2_norm))}\", fontsize=12, color='blue')\n",
    "plt.text(1.5, 3.5, f\"L1 Norm: {l1_norm}\", fontsize=12, color='green')\n",
    "plt.scatter(v[0],v[1],s=100,c='k')\n",
    "plt.title(\"Vector Norms\")\n",
    "plt.show()"
   ]
  },
  {
   "cell_type": "markdown",
   "metadata": {
    "id": "HD14ca78YASk"
   },
   "source": [
    "### 2.3 Operations with vectors and matrices\n",
    "\n",
    "We can do many operations using vectors, that's one of the powerful aspects of using linear algebra. Some simple ones include:\n",
    "- Addition or subtraction (```X+Y``` or ```X-Y```)\n",
    " $$\\mathbf{x} + \\mathbf{y} = \\begin{bmatrix}\n",
    "           \\mathbf{x}_{1} + \\mathbf{y}_1 \\\\ \\mathbf{x}_{2} + \\mathbf{y}_2\\\\ \\vdots \\\\ \\mathbf{x}_{N} + \\mathbf{y}_N\n",
    "\\end{bmatrix}$$\n",
    "\n",
    "Similar to the vector-vector addition, we can add two matrices in an element-wise fashion in two ways. Given two matrices $A$ and $B$:\n",
    "- using ```A + B```\n",
    "- using ```np.add(A,B)```\n",
    "\n",
    "Let's see an example:\n",
    "\n",
    "\\begin{equation}A =\n",
    "\\begin{bmatrix}\n",
    "1 & 2 \\\\\n",
    "3 & 4\n",
    "\\end{bmatrix} B =\n",
    "\\begin{bmatrix}\n",
    "2 & 1 \\\\\n",
    "-5 & 0\n",
    "\\end{bmatrix}\n",
    "\\end{equation}\n",
    "\n",
    "\n",
    "\\begin{equation}\n",
    "A+B=\n",
    "\\begin{bmatrix}\n",
    "1+2 & 2+1 \\\\\n",
    "3+(-5) & 0+4\n",
    "\\end{bmatrix}\n",
    "=\n",
    "\\begin{bmatrix}\n",
    "3 & 3 \\\\\n",
    "-2 & 4\n",
    "\\end{bmatrix}\n",
    "\\end{equation}\n",
    "\n",
    "\n",
    "- Scalar multiplication (```a*X``` or ```a/X```)\n",
    "$$ a\\mathbf{x} = \\begin{bmatrix}\n",
    "    a\\mathbf{x}_1 \\\\ a\\mathbf{x}_2 \\\\ \\vdots \\\\ a\\mathbf{x}_N\n",
    "\\end{bmatrix}$$\n",
    "\n",
    "\\begin{equation}kA =\n",
    "\\begin{bmatrix}\n",
    "1 x k & 2 x k \\\\\n",
    "3 x k & 4 x k\n",
    "\\end{bmatrix}\n",
    "\\end{equation}\n",
    "\n",
    "When we apply scalar multiplication and vector addition to several vectors, we get a **linear combination**.\n",
    "\n",
    "$$\\mathbf{u} = c_1\\mathbf{v}^1 + c_2\\mathbf{v}^2 + ... + c_n\\mathbf{v}^N $$.\n",
    "\n",
    "Linear combinations are fundamental in linear algebra and used in every aspect of linear algebra.\n",
    "\n"
   ]
  },
  {
   "cell_type": "markdown",
   "metadata": {
    "id": "eEUiWIS0QIk2"
   },
   "source": [
    "Perform the following operations:"
   ]
  },
  {
   "cell_type": "code",
   "execution_count": null,
   "metadata": {},
   "outputs": [],
   "source": [
    "# Live code: define two vectors, draw them, draw the sum and a multiplication by scalar."
   ]
  },
  {
   "cell_type": "code",
   "execution_count": null,
   "metadata": {
    "id": "gyG2COLgPyFx"
   },
   "outputs": [],
   "source": [
    "#@title Double click here for the solution\n",
    "\n",
    "x = np.array([3, 4])\n",
    "y = np.array([-5, 0])\n",
    "origin = np.array([0, 0])\n",
    "\n",
    "\n",
    "# Vector addition\n",
    "addition = x+y\n",
    "\n",
    "# Vector subtraction\n",
    "subtraction = x-y\n",
    "\n",
    "# Multiply with a scalar\n",
    "bigx = 2*x\n",
    "\n",
    "# Plot them\n",
    "draw_vector(x)\n",
    "draw_vector(y)\n",
    "draw_vector(addition, color='r')\n",
    "draw_vector(subtraction, color='g')\n",
    "draw_vector(bigx, alpha=0.5)\n",
    "\n",
    "plt.xlim([-5, 10])\n",
    "plt.ylim([-5, 10])"
   ]
  },
  {
   "cell_type": "markdown",
   "metadata": {
    "id": "S_oUOZf1odNS"
   },
   "source": [
    "### 2.4 Vector-vector multiplication: **the dot product**\n",
    "\n",
    "Intuitively, a dot product can tell us about **how similarly aligned two vectors are** (if the vector lengths are normalized).\n",
    "\n",
    "\n",
    "\n",
    "\n",
    "\n"
   ]
  },
  {
   "cell_type": "markdown",
   "metadata": {
    "id": "vE-z9GrDSoBS"
   },
   "source": [
    "The dot product between two vectors is a scalar value computed as the sum of element-wise multiplication of vector components.\n",
    "\n",
    "\\begin{equation}\n",
    "\\text{Dot product of } \\mathbf{x} \\text{ and } \\mathbf{y} = \\mathbf{x} \\cdot \\mathbf{y} = \\sum_{i=1}^{N} \\mathbf{x}_i\\mathbf{y}_i\n",
    "\\end{equation}\n",
    "\n",
    "Let's do the dot product of $\\mathbf{x} = \\begin{bmatrix}5\\\\ 1\\\\\\end{bmatrix}$ and $\\mathbf{y} = \\begin{bmatrix}3\\\\ 2\\\\\\end{bmatrix}$, then:\n",
    "\n",
    "\\begin{equation}\n",
    "\\mathbf{x} \\cdot \\mathbf{y} = 5*3 + 1*2 = 16\\text{.}\n",
    "\\end{equation}"
   ]
  },
  {
   "cell_type": "markdown",
   "metadata": {
    "id": "51s6pjBStjTB"
   },
   "source": [
    "In Python we use the following notation to compute the dot product:\n",
    "- ```np.dot(x,y)```\n",
    "- or alternatively and shortly: ```x@y```\n"
   ]
  },
  {
   "cell_type": "code",
   "execution_count": null,
   "metadata": {
    "id": "vfV1Myc3TZ7-"
   },
   "outputs": [],
   "source": [
    "x = np.array([5, 1])\n",
    "y = np.array([3, 2])\n",
    "dot_prod = np.dot(x, y)\n",
    "dot_prod = x@y"
   ]
  },
  {
   "cell_type": "markdown",
   "metadata": {
    "id": "stK6feV6hLGb"
   },
   "source": [
    "An alternate way of defining the dot product is as the multiple of the lengths of the two vectors and the angle between them $\\theta$:\n",
    "\n",
    "\\begin{equation}\n",
    "\\mathbf{x} \\cdot \\mathbf{y} = ||\\mathbf{x}|| \\cdot ||\\mathbf{y}|| \\cdot \\text{cos}\\theta\n",
    "\\end{equation}\n",
    "\n",
    "This means that:\n",
    "\n",
    "- the dot product is largest when the vectors are the same direction (angle $0^{\\text{o}}$)\n",
    "\n",
    "- the dot product is smallest when the vectors are the opposite direction (angle $180^{\\text{o}}$)\n",
    "\n",
    "- the dot product is 0 when the vectors are perpendicular (angle $90^{\\text{o}}$)\n",
    "\n",
    "- for fixed vector lengths, the dot product is a measure of similarity between the vectors"
   ]
  },
  {
   "cell_type": "markdown",
   "metadata": {
    "id": "mPY-HJn3wwBm"
   },
   "source": [
    "### Normalizing a Vector\n",
    "\n",
    "Normalizing a vector is a common operation in various fields, including computer science, data science, machine learning, and physics.\n",
    "\n",
    "Normalization of a vector involves scaling the vector so that its length (magnitude) is 1. The normalized vector points in the same direction as the original vector but has a unit length.\n",
    "\n",
    "The formula to normalize a vector $\\mathbf{v}$ is:\n",
    "$$\\mathbf{v}_{\\text{normalized}} = \\frac{\\mathbf{v}}{\\|\\mathbf{v}\\|} $$\n",
    "where $\\|\\mathbf{v}\\|$ is the length (norm) of the vector $\\mathbf{v}$.\n",
    "\n",
    "### Reasons to Normalize a Vector\n",
    "\n",
    "1. **Standardizing Data**:\n",
    "   - In data processing and machine learning, normalizing feature vectors ensures that each feature contributes equally to the result.\n",
    "   - It prevents features with larger ranges from dominating the model's performance.\n",
    "\n",
    "2. **Simplifying Calculations**:\n",
    "   - Normalizing vectors can simplify mathematical computations and algorithms.\n",
    "   - For example, in gradient descent, normalized vectors help maintain consistent learning rates across different scales.\n",
    "\n",
    "3. **Improving Numerical Stability**:\n",
    "   - Normalized vectors can improve the numerical stability of algorithms by preventing overflow or underflow.\n",
    "   - It helps in maintaining precision during calculations, especially in iterative algorithms.\n",
    "\n",
    "4. **Making Comparisons Easier**:\n",
    "   - Normalized vectors allow for easy comparison of direction and similarity.\n",
    "   - When vectors are normalized, their dot product directly reflects the cosine of the angle between them, which measures similarity.\n",
    "\n",
    "5. **Ensuring Consistent Magnitude**:\n",
    "   - Normalizing vectors ensures that all vectors have a unit length, which is useful in applications like computer graphics and physics simulations.\n",
    "   - It helps in maintaining consistent scales when combining or comparing vectors.\n",
    "\n",
    "6. **Training Neural Networks**:\n",
    "   - In neural networks, normalizing input vectors can lead to faster convergence during training.\n",
    "   - It helps in avoiding issues related to different scales of input features."
   ]
  },
  {
   "cell_type": "code",
   "execution_count": null,
   "metadata": {
    "cellView": "form",
    "colab": {
     "base_uri": "https://localhost:8080/",
     "height": 534,
     "referenced_widgets": [
      "dd12d71cebb441daa9c80c4b372d1e93",
      "938185da61de47dfa64c8eb9acb7f27f",
      "746df7cbefd64465ac808f41c16185fc",
      "faf0bf0706654b61a2a00badaec867f9",
      "30247b96514241bf88b860812bc52d4a",
      "29cb3495331f431d9ba51cf3fd53a8e4",
      "e7839833e75847b18cb1f2ef6889ae6a",
      "e2d01094c2434034a0f57a07525da6ba",
      "83941458ac1d45d68bff161da438bdd0",
      "0c5dd28850f349b391a7855fea0bd7ab"
     ]
    },
    "id": "0QGDsRP-xKTm",
    "outputId": "4ac344d2-8b79-42d9-e9db-e57091c2d437"
   },
   "outputs": [],
   "source": [
    "#@title Run this for visualizing our vector.\n",
    "import numpy as np\n",
    "import matplotlib.pyplot as plt\n",
    "import ipywidgets as widgets  # interactive display\n",
    "from ipywidgets import fixed\n",
    "%config InlineBackend.figure_format = 'retina'\n",
    "\n",
    "def plot_arrow(x):\n",
    "  fig, ax = plt.subplots(figsize=(5, 5))\n",
    "\n",
    "  origin = np.array([0, 0]) # origin point\n",
    "\n",
    "  # Compute vector length (use np.linalg.norm)\n",
    "  vector_length = np.linalg.norm(x)\n",
    "\n",
    "  # Create normalized vector\n",
    "  x_norm = x / vector_length\n",
    "\n",
    "  plt.quiver(*origin, x[0], x[1], color='r',scale=20, label='v')\n",
    "  plt.quiver(*origin, x_norm[0], x_norm[1], color='k',scale=20,label='normalized v')\n",
    "  plt.xlim([-10,10])\n",
    "  plt.ylim([-10,10])\n",
    "  plt.xlabel('$x_1$')\n",
    "  plt.ylabel('$x_2$')\n",
    "  plt.legend()\n",
    "\n",
    "  plt.show()\n",
    "\n",
    "@widgets.interact(x1 = widgets.FloatSlider(value=1.0, min=-10, max=10, step=0.5), x2 = widgets.FloatSlider(value=1.0, min=-10, max=10, step=0.5))\n",
    "def plot_linear_combination(x1, x2):\n",
    "  x = np.array([x1, x2])\n",
    "  plot_arrow(x)\n",
    "\n"
   ]
  },
  {
   "cell_type": "markdown",
   "metadata": {
    "id": "OjnhbkT_RKs_"
   },
   "source": [
    "Write a python function to normalize a vector"
   ]
  },
  {
   "cell_type": "code",
   "execution_count": null,
   "metadata": {
    "id": "QtoPs7KWRJNr"
   },
   "outputs": [],
   "source": [
    "# Your answer goes below"
   ]
  },
  {
   "cell_type": "code",
   "execution_count": null,
   "metadata": {
    "cellView": "form",
    "id": "dEzTrDzgRNJV"
   },
   "outputs": [],
   "source": [
    "#@title Double-click for the solution\n",
    "# Function to normalize a vector\n",
    "def normalize_vector(vector):\n",
    "    magnitude = np.linalg.norm(vector)\n",
    "\n",
    "    return vector / magnitude"
   ]
  },
  {
   "cell_type": "markdown",
   "metadata": {
    "id": "mVsswieva9wO"
   },
   "source": [
    "### Matrix-vector or matrix matrix product\n",
    "We can multiply matrix with a vector or matrix with another matrix using the matrix product operator in Python. If we have a matrix $A$ and a vector $x$:\n",
    "\n",
    "\\begin{equation}A =\n",
    "\\begin{bmatrix}\n",
    "1 & 2 \\\\\n",
    "3 & 4\n",
    "\\end{bmatrix} x =\n",
    "\\begin{bmatrix}\n",
    "2 \\\\ 1 \\\\\n",
    "\\end{bmatrix}\n",
    "\\end{equation}\n",
    "\n",
    "\n",
    "\n",
    "\\begin{equation}\n",
    "A  \\cdot x= 2 \\begin{bmatrix} 1 \\\\ 3 \\end{bmatrix} + 1 \\begin{bmatrix} 2 \\\\ 4  \\end{bmatrix} = \\begin{bmatrix} 4 \\\\ 10 \\end{bmatrix}\n",
    "\\end{equation}\n",
    "\n",
    "\n",
    "- this is again ```A@X```"
   ]
  },
  {
   "cell_type": "code",
   "execution_count": null,
   "metadata": {
    "id": "mB5AxR9Ca9wS"
   },
   "outputs": [],
   "source": [
    "# Define the matrices\n",
    "A = np.array([[1,2],\n",
    "              [3,4]])\n",
    "x = np.array([2,1])\n"
   ]
  },
  {
   "cell_type": "code",
   "execution_count": null,
   "metadata": {
    "colab": {
     "base_uri": "https://localhost:8080/"
    },
    "id": "oeamThQ3a9wT",
    "outputId": "c93fee82-d8d5-47cb-dc13-c72a908ae16d"
   },
   "outputs": [],
   "source": [
    "A@x"
   ]
  },
  {
   "cell_type": "markdown",
   "metadata": {
    "id": "_UbMYypNa9wU"
   },
   "source": [
    "We can also use the matrix product to multiply two matrices. Given matrices $A$ and $B$ to perform a dot product we need:\n",
    "- \\# of columns in A must be equal to # of rows in B."
   ]
  },
  {
   "cell_type": "code",
   "execution_count": null,
   "metadata": {
    "id": "dISbAcPSa9wU"
   },
   "outputs": [],
   "source": [
    "# Define the matrices\n",
    "A = np.array([[1,2],\n",
    "              [3,4]])\n",
    "B = np.array([[2,1],\n",
    "              [-5,0]])"
   ]
  },
  {
   "cell_type": "code",
   "execution_count": null,
   "metadata": {
    "colab": {
     "base_uri": "https://localhost:8080/"
    },
    "id": "WjHf161_a9wV",
    "outputId": "e8ef1e0a-771f-444f-df17-c406a53f9a60"
   },
   "outputs": [],
   "source": [
    "A@B"
   ]
  },
  {
   "cell_type": "markdown",
   "metadata": {
    "id": "PcCTfrYHa9wW"
   },
   "source": [
    "**Be careful:** Dot product is not an element-wise multiplication of the matrices! To do an element-wise multiplication of $A$ and $B$ (a.k.a. the Hadamard product denoted by $A⊙B$) we use ```np.multiply(A,B)``` or ```A*B```."
   ]
  },
  {
   "cell_type": "markdown",
   "metadata": {
    "id": "uYiFniF1Qo-o"
   },
   "source": [
    "## Other important matrix properties"
   ]
  },
  {
   "cell_type": "markdown",
   "metadata": {
    "id": "gph-zDIeQ4Yy"
   },
   "source": [
    "### Transpose of a matrix\n",
    "\n",
    "Transposing a matrix is a common operation in linear algebra. It is switching the columns by the rows.\n",
    "\n",
    "\\begin{equation}A =\n",
    "\\begin{bmatrix}\n",
    "1 & 2 \\\\\n",
    "3 & 4 \\\\\n",
    "5 & 6\n",
    "\\end{bmatrix} A^T =\n",
    "\\begin{bmatrix}\n",
    "1 & 3 & 5\\\\\n",
    "2 & 4 & 6\n",
    "\\end{bmatrix}\n",
    "\\end{equation}\n",
    "\n",
    "In python we transpose a matrix $A$ by:\n",
    "- ```A.T```\n",
    "- ```np.transpose(A)```"
   ]
  },
  {
   "cell_type": "markdown",
   "metadata": {
    "id": "VjSnqOEwdk2q"
   },
   "source": [
    "### Diagonal matrices\n",
    "\n",
    "A square matrix is called ***diagonal*** when all non-diagonal elements are equal to zero.\n",
    "\n",
    "\\begin{equation}A =\n",
    "\\begin{bmatrix}\n",
    "4 & 0 & 0\\\\\n",
    "0 & 3 & 0\\\\\n",
    "0 & 0 & 1\n",
    "\\end{bmatrix}\n",
    "\\end{equation}\n",
    "\n",
    "In Python we can get the diagonal elements of a diagonal matrix using ```np.diag(A)```"
   ]
  },
  {
   "cell_type": "code",
   "execution_count": null,
   "metadata": {
    "colab": {
     "base_uri": "https://localhost:8080/"
    },
    "id": "xQlQFugDePjd",
    "outputId": "10452453-9134-4dd3-cedd-05554f261763"
   },
   "outputs": [],
   "source": [
    "A = np.array([[4,0,0],\n",
    "              [0,3,0],\n",
    "              [0,0,1]])\n",
    "print(np.diag(A))"
   ]
  },
  {
   "cell_type": "markdown",
   "metadata": {
    "id": "P7MRuVUtee3d"
   },
   "source": [
    "### Identity matrix\n",
    "\n",
    "A diagonal matrix is called ***identity matrix*** when all diagonal elements are equal to $1$.\n",
    "\n",
    "In Python we can easily build identity matrices of desired shape using:\n",
    "- ```np.eye(n)``` where $n$ is the number of rows/columns"
   ]
  },
  {
   "cell_type": "code",
   "execution_count": null,
   "metadata": {
    "colab": {
     "base_uri": "https://localhost:8080/"
    },
    "id": "SJmaA8jlfGie",
    "outputId": "9a666f5b-664b-4dbd-89cd-c21b80f5b831"
   },
   "outputs": [],
   "source": [
    "np.eye(3)"
   ]
  },
  {
   "cell_type": "markdown",
   "metadata": {
    "id": "G-rgqIuvQtEm"
   },
   "source": [
    "### Inverse of a matrix\n",
    "\n",
    "In some operations, we'll be needing to find the inverse of a given matrix. For example:\n",
    "\n",
    "$A = BC$\n",
    "\n",
    "we know the matrices $A$ and $B$ and want to solve for $C$.\n",
    "\n",
    "we can invert $B$ to $B^{-1}$ and compute the dot product: $A \\cdot B^{-1}$.\n",
    "\n"
   ]
  },
  {
   "cell_type": "markdown",
   "metadata": {
    "id": "21bnCvp2b5Mo"
   },
   "source": [
    "We invert the matrix $B$ in Python using:\n",
    "\n",
    "- ```B_i = np.linalg.inv(B)```\n",
    "- ```B.I```"
   ]
  },
  {
   "cell_type": "code",
   "execution_count": null,
   "metadata": {
    "colab": {
     "base_uri": "https://localhost:8080/"
    },
    "id": "OTHWVzugcGuz",
    "outputId": "6b8cf5b6-7dbd-4ee6-bc3f-49ae203947c5"
   },
   "outputs": [],
   "source": [
    "B = np.array([[1,2],\n",
    "              [3,4]])\n",
    "\n",
    "print(f'B: \\n{B}')\n",
    "print(f'B inverted:\\n{np.linalg.inv(B)}')"
   ]
  },
  {
   "cell_type": "markdown",
   "metadata": {
    "id": "dh6j6U-McRwj"
   },
   "source": [
    "**Be careful**: Not all matrices are invertible! We say *singular* to the matrices that are noninvertible.\n",
    "\n",
    "Let's try this:\n",
    "\\begin{bmatrix}\n",
    "3 & 1 \\\\\n",
    "6 & 2  \n",
    "\\end{bmatrix}"
   ]
  },
  {
   "cell_type": "code",
   "execution_count": null,
   "metadata": {
    "colab": {
     "base_uri": "https://localhost:8080/",
     "height": 381
    },
    "id": "hHD4BknrcaEg",
    "outputId": "9485fc5d-eb2a-4e30-d397-fcc2e3825945"
   },
   "outputs": [],
   "source": [
    "B = np.array([[3, 1], [6, 2]])\n",
    "print(B)\n",
    "print(np.linalg.inv(B) )"
   ]
  },
  {
   "cell_type": "markdown",
   "metadata": {
    "id": "EAZpjnSIfp9A"
   },
   "source": [
    "As you saw, we get an error trying to invert a singular matrix."
   ]
  },
  {
   "cell_type": "markdown",
   "metadata": {
    "id": "lAOAsTIogrUU"
   },
   "source": [
    "### Determinant\n",
    "\n",
    "Determinant is a very important property of a matrix. Determinant is a single value and you can learn a lot by it.\n",
    "\n",
    "Determinant can tell you if a matrix is singular or not. If\n",
    "- $det(A=0)$, $A$ is singular (noninvertible)\n",
    "\n",
    "In python we use ```np.linalg.det(A)```"
   ]
  },
  {
   "cell_type": "code",
   "execution_count": null,
   "metadata": {
    "colab": {
     "base_uri": "https://localhost:8080/"
    },
    "id": "92MVMSv9h9At",
    "outputId": "33b6b918-710f-4bab-ae22-e1aebfb15d1e"
   },
   "outputs": [],
   "source": [
    "print(f'determinant of A: {np.linalg.det(B)}')\n"
   ]
  },
  {
   "cell_type": "code",
   "execution_count": null,
   "metadata": {
    "colab": {
     "base_uri": "https://localhost:8080/",
     "height": 398
    },
    "id": "Kx01mfm_ht8-",
    "outputId": "a64e308d-527a-4c46-b968-ccb159ee1261"
   },
   "outputs": [],
   "source": [
    "B = np.array([[3, 1], [6, 2]])\n",
    "print(B)\n",
    "print(np.linalg.inv(B) )\n",
    "\n"
   ]
  },
  {
   "cell_type": "markdown",
   "metadata": {
    "id": "zx9WjKPCmXYt"
   },
   "source": [
    "---\n",
    "# Section 3. Resources <a name=\"resources\"></a>"
   ]
  },
  {
   "cell_type": "markdown",
   "metadata": {
    "id": "sRXRWSBTmbvs"
   },
   "source": [
    "## Cheat sheet\n",
    "\n",
    "A nice cheat sheet for the course from Data Camp:\n",
    "\n",
    "[Data Camp SciPy Cheat Sheet](https://res.cloudinary.com/dyd911kmh/image/upload/v1676303474/Marketing/Blog/SciPy_Cheat_Sheet.pdf)"
   ]
  },
  {
   "cell_type": "markdown",
   "metadata": {
    "id": "FA7WLX8pmjeC"
   },
   "source": [
    "## Getting help"
   ]
  },
  {
   "cell_type": "markdown",
   "metadata": {
    "id": "zT00thiDoH5T"
   },
   "source": [
    "NumPy linear algebra documentation:\n",
    "https://numpy.org/doc/stable/reference/routines.linalg.html"
   ]
  },
  {
   "cell_type": "markdown",
   "metadata": {
    "id": "bsWZnvZfZPW-"
   },
   "source": [
    "Congrats! That's it for this tutorial.\n",
    "\n"
   ]
  },
  {
   "cell_type": "markdown",
   "metadata": {
    "id": "T9uDFOdZX9HP"
   },
   "source": [
    "---\n",
    "# About the author (feel free to contact)\n",
    "\n",
    "## Burak Gür\n",
    "- Post-doctoral researcher at the [Friedrich Miescher Institute for Biomedical Sciences](https://www.fmi.ch/) (FMI) in Basel. I investigate how time affects learning and memory using fruit flies at the [laboratory of Johannes Felsenberg](https://www.fmi.ch/research-groups/groupleader.html?group=141).\n",
    "- Organizer at the computational neuroscience and deep learning school [Neuromatch Academy](https://academy.neuromatch.io/about/mission).\n",
    "- Links:\n",
    "[twitter](https://twitter.com/burakgur_), [Google Scholar](https://scholar.google.com/citations?user=8B2egmgAAAAJ&hl=en), [linkedin](https://www.linkedin.com/in/burak-gur-605701a2/?originalSubdomain=de)\n",
    "- Feel free to contact me: burak.guer@fmi.ch"
   ]
  }
 ],
 "metadata": {
  "colab": {
   "include_colab_link": true,
   "provenance": []
  },
  "kernelspec": {
   "display_name": "Python 3 (ipykernel)",
   "language": "python",
   "name": "python3"
  },
  "language_info": {
   "codemirror_mode": {
    "name": "ipython",
    "version": 3
   },
   "file_extension": ".py",
   "mimetype": "text/x-python",
   "name": "python",
   "nbconvert_exporter": "python",
   "pygments_lexer": "ipython3",
   "version": "3.11.1"
  },
  "widgets": {
   "application/vnd.jupyter.widget-state+json": {
    "082d5bc19c954d4c85b8130079cb1b22": {
     "model_module": "@jupyter-widgets/base",
     "model_module_version": "1.2.0",
     "model_name": "LayoutModel",
     "state": {
      "_model_module": "@jupyter-widgets/base",
      "_model_module_version": "1.2.0",
      "_model_name": "LayoutModel",
      "_view_count": null,
      "_view_module": "@jupyter-widgets/base",
      "_view_module_version": "1.2.0",
      "_view_name": "LayoutView",
      "align_content": null,
      "align_items": null,
      "align_self": null,
      "border": null,
      "bottom": null,
      "display": null,
      "flex": null,
      "flex_flow": null,
      "grid_area": null,
      "grid_auto_columns": null,
      "grid_auto_flow": null,
      "grid_auto_rows": null,
      "grid_column": null,
      "grid_gap": null,
      "grid_row": null,
      "grid_template_areas": null,
      "grid_template_columns": null,
      "grid_template_rows": null,
      "height": null,
      "justify_content": null,
      "justify_items": null,
      "left": null,
      "margin": null,
      "max_height": null,
      "max_width": null,
      "min_height": null,
      "min_width": null,
      "object_fit": null,
      "object_position": null,
      "order": null,
      "overflow": null,
      "overflow_x": null,
      "overflow_y": null,
      "padding": null,
      "right": null,
      "top": null,
      "visibility": null,
      "width": null
     }
    },
    "0c5dd28850f349b391a7855fea0bd7ab": {
     "model_module": "@jupyter-widgets/base",
     "model_module_version": "1.2.0",
     "model_name": "LayoutModel",
     "state": {
      "_model_module": "@jupyter-widgets/base",
      "_model_module_version": "1.2.0",
      "_model_name": "LayoutModel",
      "_view_count": null,
      "_view_module": "@jupyter-widgets/base",
      "_view_module_version": "1.2.0",
      "_view_name": "LayoutView",
      "align_content": null,
      "align_items": null,
      "align_self": null,
      "border": null,
      "bottom": null,
      "display": null,
      "flex": null,
      "flex_flow": null,
      "grid_area": null,
      "grid_auto_columns": null,
      "grid_auto_flow": null,
      "grid_auto_rows": null,
      "grid_column": null,
      "grid_gap": null,
      "grid_row": null,
      "grid_template_areas": null,
      "grid_template_columns": null,
      "grid_template_rows": null,
      "height": null,
      "justify_content": null,
      "justify_items": null,
      "left": null,
      "margin": null,
      "max_height": null,
      "max_width": null,
      "min_height": null,
      "min_width": null,
      "object_fit": null,
      "object_position": null,
      "order": null,
      "overflow": null,
      "overflow_x": null,
      "overflow_y": null,
      "padding": null,
      "right": null,
      "top": null,
      "visibility": null,
      "width": null
     }
    },
    "29cb3495331f431d9ba51cf3fd53a8e4": {
     "model_module": "@jupyter-widgets/base",
     "model_module_version": "1.2.0",
     "model_name": "LayoutModel",
     "state": {
      "_model_module": "@jupyter-widgets/base",
      "_model_module_version": "1.2.0",
      "_model_name": "LayoutModel",
      "_view_count": null,
      "_view_module": "@jupyter-widgets/base",
      "_view_module_version": "1.2.0",
      "_view_name": "LayoutView",
      "align_content": null,
      "align_items": null,
      "align_self": null,
      "border": null,
      "bottom": null,
      "display": null,
      "flex": null,
      "flex_flow": null,
      "grid_area": null,
      "grid_auto_columns": null,
      "grid_auto_flow": null,
      "grid_auto_rows": null,
      "grid_column": null,
      "grid_gap": null,
      "grid_row": null,
      "grid_template_areas": null,
      "grid_template_columns": null,
      "grid_template_rows": null,
      "height": null,
      "justify_content": null,
      "justify_items": null,
      "left": null,
      "margin": null,
      "max_height": null,
      "max_width": null,
      "min_height": null,
      "min_width": null,
      "object_fit": null,
      "object_position": null,
      "order": null,
      "overflow": null,
      "overflow_x": null,
      "overflow_y": null,
      "padding": null,
      "right": null,
      "top": null,
      "visibility": null,
      "width": null
     }
    },
    "30247b96514241bf88b860812bc52d4a": {
     "model_module": "@jupyter-widgets/base",
     "model_module_version": "1.2.0",
     "model_name": "LayoutModel",
     "state": {
      "_model_module": "@jupyter-widgets/base",
      "_model_module_version": "1.2.0",
      "_model_name": "LayoutModel",
      "_view_count": null,
      "_view_module": "@jupyter-widgets/base",
      "_view_module_version": "1.2.0",
      "_view_name": "LayoutView",
      "align_content": null,
      "align_items": null,
      "align_self": null,
      "border": null,
      "bottom": null,
      "display": null,
      "flex": null,
      "flex_flow": null,
      "grid_area": null,
      "grid_auto_columns": null,
      "grid_auto_flow": null,
      "grid_auto_rows": null,
      "grid_column": null,
      "grid_gap": null,
      "grid_row": null,
      "grid_template_areas": null,
      "grid_template_columns": null,
      "grid_template_rows": null,
      "height": null,
      "justify_content": null,
      "justify_items": null,
      "left": null,
      "margin": null,
      "max_height": null,
      "max_width": null,
      "min_height": null,
      "min_width": null,
      "object_fit": null,
      "object_position": null,
      "order": null,
      "overflow": null,
      "overflow_x": null,
      "overflow_y": null,
      "padding": null,
      "right": null,
      "top": null,
      "visibility": null,
      "width": null
     }
    },
    "436c5af8e6df4dac850906ce8b444e68": {
     "model_module": "@jupyter-widgets/controls",
     "model_module_version": "1.5.0",
     "model_name": "FloatSliderModel",
     "state": {
      "_dom_classes": [],
      "_model_module": "@jupyter-widgets/controls",
      "_model_module_version": "1.5.0",
      "_model_name": "FloatSliderModel",
      "_view_count": null,
      "_view_module": "@jupyter-widgets/controls",
      "_view_module_version": "1.5.0",
      "_view_name": "FloatSliderView",
      "continuous_update": true,
      "description": "x2",
      "description_tooltip": null,
      "disabled": false,
      "layout": "IPY_MODEL_7230cc4fe97245d7ba296dfd95843c30",
      "max": 10,
      "min": -10,
      "orientation": "horizontal",
      "readout": true,
      "readout_format": ".2f",
      "step": 0.5,
      "style": "IPY_MODEL_bd782d7e49ce4d48839eba8c3cac9809",
      "value": 1
     }
    },
    "569417677fde4efea8c8797de9aa09e6": {
     "model_module": "@jupyter-widgets/controls",
     "model_module_version": "1.5.0",
     "model_name": "SliderStyleModel",
     "state": {
      "_model_module": "@jupyter-widgets/controls",
      "_model_module_version": "1.5.0",
      "_model_name": "SliderStyleModel",
      "_view_count": null,
      "_view_module": "@jupyter-widgets/base",
      "_view_module_version": "1.2.0",
      "_view_name": "StyleView",
      "description_width": "",
      "handle_color": null
     }
    },
    "7230cc4fe97245d7ba296dfd95843c30": {
     "model_module": "@jupyter-widgets/base",
     "model_module_version": "1.2.0",
     "model_name": "LayoutModel",
     "state": {
      "_model_module": "@jupyter-widgets/base",
      "_model_module_version": "1.2.0",
      "_model_name": "LayoutModel",
      "_view_count": null,
      "_view_module": "@jupyter-widgets/base",
      "_view_module_version": "1.2.0",
      "_view_name": "LayoutView",
      "align_content": null,
      "align_items": null,
      "align_self": null,
      "border": null,
      "bottom": null,
      "display": null,
      "flex": null,
      "flex_flow": null,
      "grid_area": null,
      "grid_auto_columns": null,
      "grid_auto_flow": null,
      "grid_auto_rows": null,
      "grid_column": null,
      "grid_gap": null,
      "grid_row": null,
      "grid_template_areas": null,
      "grid_template_columns": null,
      "grid_template_rows": null,
      "height": null,
      "justify_content": null,
      "justify_items": null,
      "left": null,
      "margin": null,
      "max_height": null,
      "max_width": null,
      "min_height": null,
      "min_width": null,
      "object_fit": null,
      "object_position": null,
      "order": null,
      "overflow": null,
      "overflow_x": null,
      "overflow_y": null,
      "padding": null,
      "right": null,
      "top": null,
      "visibility": null,
      "width": null
     }
    },
    "746df7cbefd64465ac808f41c16185fc": {
     "model_module": "@jupyter-widgets/controls",
     "model_module_version": "1.5.0",
     "model_name": "FloatSliderModel",
     "state": {
      "_dom_classes": [],
      "_model_module": "@jupyter-widgets/controls",
      "_model_module_version": "1.5.0",
      "_model_name": "FloatSliderModel",
      "_view_count": null,
      "_view_module": "@jupyter-widgets/controls",
      "_view_module_version": "1.5.0",
      "_view_name": "FloatSliderView",
      "continuous_update": true,
      "description": "x2",
      "description_tooltip": null,
      "disabled": false,
      "layout": "IPY_MODEL_e2d01094c2434034a0f57a07525da6ba",
      "max": 10,
      "min": -10,
      "orientation": "horizontal",
      "readout": true,
      "readout_format": ".2f",
      "step": 0.5,
      "style": "IPY_MODEL_83941458ac1d45d68bff161da438bdd0",
      "value": 1
     }
    },
    "83878f54965e4fa0aa7fdb222e82d349": {
     "model_module": "@jupyter-widgets/base",
     "model_module_version": "1.2.0",
     "model_name": "LayoutModel",
     "state": {
      "_model_module": "@jupyter-widgets/base",
      "_model_module_version": "1.2.0",
      "_model_name": "LayoutModel",
      "_view_count": null,
      "_view_module": "@jupyter-widgets/base",
      "_view_module_version": "1.2.0",
      "_view_name": "LayoutView",
      "align_content": null,
      "align_items": null,
      "align_self": null,
      "border": null,
      "bottom": null,
      "display": null,
      "flex": null,
      "flex_flow": null,
      "grid_area": null,
      "grid_auto_columns": null,
      "grid_auto_flow": null,
      "grid_auto_rows": null,
      "grid_column": null,
      "grid_gap": null,
      "grid_row": null,
      "grid_template_areas": null,
      "grid_template_columns": null,
      "grid_template_rows": null,
      "height": null,
      "justify_content": null,
      "justify_items": null,
      "left": null,
      "margin": null,
      "max_height": null,
      "max_width": null,
      "min_height": null,
      "min_width": null,
      "object_fit": null,
      "object_position": null,
      "order": null,
      "overflow": null,
      "overflow_x": null,
      "overflow_y": null,
      "padding": null,
      "right": null,
      "top": null,
      "visibility": null,
      "width": null
     }
    },
    "83941458ac1d45d68bff161da438bdd0": {
     "model_module": "@jupyter-widgets/controls",
     "model_module_version": "1.5.0",
     "model_name": "SliderStyleModel",
     "state": {
      "_model_module": "@jupyter-widgets/controls",
      "_model_module_version": "1.5.0",
      "_model_name": "SliderStyleModel",
      "_view_count": null,
      "_view_module": "@jupyter-widgets/base",
      "_view_module_version": "1.2.0",
      "_view_name": "StyleView",
      "description_width": "",
      "handle_color": null
     }
    },
    "938185da61de47dfa64c8eb9acb7f27f": {
     "model_module": "@jupyter-widgets/controls",
     "model_module_version": "1.5.0",
     "model_name": "FloatSliderModel",
     "state": {
      "_dom_classes": [],
      "_model_module": "@jupyter-widgets/controls",
      "_model_module_version": "1.5.0",
      "_model_name": "FloatSliderModel",
      "_view_count": null,
      "_view_module": "@jupyter-widgets/controls",
      "_view_module_version": "1.5.0",
      "_view_name": "FloatSliderView",
      "continuous_update": true,
      "description": "x1",
      "description_tooltip": null,
      "disabled": false,
      "layout": "IPY_MODEL_29cb3495331f431d9ba51cf3fd53a8e4",
      "max": 10,
      "min": -10,
      "orientation": "horizontal",
      "readout": true,
      "readout_format": ".2f",
      "step": 0.5,
      "style": "IPY_MODEL_e7839833e75847b18cb1f2ef6889ae6a",
      "value": 1
     }
    },
    "a2a0c2a44c8b43dc8b5201a92905e4ae": {
     "model_module": "@jupyter-widgets/controls",
     "model_module_version": "1.5.0",
     "model_name": "VBoxModel",
     "state": {
      "_dom_classes": [
       "widget-interact"
      ],
      "_model_module": "@jupyter-widgets/controls",
      "_model_module_version": "1.5.0",
      "_model_name": "VBoxModel",
      "_view_count": null,
      "_view_module": "@jupyter-widgets/controls",
      "_view_module_version": "1.5.0",
      "_view_name": "VBoxView",
      "box_style": "",
      "children": [
       "IPY_MODEL_ddb79f357b8b4f22aa6b01f4182a0af5",
       "IPY_MODEL_436c5af8e6df4dac850906ce8b444e68",
       "IPY_MODEL_b2914850acf443e6a5af42bbb3a88e1a"
      ],
      "layout": "IPY_MODEL_83878f54965e4fa0aa7fdb222e82d349"
     }
    },
    "b2914850acf443e6a5af42bbb3a88e1a": {
     "model_module": "@jupyter-widgets/output",
     "model_module_version": "1.0.0",
     "model_name": "OutputModel",
     "state": {
      "_dom_classes": [],
      "_model_module": "@jupyter-widgets/output",
      "_model_module_version": "1.0.0",
      "_model_name": "OutputModel",
      "_view_count": null,
      "_view_module": "@jupyter-widgets/output",
      "_view_module_version": "1.0.0",
      "_view_name": "OutputView",
      "layout": "IPY_MODEL_d9027d7695e34dbdbde6dd053a2c23f5",
      "msg_id": "",
      "outputs": [
       {
        "data": {
         "image/png": "iVBORw0KGgoAAAANSUhEUgAAA90AAAOLCAYAAABNGeBsAAAAOXRFWHRTb2Z0d2FyZQBNYXRwbG90bGliIHZlcnNpb24zLjcuMSwgaHR0cHM6Ly9tYXRwbG90bGliLm9yZy/bCgiHAAAACXBIWXMAAB7CAAAewgFu0HU+AABoQklEQVR4nO39ebRU1Z03/r8LkBnEWRGcRbQ1ti0QE1TAAUWjiBqHqNEoBjXaJk+ifhOjYvqJEc3g0BlAcB7bJM7ayyGIEwYxGO0WRRwZ1IATgghcqN8f/qgHw3iHcwfu67XWXevAObU/u+rWqVvv2rv2KZXL5XIAAACAOteioTsAAAAAayuhGwAAAAoidAMAAEBBhG4AAAAoiNANAAAABRG6AQAAoCBCNwAAABRE6AYAAICCCN0AAABQEKEbAAAACiJ0AwAAQEGEbgAAACiI0A0AAAAFEboBAACgIEI3AAAAFEToBgAAgIII3QAAAFAQoRsAAAAKInQDAABAQYRuAAAAKIjQXYB//OMfuf/++3PhhRdm0KBB2XDDDVMqlVIqlXLSSSdVu72HHnooQ4YMSbdu3dKmTZt069YtQ4YMyUMPPVSn/f7ss89y2WWXpXfv3ll//fXToUOH9OzZMz/84Q/z9ttv12ktAACA5qBULpfLDd2JtU2pVFrpvhNPPDHXX3/9GrWzZMmSfPe7382YMWNWeszQoUMzcuTItGhRu89Ppk6dmoMOOiivvfbaCvd37tw5t9xyS77xjW/Uqg4AAEBzYqS7YFtssUUGDhxYo9uef/75lcC922675bbbbsuECRNy2223ZbfddkuSjB49Oj/96U9r1cdPP/00Bx98cCVwn3rqqXnsscfyzDPP5Oc//3k6duyYOXPm5Oijj84LL7xQq1oAAADNiZHuAlx00UXp3bt3evfunU022SRvvfVWtt566yRrPtI9ZcqU/Mu//EuqqqrSq1evPPHEE2nXrl1l/2effZZ+/fpl4sSJadWqVSZPnpztttuuRv298MIL8x//8R9JkssuuyznnHPOl/Y/88wz6devX6qqqtKvX788/vjjNaoDAADQ3BjpLsDFF1+cb3zjG9lkk01q3MYVV1yRqqqqJMnVV1/9pcCdJO3bt8/VV1+dJKmqqspvfvObGtVZtGhRrrrqqiTJjjvumB/+8IfLHfP1r389p5xySpJk3Lhxee6552pUCwAAoLkRuhuhcrmce+65J0nSs2fP7LHHHis8bo899sgOO+yQJLnnnntSk0kLY8eOzSeffJLki1H4lX03fNkF4O66665q1wEAAGiOhO5G6M0338zMmTOTJP369VvlsUv3z5gxI2+99Va1az311FPLtbUivXr1Svv27ZMkTz/9dLXrAAAANEetGroDLO/ll1+ubPfs2XOVxy67f/LkyZXvjtd1rVatWmW77bbLiy++mMmTJ1erRpJMnz59lfs///zzvPLKK9lkk02y0UYbpVUrT00AAGiOqqqqMmvWrCTJLrvskrZt2zZwj2pHsmmElg2o3bp1W+Wx3bt3r2xPmzatxrU6dOiQLl26rLbWiy++mFmzZmXBggVp06bNGtdZtp8AAABrYsKECendu3dDd6NWTC9vhD799NPKdseOHVd5bIcOHSrbc+fOrXGt1dWpi1oAAADNjZHuRujzzz+vbLdu3XqVxy472jx//vwa11pdndrWWt0o/LRp0/L1r389yRefZm222WbVah8AAFg7vPvuu+nTp0+SZKONNmrg3tSe0N0ILfudhYULF67y2AULFlS2//myYtWptbo6ta21umnyy9pss82qdTwAALB2WhvWejK9vBHq1KlTZXt107jnzZtX2V6TKeIrq7Um08VrWwsAAKC5EboboWVHeVe36vey07ZrsljZ0lrz5s3Lxx9/vEa1Ntpoo2otogYAANBcCd2N0E477VTZfuWVV1Z57LL7d9xxx8JqVVVV5fXXX69xHQAAgOZI6G6Ett5663Tt2jVJMm7cuFUe+8QTTyRJNt9882y11VbVrrXnnntWtldVa+LEiZXp5X379q12HQAAgOZI6G6ESqVSBg8enOSL0ednn312hcc9++yzldHpwYMHp1QqVbtW//79s+666yZJbrjhhpTL5RUed/3111e2hwwZUu06AAAAzZHQ3Uh9//vfT8uWLZMkZ5111nKX6Jo/f37OOuusJF+s6Pf9739/he2cdNJJKZVKKZVKefzxx5fb37p16/z7v/97kmTy5Mn55S9/udwx48ePz5gxY5Ik/fr1a/IXpwcAAKgvTX/99UboqaeeytSpUyv/nj17dmV76tSpXxo1Tr4Ixv+sR48eOeecc3LppZdm4sSJ6du3b84777xsu+22ef311zNixIhMmjQpSXLOOedk++23r3F/zznnnNxxxx2ZMmVKzj333EydOjXHHHNM2rVrl7Fjx+aSSy5JVVVV2rVrlyuuuKLGdQAAAJqbUnll84mpsZNOOik33HDDGh+/sl/BkiVLcuqpp+baa69d6W1POeWUjBo1Ki1arHjSwrJ9GTt2bPr377/C46ZOnZqDDjoor7322gr3d+7cObfccku+8Y1vrOKe1Nz06dMrq69PmzbNdboBAKCZWtuygenljViLFi0yZsyYPPDAAxk8eHC6du2a1q1bp2vXrhk8eHAefPDBjB49eqWBuzq22267TJo0KSNGjEivXr3SpUuXtG/fPjvssEN+8IMf5MUXXywscAMAAKytjHTTKKxtn2YBAAA1s7ZlAyPdAAAAUBChGwAAAAoidAMAAEBBhG4AAAAoiNANAAAABRG6AQAAoCBCNwAAABRE6AYAAICCCN0AAABQEKEbAAAACiJ0AwAAQEGEbgAAACiI0A0AAAAFEboBAACgIEI3AAAAFEToBgAAgIII3QAAAFAQoRsAAAAKInQDAABAQYRuAAAAKIjQDQAAAAURugEAAKAgQjcAAAAUROgGAACAggjdAAAAUBChGwAAAAoidAMAAEBBhG4AAAAoiNANAAAABRG6AQAAoCBCNwAAABRE6AYAAICCCN0AAABQEKEbAAAACiJ0AwAAQEGEbgAAACiI0A0AAAAFEboBAACgIEI3AAAAFEToBgAAgIII3QAAAFAQoRsAAAAKInQDAABAQYRuAAAAKIjQDQAAAAURugEAAKAgQjcAAAAUROgGAACAggjdAAAAUBChGwAAAAoidAMAAEBBhG4AAAAoiNANAAAABRG6AQAAoCBCNwAAABRE6AYAAICCCN0AAABQEKEbAAAACiJ0AwAAQEGEbgAAACiI0A0AAAAFEboBAACgIEI3AAAAFEToBgAAgIII3QAAAFAQoRsAAAAKInQDAABAQYRuAAAAKIjQDQAAAAURugEAAKAgQjcAAAAUROgGAACAggjdAAAAUBChGwAAAAoidDdS/fv3T6lUqtbP448/Xu06w4cPL7R9AACA5kzoXku0aNEi22+/fUN3AwAAgGW0augOsGLXXXdd5s2bt8pjXn755Rx99NFJkn333Tebb755rWq+9NJLq9y/9dZb16p9AACA5kbobqTWJODedNNNle1vf/vbta65884717oNAAAA/h/Ty5uoJUuW5JZbbkmSdOzYMYcffngD9wgAAIB/JnQ3UY899lhmzJiRJDnyyCPTvn37Bu4RAAAA/0zobqJuvPHGynZdTC0HAACg7gndTdDcuXNz1113JUm23HLL9O/fv07aHThwYDbeeOO0bt06G2+8cfr3759LL700H330UZ20DwAA0NxYSK0J+tOf/lRZ2fz4449PqVSqk3YfeeSRyvasWbMybty4jBs3LiNGjMj111+fwYMH17jt6dOnr3L/u+++W+O2AQAAGiuhuwmq66nlu+yySw477LD06dMnXbt2zaJFi/Lqq6/mlltuycMPP5yPP/44RxxxRO67774MGjSoRjW6d+9e634CAAA0NaVyuVxu6E6w5qZPn54tt9wyS5YsyR577JHx48fXqr2PP/44Xbp0Wen+kSNH5rTTTkuSdO3aNa+//nratm1b7TrVGY2fNm1aunXrVu0aAABA0zd9+vTKoN3akA2MdDcxN998c5YsWZIkOfHEE2vd3qoCd5IMGzYszz33XMaMGZOZM2fmT3/6U4477rhq15k2bdoq97/77rvp06dPtdsFAABozITuJuamm25KkrRp0yZHH310vdQcNmxYxowZkyQZN25cjUJ3U/90CgAAoCasXt6ETJw4MS+//HKS5Bvf+EbWW2+9eqm70047VbaXXhscAACA1RO6m5BlF1Cri6nla6quVkcHAABoboTuJmLRokW5/fbbkyQbbbRRjVcRr4mlo+vJF4upAQAAsGaE7ibioYceyqxZs5Ik3/rWt9KqVf19HX/kyJGV7X79+tVbXQAAgKZO6G4ianJt7uuvvz6lUimlUinDhw9fbv9LL72UqVOnrrKNUaNGZfTo0UmSTTfdNEOGDFnzTgMAADRzVi9vAj766KPcf//9SZKdd945//Zv/1Yn7T7//PMZOnRoBgwYkEGDBmWXXXbJBhtskKqqqrzyyiu55ZZb8vDDDydJWrZsmVGjRqVDhw51UhsAAKA5ELqbgDvuuCMLFixIsuaj3Gtq8eLFefTRR/Poo4+u9JgNNtggY8aMySGHHFKntQEAANZ2QncTsPTa3C1btqzRNbJX5qCDDsqYMWMyfvz4TJo0Ke+//34++OCDlMvlrL/++tl1111z4IEH5qSTTkrnzp3rrC4AAEBzUSqXy+WG7gRMnz493bt3T5JMmzYt3bp1a+AeAQAADWFtywYWUgMAAICCCN0AAABQEKEbAAAACiJ0AwAAQEGEbgAAACiI0A0AAAAFEboBAACgIEI3AAAAFEToBgAAgIII3QAAAFAQoRsAAAAKInQDAABAQYRuAAAAKIjQDQAAAAURugEAAKAgQjcAAAAUROgGAACAggjdAAAAUBChGwAAAAoidAMAAEBBhG4AAAAoiNANAAAABRG6AQAAoCBCNwAAABRE6AYAAICCCN0AAABQEKEbAAAACiJ0AwAAQEGEbgAAACiI0A0AAAAFEboBAACgIEI3AAAAFEToBgAAgIII3QAAAFAQoRsAAAAKInQDAABAQYRuAAAAKIjQDQAAAAURugEAAKAgQjcAAAAUROgGAACAggjdAAAAUBChGwAAAAoidAMAAEBBhG4AAAAoiNANAAAABRG6AQAAoCBCNwAAABRE6AYAAICCCN0AAABQEKEbAAAACiJ0AwAAQEGEbgAAACiI0A0AAAAFEboBAACgIEI3AAAAFEToBgAAgIII3QAAAFAQoRsAAAAKInQDAABAQYRuAAAAKIjQDQAAAAURugEAAKAgQjcAAAAUROgGAACAggjdAAAAUBChGwAAAAoidAMAAEBBhG4AAAAoiNANAAAABRG6AQAAoCBCNwAAABRE6AYAAICCCN0AAABQEKG7ESuVSmv0079//zqpd9ttt2XgwIHZdNNN07Zt22y55ZY5/vjjM378+DppHwAAoLkRusn8+fNz8MEH51vf+lYeeeSRvP/++1mwYEHeeeed3HLLLdlzzz1z8cUXN3Q3AQAAmpxWDd0BVu/000/PGWecsdL9HTp0qFX7J598ch588MEkyYABA3L22Wena9eueemll3LJJZfk9ddfz/Dhw7PZZpvlu9/9bq1qAQAANCdCdxOw8cYbZ+eddy6k7b/85S+5/fbbkySHHHJI7rrrrrRs2TJJ0rt37xx66KHZfffd88477+S8887LN7/5zay33nqF9AUAAGBtY3p5M/fLX/4ySdKqVav87ne/qwTupTbccMOMGDEiSfLxxx9n9OjR9d5HAACApkrobsY+/fTTPPbYY0mS/fbbL926dVvhcYcffng6d+6cJLnrrrvqrX8AAABNndDdjD333HNZuHBhkqRfv34rPa5169bZY489KrdZtGhRvfQPAACgqRO6m4A777wzO+20U9q3b59OnTpl++23z4knnpixY8fWqt2XX365st2zZ89VHrt0f1VVVV577bVa1QUAAGguLKTWBCwbjpNk6tSpmTp1am688cYcdthhuf7667PuuutWu93p06dXtlc2tXyp7t27V7anTZuWnXbaqca1VuTdd9+tVnsAAABNgdDdiLVv3z6HHnpo9t133/Ts2TMdO3bMrFmzMm7cuPzhD3/IBx98kLvvvjuDBw/OI488knXWWada7X/66aeV7Y4dO67y2GUvSzZ37tzq3ZF8ObQDAAA0F0J3IzZjxox06dJluf/ff//9c9ZZZ2XQoEGZNGlSxo0bl9///vf593//92q1//nnn1e2W7duvcpj27RpU9meP39+teoAAAA0V0J3I7aiwL3UJptskj/+8Y/p2bNnFi1alKuvvrraobtt27aV7aULqq3MggULKtvt2rWrVp3kiynpq/Luu++mT58+1W4XAACgMRO6m7Btttkm+++/fx588MFMnTo1M2fOTNeuXdf49p06dapsr27K+Lx58yrbq5uKviKr+844AADA2sjq5U3csguazZgxo1q3XTYIr26hs2VHqn0/GwAAYM0I3U1cqVSq8W2XDeyvvPLKKo9dur9Vq1bZfvvta1wTAACgORG6m7hlLydWnanlSdK7d+/KAmrjxo1b6XELFy7Ms88+W7lNdVdJBwAAaK6E7ibszTffzCOPPJIk2XbbbbP55ptX6/adOnXKvvvumyR59NFHVzrF/M9//nPmzJmTJBkyZEgtegwAANC8CN2N1H333ZeqqqqV7n///fdzxBFHVFYdP+OMM5Y75vrrr0+pVEqpVMrw4cNX2M6PfvSjJElVVVW+973vZfHixV/aP3v27Jx33nlJvlhNfejQoTW5OwAAAM2S1csbqbPOOiuLFi3KEUccka997WvZaqut0q5du8yePTuPP/54Ro4cmdmzZydJ9txzz3zve9+rUZ199tknxxxzTG6//fbce++92X///fP9738/Xbt2zUsvvZSf//zneeedd5IkI0aMyHrrrVdn9xEAAGBtJ3Q3YjNnzszVV1+dq6++eqXHHHHEERk9enTatGlT4zrXXntt5syZkwcffDBjx47N2LFjv7S/RYsWueCCC/Ld7363xjUAAACaI6G7kbrhhhsybty4jB8/Pm+88UZmz56dOXPmpGPHjunevXu+/vWv58QTT8zXvva1Wtdq165dHnjggdx66625/vrr8/e//z0ff/xxNtlkk+y1114588wz66QOAABAc1Mql8vlhu4ETJ8+vXL972nTpn3pGuIAAEDzsbZlAwupAQAAQEGEbgAAACiI0A0AAAAFEboBAACgIEI3AAAAFEToBgAAgIII3QAAAFAQoRsAAAAKInQDAABAQYRuAAAAKIjQDQAAAAURugEAAKAgQjcAAAAUROgGAACAggjdAAAAUBChGwAAAAoidAMAAEBBhG4AAAAoiNANAAAABRG6AQAAoCBCNwAAABRE6AYAAICCCN0AAABQEKEbAAAACiJ0AwAAQEGEbgAAACiI0A0AAAAFEboBAACgIEI3AAAAFEToBgAAgIII3QAAAFAQoRsAAAAKInQDAABAQYRuAAAAKIjQDQAAAAURugEAAKAgQjcAAAAUROgGAACAggjdAAAAUBChGwAAAAoidAMAAEBBhG4AAAAoiNANAAAABRG6AQAAoCBCNwAAABRE6AYAAICCCN0AAABQEKEbAAAACiJ0AwAAQEGEbgAAACiI0A0AAAAFEboBAACgIEI3AAAAFEToBgAAgIII3QAAAFAQoRsAAAAKInQDAABAQYRuAAAAKIjQDQAAAAURugEAAKAgQjcAAAAUROgGAACAggjdAAAAUBChGwAAAAoidAMAAEBBhG4AAAAoiNANAAAABRG6AQAAoCBCNwAAABRE6AYAAICCCN0AAABQEKEbAAAACiJ0AwAAQEGEbgAAACiI0A0AAAAFEbobsYkTJ+ZnP/tZBg4cmG7duqVNmzbp2LFjevToke985zt56qmn6qTO8OHDUyqV1ujn8ccfr5OaAAAAzUGrhu4AK7b33nvnySefXO7/Fy5cmNdeey2vvfZarr/++nz729/ONddck9atWzdALwEAAFgVobuRmjlzZpKka9eu+eY3v5m99torW2yxRRYvXpzx48fnV7/6VWbMmJEbb7wxixYtyq233londV966aVV7t96663rpA4AAEBzIHQ3Uj179swll1ySI444Ii1btvzSvj322CMnnHBC+vbtmylTpuS2227Laaedlr333rvWdXfeeedatwEAAMAXfKe7kbr//vtz1FFHLRe4l9pwww3zq1/9qvLvP/7xj/XVNQAAANaQ0N2EDRgwoLL9+uuvN2BPAAAAWBGhuwlbsGBBZXtlI+IAAAA0HN/pbsLGjRtX2d5xxx3rpM2BAwfmhRdeyMcff5wuXbpkp512yoEHHphhw4ZlvfXWq3G706dPX+X+d999t8ZtAwAANFZCdxO1ZMmSXHrppZV/H3XUUXXS7iOPPFLZnjVrVsaNG5dx48ZlxIgRuf766zN48OAatdu9e/c66R8AAEBTInQ3Ub/5zW8yYcKEJMnhhx+e3XffvVbt7bLLLjnssMPSp0+fdO3aNYsWLcqrr76aW265JQ8//HA+/vjjHHHEEbnvvvsyaNCgurgLAAAAa71SuVwuN3QnqJ5x48Zlv/32S1VVVTbeeOO89NJL2XjjjWvc3tKp5CszcuTInHbaaUm+uG7466+/nrZt21arxppML+/Tp0+SZNq0aenWrVu12gcAANYO06dPr8yUXRuygZHuJuZ///d/M2TIkFRVVaVt27a58847axW4k6wycCfJsGHD8txzz2XMmDGZOXNm/vSnP+W4446rVo2mfqIAAADUhNXLm5A333wzAwcOzEcffZSWLVvm9ttvz957710vtYcNG1bZXnYBNwAAAFZO6G4iZs6cmf322y8zZ85MqVTKtddeW+NFzWpip512qmzPmDGj3uoCAAA0ZUJ3EzB79uzsv//+eeONN5IkV199db797W/Xax9KpVK91gMAAFgbCN2N3CeffJIDDjggL7/8cpLk0ksvzfe+971678fS+skXi6kBAACwekJ3I/bZZ5/l4IMPzt/+9rckyfnnn5/zzjuvQfoycuTIyna/fv0apA8AAABNjdDdSC1cuDBDhgzJ008/nSQ5++yz83//7/+tdjvXX399SqVSSqVShg8fvtz+l156KVOnTl1lG6NGjcro0aOTJJtuummGDBlS7X4AAAA0Ry4Z1kgde+yxefjhh5Mk++yzT0455ZT8z//8z0qPb926dXr06FHtOs8//3yGDh2aAQMGZNCgQdlll12ywQYbpKqqKq+88kpuueWWSj9atmyZUaNGpUOHDjW7UwAAAM2M0N1I/fnPf65s/+Uvf8lXvvKVVR6/5ZZb5q233qpRrcWLF+fRRx/No48+utJjNthgg4wZMyaHHHJIjWoAAAA0R0J3M3fQQQdlzJgxGT9+fCZNmpT3338/H3zwQcrlctZff/3suuuuOfDAA3PSSSelc+fODd1dAACAJqVULpfLDd0JmD59erp3754kmTZtWrp169bAPQIAABrC2pYNLKQGAAAABRG6AQAAoCBCNwAAABRE6AYAAICCCN0AAABQEKEbAAAACiJ0AwAAQEGEbgAAACiI0A0AAAAFEboBAACgIEI3AAAAFEToBgAAgIII3QAAAFAQoRsAAAAKInQDAABAQYRuAAAAKIjQDQAAAAURugEAAKAgQjcAAAAUROgGAACAggjdAAAAUBChGwAAAAoidAMAAEBBhG4AAAAoiNANAAAABRG6AQAAoCBCNwAAABRE6AYAAICCCN0AAABQEKEbAAAACiJ0AwAAQEGEbgAAACiI0A0AAAAFEboBAACgIEI3AAAAFEToBgAAgIII3QAAAFAQoRsAAAAKInQDAABAQYRuAAAAKIjQDQAAAAURugEAAKAgQjcAAAAUROgGAACAgrRq6A4AANC0vPfee/n3f//3VFVVpWXLlmnZsmVatWq1yu3V7V+TY7t165Y99tijoe8+QLUI3QAAVMumm26aY445Jt/85jezZMmSeql5yimn5PLLL6+XWgB1yfRyAACq7fDDD88f/vCHwutsu+22eeyxxzJ69Oist956hdcDqGtCNwAANXLqqafm5z//eSFtt2zZMuedd15eeuml7LPPPoXUAKgPppcDAFBjP/7xjzNr1qxcccUVddbmv/3bv2X06NHZbbfd6qxNgIYidAMAUG1LlizJxIkT89BDD+WZZ56pkzbbtWuXn/3sZ/n+97+fVq28TQXWDl7NAABYI7Nnz87DDz+chx56KP/93/+d2bNn11nb++67b0aOHJltt922ztoEaAyEbgAAVmjZ0eyHHnooEyZMSLlcrtMa6623Xn7961/nxBNPTKlUqtO2ARoDoRsAgIoiR7P/2dFHH50rr7wym2yySWE1ABqa0A0A0IzVx2j2P+vWrVt+97vf5ZBDDim0DkBjIHQDADQzRYxmt2/fPhtvvHHeeuutlR5TKpVyxhln5JJLLknnzp1rXROgKRC6AQDWckWNZvfs2TODBg3KoEGDstdee+VHP/pRfvvb367w2B133DHXXHNN+vbtW+u6AE2J0A0AsBYqajR7n332yUEHHZQDDzwwW2+99Zf2v/DCC8vdZp111slPfvKT/PjHP06bNm1q3QeApkboBgBYC9TXaHbbtm1XWv/vf//7l/5vjz32yOjRo/Mv//Ivte4HQFMldAMANFENMZq9Mm+88Ubmzp2bJOnYsWN+8Ytf5PTTT0/Lli1r3SeApkzoBgBoIhp6NHtVlk4tP+igg/L73/8+W2yxRa37BbA2ELoBABqxxjSavSozZ87MbbfdlqOPPjqlUqnW7QGsLYRuAIBGpDGPZq/KWWedJWwDrIDQDQDQwJrKaPaqCNwAKyZ0AwDUs6Y6mg1A9QndAAD1YG0YzQag+oRuAIACGM0GIBG6AQDqjNFsAP6Z0A0AUENGswFYHaEbAKAajGYDUB1CNwDAKhjNBqA2hG4AgH9S1Gj2vvvum0GDBhnNBmhGGjx0L1q0KC+99FJatWqVXXbZJaVSaYXHvfjii3nhhRfy7W9/u557CACs7epjNHvvvfdOmzZt6qC3ADQlDRq677zzzpx++un56KOPkiRdu3bNiBEj8q1vfWu5Y++666787Gc/E7oBgDpR9Gj2oEGDstVWW9W+owA0aQ0WuidMmJBjjz02LVu2zP7775911lknjz76aE444YQ8+eST+f3vf99QXQMA1kJGswFoCA0Wui+77LK0aNEif/nLX9K3b98kyTvvvJMTTjgho0aNyvz583PdddetdLp5c/P222/nqquuygMPPJBp06alTZs22XbbbXPUUUfle9/7Xtq3b18ndR566KGMGjUqzz33XGbNmpWNNtoovXv3zne/+90MGjSoTmoAQH0xmg1AQ2uw0P3000/nsMMOqwTuJNliiy3y2GOP5cQTT8yNN96YxYsX58Ybb2z2wfu+++7L8ccfnzlz5lT+77PPPsvEiRMzceLEjB49Og888EC22267GtdYsmRJvvvd72bMmDFf+v8ZM2ZkxowZufvuuzN06NCMHDkyLVq0qHEdACiS0WwAGpsGC90ffvhhtt9+++X+v1WrVrn55puzzjrr5MYbb8ySJUty0003NUAPG4dJkybl6KOPzvz589OxY8f8+Mc/zoABAzJ//vzcfvvtueaaazJlypQcfPDBmThxYjp16lSjOueff34lcO+2224599xzs+222+b111/PZZddlkmTJmX06NHZaKONcskll9TlXQSAWjGaDUBj1mChe9NNN82sWbNWuK9UKuW6665LuVzOTTfdlCVLltRqFLcpO/vsszN//vy0atUqDz/8cL72ta9V9u2zzz7Zfvvtc+6552bKlCn51a9+leHDh1e7xpQpU/LLX/4ySdKrV6888cQTadeuXZKkd+/eOfTQQ9OvX79MnDgxl19+eU4++eRm+/sAoOEZzQagKSmV6+KvVA0ccMABefPNNzNlypSVHlMul3PSSSflpptuSqdOnTJ37twsXry4HnvZsCZMmJCvfvWrSZJhw4blD3/4w3LHLFmyJDvvvHMmT56cLl265B//+EfWWWedatU544wzKgvXjR8/Pnvsscdyxzz77LOVwH/GGWfkt7/9bXXvzipNnz493bt3T5JMmzYt3bp1q9P2AWjajGYDNB9rWzZosC/nDho0KFOnTs2TTz650mNKpVKuv/76fPvb386nn35aj71rHO6+++7K9ne+850VHtOiRYvKZdQ+/vjjjB07tlo1yuVy7rnnniRffMK/osCdJHvssUd22GGHJMk999xTJyMKALAyS5YsyYQJE3LxxRdnjz32yMYbb5zjjjsuN998c60Cd8+ePfODH/wgDz/8cD788MPce++9Of300wVuAArTYNPLjzrqqLz//vv54IMPVnnc0qnmW221Vd5+++166l3j8NRTTyVJOnTokN13332lx/Xr16+y/fTTT2fgwIFrXOPNN9/MzJkzl2tnZXVeffXVzJgxI2+99Va23nrrNa4DAGti0qRJ+fWvf200G4C1RoOF7q5du+YXv/jFGh1bKpVq9F3lpm7y5MlJku222y6tWq38V9WzZ8/lbrOmXn755RW2syZ1qhO6p0+fvsr977777hq3BcDa6+OPP87NN99cqzZ8NxuAxqTw0P3UU09lzz33LLrMWufzzz+vfMK/uu8wrLfeeunQoUPmzZuXadOmVavOsmF4dXWWfq8iSbXrLHtbAFiZvn37plOnTtX6WpnRbAAas8JD98CBA3PLLbdkyJAhRZdaqyz7ZqNjx46rPX5p6J47d25hdTp06FDZrm4dAFgTrVu3zn777Ze77rprlccZzQagqSg8dH/++ec56qij8pvf/CZnnnlm0eXWGp9//nllu3Xr1qs9fumbjfnz5xdWZ9k3NNWts7qR8XfffTd9+vSpVpsArJ0GDRq0XOg2mg1AU1V46N5jjz3y7LPP5uyzz8706dNz6aWXrtHt/vd//zc//elPV/tJ99qqbdu2le2FCxeu9vgFCxYkSeX62kXUWVqjJnWa+jL/ANSfQYMGJTGaDcDaofDQ/Ze//CXf+ta3cvfdd+fyyy/PjBkzct111610YbA333wzF154YW6//fYsWbKk6O41Wp06dapsr8lU7nnz5iVZs6noNa2ztEZN6gDAmurWrdtacV1WAEjq4Trdbdu2zZ/+9KeceeaZKZfLufXWWzNo0KDlFkh59913c/rpp6dnz5659dZbs3jx4rRo0WCXEW9wbdu2zQYbbJBk9St/f/TRR5VAXN0Fy5Z9Q7O6OstOEbcwGgBFErgBWFvUS6otlUq56qqrcvnllyf5YvR77733znvvvZcPP/ww55xzTrbbbruMGjUqixYtSpJ885vfzN///vf66F6jtdNOOyVJpk6dmqqqqpUe98orr1S2d9xxxxrV+Od26roOAABAc1SvQ8k//OEPc9ttt6V169Z58cUXs/vuu2ebbbbJr3/968rCXIcffnj+/ve/54477vhSIGyOll5qbd68eXn++edXety4ceMq23379q1Wja233jpdu3Zdrp0VeeKJJ5Ikm2++uQVsAAAA1kC9z98+4ogjcsIJJ6RcLue9997LnDlzkiSHHXZYJk2alD/+8Y/Zeeed67tbjdJhhx1W2b7uuutWeMySJUty4403Jkm6dOmSAQMGVKtGqVTK4MGDk3wxkv3ss8+u8Lhnn322MtI9ePDglEqlatUBAABojuotdC9evDijR4/O9ttvnzFjxqRUKqVcLidJNthgg1x00UX5yle+Ul/daRL69OmTvfbaK0kyZsyYjB8/frljfvWrX2Xy5MlJkrPPPjvrrLPOl/Y//vjjKZVKKZVKOemkk1ZY5/vf/35atmyZJDnrrLOWuxzY/Pnzc9ZZZyVJWrVqle9///u1uVsAAADNRuGhe/Hixbn22mvTo0ePDBs2LG+99VbK5XJ23XXX/Pa3v82GG26YDz74IP369cujjz5adHeanCuvvDLt2rVLVVVVBg4cmF/84hd59tlnM3bs2AwbNiznnntukqRHjx754Q9/WKMaPXr0yDnnnJMkmThxYvr27Zs77rgjEydOzB133JG+fftm4sSJSZJzzjkn22+/fd3cOQAAgLVc4ZcM22GHHfLmm29WRrV79OiRn/3sZznqqKOSJPvtt18OPPDAvPnmmzn44IMzatSonHjiiUV3q8nYbbfdcscdd+T444/PnDlz8pOf/GS5Y3r06JEHHnjgS5f/qq6f//zn+cc//pFrr702kyZNyjHHHLPcMaecckr+7//9vzWuAQAA0NwUPtL9xhtvpFwuZ4sttsjo0aPz8ssvVwJ3kmy//fZ59tlns/vuu2fRokU5+eST8x//8R9Fd6tJOeSQQ/Liiy/mBz/4QXr06JH27dunS5cu6dWrV0aMGJFJkyZlu+22q1WNFi1aZMyYMXnggQcyePDgdO3aNa1bt07Xrl0zePDgPPjggxk9enSzvowbAABAdZXKS4egC7Lpppvm/PPPz7Bhw9K6deuVHvfZZ5/lyCOPzH//93+nVCrllFNOyR/+8Achr5mYPn165drf06ZNc31WAABopta2bFAvI91nnXXWKgN3krRv3z733XdfTj755JTL5YwZMyaHHHJI0d0DAACAwhQeutu3b7/Gx7Zs2TKjR4/OhRdemHK5nP/+7/8usGcAAABQrEY5d3v48OG55pprKpexAgAAgKao8NXLa+qUU05J165dG7obAAAAUGONcqR7qUGDBjV0FwAAAKDGGnXoBgAAgKZM6AYAAICCCN0AAABQEKEbAAAACiJ0AwAAQEGEbgAAACiI0A0AAAAFEboBAACgIEI3AAAAFEToBgAAgIII3QAAAFAQoRsAAAAKInQDAABAQYRuAAAAKIjQDQAAAAURugEAAKAgQjcAAAAUROgGAACAggjdAAAAUBChGwAAAAoidAMAAEBBhG4AAAAoiNANAAAABRG6AQAAoCBCNwAAABRE6AYAAICCCN0AAABQEKEbAAAACiJ0AwAAQEGEbgAAACiI0A0AAAAFEboBAACgIEI3AAAAFEToBgAAgIII3QAAAFAQoRsAAAAKInQDAABAQYRuAAAAKIjQDQAAAAURugEAAKAgQjcAAAAUROgGAACAggjdAAAAUBChGwAAAAoidAMAAEBBhG4AAAAoiNANAAAABRG6AQAAoCBCNwAAABRE6AYAAICCCN0AAABQEKEbAAAACiJ0AwAAQEGEbgAAACiI0A0AAAAFEboBAACgIEI3AAAAFEToBgAAgIII3QAAAFAQoRsAAAAKInQDAABAQYRuAAAAKIjQDQAAAAURugEAAKAgQjcAAAAUROgGAACAggjdAAAAUBChGwAAAAoidAMAAEBBhO5G7K233srVV1+dI444Ittvv33at2+ftm3bplu3bjnssMNy++23p6qqqtZ1Hn/88ZRKpTX6GT58eO3vGAAAQDPRqqE7wIpdcMEF+fnPf55yubzcvhkzZmTGjBm555578utf/zp//OMfs8UWWzRALwEAAFgVobuRevfdd1Mul9OhQ4cMGTIk++67b7bffvu0bds2kydPzlVXXZXnnnsuzz33XPbbb7/87W9/S8eOHWtd99prr03v3r1Xun/jjTeudQ0AAIDmQuhupDbYYIOMGDEip59+ejp16vSlfbvvvnuOPfbYfOtb38p//dd/5bXXXsuvf/3rXHjhhbWuu/XWW2fnnXeudTsAAAD4TnejNWLEiJx77rnLBe6lWrZsmd/97ndp3bp1kuSPf/xjfXYPAACANSB0N2EbbLBBvvKVryRJXn/99QbuDQAAAP9M6G7iFixYkOSLkW8AAAAaF6G7CfvHP/6RyZMnJ0l23HHHOmnz/PPPz5Zbbpk2bdpkvfXWy2677ZYf/OAHmTJlSp20DwAA0JxYSK0Ju/zyyyvX6T7qqKPqpM1nnnmmsr1w4cK88MILeeGFF3LVVVflggsuyEUXXZRSqVTtdqdPn77K/e+++2612wQAAGjshO4m6q9//WuuuOKKJEm3bt1y+umn16q9zTbbLIcffnj23HPPbLPNNmnVqlXeeeed3H///bnxxhuzaNGiXHzxxVm4cGEuueSSarffvXv3WvUPAACgKSqVy+VyQ3eC6nn//ffTq1evTJ8+PaVSKY8++mj22WefGrc3b968tG7dOuuss84K90+YMCEDBw7MJ598klKplEmTJmXXXXetVo3qjI5PmzYt3bp1q1b7AADA2mH69OmVQbu1IRv4TnctlUqlWv9cf/31a1zv008/zcEHH1yZrn3ppZfWKnAnSYcOHVYauJOkT58++c///M8kSblcrmxXx7Rp01b5M2HChBr3HwAAoLEyvbwJ+fzzzzN48OA8//zzSZIf/ehHOffcc+ul9jHHHJPvfe97mTNnTsaNG1ft2zf1T6cAAABqQuiupaWrh9fGZpttttpjqqqqctRRR2Xs2LFJkqFDh+byyy+vde011apVq/To0SMTJ07MjBkz6q0uAABAUyZ011LPnj0Lr7FkyZKccMIJue+++5IkRx99dEaOHFl43X9Wk1XLAQAAmjPf6W4Chg0blttvvz1Jcsghh+Tmm29Oixb1+6urqqqqXKu7a9eu9VobAACgqRK6G7n/83/+T0aPHp0k2XfffXPnnXemVav6n6Bwxx135JNPPkmS9OvXr97rAwAANEVCdyM2fPjw/OY3v0mSfP3rX88999yTNm3aVKuNt956q7JKev/+/Zfb/9FHH+Xxxx9fZRsTJkzImWeemeSLKea1vSY4AABAc+E73Y3U1VdfnYsvvjhJsvnmm+eyyy7Lm2++ucrb7LDDDqu89NeKfPLJJxkwYEC+8pWv5LDDDsvuu++ezTbbLC1btsw777yT+++/PzfddFMWLlyY5IsV03ffffea3SkAAIBmRuhupP70pz9VtmfMmJE999xztbd58803s9VWW9Wo3osvvpgXX3xxpftbtmyZCy64IBdeeGGN2gcAAGiOhO5mrmvXrrnzzjszfvz4TJgwITNmzMjs2bPz+eefZ911180OO+yQ/v37Z+jQoTUO9AAAAM1VqVwulxu6EzB9+vR07949STJt2rR069atgXsEAAA0hLUtG1hIDQAAAAoidAMAAEBBhG4AAAAoiNANAAAABRG6AQAAoCBCNwAAABRE6AYAAICCCN0AAABQEKEbAAAACiJ0AwAAQEGEbgAAACiI0A0AAAAFEboBAACgIEI3AAAAFEToBgAAgIII3QAAAFAQoRsAAAAKInQDAABAQYRuAAAAKIjQDQAAAAURugEAAKAgQjcAAAAUROgGAACAggjdAAAAUBChGwAAAAoidAMAAEBBhG4AAAAoiNANAAAABRG6AQAAoCBCNwAAABRE6AYAAICCCN0AAABQEKEbAAAACiJ0AwAAQEGEbgAAACiI0A0AAAAFEboBAACgIEI3AAAAFEToBgAAgIII3QAAAFAQoRsAAAAKInQDAABAQYRuAAAAKIjQDQAAAAURugEAAKAgQjcAAAAUROgGAACAggjdAAAAUBChGwAAAAoidAMAAEBBhG4AAAAoiNANAAAABRG6AQAAoCBCNwAAABRE6AYAAICCCN0AAABQEKEbAAAACiJ0AwAAQEGEbgAAACiI0A0AAAAFEboBAACgIEI3AAAAFEToBgAAgIII3QAAAFAQoRsAAAAKInQDAABAQYRuAAAAKIjQDQAAAAURugEAAKAgQjcAAAAUROgGAACAggjdAAAAUBChGwAAAAoidAMAAEBBhG4AAAAoiNDdiPXv3z+lUmmNfurKM888k+OPPz5bbrll2rZtm0033TQHHHBAbrvttjqrAQAA0FwI3VQMHz48e+21V2655Za88847WbBgQd5///08/PDD+da3vpVvfOMb+fzzzxu6mwAAAE1Gq4buAKvXq1evXHfddYXWGDlyZC6++OIkybbbbpuf/OQn2WWXXTJz5sxceeWVGTt2bB544IGcfPLJufXWWwvtCwAAwNpC6G4COnTokJ133rmw9j/88MOcd955SZItttgizz77bDbccMPK/m984xsZMmRI7rvvvtx222357ne/m/79+xfWHwAAgLWF6eVk9OjR+eSTT5IkI0aM+FLgTpKWLVvmd7/7XVq2bJkkufzyy+u9jwAAAE2R0E3uvvvuJEnnzp1z+OGHr/CYbt26Zb/99kuSPPbYY/n000/rq3sAAABNltDdzC1cuDATJkxIknzta19L69atV3psv379kiQLFizIxIkT66V/AAAATZnvdDcBr7zySr761a/m1Vdfzeeff54NN9wwu+++e4444ogce+yxWWeddWrc9pQpU7J48eIkSc+ePVd57LL7J0+enAEDBqxxnenTp69y/7vvvrvGbQEAADQVQncT8P777+f999+v/HvGjBmZMWNG7r333owYMSJ//OMfs+OOO9ao7WXDcLdu3VZ5bPfu3Svb06ZNq1adZW8LAADQXAjdjViLFi2y77775qCDDsquu+6aDTbYIJ9++mn+9re/ZeTIkZk8eXJefvnlDBgwIBMmTMgWW2xR7RrLfje7Y8eOqzy2Q4cOle25c+dWuxYAAEBzI3Q3Yn/+85/TpUuX5f5/r732yhlnnJFTTz01N9xwQ95///18//vfz5///Odq1/j8888r26v6PneStGnTprI9f/78atVZ3cj4u+++mz59+lSrTQAAgMZO6K6lUqlU6zauu+66nHTSScv9/4oC91LrrLNORo8enWeffTavvvpq7rrrrsyYMSObb755tWq3bdu2sr1w4cJVHrtgwYLKdrt27apVZ3VT1wEAANZGVi9vwlq1apVTTjml8u9x48ZVu41OnTpVtlc3ZXzevHmV7dVNRQcAAMBId61Nnjy51m1sttlmNb7tTjvtVNmeMWNGtW+/7Aj06lYYX3aKuIXRAAAAVk/orqXVXWaraLWd3t6jR4+0bNkyixcvziuvvLLKY5fdX9PV0gEAAJoT08ubuJdffrmy3bVr12rfvnXr1pUFzMaPH7/K73Uvnb7epk2b9OrVq9q1AAAAmhuhuwmrqqrKtddeW/n33nvvXaN2DjvssCTJnDlzVroC+vTp0/Poo48mSfbdd98vfRccAACAFRO6G6mxY8fm448/Xun+RYsWZejQoZXvlB9yyCEr/J71W2+9lVKplFKplP79+6+wraFDh2bddddNkvx//9//lw8++OBL+xcvXpwzzjgjixcvTpKcc845NbhHAAAAzY/vdDdSN9xwQw499NAceuih6d+/f3bYYYd07tw5c+fOzfPPP59Ro0ZVppZvvPHGufLKK2tca/3118+IESNy2mmn5e23385Xv/rVnH/++dlll10yc+bMXHHFFRk7dmyS5Nhjj11peAcAAODLhO5GbO7cubn11ltz6623rvSYXXbZJbfffnu23nrrWtUaNmxYZs6cmf/4j//I66+/npNPPnm5Yw466KAvTWcHAABg1YTuRuq8887Lv/7rv2b8+PF5+eWXM2vWrHz44Ydp06ZNNtlkk/Tq1StHHnlkhgwZkpYtW9ZJzYsvvjgHHHBAfvvb3+bJJ5/M+++/ny5dumTXXXfNd77znRx77LF1UgcAAKC5KJXL5XJDdwKmT59e+U76tGnTvnT9cAAAoPlY27KBhdQAAACgIEI3AAAAFEToBgAAgIII3QAAAFAQoRsAAAAKInQDAABAQYRuAAAAKIjQDQAAAAURugEAAKAgQjcAAAAUROgGAACAggjdAAAAUBChGwAAAAoidAMAAEBBhG4AAAAoiNANAAAABRG6AQAAoCBCNwAAABRE6AYAAICCCN0AAABQEKEbAAAACiJ0AwAAQEGEbgAAACiI0A0AAAAFEboBAACgIEI3AAAAFEToBgAAgIII3QAAAFAQoRsAAAAKInQDAABAQYRuAAAAKIjQDQAAAAURugEAAKAgQjcAAAAUROgGAACAggjdAAAAUBChGwAAAAoidAMAAEBBhG4AAAAoiNANAAAABRG6AQAAoCBCNwAAABRE6AYAAICCCN0AAABQEKEbAAAACiJ0AwAAQEGEbgAAACiI0A0AAAAFEboBAACgIEI3AAAAFEToBgAAgIII3QAAAFAQoRsAAAAKInQDAABAQYRuAAAAKIjQDQAAAAURugEAAKAgQjcAAAAUROgGAACAggjdAAAAUBChGwAAAAoidAMAAEBBhG4AAAAoiNANAAAABRG6AQAAoCBCNwAAABRE6AYAAICCCN0AAABQEKEbAAAACiJ0AwAAQEGEbgAAACiI0A0AAAAFEboBAACgIEI3AAAAFETobqSGDx+eUqlUrZ/hw4fXqNbjjz9eeA0AAIDmSOhei+ywww4N3QUAAACW0aqhO8CKnXHGGTnyyCNXeczixYuz9957Z86cOencuXMOO+ywWte99tpr07t375Xu33jjjWtdAwAAoLkQuhupjTfeeLUB96GHHsqcOXOSJN/85jfTrl27Wtfdeuuts/POO9e6HQAAAEwvb9JuvPHGyva3v/3tBuwJAAAAKyJ0N1Fz5szJPffck+SL0em99tqrgXsEAADAPxO6m6g777wz8+fPT5KccMIJKZVKDdwjAAAA/pnvdDdRRU0tP//88zN9+vS89957ad++fbbaaqv0798/p59+enr06FHjdqdPn77K/e+++26N2wYAAGishO4m6K233sqTTz6ZJOnbt2+23XbbOmv7mWeeqWwvXLgwL7zwQl544YVcddVVueCCC3LRRRfVaFS9e/fuddZHAACApkLoboJuuummlMvlJMmJJ55YJ21uttlmOfzww7Pnnntmm222SatWrfLOO+/k/vvvz4033phFixbl4osvzsKFC3PJJZfUSU0AAIC1Xam8NL3RZOywww6ZMmVK2rZtm/feey/rrrturdqbN29eWrdunXXWWWeF+ydMmJCBAwfmk08+SalUyqRJk7LrrrtWq8aaTC/v06dPkmTatGnp1q1btdoHAADWDtOnT6/MlF0bsoGF1GqpVCrV+uf6669f43rPPvtspkyZkiQZPHhwrQN3knTo0GGlgTtJ+vTpk//8z/9MkpTL5cp2dXTr1m2VP5tttlmN+w8AANBYCd1NTENdm/uYY45J586dkyTjxo2rt7oAAABNme9019LkyZNr3caajvIuXLgwd9xxR5Jkk002yQEHHFDr2muqVatW6dGjRyZOnJgZM2bUW10AAICmTOiupZ49e9Zbrfvvvz8ffvhhkuS4445Ly5Yt6612EtcCBwAAqCbTy5uQhppaniRVVVWV75J37dq1XmsDAAA0VUJ3E/HBBx/kwQcfTJLsuuuu1V49vLbuuOOOfPLJJ0mSfv361WttAACApkrobiJuu+22LFq0KEn1Rrnfeuutyirp/fv3X27/Rx99lMcff3yVbUyYMCFnnnlmki+mmJ9++ulrXB8AAKA5853uJmLp1PJWrVrluOOOq7N2P/nkkwwYMCBf+cpXcthhh2X33XfPZpttlpYtW+add97J/fffn5tuuikLFy5MkvzoRz/K7rvvXmf1AQAA1mZCdxPwyiuv5LnnnkuSDBw4MJtsskmd13jxxRfz4osvrnR/y5Ytc8EFF+TCCy+s89oAAABrK6G7Cbjpppsq23W9gFrXrl1z5513Zvz48ZkwYUJmzJiR2bNn5/PPP8+6666bHXbYIf3798/QoUOz1VZb1WltAACAtV2pXC6XG7oTMH369HTv3j1JMm3atHTr1q2BewQAADSEtS0bWEgNAAAACiJ0AwAAQEGEbgAAACiI0A0AAAAFEboBAACgIEI3AAAAFEToBgAAgIII3QAAAFAQoRsAAAAKInQDAABAQYRuAAAAKIjQDQAAAAURugEAAKAgQjcAAAAUROgGAACAggjdAAAAUBChGwAAAAoidAMAAEBBhG4AAAAoiNANAAAABRG6AQAAoCBCNwAAABRE6AYAAICCCN0AAABQEKEbAAAACiJ0AwAAQEGEbgAAACiI0A0AAAAFEboBAACgIEI3AAAAFEToBgAAgIII3QAAAFAQoRsAAAAKInQDAABAQYRuAAAAKIjQDQAAAAURugEAAKAgQjcAAAAUROgGAACAggjdAAAAUBChGwAAAAoidAMAAEBBhG4AAAAoiNANAAAABRG6AQAAoCBCNwAAABRE6AYAAICCCN0AAABQEKEbAAAACiJ0AwAAQEGEbgAAACiI0A0AAAAFEboBAACgIEI3AAAAFEToBgAAgIII3QAAAFAQoRsAAAAKInQDAABAQYRuAAAAKIjQDQAAAAURugEAAKAgQjcAAAAUROgGAACAggjdAAAAUBChGwAAAAoidAMAAEBBhG4AAAAoiNANAAAABRG6AQAAoCBCNwAAABRE6AYAAICCCN0AAABQEKEbAAAACiJ0AwAAQEGE7gLMnTs3TzzxRH75y1/mqKOOytZbb51SqZRSqZStttqq2u39z//8T4YNG5Ztt9027dq1y0YbbZS99torf/jDH1JVVVWnfb/tttsycODAbLrppmnbtm223HLLHH/88Rk/fnyd1gEAAGgOSuVyudzQnVjbDBgwII8//vgK92255ZZ566231rita665JmeeeWYWLly4wv19+vTJAw88kA033LAGPf1/5s+fnyOPPDIPPvjgCve3aNEiF154YS666KJa1VmZ6dOnp3v37kmSadOmpVu3boXUAQAAGre1LRsY6S7Asp9jrL/++hk4cGA6duxY7XYefPDBnHbaaVm4cGE22WSTXHXVVfnrX/+ahx56KIcffniSZMKECRkyZEgWL15cqz6ffPLJlcA9YMCA3H333ZkwYULGjBmTbbfdNkuWLMnw4cMzatSoWtUBAABoTox0F2DUqFHp1KlTevfune222y5JstVWW+Xtt99e45HuRYsWpWfPnnnjjTfSuXPn/O1vf8u22277pWO+973v5Xe/+12S5LrrrstJJ51Uo/7+5S9/yb777pskOeSQQ3LXXXelZcuWlf2zZ8/O7rvvnnfeeSddunTJG2+8kfXWW69GtVZmbfs0CwAAqJm1LRsY6S7Ad7/73Rx77LGVwF0Td911V954440kyY9//OPlAneSXH755ZXwe/nll9e41i9/+cskSatWrfK73/3uS4E7STbccMOMGDEiSfLxxx9n9OjRNa4FAADQnAjdjdTdd99d2V7ZCHb79u1z1FFHJUlefvnlTJkypdp1Pv300zz22GNJkv3222+lnyIdfvjh6dy5c5IvPhAAAABg9YTuRuqpp55Kkuywww7ZdNNNV3pcv379KttPP/10tes899xzlUXalm3rn7Vu3Tp77LFH5TaLFi2qdi0AAIDmplVDd4DlzZ07N9OmTUuS9OzZc5XHLrt/8uTJ1a718ssvr7CtldV6+OGHU1VVlddeey077bTTGteZPn36Kvcvvb9J8u67765xuwAAwNpl2TxQ15dIbghCdyO0bEBd3aIBSxcYSL4cXOujVnVC97K3XZ0+ffqs8bEAAMDaa9asWdlqq60auhu1Ynp5I/Tpp59Wtld3qbEOHTpUtufOnduoawEAAFTH+++/39BdqDUj3Y3Q559/Xtlu3br1Ko9t06ZNZXv+/PmNttbqRuHffPPN7L333kmSZ555ploj49SNd999tzLLYMKECdlss80auEfNj99Bw/L4Nzy/g4bnd9Dw/A4ant9Bw5s2bVq+/vWvJ1n9V2CbgmYbukulUq3bqM21sVelbdu2le2li5ytzIIFCyrb7dq1a7S1qnNtve7duzf5a/E1dZtttpnfQQPzO2hYHv+G53fQ8PwOGp7fQcPzO2h4y+aVpsr08kaoU6dOle3VTeOeN29eZXt108MbuhYAAEBz02xHumuy0vc/K2qqyeabb17Zrs6q3zWZkr3sJ3fTp09Pr169CqsFAADQ3DTb0N2YvxvQqVOndO/ePdOmTcsrr7yyymOX3b/jjjtWu9ayK5Cvaa1WrVpl++23r3YtAACA5sb08kZqzz33TJK8+uqree+991Z63Lhx4yrbffv2rXad3r17VxZQW7atf7Zw4cI8++yzlduss8461a4FAADQ3AjdjdRhhx1W2b7++utXeMxnn32W//qv/0ryxYh1jx49ql2nU6dO2XfffZMkjz766Eqns//5z3/OnDlzkiRDhgypdh0AAIDmSOhupIYMGZJtttkmSfKLX/wir7/++nLHnHPOOfnoo48q2yty/fXXp1QqpVQqZfjw4Ss85kc/+lGSpKqqKt/73veyePHiL+2fPXt2zjvvvCRJly5dMnTo0BrdJwAAgOam2X6nu0hTp07NU0899aX/W7oy+Ny5c5cbuT7wwAOz6aabfun/1llnnVx99dU55JBDMmfOnPTt2zc//elP06dPn3z00Ue55ppr8qc//SnJF1PRTzjhhBr3d5999skxxxyT22+/Pffee2/233//fP/730/Xrl3z0ksv5ec//3neeeedJMmIESOy3nrr1bgWAABAc1Iql8vlhu7E2ub666/Pd77znTU+fuzYsenfv/8K911zzTU588wzV3oN7T59+uSBBx7IhhtuuNq+XHTRRSsd7Z4/f36OPPLIPPjggyvc36JFi1xwwQUrvT0AAADLM728kTv11FPz/PPP59RTT80222yTtm3bZoMNNsiee+6Z3//+93n66adXGriro127dnnggQdyyy23ZP/998/GG2+c1q1bp3v37vnWt76Vp556SuAGAACoJiPdAAAAUBAj3QAAAFAQoRsAAAAKInQDAABAQYRuAAAAKIjQDQAAAAURugEAAKAgQjcAAAAUROgGAACAggjd1Jm5c+fmiSeeyC9/+cscddRR2XrrrVMqlVIqlbLVVltVu73/+Z//ybBhw7LtttumXbt22WijjbLXXnvlD3/4Q6qqquq077fddlsGDhyYTTfdNG3bts2WW26Z448/PuPHj6/TOg1t+PDhld/Jmv4MHz68RrUef/zxwms0Vf3791/jx6auPPPMMzn++OOz5ZZbpm3bttl0001zwAEH5LbbbquzGk3JW2+9lauvvjpHHHFEtt9++7Rv3z5t27ZNt27dcthhh+X222+vk9eZ5noevP322/nhD3+Ynj17pkOHDll//fXTu3fvXH755fnss8/qrM5DDz2UIUOGpFu3bmnTpk26deuWIUOG5KGHHqqzGk3JxIkT87Of/SwDBw6sPCYdO3ZMjx498p3vfCdPPfVUndSpzt+Sxx9/vE5qNhVr+rj079+/Tuo1l/cva6o6f19r8xxtzufAP/7xj9x///258MILM2jQoGy44YaV+3rSSSdVu736eh3/7LPPctlll6V3795Zf/3106FDh/Ts2TM//OEP8/bbb9dprRUqQx3p379/OckKf7bccstqtTVq1Khy69atV9penz59yrNmzap1nz/77LPyQQcdtNI6LVq0KA8fPrzWdRqLiy66aKX3dWU/t956a41qjR07do1rXHTRRXV7Rxu5fv36rfFjUxcuuuiicosWLVZa4+CDDy7Pnz+/Tmo1BT/96U/LpVJptY997969y2+//XatajXH8+Dee+8td+7ceaX3s0ePHuXXXnutVjUWL15cPuWUU1b5eA4dOrS8ePHiOrpXjd9ee+21Rs+zb3/72+UFCxbUqlZ1/paMHTu2bu5gE7Gmj0u/fv1qVae5vX9ZU9X5+7r0cZo+fXq16zTnc2BV9/XEE09c43bq83X8tddeK2+//fYrrdO5c+fyfffdV+s6q9IqUEfK5XJle/3110+vXr3yzDPPZO7cudVq58EHH8xpp52WJUuWZJNNNsn555+fr371q/nwww9zzTXX5M9//nMmTJiQIUOG5PHHH0/Lli1r3OeTTz45Dz74YJJkwIABOfvss9O1a9e89NJLueSSS/L6669n+PDh2WyzzfLd7363xnUaizPOOCNHHnnkKo9ZvHhx9t5778yZMyedO3fOYYcdVuu61157bXr37r3S/RtvvHGtazRFvXr1ynXXXVdojZEjR+biiy9Okmy77bb5yU9+kl122SUzZ87MlVdembFjx+aBBx7IySefnFtvvbXQvjQW7777bsrlcjp06JAhQ4Zk3333zfbbb5+2bdtm8uTJueqqq/Lcc8/lueeey3777Ze//e1v6dixY63rNofzYNKkSTn66KMzf/78dOzYMT/+8Y8zYMCAzJ8/P7fffnuuueaaTJkyJQcffHAmTpyYTp061ajO+eefnzFjxiRJdtttt5x77rnZdttt8/rrr+eyyy7LpEmTMnr06Gy00Ua55JJL6vIuNlozZ85MknTt2jXf/OY3s9dee2WLLbbI4sWLM378+PzqV7/KjBkzcuONN2bRokV1dr6/9NJLq9y/9dZb10mdpub000/PGWecsdL9HTp0qFX7ze39y5q67rrrMm/evFUe8/LLL+foo49Okuy7777ZfPPNa1WzOZ8DW2yxRXr27JmHH3642retr9fxTz/9NAcffHBee+21JMmpp56aY445Ju3atcvYsWPzi1/8InPmzMnRRx+dp59+Ov/6r/9a41qrVGikp1kZOXJk+dZbb/3SCMaWW25ZTtZ8pHvhwoXlbbbZpvKp09SpU5c75owzzqh8MnXdddfVuL+PPfZYpZ1DDjmkXFVV9aX9s2bNKm+xxRblJOUuXbqUP/zwwxrXakoefPDByuNyyimn1LidZUf41rZPeWtr6SfxtR3pWJ0PPvigvO6665aTlLfYYovlZodUVVWVDznkkGb3ezr33HPLI0aMKM+ZM2eF+6uqqspHHXVU5XG5+OKLa1yruZ0HS0dbW7VqVX7mmWeW23/ZZZfVemT/1VdfLbdq1aqcpNyrV6/yZ5999qX98+bNK/fq1avSj9qOqjcVBx98cPmOO+5Y7m/ZUrNmzSr36NGj8viPGzeuxrWWHeXjy2r7/F4T3r/Uzrnnnlt5/G666aYatdGcz4ELL7ywfN9995Xfe++9crlcLr/55pvVHumuz9fxCy64oNK/yy67bLn9Tz/9dKUvRb4va37PFOpVdUP3HXfcUTkxfvGLX6zwmHnz5pXXW2+9cpLyTjvtVOO+DRo0qHIyT5s2bYXH3Hbbbas8UddGxxxzTJ28KWtuYaM66it0jxgxovI7uO2221Z4zLRp08otW7YsJykfdNBBhfanKZk9e3blKy677LJLjdtpTufBX//618p9HTZs2AqPWbx4cXnHHXeshIGFCxdWu87pp59eqTN+/PgVHjN+/PjKMWeccUa1a6yt7rvvvsrjctZZZ9W4neYcOFanPkK39y81t3jx4vLmm29eTlLu2LFjed68eTVqxznw/9QkdNfX6/jChQsrgw877rjjSqeqDxs2rFJrwoQJNaq1OhZSo1G5++67K9srW4yhffv2Oeqoo5J8MUVoypQp1a7z6aef5rHHHkuS7LfffunWrdsKjzv88MPTuXPnJMldd91V7TpNzZw5c3LPPfck+WI61F577dXAPaI2lp5PnTt3zuGHH77CY7p165b99tsvSfLYY4/l008/ra/uNWobbLBBvvKVryRJXn/99QbuTdOw7Ov3d77znRUe06JFi3z7299Oknz88ccZO3ZstWqUy+XKa1TPnj2zxx57rPC4PfbYIzvssEOS5J577vnS15+aswEDBlS2Pa+bJu9fauexxx7LjBkzkiRHHnlk2rdv38A9an7q83V87Nix+eSTT5IkJ554Ylq0WHH0XTZzFHW+CN00KktXVt1hhx2y6aabrvS4fv36Vbaffvrpatd57rnnsnDhwuXa+metW7euvBg899xzWbRoUbVrNSV33nln5s+fnyQ54YQT6nT1bOrXwoULM2HChCTJ1772tbRu3Xqlxy49BxYsWJCJEyfWS/+aggULFiRJrdaNaE6Wvn536NAhu++++0qPq83r95tvvln57vKqXruX3T9jxoy89dZb1aqztlr6nE48r5sq719q58Ybb6xsL/0AkPpVn6/jy16xYVW1evXqVfkApia5Yk0I3TQac+fOzbRp05J88cnXqiy7f/LkydWu9fLLL6+wrVXVqqqqqizCsLYq6o/R+eefny233DJt2rTJeuutl9122y0/+MEPajRLYW3yyiuv5Ktf/Wq6dOlSuVzV4MGDKwsd1caUKVOyePHiJMWfT2ujf/zjH5XHYscdd6yTNtf282Dp47XddtulVauVr9Nam+dbTV67a1JnbTVu3LjKdl09rwcOHJiNN944rVu3zsYbb5z+/fvn0ksvzUcffVQn7TdVd955Z3baaae0b98+nTp1yvbbb58TTzyx2rM7/pn3LzU3d+7cyijmlltuWWeXbXMOVE99vo6vaa1WrVplu+22q3GdNSF002hMnz69sr2y6VJLde/evbK9NKg31lpNxVtvvZUnn3wySdK3b99su+22ddb2M888k3feeScLFy7Mxx9/nBdeeCFXXHFFdtxxxwwfPrzZTv18//33M2HChHzyySdZsGBBZsyYkXvvvTcnnnhi/vVf/7VWL/ye47Vz+eWXV67TvfTrLLW1Np8Hn3/+eWbPnp1k9c+39dZbr7Jyc3Wfb57XNbdkyZJceumllX/X1fP6kUceyaxZs7Jo0aLMmjUr48aNy49//ONss802lSmkzdHLL7+cyZMnZ/78+Zk7d26mTp2aG2+8Mfvss0+GDBlSmfJaXc6BmvvTn/5UWdn8+OOPr7PZfM6B6mmI9/sdOnRIly5d1qjWrFmzvjQrqK64ZBiNxrLfJV3d5XmWvdRGdS9JVt+1moqbbrqp8qb/xBNPrJM2N9tssxx++OHZc889s80226RVq1Z55513cv/991dGcy+++OIsXLiw2VzWJ/nie6377rtvDjrooOy6667ZYIMN8umnn+Zvf/tbRo4cmcmTJ+fll1/OgAEDMmHChGyxxRbVruE5XnN//etfc8UVVyT54g3B6aefXqv2msN5UJ3nW/LFc27evHnVfr55Xtfcb37zm8pXTg4//PBVfgVgTeyyyy457LDD0qdPn3Tt2jWLFi3Kq6++mltuuSUPP/xwPv744xxxxBG57777MmjQoLq4C01C+/btc+ihh2bfffdNz54907Fjx0oQ+8Mf/pAPPvggd999dwYPHpxHHnkk66yzTrXadw7UXF3P5nMO1ExDvN9f079Ly9Zq06ZNteutUiHLs8H/X3VWL3/iiScqKwdecMEFqzx28eLFlWP33Xffavfr5JNPrtz+9ddfX+WxY8aMqfWlJZqCpZeSadu2bfnjjz+udXtz585d5crEf/3rXysrSpZKpfILL7xQ65pNxUcffbTSfQsXLiyfeOKJlefckCFDalTjxhtvrLQxZsyYVR77+uuv18ll4tYG7733Xrlbt26V5+Vjjz1Wq/aay3nwzjvvVJ5DJ5xwwmqP7969ezlJedttt61WnZ/97GeVOqv73Sx7WaX/+I//qFadtc3jjz9euSTOxhtvXH7//fdr1d6qXsPK5XL5D3/4Q+Wx79q1a3n+/Pm1qteUrOqxee+998q77bZb5bG58sorq92+9y81M23atHKLFi3KScp77LFHrdtzDvw/1V29vD5fx5dehrh79+6rPfaEE06o1FrZVQFqw/TyZqZUKtX65/rrry+kb23btq1sL10kZGWWnfbRrl27Rl2rJur79/Tss89Wvlc6ePDgrLvuurW+Dx06dFjlJ/h9+vTJf/7nfyb5YiXLpduNRZG/g1VNcVpnnXUyevToyoqdd911V2Wl1epo7M/xNVHf58Gnn36agw8+uDId7dJLL80+++xTq/vQ1M+DNVWd51vy/55z1X2+rQ3P6/r2v//7vxkyZEiqqqrStm3b3Hnnndl4441r1ebqpmkOGzYsp5xySpJk5syZ+dOf/lSrek3Jqh6bTTbZJH/84x8rrwlXX311tdt3DtTMzTffnCVLliSpm9l8zoGaa4j3+9X5u1TTWqsjdNNodOrUqbK9uikkS7+Tk6zZlJGGrNUUNNRqnsccc0zlkibLLvDT3LVq1aryxzqp2WPjOV49n3/+eQYPHpznn38+SfKjH/0o5557br3UXhvOg+o835L/95yr7vPN87p63nzzzQwcODAfffRRWrZsmdtvvz177713vdQeNmxYZbupPq+LsM0222T//fdPkkydOrWyivOacg7UzE033ZQkadOmTY4++uh6qekcWLGGeL9fnb9LNa21Or7T3czUxYp8m222WR30ZHmbb755ZXvZRRZWZNnFFJZdZGFNLbtww/Tp09OrV6/CatVEff6eFi5cmDvuuCPJF5/CH3DAAbWuvaZatWqVHj16ZOLEiTUazS1SQ58rO+20U2W7Jo/NPz/HV6UhnuNror5+B1VVVTnqqKMqqwoPHTo0l19+ea1rr6nGfB6sqbZt22aDDTbIBx98sNrn20cffVR5c1Pd59va8LyuLzNnzsx+++2XmTNnplQq5dprr83gwYPrrX5tX8PWZjvttFMefPDBJF88Nl27dl3j2zb29y+N0cSJEyurWH/jG9/IeuutVy91nQMrVp+v4926dctf//rXzJs3Lx9//PEqZygsrbXRRhvV/fe5I3Q3O6tbmr8hderUKd27d8+0adPyyiuvrPLYZffX5LIny74QrmmtVq1aZfvtt692rZqoz9/T/fffnw8//DBJctxxx9X7tVsb67XAG/pcqe3j0qNHj7Rs2TKLFy8u/HwqSn38DpYsWZITTjgh9913X5Lk6KOPzsiRIwuv+88a63lQHTvttFOefPLJTJ06NVVVVSu9bFhtnm81ee2uSZ2mbvbs2dl///3zxhtvJPliGnN9X5N4bXhOF6U2j01jf//SGC07m6+uFopdE86BFavP1/GddtqpMrX/lVdeqVy7/p9VVVXl9ddfr3GdNWF6OY3KnnvumSR59dVX89577630uGWn6fTt27fadXr37p3WrVsv19Y/W7hwYZ599tnKbaq7ymhT0FBTy5MvXuSWfpe8Op/0NwfLXluyJo9N69at06dPnyTJ+PHjV/l9pqXnQJs2bVY5arI2GjZsWG6//fYkySGHHJKbb745LVrU75/GteU8WPr6PW/evMo0/RWpzev31ltvXXmMVjdd84knnkjyxSyqrbbaqlp1mrJPPvkkBxxwQOU15NJLL833vve9eu9HbV/D1ma1eWy8f6meRYsWVV7jN9poo3pdRdw5sGL1+Tq+9O/S6mpNnDixMgOrJrliTQjdNCqHHXZYZXtlCyB99tln+a//+q8kX3yC1aNHj2rX6dSpU/bdd98kyaOPPrrS6S1//vOfM2fOnCTJkCFDql2nsfvggw8qU9x23XXX7LrrrvVa/4477qhcq7Rfv371Wrsxq6qqyrXXXlv5d02/g7n0fJozZ07+/Oc/r/CY6dOn59FHH02S7Lvvvl/6rtXa7v/8n/+T0aNHJ/nivt95550rHZ0t0tpyHiz7+n3dddet8JglS5ZUPujr0qVLBgwYUK0apVKpMkX6lVdeqYSKf/bss89WRkgGDx7cbEacPvvssxx88MH529/+liQ5//zzc9555zVIX5adMdKUn9d17c0338wjjzySJNl2222/9NW6NeH9S/U89NBDmTVrVpLkW9/6Vr2+xjsHVqw+X8f79+9fWRz4hhtuqFwa958tmzkKO1/qfD10WEZ1LhlWLn9xuaSly/t37ty5PHXq1OWOOeOMMypL+l933XUrbOe6666rHHPRRRet8JhlL0Nw6KGHlquqqr60f9asWeUtttiinKTcpUuX8ocffrhG96EpufrqqyuPwa9+9as1vt2yl4fo16/fcvs//PDD8tixY1fZxl//+tdyly5dKpdKmjhxYjV73zT95S9/qdYlww455JAVHre630G5XC5/8MEHlctRbbnlluXZs2d/aX9VVVX5kEMOqbSzut/Z2uSiiy6q3O+vf/3r5blz51a7DefB8vbaa69yknKrVq3KzzzzzHL7L7vsslW+No8dO3a1l5559dVXyy1btiwnKffq1av82WeffWn/Z599Vu7Vq1elH1OmTKmLu9boLViwoDxw4MDK43f22WfXqJ3V/f188cUXy6+99toq2xg5cmSljU033bRG51dTdO+995YXLVq00v3/fMmwFf3d9f6lbh1xxBGVx+r5559fo9s4B6qnupcMK5fr7nV82fdLK/t7e8EFF1SOueyyy5bb/8wzz1Quqbiy91N1wXe6qTNTp07NU0899aX/W7pa4Ny5c5cbuT7wwAOz6aabfun/1llnnVx99dU55JBDMmfOnPTt2zc//elP06dPn3z00Ue55pprKt/N2HPPPXPCCSfUuL/77LNPjjnmmNx+++259957s//+++f73/9+unbtmpdeeik///nP88477yRJRowYUW8Lb9SnpSNOrVq1ynHHHVdn7X7yyScZMGBAvvKVr+Swww7L7rvvns022ywtW7bMO++8k/vvvz833XRTZcrzj370o+y+++51Vr8xu+GGG3LooYfm0EMPTf/+/bPDDjukc+fOmTt3bp5//vmMGjWqMiVt4403zpVXXlnjWuuvv35GjBiR0047LW+//Xa++tWv5vzzz88uu+ySmTNn5oorrqgsHnbsscemf//+dXEXG72rr746F198cZIvpqxddtllefPNN1d5mx122KHa0zOb43lw5ZVXpm/fvpk/f34GDhyYn/zkJxkwYEDmz5+f22+/PaNGjUryxZoDP/zhD2tUo0ePHjnnnHNy6aWXZuLEienbt2/OO++8bLvttnn99dczYsSITJo0KUlyzjnnNJvvsh577LF5+OGHk3zx9+2UU07J//zP/6z0+NatW9doptjzzz+foUOHZsCAARk0aFB22WWXbLDBBqmqqsorr7ySW265pdKPli1bZtSoUenQoUPN7lQTc9ZZZ2XRokU54ogj8rWvfS1bbbVV2rVrl9mzZ+fxxx/PyJEjM3v27CRfvIep6bR/71/WzEcffZT7778/SbLzzjvn3/7t3+qk3eZ+Djz11FOZOnVq5d9Ln9PJF1ngn9/vn3TSScu1UZ+v4+ecc07uuOOOTJkyJeeee26mTp2aY445Ju3atcvYsWNzySWXpKqqKu3atcsVV1xR4zqrVVicp9lZ9pPBNflZ1QjQqFGjyq1bt17pbfv06VOeNWvWGvVlZZ8Ul8tffJJ20EEHrbROixYtVnn7pmzy5MmV+3nQQQdV67arG+Fbdv+qflq2bFkePnx4ecmSJXV0rxq/ZT+VXdXPLrvsUv7f//3flbazJiPdS1144YXlUqm00loHHXRQef78+XV8Txuvfv36Veu1Kkn5zTffXK4d58GK3XvvveXOnTuv9P726NFjpaNEazLSXS6Xy4sXLy6ffPLJq3xcTznllPLixYsLupeNT3Wf0yubgba6v59r+rd+gw02KN99993F3ulGZunsvtX9HHHEESud8eT9S935/e9/X3k8VjTCuTLOgVVb0/cxS39Wpi5ex9dkpLtcLpdfe+218vbbb7/SOp07dy7fd999tXlYVstIN43Sqaeemq997Wu56qqr8thjj2XmzJnp0KFDdtxxxxx33HEZOnRonXwvp127dnnggQdy66235vrrr8/f//73fPzxx9lkk02y11575cwzz8zXvva1OrhHjc/Sa1Ymdb+AWteuXXPnnXdm/PjxmTBhQmbMmJHZs2fn888/z7rrrpsddtgh/fv3z9ChQ5vVAkdJct555+Vf//VfM378+Lz88suZNWtWPvzww7Rp0yabbLJJevXqlSOPPDJDhgyps5XkL7744hxwwAH57W9/myeffDLvv/9+unTpkl133TXf+c53cuyxx9ZJHb6suZ4HhxxySF588cVceeWVeeCBBzJ9+vS0bt062223Xb75zW/mzDPPTPv27WtVo0WLFhkzZkyOOOKIjBo1Ks8991xmz56dDTfcML17986wYcPqdcGk5uSggw7KmDFjMn78+EyaNCnvv/9+Pvjgg5TL5ay//vrZddddc+CBB+akk06qXH++ubjhhhsybty4jB8/Pm+88UZmz56dOXPmpGPHjunevXu+/vWv58QTT6yT9xXN+f3Lmlr6Pqdly5Z1OpvPOVA36vN1fLvttsukSZPy29/+NnfeeWemTp2ahQsXpnv37jnooINy9tlnZ8stt6yTWitTKpdX8o1yAAAAoFasXg4AAAAFEboBAACgIEI3AAAAFEToBgAAgIII3QAAAFAQoRsAAAAKInQDAABAQYRuAAAAKIjQDQAAAAURugEAAKAgQjcAAAAUROgGAACAggjdAAAAUBChGwAAAAoidAMAAEBBhG4AAAAoiNANAAAABRG6AQAAoCBCNwAAABRE6AYAAICCCN0AAABQEKEbAAAACiJ0AwCFmjdvXjbZZJOUSqVss802WbRo0QqPmz9/fr7+9a+nVCqlbdu2eeKJJ+q5pwBQ94RuAKBQHTp0yE9+8pMkyZtvvpkbbrhhuWOWLFmS4447LuPHj0+LFi1y8803Z++9967vrgJAnSuVy+VyQ3cCAFi7LViwID169Mg777yTrbbaKlOmTMk666xT2f/v//7vufrqq5MkV1xxRc4+++yG6ioA1Ckj3QBA4dq0aZMLL7wwSfLWW2/luuuuq+z71a9+VQncP/rRjwRuANYqRroBgHqxePHi7LTTTpkyZUq23HLLvPbaa7nrrrtyzDHHpFwu59hjj80tt9ySUqnU0F0FgDojdAMA9eaOO+7IMccckyQZOnRobrrppixYsCADBgzIf//3f6d169YN3EMAqFtCNwBQb8rlcv7t3/4tL7zwQuX/dtlllzz55JNZd911V3q7m2++OU8++WSef/75vPTSS1m4cGGuu+66nHTSScV3GgBqwXe6AYB6UyqVcuqpp1b+vemmm+ahhx5aZeBOkp/+9KcZNWpU3n777Wy22WZFdxMA6ozQDQDUm9deey0XXXRR5d/z5s1LmzZtVnu70aNH56233sqsWbNy2mmnFdlFAKhTQjcAUC/+8Y9/5MADD8zs2bOzwQYbJEk+/fTT/OIXv1jtbffbb79sueWWRXcRAOqc0A0AFG7evHk5+OCD88Ybb6Rjx4555JFHcthhhyVJfve732XGjBkN20EAKIjQDQAUqqqqKt/85jczceLEtGrVKn/84x+z2267Zfjw4SmVSvn888/zs5/9rKG7CQCFELoBgEKddtppeeihh5IkI0eOzAEHHJAk2XXXXTNkyJAkybXXXpvXX3+9wfoIAEURugGAwgwfPjxjxoxJklx00UU5+eSTl9tfKpVSVVWVCy+8sCG6CACFEroBgEKMGTMmF198cZLk5JNPzvDhw5c7ZpdddsmRRx6ZJLn99tvz0ksv1WcXAaBwQjcAUOcefPDByqW9DjjggIwcOXKlx1500UVp0aJFlixZkp/+9Kf11UUAqBetGroDAMDa56CDDsqiRYvW6Nh/+Zd/yeLFiwvuEQA0DCPdAAAAUJBSuVwuN3QnAABWZfTo0XnqqaeSJC+99FL+9re/pW/fvtluu+2SJHvuuWeGDh3akF0EgBUyvRwAaPSeeuqp3HDDDV/6v6effjpPP/105d9CNwCNkZFuAAAAKIjvdAMAAEBBhG4AAAAoiNANAAAABRG6AQAAoCBCNwAAABRE6AYAAICCCN0AAABQEKEbAAAACiJ0AwAAQEGEbgAAACiI0A0AAAAFEboBAACgIEI3AAAAFEToBgAAgIII3QAAAFAQoRsAAAAKInQDAABAQYRuAAAAKIjQDQAAAAURugEAAKAgQjcAAAAU5P8H7X39xCuL0DQAAAAASUVORK5CYII=\n",
         "text/plain": "<Figure size 500x500 with 1 Axes>"
        },
        "metadata": {
         "image/png": {
          "height": 453,
          "width": 494
         }
        },
        "output_type": "display_data"
       }
      ]
     }
    },
    "bd782d7e49ce4d48839eba8c3cac9809": {
     "model_module": "@jupyter-widgets/controls",
     "model_module_version": "1.5.0",
     "model_name": "SliderStyleModel",
     "state": {
      "_model_module": "@jupyter-widgets/controls",
      "_model_module_version": "1.5.0",
      "_model_name": "SliderStyleModel",
      "_view_count": null,
      "_view_module": "@jupyter-widgets/base",
      "_view_module_version": "1.2.0",
      "_view_name": "StyleView",
      "description_width": "",
      "handle_color": null
     }
    },
    "d9027d7695e34dbdbde6dd053a2c23f5": {
     "model_module": "@jupyter-widgets/base",
     "model_module_version": "1.2.0",
     "model_name": "LayoutModel",
     "state": {
      "_model_module": "@jupyter-widgets/base",
      "_model_module_version": "1.2.0",
      "_model_name": "LayoutModel",
      "_view_count": null,
      "_view_module": "@jupyter-widgets/base",
      "_view_module_version": "1.2.0",
      "_view_name": "LayoutView",
      "align_content": null,
      "align_items": null,
      "align_self": null,
      "border": null,
      "bottom": null,
      "display": null,
      "flex": null,
      "flex_flow": null,
      "grid_area": null,
      "grid_auto_columns": null,
      "grid_auto_flow": null,
      "grid_auto_rows": null,
      "grid_column": null,
      "grid_gap": null,
      "grid_row": null,
      "grid_template_areas": null,
      "grid_template_columns": null,
      "grid_template_rows": null,
      "height": null,
      "justify_content": null,
      "justify_items": null,
      "left": null,
      "margin": null,
      "max_height": null,
      "max_width": null,
      "min_height": null,
      "min_width": null,
      "object_fit": null,
      "object_position": null,
      "order": null,
      "overflow": null,
      "overflow_x": null,
      "overflow_y": null,
      "padding": null,
      "right": null,
      "top": null,
      "visibility": null,
      "width": null
     }
    },
    "dd12d71cebb441daa9c80c4b372d1e93": {
     "model_module": "@jupyter-widgets/controls",
     "model_module_version": "1.5.0",
     "model_name": "VBoxModel",
     "state": {
      "_dom_classes": [
       "widget-interact"
      ],
      "_model_module": "@jupyter-widgets/controls",
      "_model_module_version": "1.5.0",
      "_model_name": "VBoxModel",
      "_view_count": null,
      "_view_module": "@jupyter-widgets/controls",
      "_view_module_version": "1.5.0",
      "_view_name": "VBoxView",
      "box_style": "",
      "children": [
       "IPY_MODEL_938185da61de47dfa64c8eb9acb7f27f",
       "IPY_MODEL_746df7cbefd64465ac808f41c16185fc",
       "IPY_MODEL_faf0bf0706654b61a2a00badaec867f9"
      ],
      "layout": "IPY_MODEL_30247b96514241bf88b860812bc52d4a"
     }
    },
    "ddb79f357b8b4f22aa6b01f4182a0af5": {
     "model_module": "@jupyter-widgets/controls",
     "model_module_version": "1.5.0",
     "model_name": "FloatSliderModel",
     "state": {
      "_dom_classes": [],
      "_model_module": "@jupyter-widgets/controls",
      "_model_module_version": "1.5.0",
      "_model_name": "FloatSliderModel",
      "_view_count": null,
      "_view_module": "@jupyter-widgets/controls",
      "_view_module_version": "1.5.0",
      "_view_name": "FloatSliderView",
      "continuous_update": true,
      "description": "x1",
      "description_tooltip": null,
      "disabled": false,
      "layout": "IPY_MODEL_082d5bc19c954d4c85b8130079cb1b22",
      "max": 10,
      "min": -10,
      "orientation": "horizontal",
      "readout": true,
      "readout_format": ".2f",
      "step": 0.5,
      "style": "IPY_MODEL_569417677fde4efea8c8797de9aa09e6",
      "value": 3.5
     }
    },
    "e2d01094c2434034a0f57a07525da6ba": {
     "model_module": "@jupyter-widgets/base",
     "model_module_version": "1.2.0",
     "model_name": "LayoutModel",
     "state": {
      "_model_module": "@jupyter-widgets/base",
      "_model_module_version": "1.2.0",
      "_model_name": "LayoutModel",
      "_view_count": null,
      "_view_module": "@jupyter-widgets/base",
      "_view_module_version": "1.2.0",
      "_view_name": "LayoutView",
      "align_content": null,
      "align_items": null,
      "align_self": null,
      "border": null,
      "bottom": null,
      "display": null,
      "flex": null,
      "flex_flow": null,
      "grid_area": null,
      "grid_auto_columns": null,
      "grid_auto_flow": null,
      "grid_auto_rows": null,
      "grid_column": null,
      "grid_gap": null,
      "grid_row": null,
      "grid_template_areas": null,
      "grid_template_columns": null,
      "grid_template_rows": null,
      "height": null,
      "justify_content": null,
      "justify_items": null,
      "left": null,
      "margin": null,
      "max_height": null,
      "max_width": null,
      "min_height": null,
      "min_width": null,
      "object_fit": null,
      "object_position": null,
      "order": null,
      "overflow": null,
      "overflow_x": null,
      "overflow_y": null,
      "padding": null,
      "right": null,
      "top": null,
      "visibility": null,
      "width": null
     }
    },
    "e7839833e75847b18cb1f2ef6889ae6a": {
     "model_module": "@jupyter-widgets/controls",
     "model_module_version": "1.5.0",
     "model_name": "SliderStyleModel",
     "state": {
      "_model_module": "@jupyter-widgets/controls",
      "_model_module_version": "1.5.0",
      "_model_name": "SliderStyleModel",
      "_view_count": null,
      "_view_module": "@jupyter-widgets/base",
      "_view_module_version": "1.2.0",
      "_view_name": "StyleView",
      "description_width": "",
      "handle_color": null
     }
    },
    "faf0bf0706654b61a2a00badaec867f9": {
     "model_module": "@jupyter-widgets/output",
     "model_module_version": "1.0.0",
     "model_name": "OutputModel",
     "state": {
      "_dom_classes": [],
      "_model_module": "@jupyter-widgets/output",
      "_model_module_version": "1.0.0",
      "_model_name": "OutputModel",
      "_view_count": null,
      "_view_module": "@jupyter-widgets/output",
      "_view_module_version": "1.0.0",
      "_view_name": "OutputView",
      "layout": "IPY_MODEL_0c5dd28850f349b391a7855fea0bd7ab",
      "msg_id": "",
      "outputs": [
       {
        "data": {
         "image/png": "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\n",
         "text/plain": "<Figure size 500x500 with 1 Axes>"
        },
        "metadata": {
         "image/png": {
          "height": 453,
          "width": 494
         }
        },
        "output_type": "display_data"
       }
      ]
     }
    }
   }
  }
 },
 "nbformat": 4,
 "nbformat_minor": 4
}
