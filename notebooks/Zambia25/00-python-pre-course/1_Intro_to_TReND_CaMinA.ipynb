{
 "cells": [
  {
   "cell_type": "markdown",
   "metadata": {
    "colab_type": "text",
    "id": "view-in-github"
   },
   "source": [
    "<a href=\"https://colab.research.google.com/github/trendinafrica/TReND-CaMinA/blob/main/notebooks/Zambia25/00-python-pre-course/1_Intro_to_TReND_CaMinA.ipynb\" target=\"_parent\"><img src=\"https://colab.research.google.com/assets/colab-badge.svg\" alt=\"Open In Colab\"/></a>"
   ]
  },
  {
   "cell_type": "markdown",
   "metadata": {
    "id": "BAnXKG-SSeRA"
   },
   "source": [
    "\n",
    "\n",
    "<img align=\"left\" width=\"300\" src=\"https://raw.githubusercontent.com/trendinafrica/TReND-CaMinA/main/images/CaMinA_logo.png\">\n",
    "\n",
    "# TReND-CaMinA Pre-course: Intro to our teaching setup\n",
    "\n",
    "**Content creators:** Burak Gür (2024), Martino Sorbaro (2025)\n",
    "\n",
    "**Acknowledgements:** Parts taken from previous TReND Python and TReND-CaMinA courses."
   ]
  },
  {
   "cell_type": "markdown",
   "metadata": {},
   "source": [
    "# Welcome to TReND-CaMinA!\n",
    "\n",
    "I hope you are excited to start.\n",
    "\n",
    "**First module**:\n",
    "- Welcome and plan of the day\n",
    "- Round of introductions\n",
    "- Discussion of the tools we use: Python, Colab, Python libraries, Github\n",
    "- Some Python refreshers\n",
    "- Break\n",
    "\n",
    "**Notes** for everything I say will be available to you to look at in your own time, so don't worry.\n",
    "\n",
    "Remember that CaMinA involves people from **very different scientific and cultural backgrounds**. Some of you are Python experts who use it everyday: apologies if we'll cover some boring basics – there will also be specific tools you may now know and the chance to help others. Some others of you will find it a little overwhelming at first: please don't worry – there is time to learn; and if we selected you, it means you have other important skills. Don't give up!"
   ]
  },
  {
   "cell_type": "markdown",
   "metadata": {
    "id": "lN5shsrqS9Wh"
   },
   "source": [
    "# TReND-CaMinA basic stack\n",
    "\n",
    "<img src= \"https://raw.githubusercontent.com/trendinafrica/TReND-CaMinA/main/images/Day1_course_stack.png\" width =\"600px\">\n",
    "\n",
    "**Sections:**\n",
    "\n",
    "1. [What is Python and why do we use it?](#Python-what-why)\n",
    "2. [Colab](#Colab) - using Python comfortably\n",
    "3. [Python packages](#pack) - backbone of ML & Comp Neuro\n",
    "4. [Github](#Git) - track, organize & share\n",
    "\n",
    "---\n",
    "\n"
   ]
  },
  {
   "cell_type": "markdown",
   "metadata": {
    "id": "LecgwQV2UF2O",
    "jp-MarkdownHeadingCollapsed": true
   },
   "source": [
    "# Before we start:\n",
    "\n",
    "\n",
    "\n",
    "1.   **Login** via your google account\n",
    "2.   **Save a copy of this notebook** in your Google Drive so that you can edit (this is our original notebook): `File > Save a copy in Drive`"
   ]
  },
  {
   "cell_type": "markdown",
   "metadata": {
    "id": "j9103reyhGX1"
   },
   "source": [
    "<a name=\"Python-what-why\"></a>\n",
    "# Section 1. Python - What is it & why use it?\n",
    "\n",
    "<img src=\"https://upload.wikimedia.org/wikipedia/commons/f/f8/Python_logo_and_wordmark.svg\" width= 300>\n",
    "\n",
    "Let's start with a survey:\n",
    "[Survey link](https://www.menti.com/aldssmemgpg8)\n"
   ]
  },
  {
   "cell_type": "markdown",
   "metadata": {
    "id": "IH5DLx0hNG_9"
   },
   "source": [
    "## Python: brief history\n",
    "[Python](https://www.python.org/) is:\n",
    "- Popular and widespread, born in 1991\n",
    "- Simple to use, with an easier syntax compared to earlier languages\n",
    "- Commonly used in research, web development (server-side), mathematics, system scripting, data science, creating software prototypes, just to name a few.\n",
    "- Supports modules and packages ready for many uses, so you don't have to write from scratch.\n",
    "- Open-source and free to use and distribute."
   ]
  },
  {
   "cell_type": "markdown",
   "metadata": {
    "id": "IrUVj0_RavY5"
   },
   "source": [
    "<img src= \"https://github.com/birkfl/TReND/blob/main/Python_Workshop2022/img/whypython.svg?raw=true\" width =\"600px\">\n",
    "\n",
    "\n",
    "---\n"
   ]
  },
  {
   "cell_type": "markdown",
   "metadata": {
    "id": "y0X7P87s_-RD"
   },
   "source": [
    "<a name=\"Colab\"></a>\n",
    "# Section 2. Colab - Running Python comfortably\n",
    "\n",
    "<img src=\"https://upload.wikimedia.org/wikipedia/commons/d/d0/Google_Colaboratory_SVG_Logo.svg\" width=200>"
   ]
  },
  {
   "cell_type": "markdown",
   "metadata": {
    "id": "V6-2c5EBl8Gy"
   },
   "source": [
    "### Before Colab: Python notebooks\n",
    "This is a python notebook (officially called a *Jupyter notebook* or an *IPython notebook* --> with the extension \".ipynb\"), which is a basically just a super fancy way of writing python code.\n",
    "  - We can write formatted **text together with executable code**.\n",
    "  - Allows **rapid development** of python code by writing small bits and testing them.\n",
    "  - We can **easily share** our code with others and they can run it without problems."
   ]
  },
  {
   "cell_type": "markdown",
   "metadata": {
    "id": "YgQZQ39VNkbR"
   },
   "source": [
    "## What is Colab?"
   ]
  },
  {
   "cell_type": "markdown",
   "metadata": {
    "id": "c2l6huOtl2C7"
   },
   "source": [
    "[Colab](https://colab.research.google.com/notebooks/intro.ipynb#recent=true) (short for \"Colaboratory\") allows us to take a Jupyter notebook and lets us **edit/use/share** it **easy and free!**\n",
    "\n",
    "Additionally:\n",
    "\n",
    "  - Runs on the **Google Cloud** - doesn't depend much on your computer capabilities.\n",
    "  - Has many pre-installed packages. **Zero configuration!**\n",
    "  - Run code super fast --> **GPU usage** is provided free of charge for some hours of usage every day.\n",
    "  - **Share** notebooks with other people, without the need to download, install or run anything.\n",
    "  - Notebooks are **stored in Google Drive** and can also be uploaded from **GitHub**\n",
    "  -   Attention: Be careful - Colab **does not allow users to do changes simultaneously**. If you work together at the same time on one notebook, some changes might be lost.  \n"
   ]
  },
  {
   "cell_type": "markdown",
   "metadata": {
    "id": "YybfaVyJm_K1"
   },
   "source": [
    "For example, to run a code, just hover the mouse over ```[ ]``` and press the play button to the upper left. Or press **shift-enter to execute**.\n",
    "\n",
    "- Below we have a code, just run it"
   ]
  },
  {
   "cell_type": "code",
   "execution_count": null,
   "metadata": {
    "id": "jO2PZ0FG757d"
   },
   "outputs": [],
   "source": [
    "# Live code - (print Hello World)"
   ]
  },
  {
   "cell_type": "code",
   "execution_count": null,
   "metadata": {
    "colab": {
     "base_uri": "https://localhost:8080/"
    },
    "id": "euJ73YDJnCvW",
    "outputId": "d84562a5-9035-4529-a2a9-b86ba92955b1"
   },
   "outputs": [],
   "source": [
    "print('Hello World')"
   ]
  },
  {
   "cell_type": "markdown",
   "metadata": {
    "id": "4z4UW5He1uaZ"
   },
   "source": [
    "## Advice for using Colab\n",
    "\n",
    "*   **Make a local copy of notebooks to your Google Drive**: otherwise changes you make (e.g. notes you take, code you write, etc) will not be saved\n",
    "*   **Do not edit the same colab directly as a group.** Unlike Google Docs, one person's version will overwrite another's. If your browser happens to be open, it can overwrite anything that has been done by others since the last version in your browser! **IMPORTANT FOR GROUP PROJECTS!**\n",
    "*   **Colab does not have version control!** Use git for this if you want to collaborate (on a group project colab for example). More on this later.\n"
   ]
  },
  {
   "cell_type": "markdown",
   "metadata": {
    "id": "C93oXGVUAMQS"
   },
   "source": [
    "More detailed:\n",
    "\n",
    "-   If you're inactive for a long time (1h), colab can die! **Run> Reset Runtime Environment**\n",
    "-   Your code is executed on a virtual machine specific to your account. Virtual machines are deleted when they are inactive for a certain time and have a maximum lifetime imposed by the Colab service. Select **Run> Reset Runtime Environment** to restore all virtual machines assigned to you to their original state.\n",
    "-  **Include cells at the beginning to install packages:** If you choose to share a notebook, all of its content (text, code, output, and comments) will be shared. However, the virtual machine you are using, including any custom files and libraries you configured, will not be shared. It is, therefore, recommended that you include cells that install and load the libraries or custom files needed by your notebook.\n",
    "-   Various limits are applied in Google Drive, such as the number of operations performed (per user and per file) and bandwidth quotas (the total amount of traffic to and from the server allowed). Exceeding these limits triggers an Input/output error. This scenario usually occurs when trying to access a popular shared file, or too many separate files too suddenly. You can work around the problem by using the following methods:\n",
    "         \n",
    "      - Copy the file through drive.google.com and avoid large-scale sharing, so that other users don't hit the limits that apply to it.\n",
    "      - Avoid performing many small  read or write request to a memory. Favor copying data from Drive to the Colab VM in an archive format (e.g, .zip or .tar.gz) and unarchive the data locally on the VM rather than in the installed Drive directory.\n",
    "      - Wait a day for the quota limits to reset.\n",
    "      \n",
    "[Read more](https://research.google.com/colaboratory/intl/en-GB/faq.html)\n",
    "\n",
    "\n",
    "---"
   ]
  },
  {
   "cell_type": "markdown",
   "metadata": {
    "id": "3fe016be"
   },
   "source": [
    "\n",
    "<a name=\"pack\"></a>\n",
    "# Section 3. Running Python locally; installing packages"
   ]
  },
  {
   "cell_type": "markdown",
   "metadata": {
    "id": "290933d2"
   },
   "source": [
    "As Python users, our needs intersect in many ways.\n",
    "\n",
    "- Does everyone need to write their own scripts for each of these needs?\n",
    "- Do we have the expertise and/or time to do this?\n",
    "- Wouldn't it be great if we can use the functions written by experts on our way to achieve our programming goal?\n",
    "\n",
    "### Python packages provide us a way to use functionality developed by other people"
   ]
  },
  {
   "cell_type": "markdown",
   "metadata": {
    "id": "19b632e8"
   },
   "source": [
    "####  What are packages?\n",
    "\n",
    "- **Collection of pre-written code** mostly consisting of functions\n",
    "- Packages contain many files of code. Each file is called a **module**.\n",
    "- A published package is sometimes referred to as a \"library\" so don't be confused if you see the term \"library\" used. For our purposes we can consider them the same.\n"
   ]
  },
  {
   "cell_type": "markdown",
   "metadata": {
    "id": "3517c183"
   },
   "source": [
    "<img  src=\"https://github.com/bgur123/python-beginners-course/blob/master/trend_course/images/package_scheme.svg?raw=1\" width =\"500px\">"
   ]
  },
  {
   "cell_type": "markdown",
   "metadata": {
    "id": "8336b160"
   },
   "source": [
    "Python comes with a large collection of pre-installed packages: **Python Standard Library**. (No further installation required)\n",
    "\n",
    "#### The Python Standard Library\n",
    "\n",
    "Contains numerous functionality:\n",
    "- Mathematical functions\n",
    "- Internet data handling\n",
    "- Parallel processing\n",
    "- Accessing file and directories\n",
    "- ...\n",
    "\n",
    "You can get more information here: [Python Standard Library](https://docs.python.org/3/library/index.html)\n",
    "\n"
   ]
  },
  {
   "cell_type": "markdown",
   "metadata": {
    "id": "d82149c8"
   },
   "source": [
    "\n",
    "\n",
    "<a name=\"upack\"></a>\n",
    "\n",
    "## Useful packages for data analysis, comp Neuro & ML"
   ]
  },
  {
   "cell_type": "markdown",
   "metadata": {
    "id": "a8ea924e"
   },
   "source": [
    "\n",
    "<img src=\"https://upload.wikimedia.org/wikipedia/commons/1/1a/NumPy_logo.svg\" width =\"300px\">\n",
    "\n",
    "\n",
    "**[NumPy](https://numpy.org/) (Numerical Python)** is the fundamental package for numerical computation in Python. It’s a general-purpose array-processing package that provides high-performance multidimensional objects called arrays and tools for working with them."
   ]
  },
  {
   "cell_type": "markdown",
   "metadata": {
    "id": "56123d52"
   },
   "source": [
    "<img src=\"https://miro.medium.com/v2/resize:fit:1344/format:webp/1*tBuXeC2brBGIwVKQuirzJg.png\" width =\"300px\">\n",
    "\n",
    "**[SciPy](https://scipy.org/) (Scientific Python)** is a scientific computation library that uses NumPy underneath. It provides more utility functions for optimization, stats and signal processing."
   ]
  },
  {
   "cell_type": "markdown",
   "metadata": {
    "id": "cdb161da"
   },
   "source": [
    "<img src=\"https://upload.wikimedia.org/wikipedia/commons/e/ed/Pandas_logo.svg\" width =\"300px\">\n",
    "\n",
    "**[Pandas](https://pandas.pydata.org/) (Python data analysis)** is the most popular and widely used Python library for data science, along with NumPy and Matplotlib. It is heavily used for data analysis, transformation, storage and cleaning."
   ]
  },
  {
   "cell_type": "markdown",
   "metadata": {
    "id": "d676970b"
   },
   "source": [
    "<img src=\"https://matplotlib.org/3.3.1/_static/logo2_compressed.svg\" width =\"300px\">\n",
    "\n",
    "https://matplotlib.org/3.3.1/_static/logo2_compressed.svg\n",
    "\n",
    "[**Matplotlib**](https://matplotlib.org/) is a plotting library for Python. Because of the graphs and plots that it produces, it’s extensively used for data visualization."
   ]
  },
  {
   "cell_type": "markdown",
   "metadata": {
    "id": "7fcf515e"
   },
   "source": [
    "<img src=\"https://seaborn.pydata.org/_images/logo-wide-lightbg.svg\" width =\"300px\">\n",
    "\n",
    "[**Seaborn**](https://seaborn.pydata.org/) is a data visualization library based on matplotlib. It provides a high-level interface for drawing attractive and informative statistical graphics."
   ]
  },
  {
   "cell_type": "markdown",
   "metadata": {
    "id": "c6a95927"
   },
   "source": [
    "\n",
    "\n",
    "<a name=\"inst\"></a>\n",
    "\n",
    "## Installing packages"
   ]
  },
  {
   "cell_type": "markdown",
   "metadata": {
    "id": "bbe10551"
   },
   "source": [
    "In other python IDEs (not in colab), all packages that are not built-in need to be installed.\n",
    "\n",
    "There are several ways to install packages in Python, depending on the environment used, if it is for single or global use etc.\n",
    "\n",
    "**!!!Be careful when installing packages. It can lead to many problems if not done properly.**\n",
    "\n",
    "To install a package you can use `pip install` followed by the package_name. If you're using Jupyter Notebooks, you can do it directly in the notebook.\n",
    "\n",
    "If you're working in your computer, you can do it in a Terminal or Anaconda Prompt.\n"
   ]
  },
  {
   "cell_type": "code",
   "execution_count": null,
   "metadata": {
    "code_folding": [],
    "id": "efc55a7e"
   },
   "outputs": [],
   "source": [
    "pip install numpy"
   ]
  },
  {
   "cell_type": "markdown",
   "metadata": {},
   "source": [
    "The full list of packages we'll use at the workshop is (subject to updates):\n",
    "\n",
    "`numpy pandas scipy matplotlib seaborn pytorch pyyaml scikit-learn tensorflow ipywidgets tqdm wget`\n",
    "\n",
    "**Try installing some on your computer (not colab!)**. Pip will tell you if they're already installed.\n"
   ]
  },
  {
   "cell_type": "markdown",
   "metadata": {
    "id": "QZ_GXRguS_t5"
   },
   "source": [
    "---"
   ]
  },
  {
   "cell_type": "markdown",
   "metadata": {
    "id": "RFl7zdhDAans"
   },
   "source": [
    "<a name=\"Git\"></a>\n",
    "# Section 4. Github Basics\n",
    "\n",
    "<img src =\"https://upload.wikimedia.org/wikipedia/commons/9/91/Octicons-mark-github.svg\" width = \"300px\">\n"
   ]
  },
  {
   "cell_type": "markdown",
   "metadata": {
    "id": "mqx0qM0aBonh"
   },
   "source": [
    "## Learning objectives:\n",
    "* Understanding why GitHub is useful, in different contexts.\n",
    "* Understanding basic Git concepts such as creating repositories, commiting, cloning, branches, merging\n",
    "* Using the GitHub Desktop\n",
    "* Being able to clone a repository from GitHub\n",
    "\n",
    "\n"
   ]
  },
  {
   "cell_type": "markdown",
   "metadata": {
    "id": "b38llSDi8fW-"
   },
   "source": [
    "## Content:\n",
    "1. [What is GitHub](#what)\n",
    "2. [Git fundamentals](#git-alone)\n",
    "  1. [Repositories](#repo)\n",
    "  2. [Commits](#commits)\n",
    "  3. [Branches](#branches)\n",
    "  4. [Merging](#merging)\n",
    "  5. [GitHub Desktop](#desktop)\n",
    "  6. [Cloning](#cloning)\n",
    "4. [Key concepts so far](#key)\n"
   ]
  },
  {
   "cell_type": "markdown",
   "metadata": {
    "id": "4ZyibRT5FpQ_"
   },
   "source": [
    "## What is GitHub? <a name=\"what\"></a>\n",
    "\n",
    "### Question for all:\n",
    "- Who has ever heard GitHub?\n",
    "- Who is using GitHub actively?\n",
    "- What is GitHub and why do you use it? From simple and broad reasons to more detailed once."
   ]
  },
  {
   "cell_type": "markdown",
   "metadata": {
    "id": "stxtgRwEEOm5"
   },
   "source": [
    "## Git fundamentals <a name=\"git-alone\"></a>\n",
    "\n",
    "\n",
    "\n"
   ]
  },
  {
   "cell_type": "markdown",
   "metadata": {
    "id": "Q0I4HRM8Fgqg"
   },
   "source": [
    "Git is a software to **version control** your code.\n",
    "\n",
    "It should not be confused with GitHub, which is a website to store code online, made for interacting with Git."
   ]
  },
  {
   "cell_type": "markdown",
   "metadata": {
    "id": "gdBamiUZHB2a"
   },
   "source": [
    "### **Repositories**: Projects in GitHub. <a name=\"repo\"></a>\n",
    "\n",
    "- Material in GitHub are organized into projects which are called ```repositories```\n",
    "- Repositories have **names**\n",
    "- They have also **descriptions** (like a Readme file)\n",
    "- Can be **public** or **private**"
   ]
  },
  {
   "cell_type": "markdown",
   "metadata": {
    "id": "CGHTI6HEHol_"
   },
   "source": [
    "Let's create a repository in GitHub!\n",
    "- Go to https://github.com/, log in with your account.\n",
    "- Create a repository by clicking the ```+``` on the upper right and selecting \"New repository\".\n",
    "- Tick the \"Add a README file\" box to add a README."
   ]
  },
  {
   "cell_type": "markdown",
   "metadata": {
    "id": "U0CCsJTvzKhT"
   },
   "source": [
    "### **GitHub Desktop**: Using GitHub on your local machine <a name=\"desktop\"></a>\n",
    "\n",
    "There are several ways of using GitHub on your local machine, most common ways are:\n",
    "- Using the terminal\n",
    "- Using the GUI (GitHub Desktop)\n",
    "\n",
    "We'll use the GUI to make it simple.\n",
    "\n",
    "1. Download GitHub Desktop: https://desktop.github.com/\n",
    "2. Log in"
   ]
  },
  {
   "cell_type": "markdown",
   "metadata": {
    "id": "OBHDjp2Wxozz"
   },
   "source": [
    "### **Cloning**: Copying the repository from GitHub to your local machine. <a name=\"cloning\"></a>\n",
    "\n",
    "**Cloning** a repository means creating a local copy of a GitHub repository on your machine. This is typically done when you want to work on the code, explore the repository, or make changes locally.\n",
    "\n",
    "> Cloning is simply copying any public code from Github to your local machine.\n",
    "\n",
    "\n",
    "**When to Use Cloning**:\n",
    "- You want to work on a project but don't plan to contribute back to the original repository.\n",
    "- You need a local copy to work offline.\n",
    "- You want to explore or experiment with the codebase.\n",
    "\n"
   ]
  },
  {
   "cell_type": "markdown",
   "metadata": {
    "id": "TuKVZ10h6_1P"
   },
   "source": [
    "Let's clone the repository we've just created. To clone, go to the green code button and copy the URL."
   ]
  },
  {
   "cell_type": "markdown",
   "metadata": {
    "id": "_if2LUKXaGf2"
   },
   "source": [
    "**For people who use command line for git:**\n",
    "\n",
    "\n",
    "Open your terminal and run the following command:\n",
    "   ```sh\n",
    "   git clone <repository_url>\n",
    "   ```\n",
    "   For example:\n",
    "   ```sh\n",
    "   git clone https://github.com/username/repository.git\n",
    "   ```"
   ]
  },
  {
   "cell_type": "markdown",
   "metadata": {
    "id": "zHva8Jr67sJo"
   },
   "source": [
    "**Or you can use the GitHub Desktop app**: clone repository -> URL -> paste the URL and choose a local path -> clone."
   ]
  },
  {
   "cell_type": "markdown",
   "metadata": {
    "id": "AX2BDdGraZZg"
   },
   "source": [
    "### **Forking**: Creating your own repository of someone else's repository\n",
    "\n",
    "**Forking** a repository means creating your own copy of someone else's repository on your GitHub account. This is useful for contributing to the original project or using the repository as a starting point for your own projects.\n",
    "\n",
    "**When to Use Forking**:\n",
    "- You want to contribute to an open-source project.\n",
    "- You need a separate copy of a project to modify without affecting the original.\n",
    "- You want to propose changes or enhancements to the original repository.\n",
    "\n",
    "**How to Fork**:\n",
    "1. Navigate to the repository on GitHub.\n",
    "2. Click on the \"Fork\" button at the top right of the page.\n",
    "3. GitHub will create a copy of the repository under your account.\n",
    "\n",
    "**Let's fork the TReND-CaMinA repo. We will use this during the course.**\n",
    "\n",
    "**Once it's forked, let's clone _our fork_ to our computers**"
   ]
  },
  {
   "cell_type": "markdown",
   "metadata": {
    "id": "VWxGkiejK4wX"
   },
   "source": [
    "### **Commits**: Updating your project while tracking the progress. <a name=\"commits\"></a>\n",
    "\n",
    "- ```Commit``` enables you to save the changes in a project.\n",
    "  \n",
    "  When you update something in your project (add a file, change some text or code within a file, deleting a file) a ```commit``` enables you to save your changes.\n",
    "\n",
    "- Each commit has an associated ```commit message```\n",
    "  *   You'll write these. A good commit message should describe **why** something is done.\n",
    "  * Important for you to understand why you did a certain change. Also if you're collaborating, your collaborators will have easier time to figure out why a change was made.\n",
    "\n",
    "\n",
    "<img src=\"https://cbea.ms/content/images/size/w2000/2021/01/git_commit_2x.png\" width=600px>\n",
    "image source: cbea.ms\n",
    "\n",
    "\n"
   ]
  },
  {
   "cell_type": "markdown",
   "metadata": {
    "id": "6gajALBQMkyI"
   },
   "source": [
    "Let's make our first commit.\n",
    "- Go to your repository and change the Readme file.\n",
    "- Commit the changes with a commit message."
   ]
  },
  {
   "cell_type": "markdown",
   "metadata": {
    "id": "z0NywiaBHuE_"
   },
   "source": [
    "\n",
    "### **Branches**: You can have different versions of the same project. <a name=\"branches\"></a>"
   ]
  },
  {
   "cell_type": "markdown",
   "metadata": {
    "id": "87sfUHIxJFsL"
   },
   "source": [
    "Branches are parallel versions of code that are under the same project. But why would we have parallel versions of our code?\n",
    "\n",
    "Confusing? Let's think of how a car is built.\n",
    "\n",
    "\n",
    "- Branches are very useful to **create/develop features** in a programming project.\n",
    "\n",
    "- Branches are useful to **develop and test stuff** without changing your main code.\n",
    "\n",
    "\n",
    "<img src=\"https://axolo.s3.eu-west-3.amazonaws.com/communication/blog/ultimate-pull-request/branches+in+github+3.png\" width=600px>\n",
    "image source: axolo.co\n",
    "\n"
   ]
  },
  {
   "cell_type": "markdown",
   "metadata": {
    "id": "fTYlAwoSNJDh"
   },
   "source": [
    "You can name branches as you wish (for a car: engine, lights, etc.).\n",
    "\n",
    "Your main code is created in a default branch called ```main``` (previously called ```master```). Check it out!"
   ]
  },
  {
   "cell_type": "markdown",
   "metadata": {
    "id": "CdY0Aepm9C7n"
   },
   "source": [
    "#### Create a new branch\n",
    "1. Go to your repository\n",
    "2. Select the branch button on upper left (it will be showing ```main```)\n",
    "3. Create a new branch called ```new feature```\n",
    "4. Change back to ```main``` branch"
   ]
  },
  {
   "cell_type": "markdown",
   "metadata": {
    "id": "vgImq92mOOpe"
   },
   "source": [
    "### **Merging**: Integrating the features or developed material from branches. <a name=\"merging\"></a>\n",
    "\n",
    "Now time to make some changes on our new ```new feature``` branch and integrate these changes to our ```main``` branch.\n",
    "\n",
    "1. Make sure you're on the ```new feature``` branch\n",
    "2. Make some changes in the README file and commit them to the ```new feature``` branch\n",
    "3. Go to ```pull requests```\n",
    "4. You'll see that it informs you that you made some changes on the ```new feature``` branch and asks if you want to compare and pull request. Click on that.\n",
    "5. Create the pull request\n",
    "6. Merge\n",
    "7. Delete your ```new feature``` branch since we're done with our feature.\n"
   ]
  },
  {
   "cell_type": "markdown",
   "metadata": {
    "id": "kHFKoDu-3aDg"
   },
   "source": [
    "### **Pushing**: putting stuff from your local repository to your repository on GitHub servers (remote) <a name=\"pushing\"></a>\n",
    "\n",
    "Let's say you have your code on your local machine, you already structured it in a folder and now want to use GitHub.\n",
    "\n",
    "1. ```Create a repository``` for the existing code using GitHub Desktop\n",
    "2. ```publish``` the repository to your GitHub account\n",
    "2. Make a change and ```commit``` in local machine\n",
    "3. ```push``` the repository to the GitHub server\n",
    "\n"
   ]
  },
  {
   "cell_type": "markdown",
   "metadata": {
    "id": "r7eDvibX6O2D"
   },
   "source": [
    "### **Pulling**: From remote repository to local <a name=\"pulling\"></a>\n",
    "\n",
    "\n",
    "1. Go to github.com and open the previous repository that you just pushed from local\n",
    "2. Make a change and ```commit``` there\n",
    "3. Go to the GitHub Desktop in local machine and ```pull``` the repository from the GitHub server\n",
    "\n"
   ]
  },
  {
   "cell_type": "markdown",
   "metadata": {
    "id": "hS2fDgeqUikY"
   },
   "source": [
    "So far what we talked about can be used in our own coding projects to organize/track our code better. However, one of the major strenghts of Github is for collaborating or using the code that someone else generated."
   ]
  },
  {
   "cell_type": "markdown",
   "metadata": {
    "id": "Cq0mr0czIKUl"
   },
   "source": [
    "## Git and GitHub key concepts (so far): <a name=\"key\"></a>\n",
    "\n",
    "| Concept | Description |\n",
    "| ----------- | ----------- |\n",
    "| ```repository``` | A single project in GitHub.|\n",
    "| ```commit``` | A saved change in your project timeline. |\n",
    "| ```branch``` | A parallel version of your project. |\n",
    "| ```main``` | The default branch name of the main version of your project. |\n",
    "| ```merge``` | Merging one branch onto another by comparing changes. |\n",
    "| ```push``` | Update your remote repository using the local repository|\n",
    "| ```pull``` | Update your local repository using the repository on Github servers |\n",
    "| ```clone``` | Copy a repository to your local machine from GitHub servers|\n",
    "| ```fork``` | Creates a personal copy of a repository on your GitHub account. Useful for contributing to the original project or creating a new project based on the original|"
   ]
  },
  {
   "cell_type": "markdown",
   "metadata": {
    "id": "T9uDFOdZX9HP"
   },
   "source": [
    "---\n",
    "# About the authors (feel free to contact)\n",
    "\n",
    "## Martino Sorbaro\n",
    "- PhD graduate in Neuroinformatics at Edinburgh university\n",
    "- Worked in Neuromorphic engineering at SynSense (a startup in Zürich) and at the university of Zürich\n",
    "- Postdoc in neural networks between neuroscience/machine learning/neuromorphic hardware at ETH Zürich\n",
    "- Taught for TReND online during Covid and in person in Kigali in 2024\n",
    "- But now, a high school teacher in math and physics!\n",
    "- Links: [Google Scholar](https://scholar.google.com/citations?user=pQmRdm4AAAAJ&hl=en), [Github](https://github.com/martinosorb/).\n",
    "- Contact: martino.sorbaro@posteo.net\n",
    "\n",
    "## Burak Gür\n",
    "- Post-doctoral researcher at the [Friedrich Miescher Institute for Biomedical Sciences](https://www.fmi.ch/) (FMI) in Basel. I investigate how time affects learning and memory using fruit flies at the [laboratory of Johannes Felsenberg](https://www.fmi.ch/research-groups/groupleader.html?group=141).\n",
    "- Organizer at the computational neuroscience and deep learning school [Neuromatch Academy](https://academy.neuromatch.io/about/mission).\n",
    "- Links:\n",
    "[twitter](https://twitter.com/burakgur_), [Google Scholar](https://scholar.google.com/citations?user=8B2egmgAAAAJ&hl=en), [linkedin](https://www.linkedin.com/in/burak-gur-605701a2/?originalSubdomain=de)\n",
    "- Feel free to contact me: burak.guer@fmi.ch"
   ]
  },
  {
   "cell_type": "code",
   "execution_count": null,
   "metadata": {},
   "outputs": [],
   "source": []
  }
 ],
 "metadata": {
  "colab": {
   "authorship_tag": "ABX9TyOFYdov3OUgiPDFuNczznIS",
   "collapsed_sections": [
    "ePY07QMa8OGm"
   ],
   "include_colab_link": true,
   "provenance": [],
   "toc_visible": true
  },
  "kernelspec": {
   "display_name": "Python 3 (ipykernel)",
   "language": "python",
   "name": "python3"
  },
  "language_info": {
   "codemirror_mode": {
    "name": "ipython",
    "version": 3
   },
   "file_extension": ".py",
   "mimetype": "text/x-python",
   "name": "python",
   "nbconvert_exporter": "python",
   "pygments_lexer": "ipython3",
   "version": "3.11.1"
  }
 },
 "nbformat": 4,
 "nbformat_minor": 4
}
