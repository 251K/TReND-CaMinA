{
 "cells": [
  {
   "cell_type": "markdown",
   "id": "df3fc986-92f3-4bbf-b3d5-303098180008",
   "metadata": {
    "id": "ePY07QMa8OGm"
   },
   "source": [
    "<a name=\"PythonIntro\"></a>\n",
    "# Extra (@Home if needed): Programming with Python\n",
    "\n",
    "Python tutorial and learning resources\n",
    "\n"
   ]
  },
  {
   "cell_type": "markdown",
   "id": "40401e92-d270-40b8-bbbf-75144430aef1",
   "metadata": {
    "id": "aR7LlA5bb0RF"
   },
   "source": [
    "## TReND Python School: Introduction to Python\n",
    "The following tutorial is prepared by the [TReND Python Course](https://trendinafrica.org/python-course/):\n",
    "\n",
    "Content creators:\n",
    "Burak Gür, Foutse Yuehgoh, Adejoke Elizabeth Memudu, Florian Birk"
   ]
  },
  {
   "cell_type": "markdown",
   "id": "1ca2a802-b16b-4c94-9ec4-a554eeab41b5",
   "metadata": {
    "id": "hVWtWsJgmvj3"
   },
   "source": [
    "\n",
    "\n",
    "### Overview:\n",
    "#### - 3.1 [Python as a calculator](#calculator)\n",
    "#### - 3.2 [Storing data: Variables](#var)\n",
    "#### - 3.3. [Data types](#datype)\n",
    "##### - [**integers**](#int) - for numbers without decimals\n",
    "##### - [**floats**](#float) - for numbers with decimals\n",
    "##### - [**strings**](#str) - for characters, words etc.\n",
    "##### - [**booleans**](#bool) - for binary (True or False, 1 or 0)\n",
    "#### - 3.4 [Converting types](#type_conv)\n",
    "#### - 3.5 [Errors](#err)\n",
    "\n"
   ]
  },
  {
   "cell_type": "markdown",
   "id": "e9a8bb69-c838-4df8-bfda-f4e10458dc52",
   "metadata": {
    "id": "5hpGUfNHmvj6"
   },
   "source": [
    "---\n",
    "<a name=\"calculator\"></a>\n",
    "##**3.1 Python as a calculator**\n",
    "Python can be used as a calculator. And basic mathematical operations can be easily done using **Python operators** (pre defined symbols for doing operations between values or variables).\n",
    "\n",
    "| Operator | Name    |\n",
    "|------|------|\n",
    "|```+```  | Addition|\n",
    "|```-```  | Subtraction|\n",
    "|```*```  | Multiplication|\n",
    "|```/```  | Division|\n",
    "|```**```  | Exponentiation|\n",
    "|```%```  | Modulus|\n"
   ]
  },
  {
   "cell_type": "code",
   "execution_count": null,
   "id": "8aeaa7b2-6c05-469e-a023-6bb3077f6215",
   "metadata": {
    "id": "0DmPREi8TqJJ"
   },
   "outputs": [],
   "source": [
    "#Live code (add 1 to 5)"
   ]
  },
  {
   "cell_type": "code",
   "execution_count": null,
   "id": "c80a6c7c-eaac-4828-9816-9574b0547ce3",
   "metadata": {
    "cellView": "form",
    "id": "UuYUjbie_j-7"
   },
   "outputs": [],
   "source": [
    "#@title  Double click for solution\n",
    "# add 1 to 5\n",
    "1+5"
   ]
  },
  {
   "cell_type": "code",
   "execution_count": null,
   "id": "19682616-bb9f-4fa2-a526-45efceba2d93",
   "metadata": {
    "id": "wGxpNEnxmvkC"
   },
   "outputs": [],
   "source": [
    "#Live code (Multiple 2 by  3)"
   ]
  },
  {
   "cell_type": "code",
   "execution_count": null,
   "id": "0c5590f9-c1f5-4119-8c72-0c5820fd279d",
   "metadata": {
    "cellView": "form",
    "id": "eQ_5xVSPBW0J"
   },
   "outputs": [],
   "source": [
    "#@title  Double click for solution\n",
    "#Live code (Multiple 2 by  3)\n",
    "2*3"
   ]
  },
  {
   "cell_type": "code",
   "execution_count": null,
   "id": "febc802f-f8a3-4197-84bc-617db3547773",
   "metadata": {
    "id": "imE1JikBmvkJ"
   },
   "outputs": [],
   "source": [
    "#Live code (cube of 2)"
   ]
  },
  {
   "cell_type": "code",
   "execution_count": null,
   "id": "8036ec85-e6d9-40e0-8cff-fb6a605e5098",
   "metadata": {
    "cellView": "form",
    "id": "M121ESeoBePF"
   },
   "outputs": [],
   "source": [
    "#@title  Double click for solution\n",
    "#Live code (cube of 2)\n",
    "2**2"
   ]
  },
  {
   "cell_type": "code",
   "execution_count": null,
   "id": "53aba84d-e2dd-4c46-898d-144ac1c17c2a",
   "metadata": {
    "id": "3ZwWfEqRmvkQ"
   },
   "outputs": [],
   "source": [
    "#Live code (49 modules 24)"
   ]
  },
  {
   "cell_type": "code",
   "execution_count": null,
   "id": "b1385ca7-06dd-492f-bca2-5c057471f234",
   "metadata": {
    "cellView": "form",
    "id": "3F7HtNTQBo6h"
   },
   "outputs": [],
   "source": [
    "#@title  Double click for solution\n",
    "#Live code of  49 modules 24\n",
    "49%24"
   ]
  },
  {
   "cell_type": "markdown",
   "id": "408ccb75-b231-43b7-b92c-e505d1bd8e4b",
   "metadata": {
    "id": "omzbU-4amvkk"
   },
   "source": [
    "---\n",
    "<a name=\"var\"></a>\n",
    "##**3.2 Storing data: Variables**\n",
    "\n",
    "Variables are used to **store** data (also known as **value** in programming) of any sort.\n",
    "\n",
    "You can think of them as a depot where you put data inside and each depot has its unique name:\n",
    "\n",
    "<img src= \"https://github.com/birkfl/TReND/blob/main/Python_Workshop2022/img/variable1.svg?raw=true\" height =\"300px\">\n",
    "\n",
    "- **Name** of the variable: The unique name that identifies this storage space.\n",
    "- **Value** of the variable: Data that is stored inside this space.\n",
    "- **Type** of the variable: Data type that is stored inside this space.\n",
    "\n",
    "**Data types will be part of the next section!**\n",
    "\n",
    "\n"
   ]
  },
  {
   "cell_type": "markdown",
   "id": "455fa1f6-dea7-40d3-8ae0-8858b3aedb2a",
   "metadata": {
    "id": "rTeyPbr8IOmy"
   },
   "source": [
    "### Creating variables: Assignments\n",
    "Variables are created with an assignment statement. The syntax (kind of grammar) of variable assignment is:\n",
    "\n",
    "```variable_name = a value``` (or an expression e.g., ```1+1```)"
   ]
  },
  {
   "cell_type": "code",
   "execution_count": null,
   "id": "46526a89-183d-477c-9721-b94330441845",
   "metadata": {
    "id": "XLkbFyesC5f4"
   },
   "outputs": [],
   "source": [
    "# Live code (Define variables \"year\", \"language\", \"coding minutes\")"
   ]
  },
  {
   "cell_type": "code",
   "execution_count": null,
   "id": "7a4a3464-9e84-4866-b98d-2b2826ca17cb",
   "metadata": {
    "cellView": "form",
    "id": "pAa5_9YQmvkl"
   },
   "outputs": [],
   "source": [
    "#@title  Double click for solution\n",
    "# Define variables \"year\", \"language\", \"coding minutes\"\n",
    "year = 2022           # year\n",
    "language = \"Python\"   # Programming language\n",
    "coding_minutes = 1550 # minutes of coding"
   ]
  },
  {
   "cell_type": "markdown",
   "id": "4b1c7da1-534c-4b20-ba95-e11c92f4c8ea",
   "metadata": {
    "id": "EmhSSvbHmvkq"
   },
   "source": [
    "<img src= \"https://github.com/birkfl/TReND/blob/main/Python_Workshop2022/img/variable_assign.svg?raw=true\" height =\"300px\">\n",
    "\n",
    "\n",
    "We just *defined* variables by assigning values to each of them. Now we can use them.\n",
    "\n",
    "How many **hours** did we spend **coding** this year?"
   ]
  },
  {
   "cell_type": "markdown",
   "id": "713a2ac6-590e-40ff-841b-197a3834e9ad",
   "metadata": {
    "id": "b-i-enJqGD7k"
   },
   "source": [
    "<img src= \"https://github.com/birkfl/TReND/blob/main/Python_Workshop2022/img/variable_divide.svg?raw=true\" height =\"300px\">\n",
    "\n"
   ]
  },
  {
   "cell_type": "code",
   "execution_count": null,
   "id": "a0361e09-c8c7-4258-a531-9213e47f150b",
   "metadata": {
    "id": "jtITc48hDiRS"
   },
   "outputs": [],
   "source": [
    "#Live code (How many hours did I spend with coding in the year 2022? Print the answer!)"
   ]
  },
  {
   "cell_type": "code",
   "execution_count": null,
   "id": "0e290687-afd8-4cd8-b38b-8e5865bf2185",
   "metadata": {
    "cellView": "form",
    "id": "B7_BrPLfDbDE"
   },
   "outputs": [],
   "source": [
    "#@title  Double click for solution\n",
    "#Live code How many hours did I spend with coding in the year 2022? Print the answer!\n",
    "coding_hours = coding_minutes / 60\n",
    "print(\"Hours of coding in 2022:\", coding_hours)"
   ]
  },
  {
   "cell_type": "markdown",
   "id": "43f77d98-8369-4dbe-99b6-e896080bafb0",
   "metadata": {
    "id": "ky6xeYgQHWLY"
   },
   "source": [
    "### **Changing variables**\n",
    "When you use variables in other assignments or operations, they don't change!\n"
   ]
  },
  {
   "cell_type": "markdown",
   "id": "5c8c21a7-51c1-499d-b459-24b2f2caf36f",
   "metadata": {
    "id": "7UwzxQZuQAig"
   },
   "source": [
    "To change variables, we need to assign them again."
   ]
  },
  {
   "cell_type": "code",
   "execution_count": 1,
   "id": "dfc0df74-dffe-409c-9ca8-acdcc1f9897f",
   "metadata": {
    "id": "XyZMO22__Wj9"
   },
   "outputs": [],
   "source": [
    "# Live code (save coding_days as new variable and print it together with coding_hours)"
   ]
  },
  {
   "cell_type": "code",
   "execution_count": 2,
   "id": "7483aa54-ee0f-4734-8579-f272337affd1",
   "metadata": {
    "cellView": "form",
    "colab": {
     "base_uri": "https://localhost:8080/",
     "height": 221
    },
    "id": "Jzj8TaAmD_op",
    "outputId": "2f176905-de65-4d8d-985d-1274ed490d9e"
   },
   "outputs": [
    {
     "ename": "NameError",
     "evalue": "name 'coding_hours' is not defined",
     "output_type": "error",
     "traceback": [
      "\u001b[0;31m---------------------------------------------------------------------------\u001b[0m",
      "\u001b[0;31mNameError\u001b[0m                                 Traceback (most recent call last)",
      "\u001b[0;32m<ipython-input-2-4290d56bce78>\u001b[0m in \u001b[0;36m<cell line: 4>\u001b[0;34m()\u001b[0m\n\u001b[1;32m      2\u001b[0m \u001b[0;31m# Live code (save coding_days as new variable and print it together with coding_hours)\u001b[0m\u001b[0;34m\u001b[0m\u001b[0;34m\u001b[0m\u001b[0m\n\u001b[1;32m      3\u001b[0m \u001b[0;31m# coding_hours / 24\u001b[0m\u001b[0;34m\u001b[0m\u001b[0;34m\u001b[0m\u001b[0m\n\u001b[0;32m----> 4\u001b[0;31m \u001b[0mcoding_days\u001b[0m \u001b[0;34m=\u001b[0m \u001b[0mcoding_hours\u001b[0m \u001b[0;34m/\u001b[0m \u001b[0;36m24\u001b[0m\u001b[0;34m\u001b[0m\u001b[0;34m\u001b[0m\u001b[0m\n\u001b[0m\u001b[1;32m      5\u001b[0m \u001b[0mprint\u001b[0m\u001b[0;34m(\u001b[0m\u001b[0;34m\"coding_hours is:\"\u001b[0m\u001b[0;34m,\u001b[0m\u001b[0mcoding_hours\u001b[0m\u001b[0;34m)\u001b[0m\u001b[0;34m\u001b[0m\u001b[0;34m\u001b[0m\u001b[0m\n\u001b[1;32m      6\u001b[0m \u001b[0mprint\u001b[0m\u001b[0;34m(\u001b[0m\u001b[0;34m\"coding_days is:\"\u001b[0m\u001b[0;34m,\u001b[0m\u001b[0mcoding_days\u001b[0m\u001b[0;34m)\u001b[0m\u001b[0;34m\u001b[0m\u001b[0;34m\u001b[0m\u001b[0m\n",
      "\u001b[0;31mNameError\u001b[0m: name 'coding_hours' is not defined"
     ]
    }
   ],
   "source": [
    "#@title Double click for solution\n",
    "# Live code (save coding_days as new variable and print it together with coding_hours)\n",
    "# coding_hours / 24\n",
    "coding_days = coding_hours / 24\n",
    "print(\"coding_hours is:\",coding_hours)\n",
    "print(\"coding_days is:\",coding_days)"
   ]
  },
  {
   "cell_type": "markdown",
   "id": "2164aea8-1cc5-40a7-96e0-828ec1c904b6",
   "metadata": {
    "id": "vKtBd1_-mvk0"
   },
   "source": [
    "### Naming variables\n",
    "Python variable names:\n",
    "- can contain **letters**, **numbers** and **underscores**\n",
    "- can **NOT** start with a **number** (```1st_name``` -> won't work)\n",
    "- are **case sensitive** (```age``` vs ```Age``` are different variables)\n",
    "\n",
    "Suggestion: Variable names should be **concise** (short but informative):\n",
    "\n",
    "- ```my_telephone_number``` -> ```phone_num```\n",
    "- ```p_n``` -> ```phone_num```\n"
   ]
  },
  {
   "cell_type": "markdown",
   "id": "c7950ea1-fd5e-46ac-a18e-46081f92299b",
   "metadata": {
    "id": "QQ5Hhh-dmvlP"
   },
   "source": [
    "### Checking - deleting variables\n",
    "Now we have defined several varibles in the previous cells. These are stored in our **workspace** (or namespace).\n",
    "\n",
    "- write ```whos``` to check which variables we have in our current workspace.\n"
   ]
  },
  {
   "cell_type": "code",
   "execution_count": null,
   "id": "6f245f54-bf3a-4c1d-9396-d7ff9f24626f",
   "metadata": {
    "id": "RHF-SO5XmvlQ"
   },
   "outputs": [],
   "source": [
    "whos"
   ]
  },
  {
   "cell_type": "markdown",
   "id": "29219b4c-2967-480f-905d-9ab6e3d74900",
   "metadata": {
    "id": "nkIG6WQKmvlV"
   },
   "source": [
    "We can erase them using ```%reset```"
   ]
  },
  {
   "cell_type": "code",
   "execution_count": null,
   "id": "d616bc96-91b8-4a39-929e-cd27e6dedb0c",
   "metadata": {
    "id": "iFJ51Z4vmvlW"
   },
   "outputs": [],
   "source": [
    "%reset"
   ]
  },
  {
   "cell_type": "code",
   "execution_count": null,
   "id": "197ae6e3-141f-4f20-b689-7103666f1ac6",
   "metadata": {
    "id": "zxl9L3oSmvlZ"
   },
   "outputs": [],
   "source": [
    "whos"
   ]
  },
  {
   "cell_type": "markdown",
   "id": "4492a7bb-289f-42c1-9869-89aabb4db709",
   "metadata": {
    "id": "cNs9q-kzmvk9"
   },
   "source": [
    "---\n",
    "<a name=\"datype\"></a>\n",
    "##**3.3 Data types**\n",
    "    \n",
    "Data can have different types.\n",
    "\n",
    "For example:\n",
    "\n",
    "<img src= \"https://github.com/birkfl/TReND/blob/main/Python_Workshop2022/img/variable_types.svg?raw=true\" width =\"600px\">\n",
    "\n",
    "Python's most common data types are:\n",
    "\n",
    "**For numbers:**\n",
    "- [integers](#int) (for storing integers - whole numbers - e.g. 2)\n",
    "\n",
    "\n",
    "- [floats](#float) (for storing numbers with fractions e.g. 1.0025)\n",
    "\n",
    "**For characters (text):**\n",
    "- [strings](#str) (for characters, words etc.)\n",
    "\n",
    "**For logicals (1, 0 - True, False)**:\n",
    "- [booleans](#bool) (binary data: True or False)\n",
    "\n",
    "\n",
    "Note: Data types to store multiple data points (arrays, lists etc.) will be covered in the tutorial *Theory 3*!"
   ]
  },
  {
   "cell_type": "markdown",
   "id": "02cff460-0ff0-4566-8981-73b7270fca39",
   "metadata": {
    "id": "3KTHnvqfmvk9"
   },
   "source": [
    "<a name=\"int\"></a>\n",
    "### **Integers**\n"
   ]
  },
  {
   "cell_type": "markdown",
   "id": "ccdce269-9f31-4460-8aba-72d1842acfa1",
   "metadata": {
    "id": "qsI43Ug8UvCk"
   },
   "source": [
    "Below are some examples of integers"
   ]
  },
  {
   "cell_type": "code",
   "execution_count": null,
   "id": "b998fe18-1046-4074-bc82-95b4594ea01b",
   "metadata": {
    "id": "-7LmZYJTmvk_"
   },
   "outputs": [],
   "source": [
    "# Live code (Example of integer. How old are you? When have you been born? Print each answer in a sentence)"
   ]
  },
  {
   "cell_type": "code",
   "execution_count": null,
   "id": "b6d91b04-8ee1-492a-a385-ed7f5b38015e",
   "metadata": {
    "cellView": "form",
    "id": "tkm6cLYjEmvZ"
   },
   "outputs": [],
   "source": [
    "#@title  Double click for solution\n",
    "# Live code - Example of integer. How old are you? When have you been born?\n",
    "age = 27\n",
    "birthyear = 1995\n",
    "\n",
    "print(\"I am\", age, \"years old.\")\n",
    "print(\"I was born in\", birthyear)"
   ]
  },
  {
   "cell_type": "markdown",
   "id": "a8dd03f0-478f-48ab-af48-2462247121b2",
   "metadata": {
    "id": "JhQl609rmvlE"
   },
   "source": [
    "We can check the type of variables by using the ```type()``` function:"
   ]
  },
  {
   "cell_type": "code",
   "execution_count": null,
   "id": "9ed65f64-3d29-4db1-b187-48cc05f264b5",
   "metadata": {
    "id": "AUGoRN2emvlF"
   },
   "outputs": [],
   "source": [
    "# Live code (Print the data type of the age variable)"
   ]
  },
  {
   "cell_type": "code",
   "execution_count": null,
   "id": "d9417f04-7141-4fb6-a2f5-12bc05e1adbd",
   "metadata": {
    "cellView": "form",
    "id": "hFWxk7Q_E7eu"
   },
   "outputs": [],
   "source": [
    "#@title  Double click for solution\n",
    "# Live code - Print the data type of the age variable\n",
    "print(type(age))"
   ]
  },
  {
   "cell_type": "markdown",
   "id": "6b8cb9de-5f4d-4fd7-b265-60675a9e62c2",
   "metadata": {
    "id": "e8owah9mVQOS"
   },
   "source": [
    "It will print out: <class 'int'> meaning that the type (you call data types \"class\") is integer."
   ]
  },
  {
   "cell_type": "markdown",
   "id": "a932d095-f516-4212-ac59-d3d9eae61436",
   "metadata": {
    "id": "QrTbeVq-mvll"
   },
   "source": [
    "<a name=\"float\"></a>\n",
    "### **Floats**\n",
    "**Floating point number** (Float) is a way of representing a non-integer real number with a computer.\n"
   ]
  },
  {
   "cell_type": "code",
   "execution_count": null,
   "id": "92b28760-9874-4365-b361-fe50895742b2",
   "metadata": {
    "id": "dMWK7nTimvll"
   },
   "outputs": [],
   "source": [
    "# Live code (Let's calculate my speed from home to work, assign variables distance (km) and time (minutes))"
   ]
  },
  {
   "cell_type": "code",
   "execution_count": null,
   "id": "96ff95b3-f6e0-4811-ba3a-778fc23d07c5",
   "metadata": {
    "cellView": "form",
    "id": "BTvqHEaEFgDT"
   },
   "outputs": [],
   "source": [
    "#@title  Double click for solution\n",
    "# Live code - Let's calculate my speed from home to work\n",
    "distance = 3 # in kms\n",
    "time = 7 # in minutes"
   ]
  },
  {
   "cell_type": "code",
   "execution_count": null,
   "id": "05b48e75-d141-43a8-b517-947055969579",
   "metadata": {
    "id": "0WB5GNguBD65"
   },
   "outputs": [],
   "source": [
    "#Live code (store distance/(time/60) in a variable called speed. Print out the average speed from work and the variable type of  speed)"
   ]
  },
  {
   "cell_type": "code",
   "execution_count": null,
   "id": "84fe0153-d3c3-40d6-84ad-5c8d63951431",
   "metadata": {
    "cellView": "form",
    "id": "0l0CKdSXFrK2"
   },
   "outputs": [],
   "source": [
    "#@title  Double click for solution\n",
    "#Live code - (store distance/(time/60) in a variable called speed. Print out the average speed from work and the variable type of  speed)\n",
    "speed = distance/(time/60) # km/h\n",
    "print(\"My average speed from home to work is: \", speed, \"km/h\")\n",
    "print(\"'speed' variable's value is \", type(speed))"
   ]
  },
  {
   "cell_type": "markdown",
   "id": "e2947574-e7fb-4fda-a1ff-a3ccd38cfda5",
   "metadata": {
    "id": "CpmMXtvdmvlp"
   },
   "source": [
    "<a name=\"str\"></a>\n",
    "### **Strings**\n",
    "\n",
    "What if we want to store characters instead of numbers? Usually we want to store a set of characters instead of storing each character 1 by 1 (like instead of storing - n, a, m, e - we want to store them together as -name-). This is called a string of characters. That's why the type is also called **string**."
   ]
  },
  {
   "cell_type": "markdown",
   "id": "7f22dc6c-7e1d-4f9a-a215-28b7f5432bbf",
   "metadata": {
    "id": "yJX3i2Gimvly"
   },
   "source": [
    "- We should use **double quoutes ```\" __ \"``` or single quotes ```' __ '```** when limiting a string.\n",
    "\n"
   ]
  },
  {
   "cell_type": "code",
   "execution_count": null,
   "id": "b89f021f-4daa-40bb-b3ae-e4a499b91e55",
   "metadata": {
    "id": "lJK9sAoTmvlq"
   },
   "outputs": [],
   "source": [
    "# Live code (create and print your variable name and country)"
   ]
  },
  {
   "cell_type": "code",
   "execution_count": null,
   "id": "0595e3ae-defe-4374-87a5-20e5afd05cab",
   "metadata": {
    "cellView": "form",
    "id": "HQtfsqTAF5ne"
   },
   "outputs": [],
   "source": [
    "#@title  Double click for solution\n",
    "# Live code - Some string examples\n",
    "name = \"Florian\"\n",
    "country = 'Germany'\n",
    "\n",
    "print(name, \"is from\", country)"
   ]
  },
  {
   "cell_type": "markdown",
   "id": "df4b077a-a3fd-4f61-ac13-5484609de772",
   "metadata": {
    "id": "kMY4A4FRmvl6"
   },
   "source": [
    "#### Adding blank space (a.k.a. whitespace)\n",
    "- Use ```\\n``` to add a new line (like pressing enter)\n",
    "- Use ```\\t``` for adding a tab\n",
    "\n"
   ]
  },
  {
   "cell_type": "code",
   "execution_count": null,
   "id": "b8b59df3-8cfc-49d7-ae64-ff8039cc4622",
   "metadata": {
    "id": "YWYYVqcfmvl6"
   },
   "outputs": [],
   "source": [
    "# Live code (Try the new line and tab option! Try to replicate the print output below with only one string variable.)"
   ]
  },
  {
   "cell_type": "code",
   "execution_count": null,
   "id": "e4aa9b3c-67ab-4702-8b5f-84a0bfe2f236",
   "metadata": {
    "cellView": "form",
    "id": "E9HspAKYGmmF"
   },
   "outputs": [],
   "source": [
    "#@title  Double click for solution\n",
    "# Live code - Tab example\n",
    "two_line_string = '\\tHello  world \\n A new line'\n",
    "print(two_line_string)"
   ]
  },
  {
   "cell_type": "markdown",
   "id": "675c26cf-d002-4257-9117-b63b1e607140",
   "metadata": {
    "id": "DxVKoiObmvmC"
   },
   "source": [
    "#### **Concatenating (combining)**\n",
    "Sometimes we want to combine strings. There are many ways of doing it.\n",
    "\n",
    "A fast and easy-to-read way is using the **plus** **```+```** **operator**."
   ]
  },
  {
   "cell_type": "code",
   "execution_count": null,
   "id": "938ce12c-eb13-45e7-9861-a34eeee03c9a",
   "metadata": {
    "id": "M6JPETLYmvmC"
   },
   "outputs": [],
   "source": [
    "# Live code (Let's concatenate two string variables. Define your name and surname as strings and concatenate them with the + operator)"
   ]
  },
  {
   "cell_type": "code",
   "execution_count": null,
   "id": "19595687-0f9f-4cf0-b8e1-32f84d2b1288",
   "metadata": {
    "cellView": "form",
    "id": "VdbtG3Z-GrSD"
   },
   "outputs": [],
   "source": [
    "#@title  Double click for solution\n",
    "# The plus operator to combine strings\n",
    "name = \"Florian\"\n",
    "surname = \"Birk\"\n",
    "\n",
    "\n",
    "fullname = name + surname # Just joining them together\n",
    "fullname_nice = name + ' ' + surname # Joining with a space\n",
    "\n",
    "\n",
    "print(fullname)\n",
    "print(fullname_nice)"
   ]
  },
  {
   "cell_type": "markdown",
   "id": "a44a7494-3bc1-4e65-ba9e-651c581a528b",
   "metadata": {
    "id": "FWbDIxwXmvmO"
   },
   "source": [
    "#### **String formatting**\n",
    "An easier way of concatenating is with the **f strings** (formatted string literals).\n",
    "\n"
   ]
  },
  {
   "cell_type": "code",
   "execution_count": null,
   "id": "7beaffd7-205a-4174-b655-af1cf22fd321",
   "metadata": {
    "id": "vrY2cND5mvmP"
   },
   "outputs": [],
   "source": [
    "# Live code (Concatenate with f string )"
   ]
  },
  {
   "cell_type": "code",
   "execution_count": null,
   "id": "d48be463-c942-46e2-bcb1-3c3700110bcc",
   "metadata": {
    "cellView": "form",
    "id": "tj2pviutG1bQ"
   },
   "outputs": [],
   "source": [
    "#@title  Double click for solution\n",
    "# Live code - Concatenate with f string\n",
    "name = \"Florian\"\n",
    "surname = \"Birk\"\n",
    "age = 27\n",
    "\n",
    "\n",
    "print(f'My name is {name}, my surname is {surname}, my age is {age}')"
   ]
  },
  {
   "cell_type": "markdown",
   "id": "d2c94a49-4126-43ef-9ad9-a6d22bcbd597",
   "metadata": {
    "id": "0YwpSRbXqhs1"
   },
   "source": [
    "<a name=\"bool\"></a>\n",
    "### **Booleans**\n",
    "\n",
    "Booleans are data that can vary between only two values (binary) e.g. **0-1** or **True-False**\n",
    "\n",
    "Use **capital letters** for boolean variables!"
   ]
  },
  {
   "cell_type": "code",
   "execution_count": null,
   "id": "5ad0da78-16e5-4f75-9a8a-76749ceb038c",
   "metadata": {
    "id": "yfST9cXyqlIc"
   },
   "outputs": [],
   "source": [
    "# Live code (Example of boolean (football), let's create some booleans variables)"
   ]
  },
  {
   "cell_type": "code",
   "execution_count": null,
   "id": "91990c4f-5795-422a-abf2-3fed6e3fe4f1",
   "metadata": {
    "cellView": "form",
    "id": "Uv79IUPCHPBC"
   },
   "outputs": [],
   "source": [
    "#@title  Double click for solution\n",
    "# Live code - Example of boolean (football)\n",
    "name = \"Lionel\"\n",
    "surname = \"Messi\"\n",
    "age = 35\n",
    "is_programmer = False\n",
    "is_footballplayer = True\n",
    "is_argentine = True\n",
    "is_male = True\n",
    "is_thebest = False # False or True ;)"
   ]
  },
  {
   "cell_type": "markdown",
   "id": "3536dade-f928-4db5-afe0-468103c50a10",
   "metadata": {
    "id": "b2HtvueLHsMw"
   },
   "source": [
    "We can use logical operators (```and```, ```or```, ```not```) to work with them.\n",
    "\n",
    "\n"
   ]
  },
  {
   "cell_type": "code",
   "execution_count": null,
   "id": "31434422-2684-4146-a7ec-9a299abb9364",
   "metadata": {
    "id": "cVrepAjoHxZl"
   },
   "outputs": [],
   "source": [
    "# Live code (Is Lionel Messi either a football player or a programmer?)"
   ]
  },
  {
   "cell_type": "code",
   "execution_count": null,
   "id": "4b9ffec9-bcf1-4108-b69d-06258596f301",
   "metadata": {
    "cellView": "form",
    "id": "wAGdrN8aHo6v"
   },
   "outputs": [],
   "source": [
    "#@title  Double click for solution\n",
    "# Live code - Is Lionel Messi either a soccer player or a programmer?\n",
    "is_programmer or is_footballplayer"
   ]
  },
  {
   "cell_type": "code",
   "execution_count": null,
   "id": "c91c708b-aa33-44db-b21a-2d9699c3cd70",
   "metadata": {
    "id": "y8z7x_egkRbv"
   },
   "outputs": [],
   "source": [
    "# Live code (Is Lionel the best football player?)"
   ]
  },
  {
   "cell_type": "code",
   "execution_count": null,
   "id": "342ea2f8-19e1-4109-b22f-ec2ff7de8e85",
   "metadata": {
    "cellView": "form",
    "id": "QUFQNND6H6Yj"
   },
   "outputs": [],
   "source": [
    "#@title  Double click for solution\n",
    "# Live code - Is Lionel the best soccer player?\n",
    "is_footballplayer and is_thebest"
   ]
  },
  {
   "cell_type": "markdown",
   "id": "6527b69a-63bf-42b3-bec2-dbec6583b2f0",
   "metadata": {
    "id": "ql_v8nSEzgyO"
   },
   "source": [
    "More about booleans: [realpython - booleans](https://realpython.com/python-boolean/)"
   ]
  },
  {
   "cell_type": "markdown",
   "id": "b98545c0-1d7f-4fe7-9af2-b4e9815a3df5",
   "metadata": {
    "id": "V734qOpGmvmo"
   },
   "source": [
    "<a name=\"type_conv\"></a>\n",
    "##**3.4 Converting types**\n",
    "Sometimes we want to convert the types of variables in order to work with other types of variables."
   ]
  },
  {
   "cell_type": "markdown",
   "id": "fa4a04da-6359-4036-90f2-2f6ec65c996d",
   "metadata": {
    "id": "I1kwPSkbtFtE"
   },
   "source": [
    "For example: when we **read text data** and want to do calculations:"
   ]
  },
  {
   "cell_type": "code",
   "execution_count": null,
   "id": "ab9ea267-6e9e-4d01-9f9a-07478d4e906e",
   "metadata": {
    "id": "ah2svJZltJf4"
   },
   "outputs": [],
   "source": [
    "# Live code (Working with strings for calculations (variables: distance (km) and time (hours)))"
   ]
  },
  {
   "cell_type": "code",
   "execution_count": null,
   "id": "e9916476-b9e8-4cc7-bba6-01e2fce1cd55",
   "metadata": {
    "cellView": "form",
    "id": "Avwj2icRIL3l"
   },
   "outputs": [],
   "source": [
    "#@title  Double click for solution\n",
    "# Live code - Working with strings for calculations\n",
    "distance = \"300.6\" # km\n",
    "time = \"4.1\" # hours"
   ]
  },
  {
   "cell_type": "code",
   "execution_count": null,
   "id": "6fb98690-ab7b-436c-b84b-8fd6c4ef97f5",
   "metadata": {
    "id": "Dm29s-FkDVZw"
   },
   "outputs": [],
   "source": [
    "# Live code (Calculate the speed)"
   ]
  },
  {
   "cell_type": "code",
   "execution_count": null,
   "id": "2831a562-8164-456b-9725-22c70ad08b2f",
   "metadata": {
    "cellView": "form",
    "id": "wzQadDXWIS_3"
   },
   "outputs": [],
   "source": [
    "#@title  Double click for solution\n",
    "# Live code - Calculate the speed\n",
    "speed = distance / time"
   ]
  },
  {
   "cell_type": "markdown",
   "id": "b3f44310-2a50-4840-bf31-9198f3f52a01",
   "metadata": {
    "id": "6-nEQmUGscC1"
   },
   "source": [
    "We can't do calculations with strings!\n",
    "\n",
    "We can convert types of data to each other by using **the target type name**:"
   ]
  },
  {
   "cell_type": "markdown",
   "id": "ee3d388b-b027-46b4-9e88-9fa05205f5ea",
   "metadata": {
    "id": "EfFUTjVBt6AN"
   },
   "source": [
    "#### **Watch out!**\n",
    "\n",
    "Be careful of not using an improper data type for your conversion. Python will catch this but it is always good to be aware.\n",
    "\n",
    "e.g. if you convert 300.6 to an ```int``` - but remember, an integer can not handle decimals."
   ]
  },
  {
   "cell_type": "code",
   "execution_count": null,
   "id": "b0df41d6-8b08-4045-a492-45ed17ac91cf",
   "metadata": {
    "id": "zTf37GZIuNwr"
   },
   "outputs": [],
   "source": [
    "print(\"Distance\", distance, \"as int: \", int(distance))"
   ]
  },
  {
   "cell_type": "code",
   "execution_count": null,
   "id": "f524f6db-939e-4c3e-b641-bff164ff88dd",
   "metadata": {
    "id": "gK0ubylctrky"
   },
   "outputs": [],
   "source": [
    "# Live code (Convert the string to a float before calculating the speed)"
   ]
  },
  {
   "cell_type": "code",
   "execution_count": null,
   "id": "f9360a1b-1db3-4ae9-946f-73e1d72abe50",
   "metadata": {
    "cellView": "form",
    "id": "OfPd7oYSInhn"
   },
   "outputs": [],
   "source": [
    "#@title Double click for solution\n",
    "# Live code - Convert to string to float\n",
    "speed = float(distance) / float(time)\n",
    "print(\"Speed is\", speed, \" km/h\")\n",
    "print(\"'speed' type is now: \",type(speed))"
   ]
  },
  {
   "cell_type": "markdown",
   "id": "c4439400-0091-4ce7-8aa5-bf3fe8e5594e",
   "metadata": {
    "id": "CSykGqfbmvk1"
   },
   "source": [
    "---\n",
    "<a name=\"err\"></a>\n",
    "##**3.5 Errors**\n",
    "\n",
    "We are all human. Sometimes we might write incorrect code and python can inform this to us by producing an error. These errors also contain messages that explain what went wrong while python was executing your code.\n"
   ]
  },
  {
   "cell_type": "code",
   "execution_count": null,
   "id": "cfe66dcd-bfaa-4e9b-b703-7b7d590374e0",
   "metadata": {
    "id": "oqw25mWzmvk2"
   },
   "outputs": [],
   "source": [
    "# Live code (Not defined error)"
   ]
  },
  {
   "cell_type": "code",
   "execution_count": null,
   "id": "f0319925-8019-46b7-ad5f-45d7f46546dc",
   "metadata": {
    "cellView": "form",
    "id": "Y4Q-kjEoIyrX"
   },
   "outputs": [],
   "source": [
    "#@title Double click for solution\n",
    "# Live code - Not defined error\n",
    "print(y)\n",
    "y = 10"
   ]
  },
  {
   "cell_type": "markdown",
   "id": "4e532aa6-4ffd-4508-9f2b-ffad90fa5840",
   "metadata": {
    "id": "QG8JhoahxAW0"
   },
   "source": [
    "**Tip:** You can click on \"SEARCH STACK OVERFLOW\" button to see if someone else has encountered a similar error and provided a solution."
   ]
  },
  {
   "cell_type": "markdown",
   "id": "669b143e-1c4b-4588-9fc4-036e9bea2345",
   "metadata": {
    "id": "EQssVClomvk8"
   },
   "source": [
    "\n",
    "These messages are composed in a logical way, :\n",
    "1. What is the **type of error** (<font color=red>NameError</font>) -> [More on error types here](https://docs.python.org/3/tutorial/errors.html)\n",
    "2. **Where (which file)** the error occured (in our case this is not useful because we just have this file)\n",
    "4. **Which line** has the error producing code\n",
    "4. **Why** there was an error\n",
    "\n",
    "\n"
   ]
  },
  {
   "cell_type": "code",
   "execution_count": null,
   "id": "c0713d91-7e92-4d52-86bf-3b706beba4f5",
   "metadata": {
    "id": "28xsHsRFaKuV"
   },
   "outputs": [],
   "source": [
    "# Syntax/Identation error\n",
    "print(\"This workshop is so much fun!\")\n",
    "print(\"I could not find any errors yet\"\")\n",
    "weight = 70\n",
    "height = 180"
   ]
  },
  {
   "cell_type": "code",
   "execution_count": null,
   "id": "18d1da71-65a1-4265-bec1-c8e583c9fca9",
   "metadata": {
    "id": "b-nRdE3ldJxP"
   },
   "outputs": [],
   "source": [
    "# Zero division error\n",
    "10 * (1/0)"
   ]
  },
  {
   "cell_type": "markdown",
   "id": "839b99a5-8017-4679-8be8-3e3ac2c24022",
   "metadata": {
    "id": "e5hYboOpJBCD"
   },
   "source": [
    "### **Bonus: Commenting on code**\n",
    "We can add some text to our code to inform/remind ourselves or others:\n",
    "- **What** our code is doing\n",
    "- **Why** it is doing this particular thing. (more important than what)\n",
    "- Be **conscise**!"
   ]
  },
  {
   "cell_type": "code",
   "execution_count": null,
   "id": "84c9a65c-355a-4b51-bc85-9bb45c137fe8",
   "metadata": {
    "colab": {
     "base_uri": "https://localhost:8080/"
    },
    "id": "qk8ozUBjvGnc",
    "outputId": "f123d357-a724-483e-f53d-d7e928490d08"
   },
   "outputs": [
    {
     "name": "stdout",
     "output_type": "stream",
     "text": [
      "height_feet is: 6.003937007874016\n"
     ]
    }
   ],
   "source": [
    "height_cm = 183\n",
    "\n",
    "# Too long comment\n",
    "height_feet = height_cm / 30.48 # 1 foot is 30.48 cm so that's why we divide the height in cm with 30.48\n",
    "\n",
    "# Not explanatory\n",
    "height_feet = height_cm / 30.48 # Divide by 30.48\n",
    "\n",
    "# Conscise: good!\n",
    "height_feet = height_cm / 30.48 # 1 foot is 30.48 cm\n",
    "print(\"height_feet is:\",height_feet)"
   ]
  },
  {
   "cell_type": "markdown",
   "id": "a4ec3594-9f5e-4b92-aed5-a088f6d4ba9f",
   "metadata": {
    "id": "WGth40rgx0bP"
   },
   "source": [
    "\n",
    "---\n",
    "<a name=\"selfstudy\"></a>\n",
    "##**4. Self Study**\n",
    "\n",
    "**=================================================================**\n"
   ]
  },
  {
   "cell_type": "markdown",
   "id": "29c4c874-1e81-4ca1-a0d3-504ce3cf22cd",
   "metadata": {
    "id": "2i83Xpa8U0nu"
   },
   "source": [
    "### **4.1 Basic Operations**"
   ]
  },
  {
   "cell_type": "markdown",
   "id": "21be7040-edb2-4d6d-9477-26451420c80b",
   "metadata": {
    "id": "-UHXB6RXmvkW"
   },
   "source": [
    "The **order** of operations is important.\n",
    "\n",
    "Use parantheses ```()``` to define order of operations.\n",
    "\n"
   ]
  },
  {
   "cell_type": "markdown",
   "id": "aab225fd-66f2-46c1-9bd8-c5f9c03af14e",
   "metadata": {
    "id": "TTaK_UGTIrHg"
   },
   "source": [
    "Add 3 to 5 and divide by 4 -> **result is 2**"
   ]
  },
  {
   "cell_type": "code",
   "execution_count": null,
   "id": "acd7d27e-6859-49c0-a0fc-56241735acb7",
   "metadata": {
    "id": "_zHSy_SQVy4_"
   },
   "outputs": [],
   "source": [
    "# Task - Add 3 and 5 and divide by 4"
   ]
  },
  {
   "cell_type": "code",
   "execution_count": null,
   "id": "929f3334-ed31-47ed-805b-f7829cfd3fa4",
   "metadata": {
    "cellView": "form",
    "id": "kVBYq-_CByda"
   },
   "outputs": [],
   "source": [
    "#@title  Double click for solution\n",
    "# Add 3 and 5 and divide the results by 4\n",
    "3+5/4"
   ]
  },
  {
   "cell_type": "code",
   "execution_count": null,
   "id": "fa62f410-ea34-4767-91ef-ddbfc5cf9118",
   "metadata": {
    "id": "Xxa6PhG4ByZa"
   },
   "outputs": [],
   "source": [
    "# Task - Add 3 and 5 and divide the final answer by 4"
   ]
  },
  {
   "cell_type": "code",
   "execution_count": null,
   "id": "0ecbdeca-45b4-4380-96f7-0c9e43267e0d",
   "metadata": {
    "cellView": "form",
    "id": "YOv6DOFrB5J2"
   },
   "outputs": [],
   "source": [
    "#@title  Double click for solution\n",
    "# Add 3 and 5 and divide the final answer by 4\n",
    "(3+5)/4"
   ]
  },
  {
   "cell_type": "markdown",
   "id": "2941c9e1-358a-460b-b2b6-5d62969ac51e",
   "metadata": {
    "id": "ev_65pkpNCOA"
   },
   "source": [
    "### Seeing our results with ```print()``` function\n",
    "When we write multiple lines of code that contain operations, we can just see the result of our last operation.\n",
    "\n"
   ]
  },
  {
   "cell_type": "code",
   "execution_count": null,
   "id": "8958ff41-e2d7-47b7-8fe5-98f8b59a4db7",
   "metadata": {
    "id": "P11zbX2qPG7W"
   },
   "outputs": [],
   "source": [
    "# Task - Do at least two number operations (division or multiplication) in two different lines of code. What do you recognize in the output?"
   ]
  },
  {
   "cell_type": "code",
   "execution_count": null,
   "id": "f2696db4-9eca-49ff-b26f-f855738938bc",
   "metadata": {
    "cellView": "form",
    "id": "z2W5E1gdCC9q"
   },
   "outputs": [],
   "source": [
    "#@title Double click for solution\n",
    "# multiples lines of operations\n",
    "# You should see only the last operation beeing printed if you do not use the \"print()\" function\n",
    "1+2\n",
    "2+4"
   ]
  },
  {
   "cell_type": "markdown",
   "id": "2f17313e-6499-4f5d-ac5b-53937b9d1b41",
   "metadata": {
    "id": "dUi6u71eW5Xj"
   },
   "source": [
    "To see stuff after running our code, we can use the ```print()``` function of python:"
   ]
  },
  {
   "cell_type": "code",
   "execution_count": null,
   "id": "e9ce9c00-ed34-44f7-9e93-457d5f00979d",
   "metadata": {
    "id": "Ae_DwGOu-zIi"
   },
   "outputs": [],
   "source": [
    "# Task - Print out the results of the previous codes using the print() function"
   ]
  },
  {
   "cell_type": "code",
   "execution_count": null,
   "id": "74414fb0-69c1-4dbd-a269-1637b86cd278",
   "metadata": {
    "cellView": "form",
    "id": "Yi6UdJsRCLHm"
   },
   "outputs": [],
   "source": [
    "#@title  Double click for solution\n",
    "# Live code (print out the results of the previous codes)\n",
    "print(3+3)\n",
    "print(1+2)"
   ]
  },
  {
   "cell_type": "markdown",
   "id": "35b1857a-23d8-4de2-aa86-d514b7764a73",
   "metadata": {
    "id": "hNDiejTPJNNC"
   },
   "source": [
    "Functions usually take inputs and produce outputs.\n",
    "> ```output = function_name(input1,input2,...,inputN)```\n",
    "\n",
    "More on **functions later on the course**!"
   ]
  },
  {
   "cell_type": "markdown",
   "id": "5c988ab0-b187-49d5-8457-a83b80191c96",
   "metadata": {
    "id": "OUSrFKOVImI-"
   },
   "source": [
    "```print()``` function can take multiple inputs (separated by ```,```) and prints them side by side.\n",
    "\n",
    "> ```print(input1, input2, ..., inputN)```\n",
    "\n"
   ]
  },
  {
   "cell_type": "code",
   "execution_count": null,
   "id": "da023fb4-1008-410b-93b1-962a5fefcc38",
   "metadata": {
    "id": "zvAEIjukI7Tn"
   },
   "outputs": [],
   "source": [
    "# Task - Print multiple inputs (numbers, strings, etc.) using one print statement"
   ]
  },
  {
   "cell_type": "code",
   "execution_count": null,
   "id": "f58bb50b-a36d-4d40-a87f-78e7c65c331a",
   "metadata": {
    "cellView": "form",
    "id": "Eaugfm5HCUOz"
   },
   "outputs": [],
   "source": [
    "#@title  Double click for solution\n",
    "print(3+3,3+2,4)"
   ]
  },
  {
   "cell_type": "markdown",
   "id": "906d1f35-042d-46e1-bd8f-baa68cd144eb",
   "metadata": {
    "id": "mMuw-9b_U_II"
   },
   "source": [
    "### **4.2 Variables**"
   ]
  },
  {
   "cell_type": "markdown",
   "id": "d7ef3c7b-dee2-48a7-b40d-49d7e786276c",
   "metadata": {
    "id": "sv582i1Mwpl1"
   },
   "source": [
    "**Integers**\n",
    "\n",
    "We can use integer variables with the operations we learned above."
   ]
  },
  {
   "cell_type": "markdown",
   "id": "419dc5c3-bbb4-48ad-90e5-0a9b30a676f0",
   "metadata": {
    "id": "kV0vFYn9mvle"
   },
   "source": [
    "What happens if we do a division that yields a fractional value with two integer type variables of your choice.(e.g. 5/2 = 2.5).\n",
    "\n",
    "\n",
    "- What is the type of our result variable?"
   ]
  },
  {
   "cell_type": "code",
   "execution_count": null,
   "id": "f20a374c-e009-4155-a8f4-3827970997b5",
   "metadata": {
    "id": "cuI0fOiEmvlg"
   },
   "outputs": [],
   "source": [
    "# Task - Print x by y and assign it to z\n",
    "\n",
    "# Task - Print x, y, and z and their types"
   ]
  },
  {
   "cell_type": "code",
   "execution_count": null,
   "id": "ed95afbb-eb7a-492a-90bf-c54f223820e5",
   "metadata": {
    "cellView": "form",
    "id": "zqPGIt_6FVfT"
   },
   "outputs": [],
   "source": [
    "#@title  Double click for solution\n",
    "# Live code - Print x by y and assign it to z\n",
    "x = 5\n",
    "y = 2\n",
    "z = x/y\n",
    "\n",
    "# Print x, y, and z and their types\n",
    "print(\"x is\",x, \"y is\",y, \"z is\",z)\n",
    "print(\"x is\",type(x), \"y is\",type(y), \"z is\",type(z))"
   ]
  },
  {
   "cell_type": "code",
   "execution_count": null,
   "id": "f005cd0c-a393-485c-bf65-e9acc1952e8c",
   "metadata": {
    "id": "6hKD9EgX_mMt"
   },
   "outputs": [],
   "source": [
    "# Task - Change the value of coding minutes and all subsequent variables of coding_hours and coding_days. Print all three time units"
   ]
  },
  {
   "cell_type": "code",
   "execution_count": null,
   "id": "cdeb2b1f-7744-4973-9bb4-7e37643f512f",
   "metadata": {
    "cellView": "form",
    "id": "pbB1wWekEJMh"
   },
   "outputs": [],
   "source": [
    "#@title  Double click for solution\n",
    "#Live code (change the value of coding minutes and print all three time units)\n",
    "coding_minutes = 2500\n",
    "coding_hours = coding_minutes / 60\n",
    "coding_days = coding_hours / 24\n",
    "print(\"coding_minutes:\", coding_minutes, \"coding_hours:\", coding_hours, \"coding_days:\", coding_days)"
   ]
  },
  {
   "cell_type": "markdown",
   "id": "d46df44c-d71e-4903-b04d-7b298daf0c22",
   "metadata": {
    "id": "VSVBnMflvZkr"
   },
   "source": [
    "**Strings**"
   ]
  },
  {
   "cell_type": "markdown",
   "id": "9c3659dd-42ad-4076-8a9f-343a1795cc99",
   "metadata": {
    "id": "65yQQBSHqXp5"
   },
   "source": [
    "- We can use the **escape character** ```\\``` to continue our string in the next line of code.\n",
    "\n",
    "  This doesn't change the way it is printed."
   ]
  },
  {
   "cell_type": "code",
   "execution_count": null,
   "id": "505480fb-4265-40ad-9f38-e0d048a7babd",
   "metadata": {
    "id": "c5Ixy_R7qgFx"
   },
   "outputs": [],
   "source": [
    "# Task - Defining a multi line string in the code, printed only in one line of output."
   ]
  },
  {
   "cell_type": "code",
   "execution_count": null,
   "id": "733dd277-2484-4370-8119-a9f5e575253e",
   "metadata": {
    "cellView": "form",
    "id": "-VCHaZV_GFAw"
   },
   "outputs": [],
   "source": [
    "#@title  Double click for solution\n",
    "# Live code - Defining a multi line string\n",
    "multiline_string_1 = 'This text is getting too long \\\n",
    "so I can continue on the next line of code'\n",
    "\n",
    "print(multiline_string_1)"
   ]
  },
  {
   "cell_type": "markdown",
   "id": "51ee2518-39b3-46b5-846b-6e86cff255ba",
   "metadata": {
    "id": "-DaaY6LfqYGE"
   },
   "source": [
    "- Or, we can use **triple quoutes ```''' __ '''```** if we would like to use multiline strings"
   ]
  },
  {
   "cell_type": "code",
   "execution_count": null,
   "id": "90d057ea-f5e1-46aa-8ec8-27410f994edc",
   "metadata": {
    "id": "Dr9G_Tcumvl3"
   },
   "outputs": [],
   "source": [
    "# Task - Define a multi line string using the triple quote string."
   ]
  },
  {
   "cell_type": "code",
   "execution_count": null,
   "id": "998e4a58-3a42-4860-8300-02dfba32b791",
   "metadata": {
    "cellView": "form",
    "id": "qvDtoE06GOYZ"
   },
   "outputs": [],
   "source": [
    "#@title  Double click for solution\n",
    "# Live code - A multiline string\n",
    "multiline_string_2 = '''This\n",
    "is\n",
    "a\n",
    "multiline\n",
    "string\n",
    "'''\n",
    "print(multiline_string_2)"
   ]
  },
  {
   "cell_type": "markdown",
   "id": "cb6b55ca-e02c-46ce-82aa-b6bdacd96b29",
   "metadata": {
    "id": "n4Ht52q9QvgS"
   },
   "source": [
    "Remember the **f strings**? We can even do operations within the f strings."
   ]
  },
  {
   "cell_type": "code",
   "execution_count": null,
   "id": "548d47a1-7f4a-401d-bd56-cf5f52dcddfb",
   "metadata": {
    "id": "CHG8or1tvcCa"
   },
   "outputs": [],
   "source": [
    "# Task - add 10 to your age and print it. Rember to check if your age is already assigned as a variable to the notebook. Do you remember the command to check for existing variables?"
   ]
  },
  {
   "cell_type": "code",
   "execution_count": null,
   "id": "83233c44-b495-4abd-8a5a-fc095250750c",
   "metadata": {
    "cellView": "form",
    "id": "nsVoyVTzHFGG"
   },
   "outputs": [],
   "source": [
    "#@title  Double click for solution\n",
    "# Live code - add 10 to your age and print it\n",
    "print(f'My age in 10 years is {age+10}')"
   ]
  },
  {
   "cell_type": "markdown",
   "id": "19206d44-fc5a-4b9d-a50f-298f3f4ba0cb",
   "metadata": {
    "id": "N8UKcosuvrWy"
   },
   "source": [
    "Some more info about the f strings [here](https://realpython.com/python-f-strings/)."
   ]
  },
  {
   "cell_type": "markdown",
   "id": "5fb94db2-b0d2-4049-a529-b52a47a6ce62",
   "metadata": {
    "id": "2RUwT-zE1PtJ"
   },
   "source": [
    "**Boolean**"
   ]
  },
  {
   "cell_type": "code",
   "execution_count": null,
   "id": "1890d055-041f-41e5-bd94-f174f3fed6b8",
   "metadata": {
    "id": "k408QUTJzPqB"
   },
   "outputs": [],
   "source": [
    "# Task - Is Lionel Messi an argentine, male and footballplayer? Use the logical operators and boolean variables assigned in the live session."
   ]
  },
  {
   "cell_type": "code",
   "execution_count": null,
   "id": "8b592ad4-f80f-44c0-bd3e-529e6c691c30",
   "metadata": {
    "cellView": "form",
    "id": "40DXvddUH0ft"
   },
   "outputs": [],
   "source": [
    "#@title  Double click for solution\n",
    "# Live code - Is Lionel Messi an argentine, male, soccerplayer?\n",
    "is_argentine and is_male and is_footballplayer"
   ]
  },
  {
   "cell_type": "markdown",
   "id": "51d2c710-1609-43fe-8954-61b3102ef0ec",
   "metadata": {
    "id": "RbQ3zLwhx0A8"
   },
   "source": [
    "## More resources for learning Python:\n",
    "* [Programiz](https://www.programiz.com/python-programming)\n",
    "* [datacamp](https://learn.datacamp.com/courses/tech:python?utm_source=adwords_ppc&utm_campaignid=654038607&utm_adgroupid=54278411964&utm_device=c&utm_keyword=%2Blanguage%20%2Bpython%20%2Bprogramming&utm_matchtype=b&utm_network=g&utm_adpostion=&utm_creative=262582850841&utm_targetid=aud-299261629574:kwd-552072783517&utm_loc_interest_ms=&utm_loc_physical_ms=9056331&gclid=Cj0KCQjw5auGBhDEARIsAFyNm9FAWR3dZV833urTsgggqq0lAaMk6BRXg9CsS2bhaNo34H5aNPM6uk0aAiaaEALw_wcB)\n",
    "* [W3schools](https://www.w3schools.com/python/python_intro.asp)\n",
    "* [Coursera](https://www.coursera.org/specializations/python?utm_source=gg&utm_medium=sem&utm_campaign=06-PythonforEverybody-ROW&utm_content=06-PythonforEverybody-ROW&campaignid=6493101579&adgroupid=83560622768&device=c&keyword=python%20tutorial%20for%20beginners&matchtype=b&network=g&devicemodel=&adpostion=&creativeid=506843632505&hide_mobile_promo&gclid=Cj0KCQjw5auGBhDEARIsAFyNm9FM0o1tEpibGYE-1M2LQmlv2ctyf50caHOHA20YFVZe14CWMRV6xiUaAgMeEALw_wcB)"
   ]
  },
  {
   "cell_type": "code",
   "execution_count": null,
   "id": "d73ad22d-6636-402b-baf3-92c049c7282d",
   "metadata": {
    "id": "a1u_sX3Gx0ns"
   },
   "outputs": [],
   "source": []
  },
  {
   "cell_type": "markdown",
   "id": "6cf972dc-aad0-4920-a1d5-1102d95520af",
   "metadata": {
    "id": "bsWZnvZfZPW-"
   },
   "source": [
    "Congrats! That's it for this tutorial.\n",
    "\n"
   ]
  }
 ],
 "metadata": {
  "kernelspec": {
   "display_name": "Python 3 (ipykernel)",
   "language": "python",
   "name": "python3"
  },
  "language_info": {
   "codemirror_mode": {
    "name": "ipython",
    "version": 3
   },
   "file_extension": ".py",
   "mimetype": "text/x-python",
   "name": "python",
   "nbconvert_exporter": "python",
   "pygments_lexer": "ipython3",
   "version": "3.11.1"
  }
 },
 "nbformat": 4,
 "nbformat_minor": 5
}
