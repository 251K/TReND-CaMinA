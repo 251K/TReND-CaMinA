{
  "cells": [
    {
      "cell_type": "markdown",
      "metadata": {
        "id": "tF9v8UsrVmqQ"
      },
      "source": [
        "# Intro the the Allen Brain Observatory Visual Coding Ophys Dataset.\n",
        "This notebook demonstrates how to access and visualize data."
      ]
    },
    {
      "cell_type": "code",
      "execution_count": 1,
      "metadata": {
        "colab": {
          "base_uri": "https://localhost:8080/"
        },
        "id": "etDaFPuTVaJE",
        "outputId": "17297204-9652-4dd4-cc36-b232d60aa779"
      },
      "outputs": [
        {
          "name": "stdout",
          "output_type": "stream",
          "text": [
            "Reading package lists... Done\n",
            "Building dependency tree... Done\n",
            "Reading state information... Done\n",
            "s3fs is already the newest version (1.90-1).\n",
            "0 upgraded, 0 newly installed, 0 to remove and 35 not upgraded.\n",
            "Requirement already satisfied: allensdk in /usr/local/lib/python3.11/dist-packages (2.16.2)\n",
            "Requirement already satisfied: psycopg2-binary in /usr/local/lib/python3.11/dist-packages (from allensdk) (2.9.10)\n",
            "Requirement already satisfied: hdmf!=3.5.*,!=3.6.*,!=3.7.*,!=3.8.* in /usr/local/lib/python3.11/dist-packages (from allensdk) (4.1.0)\n",
            "Requirement already satisfied: h5py in /usr/local/lib/python3.11/dist-packages (from allensdk) (3.14.0)\n",
            "Requirement already satisfied: matplotlib in /usr/local/lib/python3.11/dist-packages (from allensdk) (3.10.0)\n",
            "Requirement already satisfied: numpy<1.24 in /usr/local/lib/python3.11/dist-packages (from allensdk) (1.23.5)\n",
            "Requirement already satisfied: pandas==1.5.3 in /usr/local/lib/python3.11/dist-packages (from allensdk) (1.5.3)\n",
            "Requirement already satisfied: jinja2 in /usr/local/lib/python3.11/dist-packages (from allensdk) (3.1.6)\n",
            "Requirement already satisfied: scipy<1.11 in /usr/local/lib/python3.11/dist-packages (from allensdk) (1.10.1)\n",
            "Requirement already satisfied: six in /usr/local/lib/python3.11/dist-packages (from allensdk) (1.17.0)\n",
            "Requirement already satisfied: pynrrd in /usr/local/lib/python3.11/dist-packages (from allensdk) (1.1.3)\n",
            "Requirement already satisfied: future in /usr/local/lib/python3.11/dist-packages (from allensdk) (1.0.0)\n",
            "Requirement already satisfied: requests in /usr/local/lib/python3.11/dist-packages (from allensdk) (2.32.3)\n",
            "Requirement already satisfied: requests-toolbelt in /usr/local/lib/python3.11/dist-packages (from allensdk) (1.0.0)\n",
            "Requirement already satisfied: simplejson in /usr/local/lib/python3.11/dist-packages (from allensdk) (3.20.1)\n",
            "Requirement already satisfied: scikit-image in /usr/local/lib/python3.11/dist-packages (from allensdk) (0.24.0)\n",
            "Requirement already satisfied: scikit-build in /usr/local/lib/python3.11/dist-packages (from allensdk) (0.18.1)\n",
            "Requirement already satisfied: statsmodels in /usr/local/lib/python3.11/dist-packages (from allensdk) (0.14.4)\n",
            "Requirement already satisfied: simpleitk in /usr/local/lib/python3.11/dist-packages (from allensdk) (2.5.2)\n",
            "Requirement already satisfied: argschema in /usr/local/lib/python3.11/dist-packages (from allensdk) (3.0.4)\n",
            "Requirement already satisfied: glymur in /usr/local/lib/python3.11/dist-packages (from allensdk) (0.14.3)\n",
            "Requirement already satisfied: xarray<2023.2.0 in /usr/local/lib/python3.11/dist-packages (from allensdk) (2023.1.0)\n",
            "Requirement already satisfied: pynwb in /usr/local/lib/python3.11/dist-packages (from allensdk) (2.8.3)\n",
            "Requirement already satisfied: tables in /usr/local/lib/python3.11/dist-packages (from allensdk) (3.10.2)\n",
            "Requirement already satisfied: seaborn in /usr/local/lib/python3.11/dist-packages (from allensdk) (0.13.2)\n",
            "Requirement already satisfied: aiohttp in /usr/local/lib/python3.11/dist-packages (from allensdk) (3.11.15)\n",
            "Requirement already satisfied: nest-asyncio in /usr/local/lib/python3.11/dist-packages (from allensdk) (1.6.0)\n",
            "Requirement already satisfied: tqdm in /usr/local/lib/python3.11/dist-packages (from allensdk) (4.67.1)\n",
            "Requirement already satisfied: ndx-events in /usr/local/lib/python3.11/dist-packages (from allensdk) (0.2.1)\n",
            "Requirement already satisfied: boto3 in /usr/local/lib/python3.11/dist-packages (from allensdk) (1.38.46)\n",
            "Requirement already satisfied: semver in /usr/local/lib/python3.11/dist-packages (from allensdk) (3.0.4)\n",
            "Requirement already satisfied: cachetools in /usr/local/lib/python3.11/dist-packages (from allensdk) (5.5.2)\n",
            "Requirement already satisfied: sqlalchemy in /usr/local/lib/python3.11/dist-packages (from allensdk) (2.0.41)\n",
            "Requirement already satisfied: python-dateutil in /usr/local/lib/python3.11/dist-packages (from allensdk) (2.9.0.post0)\n",
            "Requirement already satisfied: pytz>=2020.1 in /usr/local/lib/python3.11/dist-packages (from pandas==1.5.3->allensdk) (2025.2)\n",
            "Requirement already satisfied: jsonschema>=3.2.0 in /usr/local/lib/python3.11/dist-packages (from hdmf!=3.5.*,!=3.6.*,!=3.7.*,!=3.8.*->allensdk) (4.24.0)\n",
            "Requirement already satisfied: ruamel-yaml>=0.16 in /usr/local/lib/python3.11/dist-packages (from hdmf!=3.5.*,!=3.6.*,!=3.7.*,!=3.8.*->allensdk) (0.18.14)\n",
            "Requirement already satisfied: packaging>=21.3 in /usr/local/lib/python3.11/dist-packages (from xarray<2023.2.0->allensdk) (24.2)\n",
            "Requirement already satisfied: aiohappyeyeballs>=2.3.0 in /usr/local/lib/python3.11/dist-packages (from aiohttp->allensdk) (2.6.1)\n",
            "Requirement already satisfied: aiosignal>=1.1.2 in /usr/local/lib/python3.11/dist-packages (from aiohttp->allensdk) (1.3.2)\n",
            "Requirement already satisfied: attrs>=17.3.0 in /usr/local/lib/python3.11/dist-packages (from aiohttp->allensdk) (25.3.0)\n",
            "Requirement already satisfied: frozenlist>=1.1.1 in /usr/local/lib/python3.11/dist-packages (from aiohttp->allensdk) (1.7.0)\n",
            "Requirement already satisfied: multidict<7.0,>=4.5 in /usr/local/lib/python3.11/dist-packages (from aiohttp->allensdk) (6.4.4)\n",
            "Requirement already satisfied: propcache>=0.2.0 in /usr/local/lib/python3.11/dist-packages (from aiohttp->allensdk) (0.3.2)\n",
            "Requirement already satisfied: yarl<2.0,>=1.17.0 in /usr/local/lib/python3.11/dist-packages (from aiohttp->allensdk) (1.20.1)\n",
            "Requirement already satisfied: marshmallow<4.0,>=3.0.0 in /usr/local/lib/python3.11/dist-packages (from argschema->allensdk) (3.26.1)\n",
            "Requirement already satisfied: pyyaml in /usr/local/lib/python3.11/dist-packages (from argschema->allensdk) (6.0.2)\n",
            "Requirement already satisfied: botocore<1.39.0,>=1.38.46 in /usr/local/lib/python3.11/dist-packages (from boto3->allensdk) (1.38.46)\n",
            "Requirement already satisfied: jmespath<2.0.0,>=0.7.1 in /usr/local/lib/python3.11/dist-packages (from boto3->allensdk) (1.0.1)\n",
            "Requirement already satisfied: s3transfer<0.14.0,>=0.13.0 in /usr/local/lib/python3.11/dist-packages (from boto3->allensdk) (0.13.0)\n",
            "Requirement already satisfied: lxml in /usr/local/lib/python3.11/dist-packages (from glymur->allensdk) (5.4.0)\n",
            "Requirement already satisfied: pillow in /usr/local/lib/python3.11/dist-packages (from glymur->allensdk) (11.2.1)\n",
            "Requirement already satisfied: MarkupSafe>=2.0 in /usr/local/lib/python3.11/dist-packages (from jinja2->allensdk) (3.0.2)\n",
            "Requirement already satisfied: contourpy>=1.0.1 in /usr/local/lib/python3.11/dist-packages (from matplotlib->allensdk) (1.3.2)\n",
            "Requirement already satisfied: cycler>=0.10 in /usr/local/lib/python3.11/dist-packages (from matplotlib->allensdk) (0.12.1)\n",
            "Requirement already satisfied: fonttools>=4.22.0 in /usr/local/lib/python3.11/dist-packages (from matplotlib->allensdk) (4.58.4)\n",
            "Requirement already satisfied: kiwisolver>=1.3.1 in /usr/local/lib/python3.11/dist-packages (from matplotlib->allensdk) (1.4.8)\n",
            "Requirement already satisfied: pyparsing>=2.3.1 in /usr/local/lib/python3.11/dist-packages (from matplotlib->allensdk) (3.2.3)\n",
            "Requirement already satisfied: typing_extensions in /usr/local/lib/python3.11/dist-packages (from pynrrd->allensdk) (4.14.0)\n",
            "Requirement already satisfied: charset-normalizer<4,>=2 in /usr/local/lib/python3.11/dist-packages (from requests->allensdk) (3.4.2)\n",
            "Requirement already satisfied: idna<4,>=2.5 in /usr/local/lib/python3.11/dist-packages (from requests->allensdk) (3.10)\n",
            "Requirement already satisfied: urllib3<3,>=1.21.1 in /usr/local/lib/python3.11/dist-packages (from requests->allensdk) (2.4.0)\n",
            "Requirement already satisfied: certifi>=2017.4.17 in /usr/local/lib/python3.11/dist-packages (from requests->allensdk) (2025.6.15)\n",
            "Requirement already satisfied: distro in /usr/local/lib/python3.11/dist-packages (from scikit-build->allensdk) (1.9.0)\n",
            "Requirement already satisfied: setuptools>=42.0.0 in /usr/local/lib/python3.11/dist-packages (from scikit-build->allensdk) (75.2.0)\n",
            "Requirement already satisfied: wheel>=0.32.0 in /usr/local/lib/python3.11/dist-packages (from scikit-build->allensdk) (0.45.1)\n",
            "Requirement already satisfied: networkx>=2.8 in /usr/local/lib/python3.11/dist-packages (from scikit-image->allensdk) (3.5)\n",
            "Requirement already satisfied: imageio>=2.33 in /usr/local/lib/python3.11/dist-packages (from scikit-image->allensdk) (2.37.0)\n",
            "Requirement already satisfied: tifffile>=2022.8.12 in /usr/local/lib/python3.11/dist-packages (from scikit-image->allensdk) (2025.6.11)\n",
            "Requirement already satisfied: lazy-loader>=0.4 in /usr/local/lib/python3.11/dist-packages (from scikit-image->allensdk) (0.4)\n",
            "Requirement already satisfied: greenlet>=1 in /usr/local/lib/python3.11/dist-packages (from sqlalchemy->allensdk) (3.2.3)\n",
            "Requirement already satisfied: patsy>=0.5.6 in /usr/local/lib/python3.11/dist-packages (from statsmodels->allensdk) (1.0.1)\n",
            "Requirement already satisfied: numexpr>=2.6.2 in /usr/local/lib/python3.11/dist-packages (from tables->allensdk) (2.11.0)\n",
            "Requirement already satisfied: py-cpuinfo in /usr/local/lib/python3.11/dist-packages (from tables->allensdk) (9.0.0)\n",
            "Requirement already satisfied: blosc2>=2.3.0 in /usr/local/lib/python3.11/dist-packages (from tables->allensdk) (2.7.1)\n",
            "Requirement already satisfied: ndindex>=1.4 in /usr/local/lib/python3.11/dist-packages (from blosc2>=2.3.0->tables->allensdk) (1.10.0)\n",
            "Requirement already satisfied: msgpack in /usr/local/lib/python3.11/dist-packages (from blosc2>=2.3.0->tables->allensdk) (1.1.1)\n",
            "Requirement already satisfied: jsonschema-specifications>=2023.03.6 in /usr/local/lib/python3.11/dist-packages (from jsonschema>=3.2.0->hdmf!=3.5.*,!=3.6.*,!=3.7.*,!=3.8.*->allensdk) (2025.4.1)\n",
            "Requirement already satisfied: referencing>=0.28.4 in /usr/local/lib/python3.11/dist-packages (from jsonschema>=3.2.0->hdmf!=3.5.*,!=3.6.*,!=3.7.*,!=3.8.*->allensdk) (0.36.2)\n",
            "Requirement already satisfied: rpds-py>=0.7.1 in /usr/local/lib/python3.11/dist-packages (from jsonschema>=3.2.0->hdmf!=3.5.*,!=3.6.*,!=3.7.*,!=3.8.*->allensdk) (0.25.1)\n",
            "Requirement already satisfied: ruamel.yaml.clib>=0.2.7 in /usr/local/lib/python3.11/dist-packages (from ruamel-yaml>=0.16->hdmf!=3.5.*,!=3.6.*,!=3.7.*,!=3.8.*->allensdk) (0.2.12)\n",
            "s3fs: MOUNTPOINT directory /data/allen-brain-observatory/ is not empty. if you are sure this is safe, can use the 'nonempty' mount option.\n"
          ]
        }
      ],
      "source": [
        "!apt install s3fs\n",
        "!pip install allensdk\n",
        "!mkdir -p /data/allen-brain-observatory/\n",
        "!s3fs allen-brain-observatory /data/allen-brain-observatory/ -o public_bucket=1\n",
        "\n"
      ]
    },
    {
      "cell_type": "markdown",
      "metadata": {
        "id": "R1KjEGnHV7m3"
      },
      "source": [
        "Standard Imports"
      ]
    },
    {
      "cell_type": "code",
      "execution_count": 2,
      "metadata": {
        "id": "Otn3gfbDWFbZ"
      },
      "outputs": [],
      "source": [
        "import numpy as np\n",
        "import pandas as pd\n",
        "import matplotlib.pyplot as plt\n",
        "%matplotlib inline"
      ]
    },
    {
      "cell_type": "markdown",
      "metadata": {
        "id": "QyrPtZITWV5r"
      },
      "source": [
        "# Allen Brain Observatory set up\n",
        "This instantiates the tools in the Allen SDK that allow us to access the Brain Observatory data.\n",
        "\n",
        "The main entry point is the `BrainObservatoryCache` class. This class is responsible for accessing any data or metadata.\n",
        "\n",
        "We begin by importing the `BrainObservatoryCache` class and instantiating it, pointing it to our manifest file.\n",
        "\n",
        "`manifest_file` is a path to the where the manifest file is located. This needs to reflect where you are storing and accessing the data. Here, we are pointing it to the data on the S3 bucket."
      ]
    },
    {
      "cell_type": "code",
      "execution_count": 3,
      "metadata": {
        "id": "I3y58o5xWb_g"
      },
      "outputs": [],
      "source": [
        "from allensdk.core.brain_observatory_cache import BrainObservatoryCache\n",
        "manifest_file = '/data/allen-brain-observatory/visual-coding-2p/manifest.json'\n",
        "boc = BrainObservatoryCache(manifest_file=manifest_file)"
      ]
    },
    {
      "cell_type": "markdown",
      "metadata": {
        "id": "ujr9Sf5CYtS5"
      },
      "source": [
        "The Brain Observatory Cache enables us to see the dimensions of the dataset.\n",
        "\n",
        "Let's take a look at the available depths, cre lines, areas, and stimuli available in the Brain Observatory datsset.\n",
        "\n"
      ]
    }
  ],
  "metadata": {
    "colab": {
      "provenance": []
    },
    "kernelspec": {
      "display_name": "Python 3",
      "name": "python3"
    },
    "language_info": {
      "name": "python"
    }
  },
  "nbformat": 4,
  "nbformat_minor": 0
}
