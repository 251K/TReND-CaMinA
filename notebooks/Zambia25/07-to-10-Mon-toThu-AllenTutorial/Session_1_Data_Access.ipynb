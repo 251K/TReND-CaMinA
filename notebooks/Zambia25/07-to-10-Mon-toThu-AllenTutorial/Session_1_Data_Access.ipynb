{
 "cells": [
  {
   "cell_type": "markdown",
   "metadata": {
    "id": "tF9v8UsrVmqQ",
    "jp-MarkdownHeadingCollapsed": true
   },
   "source": [
    "# Intro the the Allen Brain Observatory Visual Coding Ophys Dataset.\n",
    "This notebook demonstrates how to access and visualize data."
   ]
  },
  {
   "cell_type": "markdown",
   "metadata": {},
   "source": [
    "<a href=\"https://colab.research.google.com/github/AllenSWDB/TReND-CaMinA/blob/main/notebooks/Zambia25/07-to-10-Mon-toThu-AllenTutorial/Session_1_Data_Access.ipynb\" target=\"_parent\"><img src=\"https://colab.research.google.com/assets/colab-badge.svg\" alt=\"Open In Colab\"/></a>"
   ]
  },
  {
   "cell_type": "code",
   "execution_count": null,
   "metadata": {
    "colab": {
     "base_uri": "https://localhost:8080/",
     "height": 1000
    },
    "id": "etDaFPuTVaJE",
    "outputId": "01a8ce41-86c9-4002-d16e-6504b7293a31"
   },
   "outputs": [],
   "source": [
    "!apt install s3fs\n",
    "!pip install allensdk\n",
    "!mkdir -p /data/allen-brain-observatory/\n",
    "!s3fs allen-brain-observatory /data/allen-brain-observatory/ -o public_bucket=1\n",
    "import os\n",
    "\n",
    "import time\n",
    "print(\"Runtime is now restarting...\")\n",
    "print(\"You can ignore the error message [Your session crashed for an unknown reason.]\")\n",
    "time.sleep(5)\n",
    "exit()"
   ]
  },
  {
   "cell_type": "markdown",
   "metadata": {
    "id": "R1KjEGnHV7m3"
   },
   "source": [
    "Standard Imports"
   ]
  },
  {
   "cell_type": "code",
   "execution_count": null,
   "metadata": {
    "id": "Otn3gfbDWFbZ"
   },
   "outputs": [],
   "source": [
    "import numpy as np\n",
    "import pandas as pd\n",
    "import matplotlib.pyplot as plt\n",
    "%matplotlib inline"
   ]
  },
  {
   "cell_type": "markdown",
   "metadata": {
    "id": "QyrPtZITWV5r"
   },
   "source": [
    "# Allen Brain Observatory set up\n",
    "This instantiates the tools in the Allen SDK that allow us to access the Brain Observatory data.\n",
    "\n",
    "The main entry point is the `BrainObservatoryCache` class. This class is responsible for accessing any data or metadata.\n",
    "\n",
    "We begin by importing the `BrainObservatoryCache` class and instantiating it, pointing it to our manifest file.\n",
    "\n",
    "`manifest_file` is a path to the where the manifest file is located. This needs to reflect where you are storing and accessing the data. Here, we are pointing it to the data on the S3 bucket."
   ]
  },
  {
   "cell_type": "code",
   "execution_count": null,
   "metadata": {
    "id": "I3y58o5xWb_g"
   },
   "outputs": [],
   "source": [
    "# standard data access code\n",
    "import os\n",
    "import sys\n",
    "import platform\n",
    "from allensdk.core.brain_observatory_cache import BrainObservatoryCache\n",
    "\n",
    "# Set file location based on platform.\n",
    "platstring = platform.platform()\n",
    "if ('Darwin' in platstring) or ('macOS' in platstring):\n",
    "    # macOS\n",
    "    data_root = \"/Volumes/TReND2025/\"\n",
    "elif 'Windows'  in platstring:\n",
    "    # Windows (replace with the drive letter of USB drive)\n",
    "    data_root = \"E:/\"\n",
    "elif ('amzn' in platstring) or ('google.colab' in sys.modules):\n",
    "    # then on Code Ocean or Colab\n",
    "    data_root = \"/data/\"\n",
    "elif 'Linux' in platstring:\n",
    "    # then your own linux platform\n",
    "    # EDIT location where you mounted hard drive\n",
    "    data_root = \"/media/$USERNAME/TReND2025/\"\n",
    "\n",
    "# if running locally without external drive, set a local path to download data\n",
    "# data_root = '/path/to/data'\n",
    "\n",
    "manifest_file = os.path.join(data_root,'allen-brain-observatory/visual-coding-2p/manifest.json')\n",
    "boc = BrainObservatoryCache(manifest_file=manifest_file)"
   ]
  },
  {
   "cell_type": "markdown",
   "metadata": {
    "id": "3qs2CG_cT-me"
   },
   "source": [
    "### Querying from the Brain Observatory Cache"
   ]
  },
  {
   "cell_type": "markdown",
   "metadata": {
    "id": "ujr9Sf5CYtS5"
   },
   "source": [
    "The Brain Observatory Cache enables us to see the dimensions of the dataset.\n",
    "\n",
    "Let's take a look at the available depths, cre lines, areas, and stimuli available in the Brain Observatory datsset.\n",
    "\n"
   ]
  },
  {
   "cell_type": "code",
   "execution_count": null,
   "metadata": {
    "colab": {
     "base_uri": "https://localhost:8080/"
    },
    "id": "Z-h05JoJY19b",
    "outputId": "5a3c8c2f-534b-4bc0-b260-eb38914aaf65"
   },
   "outputs": [],
   "source": [
    "###########\n",
    "# list of all targeted areas\n",
    "boc.get_all_targeted_structures()"
   ]
  },
  {
   "cell_type": "code",
   "execution_count": null,
   "metadata": {
    "colab": {
     "base_uri": "https://localhost:8080/"
    },
    "id": "byN_eB9PY52t",
    "outputId": "6d11a6c3-b170-4345-f31c-309e0b9eccc3"
   },
   "outputs": [],
   "source": [
    "###########\n",
    "# list of all cre driver lines\n",
    "boc.get_all_cre_lines()"
   ]
  },
  {
   "cell_type": "code",
   "execution_count": null,
   "metadata": {
    "colab": {
     "base_uri": "https://localhost:8080/"
    },
    "id": "CacRk3MZY8vW",
    "outputId": "ced6e887-c4c4-466e-9c84-7371e9ca6afe"
   },
   "outputs": [],
   "source": [
    "###########\n",
    "# list of all imaging depths\n",
    "boc.get_all_imaging_depths()"
   ]
  },
  {
   "cell_type": "code",
   "execution_count": null,
   "metadata": {
    "colab": {
     "base_uri": "https://localhost:8080/"
    },
    "id": "k1HBQEOMY_O_",
    "outputId": "e863c4c9-a080-44b8-8daf-489bc272fe9c"
   },
   "outputs": [],
   "source": [
    "###########\n",
    "# list of all stimuli\n",
    "boc.get_all_stimuli()"
   ]
  },
  {
   "cell_type": "markdown",
   "metadata": {
    "id": "zirzeZyZZJyH"
   },
   "source": [
    "### Finding Experiment containers in the Brain Observatory Cache\n",
    "The `experiment container` describes a set of 3 `sessions` performed for the same field of view (ie. same targeted area and imaging depth in the same mouse that targets the same set of neurons). Each experiment container has a unique ID number."
   ]
  },
  {
   "cell_type": "markdown",
   "metadata": {
    "id": "2FyKd1_0AbRZ"
   },
   "source": [
    "!['Diagram of containers'](http://alleninstitute.github.io/AllenSDK/_static/container_session_layout.png)"
   ]
  },
  {
   "cell_type": "markdown",
   "metadata": {
    "id": "Z5RxgL4uFfCe"
   },
   "source": [
    "First let's try to find all the experiment containers:"
   ]
  },
  {
   "cell_type": "code",
   "execution_count": null,
   "metadata": {
    "colab": {
     "base_uri": "https://localhost:8080/"
    },
    "id": "sTcAZAmYFjXk",
    "outputId": "5fd3d455-852c-427f-d7dc-03a565607ec6"
   },
   "outputs": [],
   "source": [
    "########\n",
    "#boc.get_experiment_containers()\n",
    "len(boc.get_experiment_containers())"
   ]
  },
  {
   "cell_type": "markdown",
   "metadata": {
    "id": "5Z6U_9iwTK7u"
   },
   "source": [
    "And now let's find all the \"sessions\" (These are Ophys Experiment Sessions):"
   ]
  },
  {
   "cell_type": "code",
   "execution_count": null,
   "metadata": {
    "colab": {
     "base_uri": "https://localhost:8080/"
    },
    "id": "RW-_zV4ATPqk",
    "outputId": "2f740fb1-a4a3-45a0-be49-9bb6b21cdeff"
   },
   "outputs": [],
   "source": [
    "#########\n",
    "len(boc.get_ophys_experiments())"
   ]
  },
  {
   "cell_type": "markdown",
   "metadata": {
    "id": "qxo7l9vrU0oN"
   },
   "source": [
    "#### Finding Experiment Containers of Interest"
   ]
  },
  {
   "cell_type": "markdown",
   "metadata": {
    "id": "TuY1xe3YZZNl"
   },
   "source": [
    "We may be interested in a specific visual area and Cre line. Let's choose a visual area and Cre line from the lists above."
   ]
  },
  {
   "cell_type": "code",
   "execution_count": null,
   "metadata": {
    "id": "DUJqpDPeZDWg"
   },
   "outputs": [],
   "source": [
    "visual_area = 'VISal'\n",
    "cre_line ='Cux2-CreERT2'"
   ]
  },
  {
   "cell_type": "markdown",
   "metadata": {
    "id": "jZ2wKd-SZfJS"
   },
   "source": [
    "Get the list of all the experiment containers for that area and Cre line combination."
   ]
  },
  {
   "cell_type": "code",
   "execution_count": null,
   "metadata": {
    "id": "vZU1djdJGSpM"
   },
   "outputs": [],
   "source": [
    "? boc.get_experiment_containers"
   ]
  },
  {
   "cell_type": "code",
   "execution_count": null,
   "metadata": {
    "id": "iSACQodcZc5-"
   },
   "outputs": [],
   "source": [
    "###############\n",
    "exps=boc.get_experiment_containers(cre_lines=[cre_line], targeted_structures=[visual_area])"
   ]
  },
  {
   "cell_type": "markdown",
   "metadata": {
    "id": "xpHVjfrDGmMs"
   },
   "source": [
    "A nice way to look at it is by using a pandas dataframe:"
   ]
  },
  {
   "cell_type": "code",
   "execution_count": null,
   "metadata": {
    "colab": {
     "base_uri": "https://localhost:8080/",
     "height": 457
    },
    "id": "lMcpoAc4Zjvw",
    "outputId": "b971b883-2648-4423-a013-4f26ee46997b"
   },
   "outputs": [],
   "source": [
    "pd.DataFrame(exps)"
   ]
  },
  {
   "cell_type": "markdown",
   "metadata": {
    "id": "52zPcO78G7YO"
   },
   "source": [
    "How many experiment containers did you find?"
   ]
  },
  {
   "cell_type": "code",
   "execution_count": null,
   "metadata": {
    "colab": {
     "base_uri": "https://localhost:8080/"
    },
    "id": "FqDL0pSXHlyv",
    "outputId": "ab287eba-3008-4c39-dae8-a2845e817eb7"
   },
   "outputs": [],
   "source": [
    "len(exps)"
   ]
  },
  {
   "cell_type": "markdown",
   "metadata": {
    "id": "8VLzJjBpZpYp"
   },
   "source": [
    "Try this: Let's look at one experiment container, imaged from Cux2-CreERT2, in VISp, from imaging depth 175 um. Compute the dataframe that will show you all the experiment containers for this combination of parameters."
   ]
  },
  {
   "cell_type": "code",
   "execution_count": null,
   "metadata": {
    "colab": {
     "base_uri": "https://localhost:8080/",
     "height": 300
    },
    "id": "sG5Q8tpCLBG3",
    "outputId": "135a89d5-ef04-44a5-bfc8-fff413e62868"
   },
   "outputs": [],
   "source": [
    "##################\n",
    "exps=boc.get_experiment_containers(cre_lines=[cre_line], targeted_structures=['VISp'], imaging_depths=[175])\n",
    "pd.DataFrame(exps)\n"
   ]
  },
  {
   "cell_type": "markdown",
   "metadata": {
    "id": "aluXg7gYMHrs"
   },
   "source": [
    "Now let's look at one of these experiment containers:"
   ]
  },
  {
   "cell_type": "code",
   "execution_count": null,
   "metadata": {
    "id": "cpZQI44wZl3k"
   },
   "outputs": [],
   "source": [
    "experiment_container_id = 511510736"
   ]
  },
  {
   "cell_type": "markdown",
   "metadata": {
    "id": "Zd1ler85Z5-C"
   },
   "source": [
    "Let's get all of the sessions for this container."
   ]
  },
  {
   "cell_type": "code",
   "execution_count": null,
   "metadata": {
    "id": "5Q_XeA45KLf_"
   },
   "outputs": [],
   "source": [
    "?boc.get_ophys_experiments"
   ]
  },
  {
   "cell_type": "code",
   "execution_count": null,
   "metadata": {
    "colab": {
     "base_uri": "https://localhost:8080/",
     "height": 268
    },
    "id": "27iC4wIkZsm7",
    "outputId": "f687a226-7d6a-421c-d0dc-feebeef3568b"
   },
   "outputs": [],
   "source": [
    "#############\n",
    "ophys_expts = boc.get_ophys_experiments(experiment_container_ids=[experiment_container_id])\n",
    "pd.DataFrame(ophys_expts)"
   ]
  },
  {
   "cell_type": "markdown",
   "metadata": {
    "id": "TchLv-c4aFeD"
   },
   "source": [
    "Let's find the session from this container that used the `natural_scenes` stimulus."
   ]
  },
  {
   "cell_type": "code",
   "execution_count": null,
   "metadata": {
    "colab": {
     "base_uri": "https://localhost:8080/",
     "height": 135
    },
    "id": "BVBak4XdZ0WF",
    "outputId": "5cd3ea53-38d0-48e7-ecae-ae940fdd1d51"
   },
   "outputs": [],
   "source": [
    "#############\n",
    "ophys_expts = boc.get_ophys_experiments(experiment_container_ids=[experiment_container_id], stimuli=['natural_scenes'])\n",
    "\n",
    "pd.DataFrame(ophys_expts)"
   ]
  },
  {
   "cell_type": "markdown",
   "metadata": {
    "id": "u3B546xmaSzB"
   },
   "source": [
    "Each session has a unique ID, and we can use that ID to access the data for this session."
   ]
  },
  {
   "cell_type": "code",
   "execution_count": null,
   "metadata": {
    "colab": {
     "base_uri": "https://localhost:8080/"
    },
    "id": "KQ1mh3WEaXfw",
    "outputId": "377bb075-658e-4fd0-be00-0e94fa004cea"
   },
   "outputs": [],
   "source": [
    "session_id = boc.get_ophys_experiments(experiment_container_ids=[experiment_container_id],\n",
    "                                       stimuli=['natural_scenes'])[0]['id']\n",
    "print(session_id)"
   ]
  },
  {
   "cell_type": "markdown",
   "metadata": {
    "id": "DQpp9ZSSWDXl"
   },
   "source": [
    "This concludes the section on querying the brain observatory cache for searching for experiments. We will now look into how we can find information about specific Sessions (Ophys Experiments)"
   ]
  },
  {
   "cell_type": "markdown",
   "metadata": {
    "id": "I_BMAcA9afsB"
   },
   "source": [
    "# Ophys Experiment data\n",
    "A single imaging session is stored in an NWB File. This section shows us how to access everything in the NWB file for a single imaging session. An ophys session contains the following:\n",
    "\n",
    "\n",
    "1.   Maximum Projection of the Ophys Session\n",
    "2.   ROI masks for cells\n",
    "3.   DF/F Traces\n",
    "4.   Stimulus Epochs\n",
    "5.   Running Speed\n",
    "6.   Stimulus Table\n",
    "7.   Stimulus Template\n",
    "\n"
   ]
  },
  {
   "cell_type": "code",
   "execution_count": null,
   "metadata": {
    "id": "H9zuFaMNWpQH"
   },
   "outputs": [],
   "source": [
    "?boc.get_ophys_experiment_data"
   ]
  },
  {
   "cell_type": "code",
   "execution_count": null,
   "metadata": {
    "colab": {
     "base_uri": "https://localhost:8080/"
    },
    "id": "z2YxLSJHaZBX",
    "outputId": "387bb85e-8f6c-4799-ba1b-01dec0206522"
   },
   "outputs": [],
   "source": [
    "#######\n",
    "data_set = boc.get_ophys_experiment_data(ophys_experiment_id=session_id)\n",
    "data_set"
   ]
  },
  {
   "cell_type": "markdown",
   "metadata": {
    "id": "vMbAHOXoatVe"
   },
   "source": [
    "We can use this `data_set` object to access all the pieces of data for the session. Let's take a look."
   ]
  },
  {
   "cell_type": "markdown",
   "metadata": {
    "id": "_gW2wwRharFm"
   },
   "source": [
    "# Maximum projection\n",
    "This is the projection of the full motion corrected movie. It shows all of the neurons imaged during the session."
   ]
  },
  {
   "cell_type": "code",
   "execution_count": null,
   "metadata": {
    "colab": {
     "base_uri": "https://localhost:8080/"
    },
    "id": "Un1PAG5YZAuK",
    "outputId": "445bf91e-a776-4799-e309-82938afb5dd7"
   },
   "outputs": [],
   "source": [
    "###########\n",
    "max_projection = data_set.get_max_projection()\n",
    "max_projection.shape"
   ]
  },
  {
   "cell_type": "code",
   "execution_count": null,
   "metadata": {
    "colab": {
     "base_uri": "https://localhost:8080/",
     "height": 545
    },
    "id": "jdPEuBreanU4",
    "outputId": "36e96606-1a80-47fb-e0fd-e20ce77215e7"
   },
   "outputs": [],
   "source": [
    "fig = plt.figure(figsize=(6,6))\n",
    "plt.imshow(max_projection, cmap='gray')"
   ]
  },
  {
   "cell_type": "markdown",
   "metadata": {
    "id": "lYczWz-wa5sy"
   },
   "source": [
    "# ROI Masks\n",
    "These are all of the segmented masks for cell bodies in this experiment."
   ]
  },
  {
   "cell_type": "code",
   "execution_count": null,
   "metadata": {
    "colab": {
     "base_uri": "https://localhost:8080/"
    },
    "id": "SZwv_oJ8a5PC",
    "outputId": "cb01424c-146c-4ea5-c56f-37661e974770"
   },
   "outputs": [],
   "source": [
    "#########\n",
    "rois = data_set.get_roi_mask_array()\n",
    "rois.shape"
   ]
  },
  {
   "cell_type": "markdown",
   "metadata": {
    "id": "67Rt1ybKhtnM"
   },
   "source": [
    "Look at the dimensions of the mask. There is one image per cell."
   ]
  },
  {
   "cell_type": "code",
   "execution_count": null,
   "metadata": {
    "colab": {
     "base_uri": "https://localhost:8080/"
    },
    "id": "TmXyxiopbLcP",
    "outputId": "98d1a59d-9ea7-4b17-b5ed-b1acf14b69e5"
   },
   "outputs": [],
   "source": [
    "print(rois.shape)\n",
    "print(\"Number of cells:\", rois.shape[0])"
   ]
  },
  {
   "cell_type": "markdown",
   "metadata": {
    "id": "Ps-5jF8LiyqS"
   },
   "source": [
    "What are the values in the mask?"
   ]
  },
  {
   "cell_type": "code",
   "execution_count": null,
   "metadata": {
    "colab": {
     "base_uri": "https://localhost:8080/"
    },
    "id": "kfKYhKqkisBM",
    "outputId": "e0c67ce8-d487-4579-9f6e-71a12b64f0dd"
   },
   "outputs": [],
   "source": [
    "################\n",
    "np.unique(rois)"
   ]
  },
  {
   "cell_type": "markdown",
   "metadata": {
    "id": "it5pxNesiN_9"
   },
   "source": [
    "Let's look at a mask for one cell:"
   ]
  },
  {
   "cell_type": "code",
   "execution_count": null,
   "metadata": {
    "colab": {
     "base_uri": "https://localhost:8080/",
     "height": 545
    },
    "id": "MMa5DwjLiPgO",
    "outputId": "80bba32f-cbc9-4f0d-dd9a-6b0479654425"
   },
   "outputs": [],
   "source": [
    "################\n",
    "plt.figure(figsize=(6,6))\n",
    "plt.imshow(rois[0,:,:])\n"
   ]
  },
  {
   "cell_type": "markdown",
   "metadata": {
    "id": "nk3KjM9siZ-q"
   },
   "source": [
    "To look at all cells, instead we can sum them up:"
   ]
  },
  {
   "cell_type": "code",
   "execution_count": null,
   "metadata": {
    "colab": {
     "base_uri": "https://localhost:8080/",
     "height": 545
    },
    "id": "gmqNX3KMbOOi",
    "outputId": "bb222641-b540-46a0-c317-36ce27a21327"
   },
   "outputs": [],
   "source": [
    "plt.figure(figsize=(6,6))\n",
    "plt.imshow(rois.sum(axis=0))"
   ]
  },
  {
   "cell_type": "code",
   "execution_count": null,
   "metadata": {
    "colab": {
     "base_uri": "https://localhost:8080/"
    },
    "id": "ean6s-3ZjH8V",
    "outputId": "e7966b28-4ad4-4967-fd42-e06e07a039f3"
   },
   "outputs": [],
   "source": [
    "np.unique(rois.sum(axis=0))"
   ]
  },
  {
   "cell_type": "markdown",
   "metadata": {
    "id": "4oQSBcY8bXrH"
   },
   "source": [
    "# DF/F Traces\n",
    "There are a number of accessible traces for all these 174 cells in the NWB file, including raw fluorescence, neuropil corrected traces, demixed traces, and DF/F traces. There are also extracted events available.\n",
    "In this tutorial we will us DF/F to examine neural activity."
   ]
  },
  {
   "cell_type": "code",
   "execution_count": null,
   "metadata": {
    "id": "gleODN4MbT-J"
   },
   "outputs": [],
   "source": [
    "##############\n",
    "ts, dff = data_set.get_dff_traces()"
   ]
  },
  {
   "cell_type": "markdown",
   "metadata": {
    "id": "Axv1eKcQj_ny"
   },
   "source": [
    "Let's look at dff and ts"
   ]
  },
  {
   "cell_type": "code",
   "execution_count": null,
   "metadata": {
    "colab": {
     "base_uri": "https://localhost:8080/"
    },
    "id": "q7qWlhx5boKs",
    "outputId": "09e9ba99-ee71-41d6-aa53-e774527fbe84"
   },
   "outputs": [],
   "source": [
    "##############\n",
    "dff.shape"
   ]
  },
  {
   "cell_type": "code",
   "execution_count": null,
   "metadata": {
    "colab": {
     "base_uri": "https://localhost:8080/"
    },
    "id": "IFmkx-ecjtda",
    "outputId": "f3d19962-59ec-4792-b91b-cf218fc4ca5d"
   },
   "outputs": [],
   "source": [
    "#############\n",
    "ts.shape"
   ]
  },
  {
   "cell_type": "markdown",
   "metadata": {
    "id": "c2dmqCHWk9T7"
   },
   "source": [
    "Let's plot the activity of one neuron:"
   ]
  },
  {
   "cell_type": "code",
   "execution_count": null,
   "metadata": {
    "colab": {
     "base_uri": "https://localhost:8080/",
     "height": 694
    },
    "id": "KHYN5CVik7q-",
    "outputId": "58caa51f-a223-41d3-93d6-1361511f0808"
   },
   "outputs": [],
   "source": [
    "fig = plt.figure(figsize=(10,8))\n",
    "plt.plot(dff[10,:], color='gray')"
   ]
  },
  {
   "cell_type": "markdown",
   "metadata": {
    "id": "vXIOREg3bteL"
   },
   "source": [
    "Let's plot the activity of the first 50 neurons from this session."
   ]
  },
  {
   "cell_type": "code",
   "execution_count": null,
   "metadata": {
    "colab": {
     "base_uri": "https://localhost:8080/",
     "height": 676
    },
    "id": "8ip_8omObph3",
    "outputId": "2685c1a0-bff2-42de-b9b7-62aa357f33de"
   },
   "outputs": [],
   "source": [
    "fig = plt.figure(figsize=(10,8))\n",
    "for i in range(50):\n",
    "    #plt.plot(dff[i,:])\n",
    "    plt.plot(dff[i,:]+(i*2), color='gray')"
   ]
  },
  {
   "cell_type": "markdown",
   "metadata": {
    "id": "ETq1qziQb10S"
   },
   "source": [
    "# Stimulus epochs\n",
    "Several stimuli are shown during each imaging session, interleaved with each other. The stimulus epoch table provides information of these interleaved stimulus epochs"
   ]
  },
  {
   "cell_type": "code",
   "execution_count": null,
   "metadata": {
    "colab": {
     "base_uri": "https://localhost:8080/",
     "height": 300
    },
    "id": "9mU0u5QFbxB6",
    "outputId": "3d6fae78-b846-4741-ed46-99820c3d9b3b"
   },
   "outputs": [],
   "source": [
    "############\n",
    "stim_epoch = data_set.get_stimulus_epoch_table()\n",
    "stim_epoch"
   ]
  },
  {
   "cell_type": "markdown",
   "metadata": {
    "id": "96WKSAzLcAnu"
   },
   "source": [
    "Let's add the stimulus epoch information to the plot of neural activity."
   ]
  },
  {
   "cell_type": "code",
   "execution_count": null,
   "metadata": {
    "colab": {
     "base_uri": "https://localhost:8080/",
     "height": 676
    },
    "id": "qawIFj48b8ad",
    "outputId": "25841e62-ae65-478e-ab4e-f89d17a2835c"
   },
   "outputs": [],
   "source": [
    "#plot activity of first 50 neurons\n",
    "fig = plt.figure(figsize=(10,8))\n",
    "for i in range(50):\n",
    "    plt.plot(dff[i,:]+(i*2), color='gray')\n",
    "\n",
    "#for each stimulus, shade the plot when the stimulus is presented\n",
    "colors = ['blue','orange','green','red']\n",
    "for c,stim_name in enumerate(stim_epoch.stimulus.unique()):\n",
    "    stim = stim_epoch[stim_epoch.stimulus==stim_name]\n",
    "    for j in range(len(stim)):\n",
    "        plt.axvspan(xmin=stim.start.iloc[j], xmax=stim.end.iloc[j], color=colors[c], alpha=0.1)\n"
   ]
  },
  {
   "cell_type": "markdown",
   "metadata": {
    "id": "O1orU9MvcdEB"
   },
   "source": [
    "# Running speed\n",
    "The running speed of the animal on the rotating disk during the entire session."
   ]
  },
  {
   "cell_type": "code",
   "execution_count": null,
   "metadata": {
    "colab": {
     "base_uri": "https://localhost:8080/",
     "height": 309
    },
    "id": "URb0k91gcFeg",
    "outputId": "d809be88-b41f-4d5c-ca1d-f362bfbb4158"
   },
   "outputs": [],
   "source": [
    "dxcm, tsd = data_set.get_running_speed()\n",
    "\n",
    "fig = plt.figure(figsize=(10,3))\n",
    "plt.plot(dxcm)\n",
    "plt.ylabel(\"Running speed (cm/s)\")"
   ]
  },
  {
   "cell_type": "markdown",
   "metadata": {
    "id": "-tgdU7bZcrkc"
   },
   "source": [
    "Let's add the running speed to our plot of neural activity and stimulus epochs."
   ]
  },
  {
   "cell_type": "code",
   "execution_count": null,
   "metadata": {
    "colab": {
     "base_uri": "https://localhost:8080/",
     "height": 830
    },
    "id": "TGc6pA3Scjt-",
    "outputId": "fb1e55a6-c7bf-4a6e-8313-11cf415c0f3c"
   },
   "outputs": [],
   "source": [
    "#plot activity of first 50 neurons\n",
    "fig = plt.figure(figsize=(10,10))\n",
    "for i in range(50):\n",
    "    plt.plot(dff[i,:]+(i*2), color='gray')\n",
    "\n",
    "#plot the running speed (scaled and offset to fit)\n",
    "plt.plot((0.2*dxcm)-20)\n",
    "\n",
    "#for each stimulus, shade the plot when the stimulus is presented\n",
    "colors = ['blue','orange','green','red']\n",
    "for c,stim_name in enumerate(stim_epoch.stimulus.unique()):\n",
    "    stim = stim_epoch[stim_epoch.stimulus==stim_name]\n",
    "    for j in range(len(stim)):\n",
    "        plt.axvspan(xmin=stim.start.iloc[j], xmax=stim.end.iloc[j], color=colors[c], alpha=0.1)\n"
   ]
  },
  {
   "cell_type": "markdown",
   "metadata": {
    "id": "d99Xncx9fAlU"
   },
   "source": [
    "Let's look at a few individual neurons."
   ]
  },
  {
   "cell_type": "code",
   "execution_count": null,
   "metadata": {
    "colab": {
     "base_uri": "https://localhost:8080/",
     "height": 368
    },
    "id": "YxLK8dFMfBZ5",
    "outputId": "aa714372-3901-439f-8ac5-95ab3d2d12fc"
   },
   "outputs": [],
   "source": [
    "fig = plt.figure(figsize=(14,4))\n",
    "\n",
    "plt.plot(dff[49,:], color='gray')\n",
    "plt.plot((0.1*dxcm)-10)\n",
    "\n",
    "#for each stimulus, shade the plot when the stimulus is presented\n",
    "colors = ['blue','orange','green','red']\n",
    "for c,stim_name in enumerate(stim_epoch.stimulus.unique()):\n",
    "    stim = stim_epoch[stim_epoch.stimulus==stim_name]\n",
    "    for j in range(len(stim)):\n",
    "        plt.axvspan(xmin=stim.start.iloc[j], xmax=stim.end.iloc[j], color=colors[c], alpha=0.1)\n"
   ]
  },
  {
   "cell_type": "code",
   "execution_count": null,
   "metadata": {
    "colab": {
     "base_uri": "https://localhost:8080/",
     "height": 368
    },
    "id": "ZTyHkKgMfMlJ",
    "outputId": "ecb85345-dba1-4aae-d4b7-1b294f4780d5"
   },
   "outputs": [],
   "source": [
    "fig = plt.figure(figsize=(14,4))\n",
    "\n",
    "plt.plot(dff[4,:], color='gray')\n",
    "plt.plot((0.1*dxcm)-10)\n",
    "\n",
    "#for each stimulus, shade the plot when the stimulus is presented\n",
    "colors = ['blue','orange','green','red']\n",
    "for c,stim_name in enumerate(stim_epoch.stimulus.unique()):\n",
    "    stim = stim_epoch[stim_epoch.stimulus==stim_name]\n",
    "    for j in range(len(stim)):\n",
    "        plt.axvspan(xmin=stim.start.iloc[j], xmax=stim.end.iloc[j], color=colors[c], alpha=0.1)"
   ]
  },
  {
   "cell_type": "code",
   "execution_count": null,
   "metadata": {
    "colab": {
     "base_uri": "https://localhost:8080/",
     "height": 368
    },
    "id": "LicK5pwRfQma",
    "outputId": "d90dc1f2-3f52-416d-cbe9-cf5bd950739f"
   },
   "outputs": [],
   "source": [
    "fig = plt.figure(figsize=(14,4))\n",
    "\n",
    "plt.plot(dff[35,:], color='gray')\n",
    "plt.plot((0.1*dxcm)-10)\n",
    "\n",
    "#for each stimulus, shade the plot when the stimulus is presented\n",
    "colors = ['blue','orange','green','red']\n",
    "for c,stim_name in enumerate(stim_epoch.stimulus.unique()):\n",
    "    stim = stim_epoch[stim_epoch.stimulus==stim_name]\n",
    "    for j in range(len(stim)):\n",
    "        plt.axvspan(xmin=stim.start.iloc[j], xmax=stim.end.iloc[j], color=colors[c], alpha=0.1)"
   ]
  },
  {
   "cell_type": "markdown",
   "metadata": {
    "id": "ilVjBhbQdEfU"
   },
   "source": [
    "# Stimulus Table\n",
    "For each stimulus there is a stimulus table with information about the condition and timing of each trial."
   ]
  },
  {
   "cell_type": "code",
   "execution_count": null,
   "metadata": {
    "colab": {
     "base_uri": "https://localhost:8080/",
     "height": 363
    },
    "id": "4akRk29_c35A",
    "outputId": "d48d254c-56af-45ce-cf59-ab1ca5f7e3c2"
   },
   "outputs": [],
   "source": [
    "natural_scene_table = data_set.get_stimulus_table('natural_scenes')\n",
    "natural_scene_table.head(n=10)\n"
   ]
  },
  {
   "cell_type": "markdown",
   "metadata": {
    "id": "e7HNXKO1dVJ-"
   },
   "source": [
    "# Stimulus Template\n",
    "The images and movies presented during the session area also included in the NWB file as the stimulus template. Stimuli that are generated programmatically (eg. drifting and static gratings) do not have a stimulus template. There are tools in the SDK to recreate these stimuli."
   ]
  },
  {
   "cell_type": "code",
   "execution_count": null,
   "metadata": {
    "id": "7H3ps7gndNvV"
   },
   "outputs": [],
   "source": [
    "natural_scene_template = data_set.get_stimulus_template('natural_scenes')"
   ]
  },
  {
   "cell_type": "code",
   "execution_count": null,
   "metadata": {
    "colab": {
     "base_uri": "https://localhost:8080/"
    },
    "id": "hmqLjCu5dZxV",
    "outputId": "5c36c8f5-2d9f-474a-cd7d-f811588c8109"
   },
   "outputs": [],
   "source": [
    "natural_scene_template.shape"
   ]
  },
  {
   "cell_type": "markdown",
   "metadata": {
    "id": "0_zlS7afdesw"
   },
   "source": [
    "Let's look at the scene presented in the first trial."
   ]
  },
  {
   "cell_type": "code",
   "execution_count": null,
   "metadata": {
    "colab": {
     "base_uri": "https://localhost:8080/",
     "height": 453
    },
    "id": "NPrEyddddb2D",
    "outputId": "8dbe9cbb-78a0-46c7-cc03-9ff7830ab9ea"
   },
   "outputs": [],
   "source": [
    "scene_number = natural_scene_table.frame.loc[0]\n",
    "plt.imshow(natural_scene_template[scene_number,:,:], cmap='gray')"
   ]
  },
  {
   "cell_type": "markdown",
   "metadata": {
    "id": "ZpaHoOVVdp8e"
   },
   "source": [
    "We can add the trials of this image to the plot of neural activity too:"
   ]
  },
  {
   "cell_type": "code",
   "execution_count": null,
   "metadata": {
    "colab": {
     "base_uri": "https://localhost:8080/",
     "height": 830
    },
    "id": "EeErMmqkdi9v",
    "outputId": "1c466f94-5d1f-4986-a788-7e12de257244"
   },
   "outputs": [],
   "source": [
    "#plot activity of first 50 neurons\n",
    "fig = plt.figure(figsize=(10,10))\n",
    "for i in range(50):\n",
    "    plt.plot(dff[i,:]+(i*2), color='gray')\n",
    "\n",
    "#plot the running speed (scaled and offset to fit)\n",
    "plt.plot((0.2*dxcm)-20)\n",
    "\n",
    "#for each stimulus, shade the plot when the stimulus is presented\n",
    "colors = ['blue','orange','green','red']\n",
    "for c,stim_name in enumerate(stim_epoch.stimulus.unique()):\n",
    "    stim = stim_epoch[stim_epoch.stimulus==stim_name]\n",
    "    for j in range(len(stim)):\n",
    "        plt.axvspan(xmin=stim.start.iloc[j], xmax=stim.end.iloc[j], color=colors[c], alpha=0.1)\n",
    "\n",
    "#shade traces with the time of each presentation of the above scene\n",
    "stim_subset = natural_scene_table[natural_scene_table.frame==scene_number]\n",
    "for j in range(len(stim_subset)):\n",
    "    plt.axvspan(xmin=stim_subset.start.iloc[j], xmax=stim_subset.end.iloc[j], color='red', alpha=0.4)"
   ]
  },
  {
   "cell_type": "markdown",
   "metadata": {
    "id": "La13FxjWfZ5_"
   },
   "source": [
    "We can zoom in on these trials. We'll look at one neuron's responses to all the trials of one image."
   ]
  },
  {
   "cell_type": "code",
   "execution_count": null,
   "metadata": {
    "colab": {
     "base_uri": "https://localhost:8080/",
     "height": 448
    },
    "id": "mIo3iu9Ud1jZ",
    "outputId": "fc066488-3989-49ed-967b-0ce1c9e8505a"
   },
   "outputs": [],
   "source": [
    "cell_index=19\n",
    "scene_number=22\n",
    "\n",
    "stim_subset = natural_scene_table[natural_scene_table.frame==scene_number]\n",
    "\n",
    "for i in range(len(stim_subset)):\n",
    "    plt.plot(dff[cell_index,stim_subset.start.iloc[i]-10:stim_subset.end.iloc[i]+10], color='gray')\n",
    "plt.axvspan(10,18, color='red',alpha=0.2)\n"
   ]
  },
  {
   "cell_type": "markdown",
   "metadata": {
    "id": "DbRWhum21dHX"
   },
   "source": [
    "#### Specimen IDs"
   ]
  },
  {
   "cell_type": "markdown",
   "metadata": {
    "id": "j-sHakFn1kRO"
   },
   "source": [
    "Each cell in the dataset has a unique ID, called the \"Specimen ID\". Let us find the cell specimen IDS for the cells in this session.\n"
   ]
  },
  {
   "cell_type": "code",
   "execution_count": null,
   "metadata": {
    "colab": {
     "base_uri": "https://localhost:8080/"
    },
    "id": "s0jaG7Mt6smy",
    "outputId": "908fad25-aaf9-4d8e-c6c5-424252b52552"
   },
   "outputs": [],
   "source": [
    "data_set.get_cell_specimen_ids()"
   ]
  },
  {
   "cell_type": "markdown",
   "metadata": {
    "id": "6cRpTlQp1ynG"
   },
   "source": [
    "Why is this useful? The cell specimen IDS can help us specify which cells we would like to analyze in any of the traces. Each cell specifmen ID is associated with an \"index\" of the trace arrays. For example, the first cell above : 517473350 is associated with index \"0\". You can get this information by using the following command: (Note that this takes a list and outputs a list)\n"
   ]
  },
  {
   "cell_type": "code",
   "execution_count": null,
   "metadata": {
    "id": "N7Q2jVfp4_ho"
   },
   "outputs": [],
   "source": [
    "indices = data_set.get_cell_specimen_indices(cell_specimen_ids = [517474415])"
   ]
  },
  {
   "cell_type": "markdown",
   "metadata": {
    "id": "kNew5DtM5KF1"
   },
   "source": [
    "This means that to find the trace of this cell in the dff array, we would use the index of the cell specimen like this:"
   ]
  },
  {
   "cell_type": "code",
   "execution_count": null,
   "metadata": {
    "id": "jKFY1E6F5hdz"
   },
   "outputs": [],
   "source": [
    "dff_trace = dff[indices[0]]"
   ]
  },
  {
   "cell_type": "markdown",
   "metadata": {
    "id": "c5nEI1Z6oz_0"
   },
   "source": [
    "##Exercises"
   ]
  },
  {
   "cell_type": "markdown",
   "metadata": {
    "id": "ugqzLH-Eo6SY"
   },
   "source": [
    "1. Print the metadata for the dataset above. Discuss what all the information means (we have covered many of them above!)"
   ]
  },
  {
   "cell_type": "code",
   "execution_count": null,
   "metadata": {
    "id": "SOZQBy4deMLh"
   },
   "outputs": [],
   "source": []
  },
  {
   "cell_type": "markdown",
   "metadata": {
    "id": "0Rg64kvNpOAL"
   },
   "source": [
    "2. What is the session type for the dataset above? Find the other two sessions in the same experiment container."
   ]
  },
  {
   "cell_type": "code",
   "execution_count": null,
   "metadata": {
    "id": "hq-QbDK0nnbh"
   },
   "outputs": [],
   "source": []
  },
  {
   "cell_type": "code",
   "execution_count": null,
   "metadata": {
    "id": "iNz3xlRRzgNl"
   },
   "outputs": [],
   "source": []
  },
  {
   "cell_type": "markdown",
   "metadata": {
    "id": "bBfnHVoutg1Y"
   },
   "source": [
    "3. For each session, a cell id is associated with an index. This index maps into the dff of event traces. Pick one cell id from this session and find the index for that cell. Look for the cell specimen indices and plot the dff trace for this cell."
   ]
  },
  {
   "cell_type": "code",
   "execution_count": null,
   "metadata": {
    "id": "xICBP8vZroMZ"
   },
   "outputs": [],
   "source": []
  },
  {
   "cell_type": "markdown",
   "metadata": {
    "id": "b0rz-ZT_wWXt"
   },
   "source": [
    "4. Now find all sessions where this cell (specimen) appears and show us what type of session each was."
   ]
  },
  {
   "cell_type": "code",
   "execution_count": null,
   "metadata": {
    "id": "IoZhahVLvOP6"
   },
   "outputs": [],
   "source": []
  },
  {
   "cell_type": "markdown",
   "metadata": {
    "id": "wTozSd8jx-HI"
   },
   "source": [
    "5. Of all the Cre-lines, which ones do we have the most number or experiments for?"
   ]
  },
  {
   "cell_type": "code",
   "execution_count": null,
   "metadata": {
    "id": "Uq8yqVNbwOiD"
   },
   "outputs": [],
   "source": []
  },
  {
   "cell_type": "markdown",
   "metadata": {
    "id": "zjDNgker3GN4"
   },
   "source": [
    "6. Find a dataset in which we have eye tracking data (pupil size). Plot this."
   ]
  },
  {
   "cell_type": "code",
   "execution_count": null,
   "metadata": {
    "id": "oJiWEY6pyYrn"
   },
   "outputs": [],
   "source": []
  },
  {
   "cell_type": "code",
   "execution_count": null,
   "metadata": {
    "id": "yU7r6RtJ3aLR"
   },
   "outputs": [],
   "source": []
  },
  {
   "cell_type": "code",
   "execution_count": null,
   "metadata": {
    "id": "8FGaKdE_3mVT"
   },
   "outputs": [],
   "source": []
  },
  {
   "cell_type": "code",
   "execution_count": null,
   "metadata": {
    "id": "o65-9pK3UoVQ"
   },
   "outputs": [],
   "source": []
  }
 ],
 "metadata": {
  "colab": {
   "provenance": []
  },
  "kernelspec": {
   "display_name": "Python 3 (ipykernel)",
   "language": "python",
   "name": "python3"
  },
  "language_info": {
   "codemirror_mode": {
    "name": "ipython",
    "version": 3
   },
   "file_extension": ".py",
   "mimetype": "text/x-python",
   "name": "python",
   "nbconvert_exporter": "python",
   "pygments_lexer": "ipython3",
   "version": "3.9.19"
  }
 },
 "nbformat": 4,
 "nbformat_minor": 4
}
