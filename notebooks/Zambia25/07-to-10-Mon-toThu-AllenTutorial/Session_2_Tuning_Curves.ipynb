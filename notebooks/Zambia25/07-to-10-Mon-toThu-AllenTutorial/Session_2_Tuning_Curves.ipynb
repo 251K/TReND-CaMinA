{
 "cells": [
  {
   "cell_type": "markdown",
   "id": "4fe9f94a-4320-4968-918a-4caa82e3fce0",
   "metadata": {},
   "source": [
    "<div style=\"background: #F0FAFF; border-radius: 3px; padding: 10px;\">\n",
    "<h1> This notebook walks us through how to compute a tuning curve using the Allen Brain Observatory data </h1>\n",
    "    \n",
    "A tuning curve summarizes a neuron's response to stimulus categories. Here we will look at the responses of a neuron to the 'Drifting Gratings' stimulus.\n",
    "\n",
    "The Drifting Gratings stimulus consists of a sinusoidal grating that moves in 8 directions and at 5 temporal frequencies. Each stimulus condition (direction + temporal frequency combination) is repeated 15 times in random order. In addition, there are blanksweeps (when the grating is replaced with mean luminance gray) interleaved among the trials.\n",
    "\n",
    "We will compute the mean response of a neuron to each of these stimulus conditions.\n",
    "</div>"
   ]
  },
  {
   "cell_type": "markdown",
   "id": "cb53de3c",
   "metadata": {},
   "source": [
    "<a href=\"https://colab.research.google.com/github/allenswdb/TReND-CaMinA/notebooks/Zambia25/07-to-10-Mon-toThu-AllenTutorial/Session_2_Tuning_Curves.ipynb\" target=\"_parent\"><img src=\"https://colab.research.google.com/assets/colab-badge.svg\" alt=\"Open In Colab\"/></a>"
   ]
  },
  {
   "cell_type": "code",
   "execution_count": null,
   "id": "DRIjxfqR26l-",
   "metadata": {
    "id": "DRIjxfqR26l-"
   },
   "outputs": [],
   "source": [
    "# run only once per runtime/session, and only if running in colab\n",
    "# the runtime will need to restart after\n",
    "%%capture\n",
    "!apt install s3fs\n",
    "!pip install allensdk\n",
    "!mkdir -p /data/allen-brain-observatory/\n",
    "!s3fs allen-brain-observatory /data/allen-brain-observatory/ -o public_bucket=1\n",
    "\n",
    "import time\n",
    "print(\"Runtime is now restarting...\")\n",
    "print(\"You can ignore the error message [Your session crashed for an unknown reason.]\")\n",
    "time.sleep(5)\n",
    "exit()"
   ]
  },
  {
   "cell_type": "markdown",
   "id": "2b310515",
   "metadata": {
    "id": "2b310515"
   },
   "source": [
    "### Standard imports"
   ]
  },
  {
   "cell_type": "code",
   "execution_count": null,
   "id": "eb0dbd6b",
   "metadata": {
    "id": "eb0dbd6b"
   },
   "outputs": [],
   "source": [
    "import numpy as np\n",
    "import pandas as pd\n",
    "import matplotlib.pyplot as plt\n",
    "%matplotlib inline"
   ]
  },
  {
   "cell_type": "markdown",
   "id": "db88a86e",
   "metadata": {
    "id": "db88a86e"
   },
   "source": [
    "### Allen Brain Observatory set up\n",
    "\n",
    "This instantiates the tools in the Allen SDK that allow us to access the Brain Observatory data."
   ]
  },
  {
   "cell_type": "code",
   "execution_count": null,
   "id": "f5d0f8e6",
   "metadata": {
    "id": "f5d0f8e6"
   },
   "outputs": [],
   "source": [
    "# standard data access code\n",
    "import os\n",
    "import sys\n",
    "import platform\n",
    "from allensdk.core.brain_observatory_cache import BrainObservatoryCache\n",
    "\n",
    "# Set file location based on platform.\n",
    "platstring = platform.platform()\n",
    "if ('Darwin' in platstring) or ('macOS' in platstring):\n",
    "    # macOS\n",
    "    data_root = \"/Volumes/TReND2025/\"\n",
    "elif 'Windows'  in platstring:\n",
    "    # Windows (replace with the drive letter of USB drive)\n",
    "    data_root = \"E:/\"\n",
    "elif ('amzn' in platstring) or ('google.colab' in sys.modules):\n",
    "    # then on Code Ocean or Colab\n",
    "    data_root = \"/data/\"\n",
    "elif 'Linux' in platstring:\n",
    "    # then your own linux platform\n",
    "    # EDIT location where you mounted hard drive\n",
    "    data_root = \"/media/$USERNAME/TReND2025/\"\n",
    "\n",
    "# if running locally without external drive, set a local path to download data\n",
    "# data_root = '/path/to/data'\n",
    "\n",
    "manifest_file = os.path.join(data_root,'allen-brain-observatory/visual-coding-2p/manifest.json')\n",
    "boc = BrainObservatoryCache(manifest_file=manifest_file)"
   ]
  },
  {
   "cell_type": "markdown",
   "id": "6H0dK21N3dyT",
   "metadata": {
    "id": "6H0dK21N3dyT"
   },
   "source": [
    "We'll look at one cell to start"
   ]
  },
  {
   "cell_type": "code",
   "execution_count": null,
   "id": "f584dad9",
   "metadata": {
    "id": "f584dad9"
   },
   "outputs": [],
   "source": [
    "cell_id = 541513979"
   ]
  },
  {
   "cell_type": "markdown",
   "id": "2a6d0e88",
   "metadata": {
    "id": "2a6d0e88"
   },
   "source": [
    "<p>In order to compute the tuning curve of the neuron, we need to access\n",
    "\n",
    "<li>the activity of the neuron.  We will use the DF/F trace\n",
    "<li>stimulus information for the drifting grating stimulus\n",
    "\n",
    "<p>We have written the function below that uses the AllenSDK to get these pieces of data. It does so by first identifying which experiment session contains the specified cell id and stimulus. It then accesses the NWB file for that session and reads the DF/F trace for the specified cell and the stimulus table for the specified stimulus."
   ]
  },
  {
   "cell_type": "code",
   "execution_count": null,
   "id": "77bunfeOZrJ2",
   "metadata": {
    "id": "77bunfeOZrJ2"
   },
   "outputs": [],
   "source": [
    "# identify the session for a given cell id and stimulus\n",
    "# here we use the cell id of the cell we chose above and look for\n",
    "# sessions with the 'drifting_gratings' stimulus\n",
    "exps = boc.get_ophys_experiments(cell_specimen_ids=[cell_id], stimuli=['drifting_gratings'])"
   ]
  },
  {
   "cell_type": "code",
   "execution_count": null,
   "id": "13d3d49b",
   "metadata": {},
   "outputs": [],
   "source": [
    "exps[0]"
   ]
  },
  {
   "cell_type": "code",
   "execution_count": null,
   "id": "R9KwIXwfZwuI",
   "metadata": {
    "id": "R9KwIXwfZwuI"
   },
   "outputs": [],
   "source": [
    "#get the session_id for that session\n",
    "session_id = exps[0]['id']\n",
    "\n",
    "#access the data for that session\n",
    "data_set = boc.get_ophys_experiment_data(session_id)"
   ]
  },
  {
   "cell_type": "code",
   "execution_count": null,
   "id": "bbISL0B_ZyWF",
   "metadata": {
    "id": "bbISL0B_ZyWF"
   },
   "outputs": [],
   "source": [
    "#get the DFF trace for the cell\n",
    "timestamps, dff = data_set.get_dff_traces(cell_specimen_ids=[cell_id])\n",
    "dff_trace = dff[0,:]\n",
    "\n",
    "#get the stimulus table for the stimulus\n",
    "stim_table = data_set.get_stimulus_table('drifting_gratings')"
   ]
  },
  {
   "cell_type": "markdown",
   "id": "DhtUCMG_3xlt",
   "metadata": {
    "id": "DhtUCMG_3xlt"
   },
   "source": [
    "It is always good to look at the data objects you're working with to make sure you understand what they are. What is the shape of the dff_trace array?"
   ]
  },
  {
   "cell_type": "code",
   "execution_count": null,
   "id": "EyY8csgk34JR",
   "metadata": {
    "colab": {
     "base_uri": "https://localhost:8080/"
    },
    "id": "EyY8csgk34JR",
    "outputId": "6a6d4a13-ad58-4e60-d7d0-1ac9e764b2e5"
   },
   "outputs": [],
   "source": [
    "dff_trace.shape"
   ]
  },
  {
   "cell_type": "markdown",
   "id": "ccee15ba",
   "metadata": {
    "id": "ccee15ba"
   },
   "source": [
    "Plot the DF/F trace of our neuron to see what it looks like"
   ]
  },
  {
   "cell_type": "code",
   "execution_count": null,
   "id": "db6e4ac0",
   "metadata": {
    "colab": {
     "base_uri": "https://localhost:8080/",
     "height": 488
    },
    "id": "db6e4ac0",
    "outputId": "65d7b83b-a4c3-457d-a456-a3b5d6d5620e"
   },
   "outputs": [],
   "source": [
    "plt.figure(figsize=(14,5))\n",
    "plt.plot(timestamps, dff_trace)\n",
    "plt.xlabel(\"Time (s)\", fontsize=16)\n",
    "plt.ylabel(\"DFF\", fontsize=16)"
   ]
  },
  {
   "cell_type": "markdown",
   "id": "ff547e66",
   "metadata": {
    "id": "ff547e66"
   },
   "source": [
    "Now look at our stimulus table to see what information we have. This is a Pandas DataFrame, which is a flexible and powerful tool for analyzing large datasets.For now we just want to see the first few lines to understand what the structure is, so use the function `head` to see the top of this DataFrame. This shows us the first five rows of the DataFrame."
   ]
  },
  {
   "cell_type": "code",
   "execution_count": null,
   "id": "efa7fca7",
   "metadata": {
    "colab": {
     "base_uri": "https://localhost:8080/",
     "height": 363
    },
    "id": "efa7fca7",
    "outputId": "c3ae1b1d-ac08-49f5-bbf4-37074b18a497"
   },
   "outputs": [],
   "source": [
    "stim_table.head(n=10)"
   ]
  },
  {
   "cell_type": "markdown",
   "id": "84bea19d",
   "metadata": {
    "id": "84bea19d"
   },
   "source": [
    "The stimulus table has 5 columns.  `start` and `end` indicate the <b>frame number</b> when a given trial starts and ends, respectively. The other columns indicate what the grating condition is for that trial, including the `temporal frequency` of the grating (in Hz), the direction (called `orientation`) of the grating (in degrees), and whether the grating is a `blank sweep` (eg. a gray screen). Each row is a single trial. How many trials are there in total?"
   ]
  },
  {
   "cell_type": "code",
   "execution_count": null,
   "id": "WjVOTDEn-9VZ",
   "metadata": {
    "colab": {
     "base_uri": "https://localhost:8080/"
    },
    "id": "WjVOTDEn-9VZ",
    "outputId": "5d2a4185-3d4c-4217-f1b6-e6138bd7fed4"
   },
   "outputs": [],
   "source": [
    "len(stim_table)"
   ]
  },
  {
   "cell_type": "code",
   "execution_count": null,
   "id": "mE188lUKYAo8",
   "metadata": {
    "colab": {
     "base_uri": "https://localhost:8080/"
    },
    "id": "mE188lUKYAo8",
    "outputId": "c45b2116-6276-4be3-e138-231413f58828"
   },
   "outputs": [],
   "source": [
    "stim_table.start[0]"
   ]
  },
  {
   "cell_type": "markdown",
   "id": "by5q31QR9e-G",
   "metadata": {
    "id": "by5q31QR9e-G"
   },
   "source": [
    "<div style=\"background: #F0FAFF; border-radius: 3px; padding: 10px;\">\n",
    "**Quick pandas tutorial for our purposes today!**\n",
    "\n",
    "To access data from a DataFrame we must specify the column we are using and specify the row using the index. To specify a column we can use two methods:\n",
    "\n",
    "```stim_table['start']```\n",
    "\n",
    "```stim_table.start```\n",
    "\n",
    "Then to specify the row we want we must use the index of that row:\n",
    "\n",
    "```stim_table['start'][0]```\n",
    "\n",
    "```stim_table.start[0]```\n",
    "\n",
    "We can also subselect portions of the DataFrame using the values in the DataFrame. For example, to select only the rows of the table where the orientation is 90 degrees we can use:\n",
    "\n",
    "```stim_table[stim_table.orientation==90]```\n",
    "\n",
    "Try this yourself. Note the index. The rows of this subselected DataFrame maintain the indices of the original DataFrame. Now in order to get a specific row, you either need to know it's original index, or use iloc. For example, this will return the first row of the subselected DataFrame regardless of the original index of that row:\n",
    "\n",
    "```stim_table[stim_table.orientation==90].iloc[0]```\n",
    "</div>"
   ]
  },
  {
   "cell_type": "code",
   "execution_count": null,
   "id": "_BitS9YyYMnl",
   "metadata": {
    "colab": {
     "base_uri": "https://localhost:8080/",
     "height": 423
    },
    "id": "_BitS9YyYMnl",
    "outputId": "e141c03b-2b30-4feb-c40c-463c7360d1ad"
   },
   "outputs": [],
   "source": [
    "stim_table[stim_table.orientation==90]"
   ]
  },
  {
   "cell_type": "markdown",
   "id": "2f3174bc",
   "metadata": {
    "id": "2f3174bc"
   },
   "source": [
    "Task: How many unique temporal frequencies and orientations are there in this stimulus? Print the unique values for each of these parameters."
   ]
  },
  {
   "cell_type": "code",
   "execution_count": null,
   "id": "VWCN_vy34q3A",
   "metadata": {
    "colab": {
     "base_uri": "https://localhost:8080/"
    },
    "id": "VWCN_vy34q3A",
    "outputId": "85705928-27d8-45e1-a347-2b8f58b2ffc5"
   },
   "outputs": [],
   "source": [
    "stim_table.temporal_frequency.unique()"
   ]
  },
  {
   "cell_type": "code",
   "execution_count": null,
   "id": "qhKeQPMrYwE6",
   "metadata": {
    "colab": {
     "base_uri": "https://localhost:8080/"
    },
    "id": "qhKeQPMrYwE6",
    "outputId": "27ce3441-99f0-43b5-a51c-efa1bf670f3f"
   },
   "outputs": [],
   "source": [
    "stim_table.orientation.unique()"
   ]
  },
  {
   "cell_type": "markdown",
   "id": "6f13adbc",
   "metadata": {
    "id": "6f13adbc"
   },
   "source": [
    "To look at the cell's response to a given grating presentation, let's plot the DF/F of the cell during the presentation of that grating.  We want to pad the plot with ~ 1 second of the DF/F trace preceding the grating presentation.  1 second = 30 frames.  We'll plot the response to the first grating presentation."
   ]
  },
  {
   "cell_type": "code",
   "execution_count": null,
   "id": "b1e0c570",
   "metadata": {
    "colab": {
     "base_uri": "https://localhost:8080/",
     "height": 466
    },
    "id": "b1e0c570",
    "outputId": "8fc31ed1-6543-4b56-bd4e-15ad1190db8f"
   },
   "outputs": [],
   "source": [
    "plt.plot(dff_trace[stim_table.start[0]-30:stim_table.end[0]+30])\n",
    "plt.axvspan(30,90, color='gray', alpha=0.3) #this shades the period when the stimulus is being presented\n",
    "plt.ylabel(\"DF/F\")\n",
    "plt.xlabel(\"Frames\")"
   ]
  },
  {
   "cell_type": "markdown",
   "id": "8d649610",
   "metadata": {
    "id": "8d649610"
   },
   "source": [
    "We want to quantify this response. There are different methods of quantifying this that you can explore:\n",
    "* mean DF/F during the grating presentation\n",
    "* sum of the DF/F during the grating presentation (are these different?)\n",
    "* maximum DF/F during grating\n",
    "\n",
    "Do you have other ideas for how to quantify this response?"
   ]
  },
  {
   "cell_type": "markdown",
   "id": "qY1cuB5G15N_",
   "metadata": {
    "id": "qY1cuB5G15N_"
   },
   "source": [
    "For now let's use the mean DF/F during the presentation of the grating."
   ]
  },
  {
   "cell_type": "code",
   "execution_count": null,
   "id": "a46ca4f6",
   "metadata": {
    "colab": {
     "base_uri": "https://localhost:8080/"
    },
    "id": "a46ca4f6",
    "outputId": "24e7b7b4-e2d7-491e-d68b-42760f09058f"
   },
   "outputs": [],
   "source": [
    "dff_trace[stim_table.start[0]:stim_table.end[0]].mean()"
   ]
  },
  {
   "cell_type": "markdown",
   "id": "daaca880",
   "metadata": {
    "id": "daaca880"
   },
   "source": [
    "**Exercise 1:** Repeat this for the next grating stimulus: plot the next trial and calculate the mean DF/F."
   ]
  },
  {
   "cell_type": "code",
   "execution_count": null,
   "id": "OTPDy2qW6AZy",
   "metadata": {
    "colab": {
     "base_uri": "https://localhost:8080/",
     "height": 466
    },
    "id": "OTPDy2qW6AZy",
    "outputId": "8184a779-b627-4eff-8f46-5b183178c96d"
   },
   "outputs": [],
   "source": []
  },
  {
   "cell_type": "markdown",
   "id": "dbd1cbac",
   "metadata": {
    "id": "dbd1cbac"
   },
   "source": [
    "Already we can see that some stimulus conditions elicit larger responses than others.  This is what we want to quantify and summarize in a <b>tuning curve</b>.\n",
    "\n",
    "<p>To do this, let's calculate the mean DF/F for each grating presentation in this stimulus. To start, let's create a numpy array to hold our calculated responses for all of the trials. We'll have three columns, one for the stimulus orientation, one for the stimulus temporal frequency, and the last for the cell's response. Then we need to iterate over all stimulus trials, populate the orientation and TF and then calculate the mean response.\n",
    "    "
   ]
  },
  {
   "cell_type": "code",
   "execution_count": null,
   "id": "52ccbbfe",
   "metadata": {
    "id": "52ccbbfe"
   },
   "outputs": [],
   "source": [
    "cell_response= np.zeros((len(stim_table),3))\n",
    "for i in range(len(stim_table)):\n",
    "    cell_response[i,0] = stim_table.orientation[i] #orientation\n",
    "    cell_response[i,1] = stim_table.temporal_frequency[i] #temporal frequency\n",
    "    cell_response[i,2] = dff_trace[stim_table.start[i]:stim_table.end[i]].mean()#mean response"
   ]
  },
  {
   "cell_type": "code",
   "execution_count": null,
   "id": "SBBf_3JwbA8V",
   "metadata": {
    "colab": {
     "base_uri": "https://localhost:8080/"
    },
    "id": "SBBf_3JwbA8V",
    "outputId": "e2f1ea51-9e60-44fe-cc15-4974823ee15f"
   },
   "outputs": [],
   "source": [
    "cell_response"
   ]
  },
  {
   "cell_type": "markdown",
   "id": "5de73b6c",
   "metadata": {
    "id": "5de73b6c"
   },
   "source": [
    "If we only care about one stimulus parameter, we can quickly compare the response to that parameter, say the direction. Here we will plot each grating response as a function of the grating orientation."
   ]
  },
  {
   "cell_type": "code",
   "execution_count": null,
   "id": "576f41b0",
   "metadata": {
    "colab": {
     "base_uri": "https://localhost:8080/",
     "height": 472
    },
    "id": "576f41b0",
    "outputId": "cdf76497-9813-4d3f-f6eb-0d4bf0244ebf"
   },
   "outputs": [],
   "source": [
    "plt.plot(cell_response[:,0], cell_response[:,2], 'o')\n",
    "\n",
    "plt.xticks(range(0,360,45))\n",
    "plt.xlim(-10,325)\n",
    "plt.xlabel(\"Direction\", fontsize=16)\n",
    "plt.ylabel(\"Mean DF/F\", fontsize=16)"
   ]
  },
  {
   "cell_type": "markdown",
   "id": "cf583d68",
   "metadata": {
    "id": "cf583d68"
   },
   "source": [
    "<div style=\"background: #F0FAFF; border-radius: 3px; padding: 10px;\">\n",
    "What do we see?\n",
    "</div>"
   ]
  },
  {
   "cell_type": "markdown",
   "id": "a36af7b8",
   "metadata": {
    "id": "a36af7b8"
   },
   "source": [
    "**Exercise 2:** Repeat this for the temporal frequency parameter"
   ]
  },
  {
   "cell_type": "code",
   "execution_count": null,
   "id": "kY_a_Js02rZO",
   "metadata": {
    "colab": {
     "base_uri": "https://localhost:8080/",
     "height": 472
    },
    "id": "kY_a_Js02rZO",
    "outputId": "ab9932d2-5468-458b-f466-28d8da364de8"
   },
   "outputs": [],
   "source": []
  },
  {
   "cell_type": "markdown",
   "id": "f6b68cd0",
   "metadata": {
    "id": "f6b68cd0"
   },
   "source": [
    "We want to quantify this more explicitly.  So let's average all of the responses to each orientation together. This is the mean DF/F response to an orientation, for all temporal frequencies, for all trials.  For example, for orientation=270:"
   ]
  },
  {
   "cell_type": "code",
   "execution_count": null,
   "id": "e6aac533",
   "metadata": {
    "colab": {
     "base_uri": "https://localhost:8080/"
    },
    "id": "e6aac533",
    "outputId": "a7c5b333-352e-487e-aff0-1905af8752b0"
   },
   "outputs": [],
   "source": [
    "#Find the trials where the orientation is 270\n",
    "trials = cell_response[:,0]==270\n",
    "#Average the mean DF/F of just those trials together\n",
    "cell_response[trials,2].mean()"
   ]
  },
  {
   "cell_type": "markdown",
   "id": "ed79c148",
   "metadata": {
    "id": "ed79c148"
   },
   "source": [
    "Let's compute and plot the mean response as a function of orientation (averaged across all temporal frequencies).\n",
    "    \n",
    "<p> To start, we need to know what all the possible orientation values are. We need to identify the <b>unique</b> values that are not NaNs (e.g. values that are <b>finite</b>)"
   ]
  },
  {
   "cell_type": "code",
   "execution_count": null,
   "id": "07746a19",
   "metadata": {
    "colab": {
     "base_uri": "https://localhost:8080/"
    },
    "id": "07746a19",
    "outputId": "9f2205ff-66f2-478b-946c-938ca0d3a10c"
   },
   "outputs": [],
   "source": [
    "all_ori = np.unique(cell_response[:,0])\n",
    "orivals = all_ori[np.isfinite(all_ori)]\n",
    "print(orivals)"
   ]
  },
  {
   "cell_type": "markdown",
   "id": "197ddb02",
   "metadata": {
    "id": "197ddb02"
   },
   "source": [
    "Now let's make an array with the average response of all trials for each of these orientations.\n",
    "    \n",
    "<p> We can use <b>enumerate</b> to iterate over the orientations in our list. Let me show you the syntax for enumerate. It iterates across the object and returns both the iterator (i.e. the index) and the value for each iteration.\n",
    "\n",
    "<p> Always remember that if you don't understand a python function you can use ? to get the docstring to help you understand it."
   ]
  },
  {
   "cell_type": "code",
   "execution_count": null,
   "id": "_VBvAcqK8GDi",
   "metadata": {
    "id": "_VBvAcqK8GDi"
   },
   "outputs": [],
   "source": [
    "? enumerate"
   ]
  },
  {
   "cell_type": "code",
   "execution_count": null,
   "id": "06bc4a6b",
   "metadata": {
    "colab": {
     "base_uri": "https://localhost:8080/"
    },
    "id": "06bc4a6b",
    "outputId": "c4b141f5-24d7-4b2a-f625-c7311abf1772"
   },
   "outputs": [],
   "source": [
    "for i, ori in enumerate(orivals):\n",
    "    print(i, ori)"
   ]
  },
  {
   "cell_type": "markdown",
   "id": "UJVvuwew3ESm",
   "metadata": {
    "id": "UJVvuwew3ESm"
   },
   "source": [
    "We can now enumerate across orivals to get the trials for each orientation and put the average response for those trials into an array."
   ]
  },
  {
   "cell_type": "code",
   "execution_count": null,
   "id": "b62ec4af",
   "metadata": {
    "id": "b62ec4af"
   },
   "outputs": [],
   "source": [
    "tuning = np.empty((8))\n",
    "for i, ori in enumerate(orivals):\n",
    "    trials = cell_response[:,0]==ori\n",
    "    tuning[i] = cell_response[trials,2].mean()"
   ]
  },
  {
   "cell_type": "markdown",
   "id": "uHJjHs2U3RCx",
   "metadata": {
    "id": "uHJjHs2U3RCx"
   },
   "source": [
    "Let's plot this tuning curve of mean response vs orientation."
   ]
  },
  {
   "cell_type": "code",
   "execution_count": null,
   "id": "28a351c3",
   "metadata": {
    "colab": {
     "base_uri": "https://localhost:8080/",
     "height": 466
    },
    "id": "28a351c3",
    "outputId": "f6b11f20-7490-4a1c-f491-feb91928be2d"
   },
   "outputs": [],
   "source": [
    "plt.plot(orivals, tuning, 'o-')\n",
    "plt.xlabel(\"Direction (deg)\")\n",
    "plt.ylabel(\"Mean DF/F\")"
   ]
  },
  {
   "cell_type": "markdown",
   "id": "34ce45f7",
   "metadata": {
    "id": "34ce45f7"
   },
   "source": [
    "**Exercise 3:** Compute and plot the mean response as a function of temporal frequency (averaged across all orientations)."
   ]
  },
  {
   "cell_type": "code",
   "execution_count": null,
   "id": "d337a3ae-b650-42d3-adb7-2148e93ad8e1",
   "metadata": {},
   "outputs": [],
   "source": []
  },
  {
   "cell_type": "markdown",
   "id": "88b555f8",
   "metadata": {
    "id": "88b555f8"
   },
   "source": [
    "<div style=\"background: #F0FAFF; border-radius: 3px; padding: 10px;\">\n",
    "Compare these curves with the plots we made above of all the trials. What do we see now?\n",
    "</div>"
   ]
  },
  {
   "cell_type": "markdown",
   "id": "4a5e2d6d",
   "metadata": {
    "id": "4a5e2d6d"
   },
   "source": [
    "**Exercise 4:** Add errorbars to the above tuning curves. They can be standard deviation or standard error or the mean. Make a new array for the tuning values with two columns - one for the mean response and one for the error you decide to use\n",
    "    \n",
    "<p>(Hint: for plotting, <b>plt.errorbar</b> will be useful)."
   ]
  },
  {
   "cell_type": "code",
   "execution_count": null,
   "id": "49c60e47-0c96-4dc0-9f3f-bc3808f04892",
   "metadata": {},
   "outputs": [],
   "source": []
  },
  {
   "cell_type": "code",
   "execution_count": null,
   "id": "WyUCSjTvfkPL",
   "metadata": {
    "id": "WyUCSjTvfkPL",
    "scrolled": true
   },
   "outputs": [],
   "source": [
    "? plt.errorbar"
   ]
  },
  {
   "cell_type": "markdown",
   "id": "88098e81",
   "metadata": {
    "id": "88098e81"
   },
   "source": [
    "**Exercise 5:** Add a black line showing the mean response to the blank sweep.\n",
    "<br>(Hint 1: orientation and temporal frequency are NaN for the blank sweep condition.  Hint 2: <b>plt.axhline</b> is a useful function for adding a horizontal line)."
   ]
  },
  {
   "cell_type": "code",
   "execution_count": null,
   "id": "GZsEz_-A329X",
   "metadata": {
    "id": "GZsEz_-A329X"
   },
   "outputs": [],
   "source": []
  },
  {
   "cell_type": "markdown",
   "id": "5bf6f09c",
   "metadata": {
    "id": "5bf6f09c"
   },
   "source": [
    "Why is it important to add these two features?"
   ]
  },
  {
   "cell_type": "markdown",
   "id": "4236ce69",
   "metadata": {
    "id": "4236ce69"
   },
   "source": [
    "**Exercise 6:** Add the errorbars and blank sweep response to the temporal frequency plot as well"
   ]
  },
  {
   "cell_type": "code",
   "execution_count": null,
   "id": "5Pppw62lfg4m",
   "metadata": {
    "colab": {
     "base_uri": "https://localhost:8080/",
     "height": 447
    },
    "id": "5Pppw62lfg4m",
    "outputId": "47138bf8-cf49-4e88-9137-3b171b6a36bb"
   },
   "outputs": [],
   "source": []
  },
  {
   "cell_type": "markdown",
   "id": "fa6d753c",
   "metadata": {
    "id": "fa6d753c"
   },
   "source": [
    "So far we've looked at one stimulus dimension (e.g. orientation) averaged across all conditions of the other (e.g. temporal frequency) - and vice versa. Now we want to look at these tuning curves for both dimensions.\n",
    "<p>To begin, let's compute the two-dimensional tuning array for this neuron - computing the mean response for every possible orientation and temporal frequency combination."
   ]
  },
  {
   "cell_type": "markdown",
   "id": "2bb8f47a",
   "metadata": {
    "id": "2bb8f47a"
   },
   "source": [
    "What is the shape of the array we will be computing?"
   ]
  },
  {
   "cell_type": "code",
   "execution_count": null,
   "id": "5f8336fa",
   "metadata": {
    "id": "5f8336fa"
   },
   "outputs": [],
   "source": [
    "tuning_array = np.empty((8,5))\n",
    "for i,tf in enumerate(tfvals):\n",
    "    #select trials of each tf\n",
    "    tf_trials = cell_response[:,1]==tf\n",
    "    subset = cell_response[tf_trials]\n",
    "    for j,ori in enumerate(orivals):\n",
    "        #select trials of that tf and each ori\n",
    "        trials = subset[:,0]==ori\n",
    "        tuning_array[j,i] = subset[trials,2].mean()"
   ]
  },
  {
   "cell_type": "markdown",
   "id": "0272de4f",
   "metadata": {
    "id": "0272de4f"
   },
   "source": [
    "Let's start by visualizing this similarly to how we did above: Plot the orientation tuning curve for each temporal frequency value as a separate line:"
   ]
  },
  {
   "cell_type": "code",
   "execution_count": null,
   "id": "304f0d02",
   "metadata": {
    "colab": {
     "base_uri": "https://localhost:8080/",
     "height": 466
    },
    "id": "304f0d02",
    "outputId": "adb6ebac-5393-4854-9770-c60d9f164a35"
   },
   "outputs": [],
   "source": [
    "for i, tf in enumerate(tfvals):\n",
    "    plt.plot(orivals, tuning_array[:,i], 'o-', label=tf)\n",
    "plt.legend()\n",
    "plt.xlabel(\"Direction (deg)\")\n",
    "plt.ylabel(\"Mean DF/F\")"
   ]
  },
  {
   "cell_type": "markdown",
   "id": "f35b1172",
   "metadata": {
    "id": "f35b1172"
   },
   "source": [
    "\n",
    "**Exercise 7:** Plot each temporal frequency tuning curve for each orientation as a separate line."
   ]
  },
  {
   "cell_type": "code",
   "execution_count": null,
   "id": "LQCOpSVO4P96",
   "metadata": {
    "colab": {
     "base_uri": "https://localhost:8080/",
     "height": 447
    },
    "id": "LQCOpSVO4P96",
    "outputId": "c648c857-7c5e-4bd5-c9ac-a394dd25a7ca"
   },
   "outputs": [],
   "source": []
  },
  {
   "cell_type": "markdown",
   "id": "a7cb6c07",
   "metadata": {
    "id": "a7cb6c07"
   },
   "source": [
    "What do we see here?"
   ]
  },
  {
   "cell_type": "markdown",
   "id": "15120069",
   "metadata": {
    "id": "15120069"
   },
   "source": [
    "Another way to visualize two dimensional data is as a heatmap. Let's use <b>plt.imshow</b> to create this heatmap."
   ]
  },
  {
   "cell_type": "code",
   "execution_count": null,
   "id": "1623a804",
   "metadata": {
    "colab": {
     "base_uri": "https://localhost:8080/",
     "height": 449
    },
    "id": "1623a804",
    "outputId": "e717ad69-2aeb-45b8-f1f2-fe9117867536"
   },
   "outputs": [],
   "source": [
    "plt.imshow(tuning_array)\n",
    "plt.xticks(range(5), tfvals)\n",
    "plt.yticks(range(8), orivals)\n",
    "plt.xlabel(\"TF\")\n",
    "plt.ylabel(\"Direction\")\n",
    "cbar = plt.colorbar() #Add the colorbar so we know what the colors mean\n",
    "cbar.set_label(\"Mean DF/F\")"
   ]
  },
  {
   "cell_type": "markdown",
   "id": "a3c94cac",
   "metadata": {
    "id": "a3c94cac"
   },
   "source": [
    "<p>This visualization gives us a great view of how the two dimensions interact, but one disadvantage is that we can't add errorbars or even the blank sweep response to this. But we saw that that information can be important for interpreting what we see in the data.\n",
    "<p>One approach we can take is to compute the <b>z score</b> where each response is mean subtracted and normalized to the standard deviation. So it shows how far each response deviates from the mean response (rather than the blanksweep response as we plotted above in exercise 5)."
   ]
  },
  {
   "cell_type": "code",
   "execution_count": null,
   "id": "0bb48331",
   "metadata": {
    "id": "0bb48331"
   },
   "outputs": [],
   "source": [
    "tuning_array_z = (tuning_array - tuning_array.mean())/tuning_array.std()"
   ]
  },
  {
   "cell_type": "code",
   "execution_count": null,
   "id": "0d405f8a",
   "metadata": {
    "colab": {
     "base_uri": "https://localhost:8080/",
     "height": 469
    },
    "id": "0d405f8a",
    "outputId": "3220f450-60cf-48a4-bf5f-b049467f6f35"
   },
   "outputs": [],
   "source": [
    "plt.imshow(tuning_array_z)\n",
    "cbar = plt.colorbar() #Add the colorbar so we know what the colors mean\n",
    "cbar.set_label(\"Z score (std dev)\")\n",
    "plt.title(\"Cell \"+str(cell_id)) #Add a title so we know what the plot is of"
   ]
  },
  {
   "cell_type": "code",
   "execution_count": null,
   "id": "0cbf80f9",
   "metadata": {
    "id": "0cbf80f9"
   },
   "outputs": [],
   "source": []
  }
 ],
 "metadata": {
  "colab": {
   "provenance": []
  },
  "kernelspec": {
   "display_name": "Python 3 (ipykernel)",
   "language": "python",
   "name": "python3"
  },
  "language_info": {
   "codemirror_mode": {
    "name": "ipython",
    "version": 3
   },
   "file_extension": ".py",
   "mimetype": "text/x-python",
   "name": "python",
   "nbconvert_exporter": "python",
   "pygments_lexer": "ipython3",
   "version": "3.9.19"
  }
 },
 "nbformat": 4,
 "nbformat_minor": 5
}
