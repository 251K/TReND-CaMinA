{
  "cells": [
    {
      "cell_type": "markdown",
      "id": "d8b3cc51",
      "metadata": {
        "id": "d8b3cc51"
      },
      "source": [
        "<img align=\"left\" width=\"300\" src=\"https://drive.google.com/uc?id=1xhBJo9KKicDMw6HuOCZiRclX5DJb2g_J\">\n",
        "\n",
        "    \n",
        "# **Data Handling and Visualization** \n",
        "## Computational Neuroscience and Machine Learning Basics <br> Accra, Ghana <br> 11-24 June, 2023"
      ]
    },
    {
      "cell_type": "markdown",
      "id": "0d415042",
      "metadata": {
        "id": "0d415042"
      },
      "source": [
        "---\n",
        "# **Introduction**\n",
        "In this notebook we will put into practice the knowlede aquired in the previous sessions. \n",
        "\n",
        "We are providing you with different datasets. We will use different packages to import and display the data as well as performing some basic data analysis. The main point of this sessions is to practice your newly acquired skills. \n",
        "\n",
        "The solution are provided in the prefilled notebook. In most cases there is not one single solution - so you might come up with a solution that works just as well as the one we came up with. That does not make either of our solutions wrong ;). There is simply different ways of solving problems.\n",
        "\n",
        "\n",
        "Let's go!"
      ]
    },
    {
      "cell_type": "markdown",
      "id": "3c5379a9",
      "metadata": {
        "id": "3c5379a9"
      },
      "source": [
        "---\n",
        "# Excercise 1\n",
        "\n",
        "The dataset `place_cells.csv` was collected from an (artificial) animal moving around a 1 $m^2$ environment. 10 “place cells” — cell types commonly found in the hippocampus which only fire at specific locations in an environment — spike as the animal moves around. The columns in the data give timestamps (column name \"times\") and positions (\"pos_x\" and \"pos_y\") as well as True or False values for whether a place cell emitted a spike at a given timestamp (\"spikes_0\",\"spikes_1\", … , \"spikes_9\"). \n",
        "\n",
        "Visualise the positions in which each place cell fired within the animal's trajectory.\n",
        "\n",
        "Hints: \n",
        "\n",
        "- Create a figure with ten subplots (one for each cell).\n",
        "- Isolated the x and y positions of the animal and plot them in each subplot.\n",
        "- Use the spike data to scatter the positions where a cell fired (one cell per subplot)."
      ]
    },
    {
      "cell_type": "code",
      "execution_count": null,
      "id": "c56e3486",
      "metadata": {
        "id": "c56e3486"
      },
      "outputs": [],
      "source": [
        "#Import the packages you will need\n",
        "\n",
        "\n",
        "\n",
        "#load data and visualize them\n"
      ]
    },
    {
      "cell_type": "code",
      "execution_count": null,
      "id": "4d32ffd7",
      "metadata": {
        "id": "4d32ffd7"
      },
      "outputs": [],
      "source": [
        "#extract positions and spikes \n"
      ]
    },
    {
      "cell_type": "code",
      "execution_count": null,
      "id": "11d8fc73",
      "metadata": {
        "id": "11d8fc73"
      },
      "outputs": [],
      "source": [
        "#create a figure with 10 subplots\n",
        "\n",
        "\n",
        "#make a plot with the trajectory and a red dot for each spike for each cell\n",
        "\n",
        "\n",
        "# Hide x labels and tick labels for top plots and y ticks for right plots.\n",
        "\n"
      ]
    },
    {
      "cell_type": "markdown",
      "id": "1fb4279d",
      "metadata": {
        "hide_input": false,
        "id": "1fb4279d"
      },
      "source": [
        "---\n",
        "# Excercise 2 \n",
        "\n",
        "The dataset `LTP.csv` contains measurements collected from brain slices of 5 control and 5 mutant animals upon long-term potentiation (LTP) induction with a high frecuency stimulus (HFS). The columns in the data give timestamps in mininutes (column name \"Times\") and the fEPSP slope (mV/s) for each animal at a given timestamp (\"Con_1\", \"Con_2\"...,\"Mut_5\"). HFS was applied at 0 min.\n",
        "\n",
        "Plot the fEPSP slopes of the two groups and compare the two groups for potential significant changes in the LTP.\n",
        "\n",
        "Hints:\n",
        "\n",
        "\n",
        "- Calculate the baseline for each animal (average fEPSP slope before HFS application) and normalise the measurements.\n",
        "- Calculate the average normalized measurement for each timestamp for each group\n",
        "- Plot the fEPSP slopes for the two animal groups as % of the baseline."
      ]
    },
    {
      "cell_type": "code",
      "execution_count": null,
      "id": "c89a2842",
      "metadata": {
        "id": "c89a2842"
      },
      "outputs": [],
      "source": [
        "#Import the packages you will need\n",
        "\n",
        "\n",
        "#specify your working directory\n",
        "#targ_dir=\"C:/Users/Artemis/Desktop/TReND/CompNeuro23/\"\n",
        "\n",
        "#load data and visualize them\n"
      ]
    },
    {
      "cell_type": "code",
      "execution_count": null,
      "id": "c90f965f",
      "metadata": {
        "id": "c90f965f"
      },
      "outputs": [],
      "source": [
        "#Find the time values before the HFS application\n",
        "\n",
        "\n",
        "#Create the normalised data for each animal by dividing the values with the average of the values corresponding to the timestamps before HFS\n",
        "\n",
        "\n",
        "\n",
        "\n",
        "#Calculate the average normalized measurement for each timestamp for each group as %\n"
      ]
    },
    {
      "cell_type": "code",
      "execution_count": null,
      "id": "e2e99061",
      "metadata": {
        "id": "e2e99061"
      },
      "outputs": [],
      "source": [
        "#Create the figure and remove borders on top and right side\n",
        "\n",
        "#Plot the data for the two groups in different colors\n",
        "ax.scatter(time,Con,s=30,color='k',edgecolor=\"k\",linewidth=0.5)\n",
        "ax.scatter(time,Mut,s=30,color='red',edgecolor=\"k\",linewidth=0.5)\n",
        "ax.set_xlim([-10,40]); ax.set_ylim([0,550])\n",
        "ax.plot([-10,40],[100,100], color=\"k\",linestyle=\"dashed\",alpha=0.7)\n",
        "ax.arrow(0,60,0,25,width=0.1,color='k',head_width=1,head_length=10)\n",
        "ax.text(0,35,\"HFS\",ha='center',fontsize=12,color=\"k\")\n",
        "ax.set_xlabel('Time (min)',fontsize=20,labelpad=15)\n",
        "ax.set_ylabel('fEPSP (% of baseline)',fontsize=20, labelpad=15)\n"
      ]
    },
    {
      "cell_type": "markdown",
      "id": "9345590c",
      "metadata": {
        "id": "9345590c"
      },
      "source": [
        "---\n",
        "# Excercise 3\n",
        "\n",
        "The dataset `neuron.csv` was collected by patch-clamp of a Tonic Spiking neuron receiving input from a photoreceptor. The photoreceptor was stimulated by light-application with a set frequency and the membrane potential of the neuron was measured (measurements taken every ms) for several rounds of stimulation. The columns in the data give the membrane potential of the neuron (column name \"Membrane Potential\"), a binary value for whether the stimulus was on (1) or off (0) (\"Stimulus\"), as well as the total input current.\n",
        "\n",
        "What can you infere about the photoreceptor and neuron from the input current graph and the membrane potential of the neuron?<br>\n",
        "Hint: Plot the membrane potential, the input current and the stimulus on one graph (the trick here will be to create distinct y axes- `ax.twinx`). What do you see?\n",
        "<br><br>\n",
        "Create the responce profile of the neuron to this specific stimulus.<br>\n",
        "Hint: Determine where the responce loops are located within this raw data array (stimulus on vs off), loop them, and then average them.\n",
        "<br><br>\n",
        "Compute and display spike events  top of the Vm trace if the membrane threshold for a spike event is Vm=-30. Then loop all these spike events, and display then above the responce profile of the neuron, but this time in separate lines.\n"
      ]
    },
    {
      "cell_type": "code",
      "execution_count": null,
      "id": "07b79e90",
      "metadata": {
        "id": "07b79e90"
      },
      "outputs": [],
      "source": [
        "#Import the packages you will need\n",
        "\n",
        "\n",
        "\n",
        "#load data and visualize them\n"
      ]
    },
    {
      "cell_type": "code",
      "execution_count": null,
      "id": "c6a59228",
      "metadata": {
        "id": "c6a59228",
        "collapsed": true
      },
      "outputs": [],
      "source": [
        "#Extract membrane potential, current and stimulus data\n",
        "\n",
        "\n",
        "#Create a figure for membrane potential, current and stimulus data\n",
        "#assign a different y axis on the right side of the graph\n",
        "\n",
        "\n"
      ]
    },
    {
      "cell_type": "markdown",
      "id": "13284933",
      "metadata": {
        "id": "13284933"
      },
      "source": [
        "From the input current graph, we can observe that light stimulation is steadily followed by a current burst which steadily decays to a \"mid\" value while the light remains on, and then returns to 0 when the light is off.\n",
        "\n",
        "We can therefore conclude that the photoreceptor connected to our neuron is an \"On transient excitatory neuron\", meaning that it responds to an onset of light onset, steadily adapt to the light (probably to not reach a saturation point and being able to respond to further increase of light (to be tested)), remains activated while the light is on (giving information about the light status falling onto this particular photoreceptor), and is excitatory as it sends a positive current to the main neuron.\n",
        "\n",
        "The red Vm curve gives us information about the neuron response profile: In the same example, we can see a typical spiking neuron which display a rapid train of spike upon light activation, then regular spikes while light remains present. Upon light extinction, the Vm returns to its resting state after a short undershoot period."
      ]
    },
    {
      "cell_type": "code",
      "execution_count": null,
      "id": "259c7f1c",
      "metadata": {
        "id": "259c7f1c",
        "collapsed": true
      },
      "outputs": [],
      "source": [
        "#Create a list of time points marking the beginning of each loop\n",
        "\n",
        "\n"
      ]
    },
    {
      "cell_type": "code",
      "execution_count": null,
      "id": "c210746a",
      "metadata": {
        "id": "c210746a"
      },
      "outputs": [],
      "source": [
        "# Compute arraylength for single stimulus: \n",
        "    # Takes the starting time point for the second stimulus loop \n",
        "    # And subtracts the time point from the first one, giving the time points length of a full loop\n"
      ]
    },
    {
      "cell_type": "code",
      "execution_count": null,
      "id": "84fcb8df",
      "metadata": {
        "id": "84fcb8df"
      },
      "outputs": [],
      "source": [
        "# Create looped arrays\n",
        "\n"
      ]
    },
    {
      "cell_type": "code",
      "execution_count": null,
      "id": "0410e382",
      "metadata": {
        "id": "0410e382",
        "collapsed": true
      },
      "outputs": [],
      "source": [
        "#Calculate the average of the looped arrays \n",
        "\n",
        "\n",
        "#Plot both the overlay of all loops and the average with different colours\n"
      ]
    },
    {
      "cell_type": "code",
      "execution_count": null,
      "id": "8b1e41fc",
      "metadata": {
        "id": "8b1e41fc"
      },
      "outputs": [],
      "source": [
        "# Determine a membrane threshold for spike event\n",
        "\n",
        "\n",
        "# Create a timepoint list for each spike event\n"
      ]
    },
    {
      "cell_type": "code",
      "execution_count": null,
      "id": "e6104675",
      "metadata": {
        "id": "e6104675"
      },
      "outputs": [],
      "source": [
        "# First we will attribute a y value to each spike point, so it can sit on top of the traces\n",
        "\n",
        "\n",
        "#Plot the spike events on top of the traces\n"
      ]
    },
    {
      "cell_type": "code",
      "execution_count": null,
      "id": "9faa68a8",
      "metadata": {
        "id": "9faa68a8"
      },
      "outputs": [],
      "source": [
        "# Create a looped spike event list\n",
        "\n",
        "#Plot the looped spike events vertically on top of the average trace\n",
        "\n",
        "\n",
        "\n",
        "    \n"
      ]
    },
    {
      "cell_type": "code",
      "source": [],
      "metadata": {
        "id": "mDafEjzvhEpR"
      },
      "id": "mDafEjzvhEpR",
      "execution_count": null,
      "outputs": []
    }
  ],
  "metadata": {
    "kernelspec": {
      "display_name": "Python 3",
      "language": "python",
      "name": "python3"
    },
    "language_info": {
      "codemirror_mode": {
        "name": "ipython",
        "version": 3
      },
      "file_extension": ".py",
      "mimetype": "text/x-python",
      "name": "python",
      "nbconvert_exporter": "python",
      "pygments_lexer": "ipython3",
      "version": "3.8.8"
    },
    "colab": {
      "provenance": []
    }
  },
  "nbformat": 4,
  "nbformat_minor": 5
}