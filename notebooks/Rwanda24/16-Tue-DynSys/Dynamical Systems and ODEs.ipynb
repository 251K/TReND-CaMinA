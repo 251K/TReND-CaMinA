{
 "cells": [
  {
   "cell_type": "markdown",
   "id": "d5fa5ba7",
   "metadata": {},
   "source": [
    "# Dynamical systems\n",
    "*Martino Sorbaro*\n",
    "\n",
    "*This notebook was partly inspired to last year's work by Laura Driscoll, with contributions from Bing Wen Brunton, Alice Schwarze, Matt Golub through NeuroAcademy.*\n",
    "\n",
    "### Objectives of this lesson\n",
    "\n",
    "By the end of this lesson, you will be able to\n",
    "- Think about physical and biological systems in terms of states and dynamics\n",
    "- Understand what a differential equation is and how to describe its behaviour\n",
    "- Solve simple differential equations numerically using Python code\n",
    "- Consider cases where the state of the system is represented by more than one variable\n",
    "\n",
    "## States and dynamics\n",
    "The theory of dynamical systems is a branch of physics that has interesting applications in many fields of engineering and, in general, in modelling natural phenomena.\n",
    "In this tutorial, we will be learning about behavior of dynamical systems -- systems that evolve in time -- where the rules by which they evolve in time are described precisely by a differential equation.\n",
    "\n",
    "The concept of state is one of the most interesting points introduced in modern physics. I want to encourage you to think, intuitively, in terms of state. We all have an internal state: we can be hungry, happy, tired; we have an internal temperature, levels of glucose in blood, and many other variables describe us. All together, they make our \"state\". Based on our state, we function better or worse, or act in different ways. The \"hungry\" state changes our behaviour: we are more likely to go towards the kitchen, for example.\n",
    "\n",
    "At a lower level, our brain has different states: different areas may be more active at different times, depending on whether I'm focusing on visual information, or on language, or on fine motor control. The brain's global state may be noticeably and macroscopically different in particular cases, such as sleep or an epileptic seizure.\n",
    "\n",
    "Lower down in the hierarchy of scales in our brain, individual networks in our brain also have states: that can be more active or less active, or oscillate (e.g. brain waves). But they also have states in the sense that they may contain information on a single memory, or not contain it. It may be able to associate neurons in a way that can perform a motor function, a logical function, a sensory function, or it may never have learned to do it.\n",
    "\n",
    "For a single neuron, a state can be represented by its membrane potential, by how recently it has spiked, by how strongly connected it is to other neurons, by the concentrations of sodium, potassium, and calcium, etc.\n",
    "\n",
    "All these states **evolve in time** based on **interactions** with the external world. The evolution of a state is called **dynamics**.\n",
    "\n",
    "In systems neuroscience, we can think of two layers of dynamics: the network dynamics, which deals with the changes in membrane potentials, spikes, firing rates; and the learning dynamics, which deals which changes in synaptic weights.\n",
    "\n",
    "\n",
    "## Single-variable differential equations\n",
    "Now, let's get into the math a bit. Consider the following equation:\n",
    "\n",
    "$$ \\tau \\frac{dV(t)}{dt} = -V(t) + I(t) $$\n",
    "\n",
    "*Where have we seen this equation before, and what does it model?*\n",
    "\n",
    "*What is the* unknown *in this equation?*\n",
    "\n",
    "This is a **differential equation**. It tells us how a certain physical quantity $V$ (the membrane potential) evolves in time $t$ given a certain input current $I$. Its unknown is not a number, but a function.\n",
    "\n",
    "In general, Ordinary Differential Equations (ODEs) of the first order are of the form\n",
    "$$ \\frac{dy}{dt} = F(y) $$\n",
    "\n",
    "A common notational short-hand is to write $\\dot{y}$ for $\\frac{dy}{dt}$. The dot means \"the derivative with respect to time\". As a reminder, the derivative represents how much that quantity grows or decreases in time.\n",
    "\n",
    "Differential equations can sometimes be solved **analytically**, i.e. by explicitly finding a function that satisfies the equation. However, often it is impossible to find one. This doesn't mean that the solution doesn't exist: just that it doesn't have a simple form that we can write down as a formula.\n",
    "\n",
    "In these cases, we use our computers to \"numerically integrate\" the equation.\n",
    "\n",
    "The simplest method for numerically solving ODEs (Ordinary Differential Equations) has existed at least since Leonhard Euler used it in the 18th century, and so it is called the **forward Euler** method.\n",
    "\n",
    "### Example: the logistic equation\n",
    "Consider the following equation:\n",
    "\n",
    "$$ \\frac{dy(t)}{dt} = ky(t)\\cdot (M - y(t)) $$\n",
    "\n",
    "This equation is interesting even in biology, because it models the growth of a population (of humans, animals, bacteria) in the presence of finite resources (and therefore, with a maximum population over which the environment is unable to support life).\n",
    "\n",
    "Even if it can be solved analytically, we can use it as an example for the forward Euler method. The key point about it is **discretizing time** in small intervals $dt$. Let us rewrite it as \n",
    "\n",
    "$$ \\frac{y(t+dt) - y(t)}{dt} = ky(t)\\cdot (M - y(t)) $$\n",
    "and therefore\n",
    "$$ y(t+dt) = y(t) + dt \\cdot ky(t)\\cdot (M - y(t)) $$\n",
    "\n",
    "In this form, we can see that, given the state of the population $y$ at time $t$, we can always predict what happens at time $t+dt$. This is why it's called *forward* Euler.\n",
    "\n",
    "Let's code it up!"
   ]
  },
  {
   "cell_type": "code",
   "execution_count": 26,
   "id": "3d365548",
   "metadata": {},
   "outputs": [],
   "source": [
    "# Define a few constants\n",
    "M = 100   # the parameter that gives the max supported population\n",
    "k = 0.01  # the parameter that gives the speed of growth\n",
    "dt = 0.1 # we just choose a small number\n",
    "Tmax = 10 # max time\n",
    "y0 = 2.0  # the initial population"
   ]
  },
  {
   "cell_type": "code",
   "execution_count": 27,
   "id": "7406c0b8",
   "metadata": {},
   "outputs": [],
   "source": [
    "import numpy as np\n",
    "\n",
    "# time goes from 0 to Tmax with increments of dt\n",
    "times = np.arange(0, Tmax, dt)\n",
    "# just a placeholder\n",
    "y = np.empty_like(times)\n",
    "y[0] = y0\n",
    "\n",
    "for i in range(len(times) - 1):\n",
    "    # the actual equation\n",
    "    y[i+1] = y[i] + dt * k * y[i] * (M - y[i])"
   ]
  },
  {
   "cell_type": "code",
   "execution_count": 29,
   "id": "909d263b",
   "metadata": {},
   "outputs": [
    {
     "data": {
      "text/plain": [
       "Text(0, 0.5, 'Population')"
      ]
     },
     "execution_count": 29,
     "metadata": {},
     "output_type": "execute_result"
    },
    {
     "data": {
      "image/png": "[encoded data removed]",
      "text/plain": [
       "<Figure size 432x288 with 1 Axes>"
      ]
     },
     "metadata": {
      "needs_background": "light"
     },
     "output_type": "display_data"
    }
   ],
   "source": [
    "import matplotlib.pyplot as plt\n",
    "\n",
    "plt.plot(times, y)\n",
    "plt.xlabel(\"Time\")\n",
    "plt.ylabel(\"Population\")"
   ]
  },
  {
   "cell_type": "markdown",
   "id": "48fdef53",
   "metadata": {},
   "source": [
    "### Reflect: understanding the solution\n",
    "\n",
    "Try playing with the code and interpreting the equation and its solutions:\n",
    "- What do the parameters $k$ and $M$ represent?\n",
    "- What happens as we change the initial population? What if we set it larger than $M$?\n",
    "- What happens if `dt` is too large?\n",
    "- How does all this fit with our interpretation of the equation?\n",
    "\n",
    "### Optional: reimplementing the LIF neuron\n",
    "\n",
    "The first equation in this page was that of the charging membrane potential of a LIF neuron. Try implementing that in the same way as we did for the logistic equation. In addition, to make it fire, we will have to implement a threshold mechanism: when $y$ goes above a certain value, it shall be reset to 0 and a spike is recorded.\n",
    "\n",
    "\n",
    "## Equilibrium: fixed points\n",
    "\n",
    "Consider a pendulum swinging from a metal rod. This system has exactly two equilibrium points: a **stable equilibrium** (mass at the bottom), and an **unstable equilibrium** (mass at the top, unsure which side to fall to).\n",
    "\n",
    "Equilibria can help us understand the global behavior of a system: how does it behave in the long run? Does it converge to a single value? Does it oscillate?\n",
    "\n",
    "Equilibrium points are points where the derivative is **zero** -- and indeed, our system does not move or evolve. We also call them fixed points. In the equation above, we can therefore find the fixed points by imposing $$ ky(t)(M-y(t)) = 0 $$\n",
    "\n",
    "### Reflect: understanding equilibria\n",
    "- Which fixed points does the equation have?\n",
    "- In what parts of the graph is the derivative positive/negative?\n",
    "- Can we deduce which fixed points are stable and which unstable?\n",
    "- What does this teach us about the system?"
   ]
  },
  {
   "cell_type": "code",
   "execution_count": null,
   "id": "3bcae4d7",
   "metadata": {},
   "outputs": [],
   "source": []
  }
 ],
 "metadata": {
  "kernelspec": {
   "display_name": "Python 3",
   "language": "python",
   "name": "python3"
  },
  "language_info": {
   "codemirror_mode": {
    "name": "ipython",
    "version": 3
   },
   "file_extension": ".py",
   "mimetype": "text/x-python",
   "name": "python",
   "nbconvert_exporter": "python",
   "pygments_lexer": "ipython3",
   "version": "3.8.10"
  }
 },
 "nbformat": 4,
 "nbformat_minor": 5
}
