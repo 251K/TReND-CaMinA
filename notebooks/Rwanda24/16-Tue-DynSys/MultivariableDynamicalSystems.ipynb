{
 "cells": [
  {
   "cell_type": "markdown",
   "id": "217e0ef7",
   "metadata": {},
   "source": [
    "# Multi-variable dynamical systems\n",
    "\n",
    "In the examples we've seen so far, the **state** of a simple neuron is defined by the value of its membrane potential $V$; the state of a population of bacteria is defined by the number of bacteria, etc. In each case, a single number.\n",
    "\n",
    "However, most physical systems are defined by multiple variables. In physics, position and velocity are both needed to describe a system of particles. In ecology, multiple populations interact together.\n",
    "\n",
    "## Example: prey-predator model\n",
    "Let us extend our example of the logistic equation to multiple populations. This was the equation we used so far:\n",
    "$$ \\frac{dy(t)}{dt} = ky(t)\\cdot (M - y(t)) = kMy - ky^2 $$\n",
    "\n",
    "But let's think of this as a population of preys (for example, zebras). The limiting factor, in this case, is due to a population of predators (lions).\n",
    "$$ \\frac{dZ(t)}{dt} = rZ(t) - aZ(t)L(t)$$\n",
    "$$ \\frac{dL(t)}{dt} = -mZ(t) + bZ(t)L(t)$$\n",
    "We should interpret these terms as follows:\n",
    "- The Zebras reproduce at rate $r$ in absence of lions\n",
    "- The Lions dwindle with mortality $m$ in absence of zebras\n",
    "- The Zebras tend to die more in presence of lions (by a factor $a$)\n",
    "- The Lions tend to reproduce more in presence of zebras (by a factor $b$).\n",
    "\n",
    "These are called **Lotka-Volterra equations** and are often used as an example of a system with richer dynamics.\n",
    "\n",
    "<!-- We can write these in vector form:\n",
    "$$ \\mathbf{y} = (Z, L) $$\n",
    "and so\n",
    "$$\\dot{\\mathbf{y}} = \\begin{pmatrix} r &  \\\\ 1 & -2 \\end{pmatrix} \\mathbf{y}$$ -->"
   ]
  },
  {
   "cell_type": "code",
   "execution_count": 1,
   "id": "69020e9c",
   "metadata": {},
   "outputs": [],
   "source": [
    "# Idea: from here get to a rate-based system with sigmoid activation.\n",
    "# Show the single-neuron Wilson-Cowan dynamics.\n",
    "# Then motivate the need for learning the parameters and move to learning."
   ]
  },
  {
   "cell_type": "code",
   "execution_count": null,
   "id": "ffe27756",
   "metadata": {},
   "outputs": [],
   "source": []
  }
 ],
 "metadata": {
  "kernelspec": {
   "display_name": "Python 3 (ipykernel)",
   "language": "python",
   "name": "python3"
  },
  "language_info": {
   "codemirror_mode": {
    "name": "ipython",
    "version": 3
   },
   "file_extension": ".py",
   "mimetype": "text/x-python",
   "name": "python",
   "nbconvert_exporter": "python",
   "pygments_lexer": "ipython3",
   "version": "3.9.12+"
  }
 },
 "nbformat": 4,
 "nbformat_minor": 5
}
