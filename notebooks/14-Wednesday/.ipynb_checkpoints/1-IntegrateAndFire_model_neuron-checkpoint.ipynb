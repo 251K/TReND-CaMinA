{
 "cells": [
  {
   "cell_type": "markdown",
   "metadata": {
    "id": "VdQi3duRDgK-"
   },
   "source": [
    "# Integrate and Fire Neuron (IAF)\n"
   ]
  },
  {
   "cell_type": "markdown",
   "metadata": {},
   "source": [
    "## Introduction\n",
    "\n",
    "In this notebook we will use a model of .... \n",
    "\n",
    "\\begin{equation} C_{m}\\frac{dV}{dt} = - g_{L}(V-E_{leak}) + I_{inj} \\end{equation}\n",
    "\n",
    "remember that $C_{m} = \\tau_{m} / R_{m}$  and  $g_{L} = 1 / R_{m}$\n",
    "\n",
    "\\begin{equation} \\tau_{m}\\frac{dV}{dt} = - (V-E_{leak}) + I_{inj} R_{m} \\end{equation}"
   ]
  },
  {
   "cell_type": "markdown",
   "metadata": {},
   "source": [
    "#  Simulation"
   ]
  },
  {
   "cell_type": "code",
   "execution_count": 1,
   "metadata": {},
   "outputs": [],
   "source": [
    "import matplotlib.pyplot as plt\n",
    "import numpy as np"
   ]
  },
  {
   "cell_type": "markdown",
   "metadata": {},
   "source": [
    "Asign constants"
   ]
  },
  {
   "cell_type": "code",
   "execution_count": 2,
   "metadata": {},
   "outputs": [],
   "source": [
    "# Asign constants\n",
    "\n",
    "V_reset = -0.080 # -80mV\n",
    "E_l = -0.075 # -75mV\n",
    "V_th = -0.040 # -40mV\n",
    "Rm = 10e6 # membrane resistance\n",
    "tau_m = 10e-3 # membrane time constant\n",
    "Iinj0 = 5e-10 #external current. Increase to 5e-9 for spiking!"
   ]
  },
  {
   "cell_type": "markdown",
   "metadata": {},
   "source": [
    "Initialize variables"
   ]
  },
  {
   "cell_type": "code",
   "execution_count": 3,
   "metadata": {},
   "outputs": [],
   "source": [
    "### Initialize variables\n",
    "\n",
    "dt = 0.0002 \n",
    "T = np.arange(0,0.3,dt) # 300 ms simulation\n",
    "Vm = np.zeros(T.size)\n",
    "Vm[0] = E_l #this would be equal to Vm\n",
    "Vm[1] = E_l\n",
    "Iinj = np.zeros(T.size)\n",
    "Iinj[round(T.size/5):round(T.size/1.3)] = Iinj0  "
   ]
  },
  {
   "cell_type": "markdown",
   "metadata": {},
   "source": [
    "Run the simulation"
   ]
  },
  {
   "cell_type": "code",
   "execution_count": 4,
   "metadata": {
    "colab": {
     "base_uri": "https://localhost:8080/",
     "height": 596
    },
    "executionInfo": {
     "elapsed": 1389,
     "status": "ok",
     "timestamp": 1683838328611,
     "user": {
      "displayName": "Saray Soldado Magraner",
      "userId": "05708601702103780689"
     },
     "user_tz": 420
    },
    "id": "r-DawYeHD9Gc",
    "outputId": "65838079-1a35-4305-bad5-4bd9ad31d9d7"
   },
   "outputs": [],
   "source": [
    "#Simulation \n",
    "\n",
    "for t in range(1,T.size-1):\n",
    "    if Vm[t] > V_th :\n",
    "        Vm[t] = 0\n",
    "        Vm[t+1] = V_reset\n",
    "    else : #Equation: tau dV/dt = -(Vm - El) + Iinj Rm  \n",
    "        Vm[t+1] = Vm[t] + dt * ( -(Vm[t] - E_l) + Iinj[t] * Rm) / tau_m \n",
    "        #Check for Euler implementation to see how one solves numerically (in a simulation) a differential equation\n"
   ]
  },
  {
   "cell_type": "markdown",
   "metadata": {},
   "source": [
    "Plot the results"
   ]
  },
  {
   "cell_type": "code",
   "execution_count": 5,
   "metadata": {},
   "outputs": [
    {
     "data": {
      "text/plain": [
       "Text(0, 0.5, 'Voltage (mV)')"
      ]
     },
     "execution_count": 5,
     "metadata": {},
     "output_type": "execute_result"
    },
    {
     "data": {
      "image/png": "[encoded data removed]",
      "text/plain": [
       "<Figure size 720x360 with 1 Axes>"
      ]
     },
     "metadata": {
      "needs_background": "light"
     },
     "output_type": "display_data"
    }
   ],
   "source": [
    "#Plotting\n",
    "\n",
    "plt.figure(figsize=(10,5))\n",
    "plt.plot(T,Vm*1000,'b-')\n",
    "plt.xlabel('Time(s)')\n",
    "plt.ylabel('Voltage (mV)')\n",
    "#plt.ylim([-80, 5])"
   ]
  },
  {
   "cell_type": "markdown",
   "metadata": {
    "id": "3kIbm7v3DuKf"
   },
   "source": [
    "# IAF with noise"
   ]
  },
  {
   "cell_type": "markdown",
   "metadata": {},
   "source": [
    "Asign constants"
   ]
  },
  {
   "cell_type": "code",
   "execution_count": 6,
   "metadata": {},
   "outputs": [],
   "source": [
    "# Asign constants\n",
    "\n",
    "V_reset = -0.080 # -80mV\n",
    "E_l = -0.075 # -75mV\n",
    "V_th = -0.040 # -40mV\n",
    "Rm = 10e6 # membrane resistance\n",
    "tau_m = 10e-3 # membrane time constant"
   ]
  },
  {
   "cell_type": "markdown",
   "metadata": {},
   "source": [
    "Initialize variables"
   ]
  },
  {
   "cell_type": "code",
   "execution_count": 7,
   "metadata": {},
   "outputs": [],
   "source": [
    "### Initialize variables\n",
    "\n",
    "dt = 0.0002 \n",
    "T = np.arange(0,0.3,dt) # 300 ms simulation\n",
    "Vm = np.zeros(T.size)\n",
    "Vm[0] = E_l\n",
    "Vm[1] = E_l\n",
    "Iinj = 5e-9\n",
    "Iinj = np.random.randn(T.size)*5e-9 + 3e-9"
   ]
  },
  {
   "cell_type": "markdown",
   "metadata": {},
   "source": [
    "Run the simulation "
   ]
  },
  {
   "cell_type": "code",
   "execution_count": 8,
   "metadata": {},
   "outputs": [],
   "source": [
    "#Simulation \n",
    "\n",
    "for t in range(1,T.size-1):\n",
    "    if Vm[t] > V_th :\n",
    "        Vm[t] = 0\n",
    "        Vm[t+1] = V_reset\n",
    "    else :  #Equation tau dV/dt = (Vm - El) + Iinj Rm  \n",
    "        Vm[t+1] = Vm[t] + dt * ( -(Vm[t] - E_l) + Iinj[t] * Rm) / tau_m \n",
    "        #Check for Euler implementation to see how one solves numerically (in a simulation) a differential equation\n"
   ]
  },
  {
   "cell_type": "markdown",
   "metadata": {},
   "source": [
    "Plot the results"
   ]
  },
  {
   "cell_type": "code",
   "execution_count": 9,
   "metadata": {},
   "outputs": [
    {
     "data": {
      "text/plain": [
       "Text(0, 0.5, 'Voltage (mV)')"
      ]
     },
     "execution_count": 9,
     "metadata": {},
     "output_type": "execute_result"
    },
    {
     "data": {
      "image/png": "[encoded data removed]",
      "text/plain": [
       "<Figure size 720x360 with 1 Axes>"
      ]
     },
     "metadata": {
      "needs_background": "light"
     },
     "output_type": "display_data"
    }
   ],
   "source": [
    "#Plotting\n",
    "\n",
    "plt.figure(figsize=(10,5))\n",
    "plt.plot(T,Vm*1000,'b-')\n",
    "plt.xlabel('Time(s)')\n",
    "plt.ylabel('Voltage (mV)')"
   ]
  },
  {
   "cell_type": "markdown",
   "metadata": {
    "id": "0fCWgAMKJSXQ"
   },
   "source": [
    "## EXERCISE\n",
    "\n",
    "Calculate an 'FI\" courve for the integrate and fire model (RELATE THAT TO LATER TRANSFER FUNCTION OF ANN)\n"
   ]
  }
 ],
 "metadata": {
  "colab": {
   "provenance": []
  },
  "kernelspec": {
   "display_name": "Python 3",
   "language": "python",
   "name": "python3"
  },
  "language_info": {
   "codemirror_mode": {
    "name": "ipython",
    "version": 3
   },
   "file_extension": ".py",
   "mimetype": "text/x-python",
   "name": "python",
   "nbconvert_exporter": "python",
   "pygments_lexer": "ipython3",
   "version": "3.8.3"
  }
 },
 "nbformat": 4,
 "nbformat_minor": 1
}
