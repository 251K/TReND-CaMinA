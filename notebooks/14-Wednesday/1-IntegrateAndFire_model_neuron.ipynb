{
 "cells": [
  {
   "cell_type": "markdown",
   "metadata": {
    "id": "VdQi3duRDgK-"
   },
   "source": [
    "# Integrate and Fire Neuron (IAF)\n"
   ]
  },
  {
   "cell_type": "markdown",
   "metadata": {},
   "source": [
    "## Introduction\n",
    "\n",
    "In this notebook we will work with one of the most widely used models for spiking neurons: the Integrate and Fire neural model. In the IAF equations, only the subthreshold behavior of the membrane is explicitely modeled (capacitance and leak resistance):   \n",
    "\n",
    "\\begin{equation} C_{m}\\frac{dV}{dt} = - g_{L}(V-E_{leak}) + I_{inj} \\end{equation}\n",
    "\n",
    "remember that $C_{m} = \\tau_{m} / R_{m}$  and  $g_{L} = 1 / R_{m}$\n",
    "\n",
    "\\begin{equation} \\tau_{m}\\frac{dV}{dt} = - (V-E_{leak}) + I_{inj} R_{m} \\end{equation}\n",
    "\n",
    "To model the spike generation, we simply assume the neuron has a \"threshold\" $V_{th}$. If the membrane potential $V$ crosses such threshold, $V$ is then reset to $V_{reset}$ (~ at resting potential), meaning that a spike has been fired. \n",
    "\n",
    "\\begin{equation} V(t) = V_{th} \\ \\ then \\ \\ V(t+\\Delta) = V_{reset} \\end{equation}\n",
    " \n",
    "This model is very popular among computacional neuroscienctists due to its simplicity and tractability. "
   ]
  },
  {
   "cell_type": "markdown",
   "metadata": {},
   "source": [
    "#  Simulation"
   ]
  },
  {
   "cell_type": "code",
   "execution_count": 1,
   "metadata": {},
   "outputs": [],
   "source": [
    "import matplotlib.pyplot as plt\n",
    "import numpy as np"
   ]
  },
  {
   "cell_type": "markdown",
   "metadata": {},
   "source": [
    "Asign constants"
   ]
  },
  {
   "cell_type": "code",
   "execution_count": 2,
   "metadata": {},
   "outputs": [],
   "source": [
    "# Asign constants\n",
    "\n",
    "dt = 0.0002 #simulation time step\n",
    "V_reset = -0.080 # -80mV\n",
    "E_l = -0.075 # -75mV #this would be equal to Vm\n",
    "V_th = -0.040 # -40mV\n",
    "Rm = 10e6 # membrane resistance\n",
    "tau_m = 10e-3 # membrane time constant in sec\n",
    "\n",
    "Iinj0 = 5e-10 #external current. Increase to 5e-9 for spiking!"
   ]
  },
  {
   "cell_type": "markdown",
   "metadata": {},
   "source": [
    "Initialize variables"
   ]
  },
  {
   "cell_type": "code",
   "execution_count": 3,
   "metadata": {},
   "outputs": [],
   "source": [
    "### Initialize variables\n",
    "\n",
    "T = np.arange(0,0.3,dt) # 300 ms simulation\n",
    "Vm = np.zeros(T.size)\n",
    "Vm[0] = E_l #this would be equal to Vm\n",
    "Vm[1] = E_l\n",
    "Iinj = np.zeros(T.size)\n",
    "Iinj[round(T.size/5):round(T.size/1.3)] = Iinj0  "
   ]
  },
  {
   "cell_type": "markdown",
   "metadata": {},
   "source": [
    "Run the simulation"
   ]
  },
  {
   "cell_type": "code",
   "execution_count": 4,
   "metadata": {
    "colab": {
     "base_uri": "https://localhost:8080/",
     "height": 596
    },
    "executionInfo": {
     "elapsed": 1389,
     "status": "ok",
     "timestamp": 1683838328611,
     "user": {
      "displayName": "Saray Soldado Magraner",
      "userId": "05708601702103780689"
     },
     "user_tz": 420
    },
    "id": "r-DawYeHD9Gc",
    "outputId": "65838079-1a35-4305-bad5-4bd9ad31d9d7"
   },
   "outputs": [],
   "source": [
    "#Simulation \n",
    "\n",
    "for t in range(1,T.size-1):\n",
    "    if Vm[t] > V_th :\n",
    "        Vm[t] = 0\n",
    "        Vm[t+1] = V_reset\n",
    "    else : #Equation: tau dV/dt = -(Vm - El) + Iinj Rm  \n",
    "        Vm[t+1] = Vm[t] + dt * ( -(Vm[t] - E_l) + Iinj[t] * Rm) / tau_m \n",
    "        #Check for Euler implementation to see how one solves numerically (in a simulation) a differential equation\n"
   ]
  },
  {
   "cell_type": "markdown",
   "metadata": {},
   "source": [
    "Plot the results"
   ]
  },
  {
   "cell_type": "code",
   "execution_count": 5,
   "metadata": {},
   "outputs": [
    {
     "data": {
      "text/plain": [
       "Text(0, 0.5, 'Voltage (mV)')"
      ]
     },
     "execution_count": 5,
     "metadata": {},
     "output_type": "execute_result"
    },
    {
     "data": {
      "image/png": "[encoded data removed]",
      "text/plain": [
       "<Figure size 720x360 with 1 Axes>"
      ]
     },
     "metadata": {
      "needs_background": "light"
     },
     "output_type": "display_data"
    }
   ],
   "source": [
    "#Plotting\n",
    "\n",
    "plt.figure(figsize=(10,5))\n",
    "plt.plot(T,Vm*1000,'b-')\n",
    "plt.xlabel('Time(s)')\n",
    "plt.ylabel('Voltage (mV)')\n",
    "#plt.ylim([-80, 5])"
   ]
  },
  {
   "cell_type": "markdown",
   "metadata": {},
   "source": [
    "## EXERCISE 1 \n",
    "\n",
    "What happens if you increase the injected current? what happens when you change the membrane time constant? and the threshold? "
   ]
  },
  {
   "cell_type": "markdown",
   "metadata": {
    "id": "3kIbm7v3DuKf"
   },
   "source": [
    "# IAF with noise"
   ]
  },
  {
   "cell_type": "markdown",
   "metadata": {},
   "source": [
    "We will now look how the neural model behaves in the non ideal, but biologically realistic scenario when there is some noise injected to the neuron. "
   ]
  },
  {
   "cell_type": "markdown",
   "metadata": {},
   "source": [
    "Asign constants"
   ]
  },
  {
   "cell_type": "code",
   "execution_count": 6,
   "metadata": {},
   "outputs": [],
   "source": [
    "# Asign constants\n",
    "\n",
    "V_reset = -0.080 # -80mV\n",
    "E_l = -0.075 # -75mV\n",
    "V_th = -0.040 # -40mV\n",
    "Rm = 10e6 # membrane resistance\n",
    "tau_m = 10e-3 # membrane time constant"
   ]
  },
  {
   "cell_type": "markdown",
   "metadata": {},
   "source": [
    "Initialize variables"
   ]
  },
  {
   "cell_type": "code",
   "execution_count": 7,
   "metadata": {},
   "outputs": [],
   "source": [
    "### Initialize variables\n",
    "\n",
    "dt = 0.0002 \n",
    "T = np.arange(0,0.3,dt) # 300 ms simulation\n",
    "Vm = np.zeros(T.size)\n",
    "Vm[0] = E_l\n",
    "Vm[1] = E_l\n",
    "Iinj = 5e-9\n",
    "Iinj = np.random.randn(T.size)*5e-9 + 3e-9 #introduce noise into the injected current"
   ]
  },
  {
   "cell_type": "markdown",
   "metadata": {},
   "source": [
    "Run the simulation "
   ]
  },
  {
   "cell_type": "code",
   "execution_count": 8,
   "metadata": {},
   "outputs": [],
   "source": [
    "#Simulation \n",
    "\n",
    "for t in range(1,T.size-1):\n",
    "    if Vm[t] > V_th :\n",
    "        Vm[t] = 0\n",
    "        Vm[t+1] = V_reset\n",
    "    else :  #Equation tau dV/dt = (Vm - El) + Iinj Rm  \n",
    "        Vm[t+1] = Vm[t] + dt * ( -(Vm[t] - E_l) + Iinj[t] * Rm) / tau_m \n",
    "        #Check for Euler implementation to see how one solves numerically (in a simulation) a differential equation\n"
   ]
  },
  {
   "cell_type": "markdown",
   "metadata": {},
   "source": [
    "Plot the results (that looks more like a real neuron right?)"
   ]
  },
  {
   "cell_type": "code",
   "execution_count": 9,
   "metadata": {},
   "outputs": [
    {
     "data": {
      "text/plain": [
       "Text(0, 0.5, 'Voltage (mV)')"
      ]
     },
     "execution_count": 9,
     "metadata": {},
     "output_type": "execute_result"
    },
    {
     "data": {
      "image/png": "[encoded data removed]",
      "text/plain": [
       "<Figure size 720x360 with 1 Axes>"
      ]
     },
     "metadata": {
      "needs_background": "light"
     },
     "output_type": "display_data"
    }
   ],
   "source": [
    "#Plotting\n",
    "\n",
    "plt.figure(figsize=(10,5))\n",
    "plt.plot(T,Vm*1000,'b-')\n",
    "plt.xlabel('Time(s)')\n",
    "plt.ylabel('Voltage (mV)')"
   ]
  },
  {
   "cell_type": "markdown",
   "metadata": {
    "id": "0fCWgAMKJSXQ"
   },
   "source": [
    "## EXERCISE 2\n",
    "\n",
    "Imagine you are a physiologist (like Tom Tagoe). Calculate an 'FI\" courve for the integrate and fire model!\n",
    "HINT: you should \"inject\" increasing values of current and plot how the firing rate of the neuron relates to the amount of injected current. \n",
    "\n"
   ]
  },
  {
   "cell_type": "code",
   "execution_count": null,
   "metadata": {},
   "outputs": [],
   "source": [
    "s"
   ]
  }
 ],
 "metadata": {
  "colab": {
   "provenance": []
  },
  "kernelspec": {
   "display_name": "Python 3 (ipykernel)",
   "language": "python",
   "name": "python3"
  },
  "language_info": {
   "codemirror_mode": {
    "name": "ipython",
    "version": 3
   },
   "file_extension": ".py",
   "mimetype": "text/x-python",
   "name": "python",
   "nbconvert_exporter": "python",
   "pygments_lexer": "ipython3",
   "version": "3.9.12"
  }
 },
 "nbformat": 4,
 "nbformat_minor": 1
}
