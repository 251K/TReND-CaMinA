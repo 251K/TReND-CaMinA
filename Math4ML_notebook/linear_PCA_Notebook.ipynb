{
 "cells": [
  {
   "cell_type": "markdown",
   "id": "1220b5ec-e7d4-47eb-a231-b0310691dbc5",
   "metadata": {},
   "source": [
    "## Practical Session for Linear Algebra"
   ]
  },
  {
   "cell_type": "markdown",
   "id": "18fe7b40-0981-448d-9f66-5ab6ecca9784",
   "metadata": {},
   "source": [
    "- In this tutorial, we will perform numerical computation in python using numpy library. This notebook gives you an intuitive concept of vector and matrix manipulation in python. \n",
    "    - dot vector and matrix \n",
    "    - transpose \n",
    "    - inverse of matrix \n",
    "    - determinant of matrix \n",
    "\n",
    "\n",
    "\n",
    "<center><img src=\"pillars_ml.png\"/></center>\n",
    "<center> Source: mml by Marc Deisenroth et al</center>"
   ]
  },
  {
   "cell_type": "markdown",
   "id": "bc3f464c-18cc-4a07-b380-fff97fcfe178",
   "metadata": {},
   "source": [
    "#### Vector representation"
   ]
  },
  {
   "cell_type": "code",
   "execution_count": 1,
   "id": "53952a83-cd61-4b0e-abbb-62276700c066",
   "metadata": {},
   "outputs": [
    {
     "name": "stdout",
     "output_type": "stream",
     "text": [
      "row vector:  [2 3 4 6 8 9]\n"
     ]
    }
   ],
   "source": [
    "### vector representation: \n",
    "import numpy as np \n",
    "\n",
    "vector_a = np.array([2,3,4,6,8,9]) ### row vector \n",
    "\n",
    "print(\"row vector: \",vector_a)"
   ]
  },
  {
   "cell_type": "code",
   "execution_count": 9,
   "id": "2acdedac-24af-4d6f-9475-76ef358afef8",
   "metadata": {},
   "outputs": [
    {
     "name": "stdout",
     "output_type": "stream",
     "text": [
      "num of dimension:  1\n"
     ]
    }
   ],
   "source": [
    "#### check the dimension: \n",
    "print(\"num of dimension: \",vector_a.ndim)"
   ]
  },
  {
   "cell_type": "code",
   "execution_count": null,
   "id": "d1862b37-605a-442e-ae84-20bec9cd695e",
   "metadata": {},
   "outputs": [],
   "source": [
    "##### Exercise: create your own vector 1D \n",
    "\n",
    "vector_yours = .........."
   ]
  },
  {
   "cell_type": "markdown",
   "id": "8cc6411f-7ac4-46b7-bad3-8904e927fc16",
   "metadata": {},
   "source": [
    "#### Vector transposition"
   ]
  },
  {
   "cell_type": "code",
   "execution_count": 2,
   "id": "5a28e78e-c426-482f-9e35-5af9149344dc",
   "metadata": {},
   "outputs": [
    {
     "name": "stdout",
     "output_type": "stream",
     "text": [
      "column vector: \n",
      " [[2]\n",
      " [3]\n",
      " [4]\n",
      " [6]\n",
      " [8]\n",
      " [9]]\n"
     ]
    }
   ],
   "source": [
    "#### transpose vector: we have to convert to 2D vector \n",
    "vector_a_new = vector_a[None,:]\n",
    "\n",
    "vector_aT = vector_a_new.T\n",
    "\n",
    "print(\"column vector: \\n\",vector_aT)\n"
   ]
  },
  {
   "cell_type": "markdown",
   "id": "8a75da29-7f06-49ce-9e7c-0ea57c179cea",
   "metadata": {},
   "source": [
    "#### Dot product"
   ]
  },
  {
   "cell_type": "markdown",
   "id": "2a7bef3b-8143-4264-8861-9f4a77408e7b",
   "metadata": {},
   "source": [
    "The dot product of two vectors, a and b, is defined as:\n",
    "\n",
    "$$\n",
    "ab = \\sum_{i=1}^{n}a_{i}b_{i}\n",
    "$$"
   ]
  },
  {
   "cell_type": "code",
   "execution_count": 3,
   "id": "d9f41fe9-52b3-4ad0-a5e6-0ca161c7e2e7",
   "metadata": {},
   "outputs": [
    {
     "name": "stdout",
     "output_type": "stream",
     "text": [
      "dot product of ab1:  240\n",
      "dot product of ab2:  240\n"
     ]
    }
   ],
   "source": [
    "##### vector a \n",
    "vector_a = np.array([2,3,8,10,3,7,6])\n",
    "\n",
    "### vector b \n",
    "vector_b = np.array([3,8,7,7,8,6,3])\n",
    "\n",
    "##### dot product... \n",
    "vector_ab = np.dot(vector_a,vector_b)\n",
    "\n",
    "print(\"dot product of ab1: \",vector_ab)\n",
    "\n",
    "#### another dot product.... \n",
    "print(\"dot product of ab2: \", vector_a @ vector_b)"
   ]
  },
  {
   "cell_type": "code",
   "execution_count": 4,
   "id": "d8bfa638-4a2a-49ac-8f40-ee698ce73f1e",
   "metadata": {},
   "outputs": [
    {
     "name": "stdout",
     "output_type": "stream",
     "text": [
      "a + b:  [ 5 11 15 17 11 13  9]\n"
     ]
    }
   ],
   "source": [
    "a_plus_b = vector_a + vector_b \n",
    "print(\"a + b: \",a_plus_b)\n",
    "a_minus_b = ........ #### pass your substraction code. "
   ]
  },
  {
   "cell_type": "markdown",
   "id": "23707a03-48b3-499a-ac23-96bc65b91aa1",
   "metadata": {},
   "source": [
    "#### Matrix Representation"
   ]
  },
  {
   "cell_type": "code",
   "execution_count": 7,
   "id": "d99cfa3f-f58f-4522-aa20-61d42881e369",
   "metadata": {},
   "outputs": [
    {
     "name": "stdout",
     "output_type": "stream",
     "text": [
      "Matrix A \n",
      " [[ 1  2  3  4]\n",
      " [ 5  6  7  8]\n",
      " [ 9 10 11 12]]\n",
      "\n",
      "Matrix B \n",
      " [[ 4  7  7]\n",
      " [ 2  9 10]\n",
      " [ 8  1  3]]\n",
      "\n",
      "Matrix C \n",
      " [[1 2]\n",
      " [5 6]]\n",
      "\n",
      "Shape of A:  (3, 4)\n",
      "\n",
      "Shape of B:  (3, 3)\n",
      "\n",
      "Shape of C:  (2, 2)\n"
     ]
    }
   ],
   "source": [
    "matrix_A = np.array([[1, 2, 3, 4],\n",
    "                   [5, 6, 7, 8],\n",
    "                   [9, 10, 11, 12]])\n",
    "\n",
    "matrix_B = np.array([[4, 7, 7],\n",
    "                   [2, 9, 10],\n",
    "                   [8, 1, 3]])\n",
    "\n",
    "matrix_C = np.array([[1, 2],\n",
    "                   [5, 6]])\n",
    "print(\"Matrix A \\n\",matrix_A)\n",
    "print()\n",
    "print(\"Matrix B \\n\",matrix_B)\n",
    "print()\n",
    "print(\"Matrix C \\n\",matrix_C)\n",
    "print()\n",
    "print(\"Shape of A: \",matrix_A.shape)\n",
    "print()\n",
    "print(\"Shape of B: \",matrix_B.shape)\n",
    "print()\n",
    "print(\"Shape of C: \",matrix_C.shape)"
   ]
  },
  {
   "cell_type": "code",
   "execution_count": 8,
   "id": "63d901b8-02c4-4f21-a8a7-78e7d84cfac5",
   "metadata": {},
   "outputs": [
    {
     "name": "stdout",
     "output_type": "stream",
     "text": [
      "Num of dimension:  2\n"
     ]
    }
   ],
   "source": [
    "#### check the number of dimension: \n",
    "\n",
    "print(\"Num of dimension: \",matrix_A.ndim)"
   ]
  },
  {
   "cell_type": "code",
   "execution_count": null,
   "id": "4f310d28-4ec9-4e06-9d35-37b8e6e23bc0",
   "metadata": {},
   "outputs": [],
   "source": [
    "#### Create a matrix 3 X 3 with np.matrix\n",
    "matrix_yoursA = np.matrix(...........) ### pass your values "
   ]
  },
  {
   "cell_type": "markdown",
   "id": "fa0af76b-6080-43b8-85d9-316cd1a94c12",
   "metadata": {},
   "source": [
    "#### dot product, transposing, rank , inverse, and determinants"
   ]
  },
  {
   "cell_type": "code",
   "execution_count": 11,
   "id": "7b647a09-026e-44d1-8dd9-39bdd2f451ec",
   "metadata": {},
   "outputs": [
    {
     "name": "stdout",
     "output_type": "stream",
     "text": [
      "transpose of a1: \n",
      " [[1 4 7]\n",
      " [2 5 8]\n",
      " [3 6 9]]\n"
     ]
    }
   ],
   "source": [
    "matrix_a1 = np.array([[1, 2, 3],\n",
    "                   [4, 5, 6],\n",
    "                   [7, 8, 9]])\n",
    "\n",
    "\n",
    "print(\"transpose of a1: \\n\",matrix_a1.T)"
   ]
  },
  {
   "cell_type": "markdown",
   "id": "2d22e11a-e82b-4200-8d9a-b6d5a7710ce9",
   "metadata": {},
   "source": [
    "- The rank of a matrix is the dimensions of the vector space spanned by its columns or rows. Finding the rank of a matrix is easy in NumPy thanks to matrix_rank."
   ]
  },
  {
   "cell_type": "code",
   "execution_count": 13,
   "id": "2466e2fc-5cec-44bb-a05e-bd5f69e43592",
   "metadata": {},
   "outputs": [
    {
     "name": "stdout",
     "output_type": "stream",
     "text": [
      "rank of a matrix:  2\n"
     ]
    }
   ],
   "source": [
    "#### create a matrix \n",
    "matrix_a2 = np.array([[1, 1, 1],\n",
    "                   [1, 1, 10],\n",
    "                   [1, 1, 15]])\n",
    "\n",
    "# Return matrix rank\n",
    "print(\"rank of a matrix: \",np.linalg.matrix_rank(matrix_a2))"
   ]
  },
  {
   "cell_type": "code",
   "execution_count": 23,
   "id": "fa186594-d067-4700-a0dc-073c79847be4",
   "metadata": {},
   "outputs": [
    {
     "name": "stdout",
     "output_type": "stream",
     "text": [
      "check matrix:  0.0\n",
      "\n",
      "check matrix:  -2.9999999999999996\n"
     ]
    }
   ],
   "source": [
    "# Create matrix\n",
    "matrix_a3 = np.array([[1, 4],\n",
    "                   [2, 5]])\n",
    "\n",
    "# Return determinant of matrix\n",
    "print(\"check matrix: \",np.linalg.det(matrix_a2))\n",
    "print()\n",
    "print(\"check matrix: \", np.linalg.det(matrix_a3))"
   ]
  },
  {
   "cell_type": "markdown",
   "id": "f7a42dd3-9c80-48bd-a978-040100db4c56",
   "metadata": {},
   "source": [
    "\n",
    "\n",
    "The inverse of a square matrix, $A$, is a second matrix $A^{-1}$, such that:\n",
    "$$\n",
    "A A^{-1} = I\n",
    "$$\n",
    "where I is the identity matrix. In NumPy we can use linalg.inv to calculate A–1 if it exists. To see this in action, we can multiply a matrix by its inverse and the result is the identity matrix:"
   ]
  },
  {
   "cell_type": "code",
   "execution_count": 19,
   "id": "df4cbda8-eaed-4ca8-9fc1-988891b86215",
   "metadata": {},
   "outputs": [
    {
     "name": "stdout",
     "output_type": "stream",
     "text": [
      "inverse of a matrix: \n",
      " [[-1.66666667  1.33333333]\n",
      " [ 0.66666667 -0.33333333]]\n"
     ]
    }
   ],
   "source": [
    "# Create matrix\n",
    "matrix_a4 = np.array([[1, 4],\n",
    "                   [2, 5]])\n",
    "\n",
    "# Calculate inverse of matrix\n",
    "print(\"inverse of a matrix: \\n\", np.linalg.inv(matrix_a4))"
   ]
  },
  {
   "cell_type": "code",
   "execution_count": 21,
   "id": "937074f9-4c97-45f2-8a2a-5ef65a3dd1b3",
   "metadata": {},
   "outputs": [
    {
     "name": "stdout",
     "output_type": "stream",
     "text": [
      "matrix multiplication of the matrix and inverse: \n",
      " [[1. 0.]\n",
      " [0. 1.]]\n"
     ]
    }
   ],
   "source": [
    "print(\"matrix multiplication of the matrix and inverse: \\n\",matrix_a4 @ np.linalg.inv(matrix_a4))"
   ]
  },
  {
   "cell_type": "markdown",
   "id": "6e260a1c-c8b5-42ff-b650-21a9f38cb1f4",
   "metadata": {},
   "source": [
    "#### Eigen value and Eigen vectors of a Matrix"
   ]
  },
  {
   "cell_type": "code",
   "execution_count": 25,
   "id": "4c3854dc-e108-40de-a3b9-a428cb324db7",
   "metadata": {},
   "outputs": [],
   "source": [
    "# Create matrix\n",
    "matrix = np.array([[1, -1, 3],\n",
    "                   [1, 1, 6],\n",
    "                   [3, 8, 9]])\n",
    "\n",
    "# Calculate eigenvalues and eigenvectors\n",
    "eigenvalues, eigenvectors = np.linalg.eig(matrix)"
   ]
  },
  {
   "cell_type": "code",
   "execution_count": 26,
   "id": "55291254-9fee-4c23-a9c8-12333e40de55",
   "metadata": {},
   "outputs": [
    {
     "name": "stdout",
     "output_type": "stream",
     "text": [
      "eigenvalues: \n",
      " [13.55075847  0.74003145 -3.29078992]\n",
      "\n",
      "eigenvectors: \n",
      " [[-0.17622017 -0.96677403 -0.53373322]\n",
      " [-0.435951    0.2053623  -0.64324848]\n",
      " [-0.88254925  0.15223105  0.54896288]]\n"
     ]
    }
   ],
   "source": [
    "print(\"eigenvalues: \\n\",eigenvalues)\n",
    "print()\n",
    "print(\"eigenvectors: \\n\",eigenvectors)"
   ]
  },
  {
   "cell_type": "markdown",
   "id": "5c1e732a-02ea-492b-924b-34c4d3b5363e",
   "metadata": {},
   "source": [
    "$$ \n",
    "Ax = b \n",
    "$$\n",
    "\n",
    "Now we want to solve $Ax = b$:"
   ]
  },
  {
   "cell_type": "code",
   "execution_count": 27,
   "id": "e4f4aea2-6b3c-4801-b653-90956bf69400",
   "metadata": {},
   "outputs": [
    {
     "name": "stdout",
     "output_type": "stream",
     "text": [
      "solve the equation x= \n",
      " [0. 5.]\n"
     ]
    }
   ],
   "source": [
    "A = np.array([[1,2],[3,4]])\n",
    "b = np.array([10, 20])\n",
    "\n",
    "print(\"solve the equation x= \\n\",np.linalg.solve(A,b))"
   ]
  },
  {
   "cell_type": "markdown",
   "id": "254bfc92-b3ee-45c0-8395-07becd5c056d",
   "metadata": {},
   "source": [
    "# Principal Component Analysis (PCA)\n",
    "\n",
    "- In this notebook, we are going to implement PCA using existing packages in python. \n",
    "- This is linear transformation algorithm where we tend project datasets from a high dimension to low dimension. This is one of the most used dimensional reduction algorithm in machine learning. \n",
    "\n",
    "### objectives \n",
    "\n",
    "- Implement PCA from scratch. \n",
    "- Have a conceptual understanding of PCA. "
   ]
  },
  {
   "cell_type": "code",
   "execution_count": 29,
   "id": "b4163ead-473a-4a7c-abfc-3c27d2100bca",
   "metadata": {},
   "outputs": [],
   "source": [
    "##### Packages required for this tutorial: \n",
    "import numpy as np\n",
    "import timeit\n",
    "import matplotlib as mpl\n",
    "mpl.use('Agg')\n",
    "import matplotlib.pyplot as plt\n",
    "plt.style.use('fivethirtyeight')\n",
    "from ipywidgets import interact\n",
    "from sklearn.datasets import load_digits\n",
    "%matplotlib inline"
   ]
  },
  {
   "cell_type": "code",
   "execution_count": 30,
   "id": "a473a36f-2727-44d3-af4f-c6f931df62b9",
   "metadata": {},
   "outputs": [],
   "source": [
    "###### load the datasets. \n",
    "datasets = load_digits()"
   ]
  },
  {
   "cell_type": "code",
   "execution_count": 39,
   "id": "635b8d02-8962-4f95-99ab-8dffcd108356",
   "metadata": {},
   "outputs": [],
   "source": [
    "###### extract the images and target\n",
    "images, target = datasets.images, datasets.target"
   ]
  },
  {
   "cell_type": "code",
   "execution_count": 43,
   "id": "a35ae419-8162-4785-9360-1a2aa26a2f03",
   "metadata": {},
   "outputs": [
    {
     "data": {
      "image/png": "[encoded data removed]",
      "text/plain": [
       "<Figure size 400x400 with 1 Axes>"
      ]
     },
     "metadata": {},
     "output_type": "display_data"
    }
   ],
   "source": [
    "plt.figure(figsize=(4,4))\n",
    "plt.imshow(images[6], cmap='gray');"
   ]
  },
  {
   "cell_type": "markdown",
   "id": "6137bbf0-c779-4361-9b21-960f5042ae13",
   "metadata": {},
   "source": [
    "Before we implement PCA, we will need to do some data preprocessing. \n",
    "\n",
    "The preprocessing steps we will do are\n",
    "1. Convert unsigned interger 8 (uint8) encoding of pixels to a floating point number between 0 and 1.\n",
    "2. Subtract from each image the mean $\\boldsymbol \\mu$.\n",
    "3. Scale each dimension of each image by $\\frac{1}{\\sigma}$ where $\\sigma$ is the stardard deviation.\n",
    "\n",
    "The steps above ensure that our images will have zero mean and one variance. These preprocessing\n",
    "steps are also known as [Data Normalization or Feature Scaling](https://en.wikipedia.org/wiki/Feature_scaling)."
   ]
  },
  {
   "cell_type": "markdown",
   "id": "9dcf9e84-f7a5-48b8-8740-7aa30233dcc3",
   "metadata": {},
   "source": [
    "## 1. PCA\n",
    "\n",
    "Now we will implement PCA. Before we do that, let's pause for a moment and\n",
    "think about the steps for performing PCA. Assume that we are performing PCA on\n",
    "some dataset $\\boldsymbol X$ for $M$ principal components. \n",
    "We then need to perform the following steps, which we break into parts:\n",
    "\n",
    "1. Data normalization (`normalize`).\n",
    "2. Find eigenvalues and corresponding eigenvectors for the covariance matrix $S$.\n",
    "   Sort by the largest eigenvalues and the corresponding eigenvectors (`eig`).\n",
    "\n",
    "After these steps, we can then compute the projection and reconstruction of the data onto the spaced spanned by the top $n$ eigenvectors."
   ]
  },
  {
   "cell_type": "code",
   "execution_count": 82,
   "id": "424f123d-13b2-40dd-9033-1b421b04a8d8",
   "metadata": {},
   "outputs": [],
   "source": [
    "def normalize(X):\n",
    "    \"\"\"Normalize the given dataset X\n",
    "    Args:\n",
    "        X: ndarray, dataset\n",
    "    \n",
    "    Returns:\n",
    "        (Xbar, mean, std): tuple of ndarray, Xbar is the normalized dataset\n",
    "        with mean 0 and standard deviation 1; mean and std are the \n",
    "        mean and standard deviation respectively.\n",
    "    \n",
    "    Note:\n",
    "        You will encounter dimensions where the standard deviation is\n",
    "        zero, for those when you do normalization the normalized data\n",
    "        will be NaN. Handle this by setting using `std = 1` for those \n",
    "        dimensions when doing normalization.\n",
    "    \"\"\"\n",
    "    mu = np.mean(X, axis=0)\n",
    "    std = np.std(X, axis=0)\n",
    "    std_filled = std.copy()\n",
    "    std_filled[std==0] = 1.\n",
    "    Xbar = ((X-mu)/std_filled)\n",
    "    return Xbar, mu, std\n",
    "\n",
    "def eig(S):\n",
    "    \"\"\"Compute the eigenvalues and corresponding eigenvectors \n",
    "        for the covariance matrix S.\n",
    "    Args:\n",
    "        S: ndarray, covariance matrix\n",
    "    \n",
    "    Returns:\n",
    "        (eigvals, eigvecs): ndarray, the eigenvalues and eigenvectors\n",
    "\n",
    "    Note:\n",
    "        the eigenvals and eigenvecs should be sorted in descending\n",
    "        order of the eigen values\n",
    "    \"\"\"\n",
    "    eigvals, eigvecs = np.linalg.eig(S)\n",
    "    k = np.argsort(eigvals)[::-1]\n",
    "    return eigvals[k], eigvecs[:,k]\n",
    "\n",
    "def projection_matrix(B):\n",
    "    \"\"\"Compute the projection matrix onto the space spanned by `B`\n",
    "    Args:\n",
    "        B: ndarray of dimension (D, M), the basis for the subspace\n",
    "    \n",
    "    Returns:\n",
    "        P: the projection matrix: B @ B.T\n",
    "    \"\"\"\n",
    "    ### (B @ np.linalg.inv(B.T @ B) @ B.T) \n",
    "    return  B @ B.T\n",
    "\n",
    "def PCA(X, num_components):\n",
    "    \"\"\"\n",
    "    Args:\n",
    "        X: ndarray of size (N, D), where D is the dimension of the data,\n",
    "           and N is the number of datapoints\n",
    "        num_components: the number of principal components to use.\n",
    "    Returns:\n",
    "        X_reconstruct: ndarray of the reconstruction\n",
    "        of X from the first `num_components` principal components.\n",
    "    \"\"\"\n",
    "    # first perform normalization on the digits so that they have zero mean and unit variance\n",
    "    # Then compute the data covariance matrix S\n",
    "    S = 1.0/len(X) * np.dot(X.T, X)\n",
    "\n",
    "    # Next find eigenvalues and corresponding eigenvectors for S\n",
    "    eig_vals, eig_vecs = eig(S)\n",
    "\n",
    "    # find indices for the largest eigenvalues, use them to sort the eigenvalues and \n",
    "    # corresponding eigenvectors. Take a look at the documenation fo `np.argsort` \n",
    "    # (https://docs.scipy.org/doc/numpy/reference/generated/numpy.argsort.html),\n",
    "    # which might be useful\n",
    "    eig_vals, eig_vecs = eig_vals[:num_components], eig_vecs[:, :num_components]\n",
    "\n",
    "    # dimensionality reduction of the original data\n",
    "    B = np.real(eig_vecs)\n",
    "    # Z = X.T.dot(W)\n",
    "    # reconstruct the images from the lower dimensional representation\n",
    "    reconst = (projection_matrix(B) @ X.T)\n",
    "    return reconst.T"
   ]
  },
  {
   "cell_type": "code",
   "execution_count": 45,
   "id": "d0761b58-b270-4eb6-a8ce-8c3d30764cf1",
   "metadata": {},
   "outputs": [],
   "source": [
    "## Some preprocessing of the data\n",
    "NUM_DATAPOINTS = 1000\n",
    "X = (images.reshape(-1, 8 * 8)[:NUM_DATAPOINTS]) / 255.\n",
    "Xbar, mu, std = normalize(X)"
   ]
  },
  {
   "cell_type": "code",
   "execution_count": 79,
   "id": "df25e916-59cf-4755-9db3-9a802ee73f24",
   "metadata": {},
   "outputs": [
    {
     "name": "stdout",
     "output_type": "stream",
     "text": [
      "1.779882618232032e-24\n",
      "2.015664617610359e-24\n",
      "1.8276138674393525e-24\n",
      "1.73236362077765e-24\n",
      "2.172225029283315e-24\n",
      "3.630364475502725e-24\n",
      "1.8853135350044035e-24\n",
      "5.676656142339794e-24\n",
      "2.0609697846436124e-24\n",
      "2.1113121416312257e-24\n",
      "2.044129840380818e-24\n",
      "1.7045470185762828e-24\n",
      "1.4132961027404146e-23\n",
      "1.614922948500117e-24\n",
      "1.37764755820819e-24\n",
      "2.2151333499500232e-24\n",
      "7.55278810661164e-24\n",
      "5.4297059450475446e-24\n",
      "2.06577252145354e-24\n"
     ]
    }
   ],
   "source": [
    "for num_component in range(1, 20):\n",
    "    from sklearn.decomposition import PCA as SKPCA\n",
    "    # We can compute a standard solution given by scikit-learn's implementation of PCA\n",
    "    pca = SKPCA(n_components=num_component, svd_solver='full')\n",
    "    sklearn_reconst = pca.inverse_transform(pca.fit_transform(Xbar))\n",
    "    reconst = PCA(Xbar, num_component)\n",
    "    np.testing.assert_almost_equal(reconst, sklearn_reconst)\n",
    "    print(np.square(reconst - sklearn_reconst).sum())"
   ]
  },
  {
   "cell_type": "code",
   "execution_count": 71,
   "id": "a8d30213-fce9-4e39-babe-5e8a811332ec",
   "metadata": {},
   "outputs": [],
   "source": [
    "#### measure the error:\n",
    "def mse(predict, actual):\n",
    "    \"\"\"Helper function for computing the mean squared error (MSE)\"\"\"\n",
    "    return np.square(predict - actual).sum(axis=1).mean()"
   ]
  },
  {
   "cell_type": "code",
   "execution_count": 80,
   "id": "7901da86-ed8f-4160-ba38-86ab0be1c52d",
   "metadata": {},
   "outputs": [],
   "source": [
    "loss = []\n",
    "reconstructions = []\n",
    "\n",
    "# iterate over different numbers of principal components, and compute the MSE\n",
    "for num_component in range(1, 100):\n",
    "    reconst = PCA(Xbar, num_component)\n",
    "    error = mse(reconst, Xbar)\n",
    "    reconstructions.append(reconst)\n",
    "    # print('n = {:d}, reconstruction_error = {:f}'.format(num_component, error))\n",
    "    loss.append((num_component, error))\n",
    "\n",
    "reconstructions = np.asarray(reconstructions)\n",
    "reconstructions = reconstructions * std + mu # \"unnormalize\" the reconstructed image\n",
    "loss = np.asarray(loss)"
   ]
  },
  {
   "cell_type": "code",
   "execution_count": 77,
   "id": "60880893-ca71-4c59-a964-883402ef85a6",
   "metadata": {},
   "outputs": [
    {
     "data": {
      "text/html": [
       "<div>\n",
       "<style scoped>\n",
       "    .dataframe tbody tr th:only-of-type {\n",
       "        vertical-align: middle;\n",
       "    }\n",
       "\n",
       "    .dataframe tbody tr th {\n",
       "        vertical-align: top;\n",
       "    }\n",
       "\n",
       "    .dataframe thead th {\n",
       "        text-align: right;\n",
       "    }\n",
       "</style>\n",
       "<table border=\"1\" class=\"dataframe\">\n",
       "  <thead>\n",
       "    <tr style=\"text-align: right;\">\n",
       "      <th></th>\n",
       "      <th>0</th>\n",
       "      <th>1</th>\n",
       "    </tr>\n",
       "  </thead>\n",
       "  <tbody>\n",
       "    <tr>\n",
       "      <th>0</th>\n",
       "      <td>1.0</td>\n",
       "      <td>53.608534</td>\n",
       "    </tr>\n",
       "    <tr>\n",
       "      <th>1</th>\n",
       "      <td>2.0</td>\n",
       "      <td>47.675988</td>\n",
       "    </tr>\n",
       "    <tr>\n",
       "      <th>2</th>\n",
       "      <td>3.0</td>\n",
       "      <td>42.595492</td>\n",
       "    </tr>\n",
       "    <tr>\n",
       "      <th>3</th>\n",
       "      <td>4.0</td>\n",
       "      <td>38.251548</td>\n",
       "    </tr>\n",
       "    <tr>\n",
       "      <th>4</th>\n",
       "      <td>5.0</td>\n",
       "      <td>35.029516</td>\n",
       "    </tr>\n",
       "  </tbody>\n",
       "</table>\n",
       "</div>"
      ],
      "text/plain": [
       "     0          1\n",
       "0  1.0  53.608534\n",
       "1  2.0  47.675988\n",
       "2  3.0  42.595492\n",
       "3  4.0  38.251548\n",
       "4  5.0  35.029516"
      ]
     },
     "execution_count": 77,
     "metadata": {},
     "output_type": "execute_result"
    }
   ],
   "source": [
    "import pandas as pd\n",
    "# create a table showing the number of principal components and MSE\n",
    "pd.DataFrame(loss).head()"
   ]
  },
  {
   "cell_type": "code",
   "execution_count": 54,
   "id": "ea886aab-2124-4a56-bfc8-9fa78cf9ddb9",
   "metadata": {},
   "outputs": [
    {
     "data": {
      "image/png": "[encoded data removed]",
      "text/plain": [
       "<Figure size 640x480 with 1 Axes>"
      ]
     },
     "metadata": {},
     "output_type": "display_data"
    }
   ],
   "source": [
    "with plt.style.context(\"ggplot\"):\n",
    "    \n",
    "    fig, ax = plt.subplots()\n",
    "    ax.plot(loss[:,0], loss[:,1]);\n",
    "    ax.axhline(5, linestyle='--', color='b', linewidth=2)\n",
    "    ax.xaxis.set_ticks(np.arange(1, 100, 5));\n",
    "    ax.set(xlabel='num_components', ylabel='MSE', title='MSE vs number of principal components');"
   ]
  },
  {
   "cell_type": "code",
   "execution_count": 55,
   "id": "e672ad9d-9a13-4ab5-b305-fb75403edcd6",
   "metadata": {},
   "outputs": [
    {
     "data": {
      "application/vnd.jupyter.widget-view+json": {
       "model_id": "19270a00263a45a8971f0cd15ecf2325",
       "version_major": 2,
       "version_minor": 0
      },
      "text/plain": [
       "interactive(children=(IntSlider(value=500, description='image_idx', max=1000), Output()), _dom_classes=('widge…"
      ]
     },
     "metadata": {},
     "output_type": "display_data"
    }
   ],
   "source": [
    "@interact(image_idx=(0, 1000))\n",
    "def show_num_components_reconst(image_idx):\n",
    "    fig, ax = plt.subplots(figsize=(20., 20.))\n",
    "    actual = X[image_idx]\n",
    "    # concatenate the actual and reconstructed images as large image before plotting it\n",
    "    x = np.concatenate([actual[np.newaxis, :], reconstructions[:, image_idx]])\n",
    "    ax.imshow(np.hstack(x.reshape(-1, 8, 8)[np.arange(10)]),\n",
    "              cmap='gray');\n",
    "    ax.axvline(28, color='orange', linewidth=2)"
   ]
  },
  {
   "cell_type": "code",
   "execution_count": 56,
   "id": "7bd86220-f04a-4b3e-b02e-56d85c39d246",
   "metadata": {},
   "outputs": [
    {
     "data": {
      "application/vnd.jupyter.widget-view+json": {
       "model_id": "59a01a844bb44bad8c0fe3659d0682fa",
       "version_major": 2,
       "version_minor": 0
      },
      "text/plain": [
       "interactive(children=(IntSlider(value=1, description='i', max=10), Output()), _dom_classes=('widget-interact',…"
      ]
     },
     "metadata": {},
     "output_type": "display_data"
    }
   ],
   "source": [
    "@interact(i=(0, 10))\n",
    "def show_pca_digits(i=1):\n",
    "    \"\"\"Show the i th digit and its reconstruction\"\"\"\n",
    "    plt.figure(figsize=(4,4))\n",
    "    actual_sample = X[i].reshape(8,8)\n",
    "    reconst_sample = (reconst[i, :] * std + mu).reshape(8, 8)\n",
    "    plt.imshow(np.hstack([actual_sample, reconst_sample]), cmap='gray')\n",
    "    plt.show()"
   ]
  },
  {
   "cell_type": "markdown",
   "id": "abb87dc9-fbfa-4a25-956b-cb00aee63d91",
   "metadata": {},
   "source": [
    "Thanks to: \n",
    "- by Marc Deisenroth and Yicheng Luo for the reference. "
   ]
  },
  {
   "cell_type": "code",
   "execution_count": null,
   "id": "23e6b8c6-f817-45a1-a0bd-7975aa3683d4",
   "metadata": {},
   "outputs": [],
   "source": []
  }
 ],
 "metadata": {
  "kernelspec": {
   "display_name": "Python 3 (ipykernel)",
   "language": "python",
   "name": "python3"
  },
  "language_info": {
   "codemirror_mode": {
    "name": "ipython",
    "version": 3
   },
   "file_extension": ".py",
   "mimetype": "text/x-python",
   "name": "python",
   "nbconvert_exporter": "python",
   "pygments_lexer": "ipython3",
   "version": "3.10.9"
  }
 },
 "nbformat": 4,
 "nbformat_minor": 5
}
